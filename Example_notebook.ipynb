{
 "cells": [
  {
   "cell_type": "markdown",
   "id": "b878465d-7199-4ace-9d29-7be0bc7455c2",
   "metadata": {},
   "source": [
    "### Import module"
   ]
  },
  {
   "cell_type": "code",
   "execution_count": 1,
   "id": "cd712af1-e7c4-4872-ad9f-c19c38a253a7",
   "metadata": {},
   "outputs": [],
   "source": [
    "from Cross_react import * "
   ]
  },
  {
   "cell_type": "markdown",
   "id": "e463da08-0cf0-4beb-920a-a392638c6ad4",
   "metadata": {},
   "source": [
    "### Load data\n",
    "Load genotype data and proteins sequences. For example, we use test data of genotype frequences in the population and sequences of Rabius virus G protein."
   ]
  },
  {
   "cell_type": "code",
   "execution_count": 2,
   "id": "01780ae1-8cc0-42ff-b90d-60b158044109",
   "metadata": {},
   "outputs": [],
   "source": [
    "test_genotypes = 'test_HLA.tsv'\n",
    "pseq_A = \"MVPQALLFVPLLVFPLCFGKFPIYTIPDKLGPWSPIDIHHLSCPNNLVVEDEGCTNLSGFSYMELKVGYILAIKMNGFTCTGVVTEAENYTNFVGYVTTTFKRKHLRPTPDACRAAYNWKMAGDPRYEESLHNPYPDYSWLRTVKTTKESLVIISPSVADLDPYDRSLHSRVFPSGKCSGVAVSSTYCSTNHDYTIWMPENPRLGKSCDIFTNSRGKRASKGSETCGFVDERGLYKSLKGACKLKLCGVLGLRLMDGTWVAMQTSNETKWCPPDQLVNLHDFRSDEIEHLVVEELVRKREECLDALESIMTTKSVSFRRLSHLRKLVPGFGKAYTIFNKTLMEADAHYKSVRTWNEILPSKGCLRVGGRCHPHVNGVFFNGIILGPDGNVLIPEMQSSLLQQHMELLESSVIPLVHPLADPSTVFKDGDEAEDFVEVHLPDVHNQVSGVDLGLPNWGKYVLLSAGALTALMLIIFLMTCCRRVNRSEPTQHNLRGTGREVSVTPQTWKIISSWESHKSGGETRL\"\n",
    "pseq_B = \"MVPQVLLFAPLLVFPLCFGKFPIYTIPDKLGPWSPIDLHHLSCPNNLVVEDEGCTNLSGFSYMELKVGYISAIKVNGFTCTGVVTEAETYTNFVGYVTTTFKRKHFRPTPDACRAAYNWKMAGDPRYEESLHNPYPDYHWLRTVKTTKESLVIISPSVTDLDPYDKSLHSRVFPGGNCSGITVSSTYCSTNHDYTIWMPENLRLGTSCDIFTHSRGKRASKGDKTCGFVDERGLYKSLKGACKLKLCGVLGLRLMDGTWVAMQTSDETKWCPPGQLVNLHDFRSDEIEHLVEEELVKKREECLDALESIMTTKSVSFRRLSHLRKLVPGFGKAYTIFNKTLMEADAHYKSVQTWNEIIPSKGCLRVGERCHPHVNGVFFNGIILGSDGHVLIPEMQSSLLQQHMELLESSVIPLMHPLADPSTVFKDGDEVEDFVEVHLPDVHKQVSGVDLGLPKWGKYVLMIAGALIALMLIIFLMTCCRRVNRPESTQSNLGGTGRNVSVPSQSGKVISSWESYKSGGETRL\"\n",
    "pseq_C = \"MVPQALLFVPLLVFPLCFGKFPIYTIPDKLGPWSPIDIHHLSCPNNLVVEDEGCTNLSGFSYMELKVGYISAIKMNGFTCTGVVTEAETYTNFVGYVTTTFKRKHFRPTPDACRAAYNWKMAGDPRYEESLHNPYPDYHWLRTVKTTKESLVIISPSVADLDPYDRSLHSRVFPGGNCSGVAVSSTYCSTNHDYTIWMPENPRLGMSCDIFTNSRGKRASKGSETCGFVDERGLYKSLKGACKLKLCGVLGLRLMDGTWVAMQTSNETKWCPPGQLVNLHDFRSDEIEHLVVEELVKKREECLDALESIMTTKSVSFRRLSHLRKLVPGFGKAYTIFNKTLMEADAHYKSVRTWNEIIPSKGCLRVGGRCHPHVNGVFFNGIILGPDGNVLIPEMQSSLLQQHMELLVSSVIPLMHPLADPSTVFKNGDEAEDFVEVHLPDVHERISGVDLGLPNWGKYVLLSAGALTALMLIIFLMTCWRRVNRSEPTQHNLRGTGREVSVTPQSGKIISSWESYKSGGETGL\"\n"
   ]
  },
  {
   "cell_type": "markdown",
   "id": "b7a3da47-f09e-4b89-8b38-65543b2bbd79",
   "metadata": {},
   "source": [
    "### Initilaze all main classes\n",
    "* If you clone IEPAPI repo to 'T-cell-immunity/' folder and run your code from it, all the necessary paths will be determined automatically. However, you can specify them manually through the appropriate arguments\n",
    "* All supported alleles are contained in the IEPAPI database (data/pseudoSequence(ELIM).csv file). If necessary, you can use your database during initialization Population and IEPAPI_immunogenecity_predictor classes"
   ]
  },
  {
   "cell_type": "code",
   "execution_count": 3,
   "id": "33af5df0-64af-48bb-8cb7-d5648277b60d",
   "metadata": {
    "scrolled": true
   },
   "outputs": [
    {
     "name": "stderr",
     "output_type": "stream",
     "text": [
      "/home/orlov.av/anaconda3/envs/BATMAN/lib/python3.11/site-packages/pymc/distributions/transforms.py:53: FutureWarning: univariate_ordered has been deprecated, use ordered instead.\n",
      "  warnings.warn(f\"{name} has been deprecated, use ordered instead.\", FutureWarning)\n",
      "/home/orlov.av/anaconda3/envs/BATMAN/lib/python3.11/site-packages/pytensor/link/c/cmodule.py:2959: UserWarning: PyTensor could not link to a BLAS installation. Operations that might benefit from BLAS will be severely degraded.\n",
      "This usually happens when PyTensor is installed via pip. We recommend it be installed via conda/mamba/pixi instead.\n",
      "Alternatively, you can use an experimental backend such as Numba or JAX that perform their own BLAS optimizations, by setting `pytensor.config.mode == 'NUMBA'` or passing `mode='NUMBA'` when compiling a PyTensor function.\n",
      "For more options and details see https://pytensor.readthedocs.io/en/latest/troubleshooting.html#how-do-i-configure-test-my-blas-library\n",
      "  warnings.warn(\n"
     ]
    },
    {
     "data": {
      "application/vnd.jupyter.widget-view+json": {
       "model_id": "bf75e777307944fda085c21d91b01a19",
       "version_major": 2,
       "version_minor": 0
      },
      "text/plain": [
       "Output()"
      ]
     },
     "metadata": {},
     "output_type": "display_data"
    },
    {
     "data": {
      "text/html": [
       "<pre style=\"white-space:pre;overflow-x:auto;line-height:normal;font-family:Menlo,'DejaVu Sans Mono',consolas,'Courier New',monospace\"></pre>\n"
      ],
      "text/plain": []
     },
     "metadata": {},
     "output_type": "display_data"
    },
    {
     "name": "stderr",
     "output_type": "stream",
     "text": [
      "Shape validation failed: input_shape: (1, 50000), minimum_shape: (chains=2, draws=4)\n"
     ]
    },
    {
     "name": "stdout",
     "output_type": "stream",
     "text": [
      "Warning! The genotype ['A*11:01:01', 'A*24:191', 'B*07:02:01', 'B*07:02:01', 'C*07:02:01', 'C*07:02:01'] was removed because it contains unknown alleles\n",
      "Warning! The genotype ['A*03:26', 'A*03:26'] was removed because it contains unknown alleles\n",
      "Warning! The genotype ['A*24:486', 'A*24:486'] was removed because it contains unknown alleles\n",
      "Warning! The genotype ['A*24:260', 'A*24:50', 'C*07:02:01', 'C*07:616'] was removed because it contains unknown alleles\n",
      "Warning! The genotype ['A*11:01:01', 'A*11:373'] was removed because it contains unknown alleles\n",
      "Warning! The genotype ['A*03:01:01', 'A*03:12', 'B*07:02:01', 'B*07:326', 'C*07:154', 'C*07:912'] was removed because it contains unknown alleles\n",
      "Warning! The genotype ['A*23:17:03', 'A*24:02:01'] was removed because it contains unknown alleles\n",
      "Warning! The genotype ['A*03:322', 'A*03:331', 'B*07:382', 'B*07:403'] was removed because it contains unknown alleles\n",
      "Warning! The genotype ['A*03:01:01', 'A*03:01:01', 'B*07:02:59', 'B*07:381', 'C*07:02:01', 'C*07:02:01'] was removed because it contains unknown alleles\n",
      "Warning! The genotype ['A*03:01:01', 'A*03:341', 'B*07:261', 'B*07:274', 'C*07:02:01', 'C*07:697Q'] was removed because it contains unknown alleles\n",
      "Warning! The genotype ['B*07:05:01', 'B*48:03:01'] was removed because it contains unknown alleles\n",
      "Warning! The genotype ['A*03:258', 'A*03:359'] was removed because it contains unknown alleles\n",
      "Warning! The genotype ['B*38:01:20', 'B*39:06:02', 'C*07:02:148', 'C*07:637'] was removed because it contains unknown alleles\n",
      "Warning! The genotype ['C*07:02:01', 'C*07:885'] was removed because it contains unknown alleles\n",
      "Warning! The genotype ['B*07:02:50', 'B*07:403', 'C*07:02:01', 'C*07:862'] was removed because it contains unknown alleles\n",
      "Warning! The genotype ['A*03:01:01', 'A*03:49'] was removed because it contains unknown alleles\n",
      "Warning! The genotype ['A*11:01:01', 'A*31:03'] was removed because it contains unknown alleles\n",
      "Warning! The genotype ['A*03:01:01', 'A*03:24'] was removed because it contains unknown alleles\n",
      "Warning! The genotype ['A*11:01:01', 'A*11:12:01', 'C*07:04:01', 'C*07:04:01'] was removed because it contains unknown alleles\n",
      "Warning! The genotype ['B*56:34', 'B*56:34'] was removed because it contains unknown alleles\n",
      "Warning! The genotype ['A*24:02:01', 'A*24:50', 'B*55:10', 'B*56:34'] was removed because it contains unknown alleles\n",
      "Warning! The genotype ['A*31:01:13', 'A*31:01:13', 'B*40:496', 'B*40:544'] was removed because it contains unknown alleles\n",
      "Warning! The genotype ['A*03:01:01', 'A*03:12', 'B*07:02:01', 'B*07:02:01', 'C*07:02:01', 'C*07:941'] was removed because it contains unknown alleles\n",
      "Warning! The genotype ['A*03:01:01', 'A*68:66:02', 'B*07:02:01', 'B*07:02:01', 'C*07:02:01', 'C*07:941'] was removed because it contains unknown alleles\n",
      "Warning! The genotype ['A*03:01:01', 'A*03:12', 'B*07:02:01', 'B*07:02:01', 'C*07:02:01', 'C*07:04:01'] was removed because it contains unknown alleles\n",
      "Warning! The genotype ['A*03:01:01', 'A*24:290', 'B*07:02:59', 'B*07:381', 'C*07:02:01', 'C*07:02:01'] was removed because it contains unknown alleles\n",
      "Warning! The genotype ['A*24:02:01', 'A*24:02:01', 'B*40:357', 'B*40:357'] was removed because it contains unknown alleles\n",
      "Warning! The genotype ['A*24:02:01', 'A*24:02:01', 'B*40:10:01', 'B*40:117'] was removed because it contains unknown alleles\n",
      "Warning! The genotype ['A*03:12', 'A*11:199:01', 'B*07:02:01', 'B*07:02:01', 'C*07:02:01', 'C*07:02:01'] was removed because it contains unknown alleles\n",
      "Warning! The genotype ['C*07:02:01', 'C*07:17:01'] was removed because it contains unknown alleles\n",
      "Warning! The genotype ['B*35:230', 'B*40:01:02'] was removed because it contains unknown alleles\n",
      "Warning! The genotype ['A*11:250', 'A*11:32:01'] was removed because it contains unknown alleles\n",
      "Warning! The genotype ['C*07:02:01', 'C*07:843'] was removed because it contains unknown alleles\n",
      "Warning! The genotype ['A*30:01:01', 'A*68:01:02', 'B*07:05:01', 'B*40:01:02', 'C*03:04:01', 'C*15:05:02'] was removed because it contains unknown alleles\n",
      "Warning! The genotype ['A*24:02:01', 'A*24:02:01', 'B*13:176', 'B*35:57', 'C*04:01:01', 'C*06:02:01'] was removed because it contains unknown alleles\n",
      "Warning! The genotype ['A*01:01:01', 'A*02:01:01', 'B*07:02:01', 'B*14:01:01', 'C*07:02:01', 'C*08:02:01'] was removed because it contains unknown alleles\n",
      "Warning! The genotype ['A*02:359', 'A*26:01:01', 'B*27:05:02', 'B*58:01:01', 'C*02:02:02', 'C*07:18:01'] was removed because it contains unknown alleles\n",
      "Warning! The genotype ['A*02:05:01', 'A*26:01:01', 'B*27:05:02', 'B*58:01:01', 'C*02:02:02', 'C*07:18:01'] was removed because it contains unknown alleles\n",
      "Warning! The genotype ['A*02:01:01', 'A*03:01:01', 'B*07:02:01', 'B*52:01:01', 'C*07:51', 'C*12:132'] was removed because it contains unknown alleles\n",
      "Warning! The genotype ['A*02:01:01', 'A*32:01:01', 'B*07:05:01', 'B*15:01:01', 'C*04:01:01', 'C*15:05:02'] was removed because it contains unknown alleles\n",
      "Warning! The genotype ['A*25:01:01', 'A*26:01:01', 'B*15:24:01', 'B*44:03:01', 'C*03:03:01', 'C*04:01:01'] was removed because it contains unknown alleles\n",
      "Warning! The genotype ['A*02:01:01', 'A*68:01:02', 'B*27:127', 'B*47:04', 'C*02:02:02', 'C*07:04:01'] was removed because it contains unknown alleles\n",
      "Warning! The genotype ['A*02:05:01', 'A*68:01:01', 'B*15:17:01', 'B*50:01:01', 'C*06:06:01', 'C*07:01:02'] was removed because it contains unknown alleles\n",
      "Warning! The genotype ['A*02:01:01', 'A*68:01:01', 'B*35:03:01', 'B*41:02:01', 'C*04:01:01', 'C*17:03:01'] was removed because it contains unknown alleles\n",
      "Warning! The genotype ['A*02:01:01', 'A*66:01:01', 'B*41:02:01', 'B*51:01:01', 'C*14:02:01', 'C*17:03:01'] was removed because it contains unknown alleles\n",
      "Warning! The genotype ['A*02:01:01', 'A*11:01:01', 'B*48:01:01', 'B*57:01:01', 'C*06:02:01', 'C*08:03:01'] was removed because it contains unknown alleles\n",
      "Warning! The genotype ['A*01:01:01', 'A*26:01:01', 'B*39:01:01', 'B*51:07:01', 'C*12:03:01', 'C*14:02:01'] was removed because it contains unknown alleles\n",
      "Warning! The genotype ['A*03:01:01', 'A*30:04:01', 'B*35:03:01', 'B*41:01:01', 'C*04:01:01', 'C*16:02:01'] was removed because it contains unknown alleles\n",
      "Warning! The genotype ['A*23:01:01', 'A*26:141', 'B*18:01:01', 'B*49:01:01', 'C*07:01:01', 'C*12:03:01'] was removed because it contains unknown alleles\n",
      "Warning! The genotype ['A*02:01:01', 'A*03:01:01', 'B*35:429', 'B*40:544', 'C*02:02:02', 'C*04:01:01'] was removed because it contains unknown alleles\n",
      "Warning! The genotype ['A*03:01:01', 'A*03:01:01', 'B*15:535', 'B*44:302:01', 'C*04:01:01', 'C*04:01:01'] was removed because it contains unknown alleles\n",
      "Warning! The genotype ['A*01:01:01', 'A*01:01:01', 'B*08:156', 'B*42:01:01', 'C*07:27:01', 'C*07:639'] was removed because it contains unknown alleles\n",
      "Warning! The genotype ['A*03:01:01', 'A*24:02:01', 'B*07:05:01', 'B*51:01:01', 'C*15:02:01', 'C*15:05:02'] was removed because it contains unknown alleles\n",
      "Warning! The genotype ['A*02:864:01', 'A*25:68', 'B*18:01:01', 'B*44:03:01', 'C*02:02:02', 'C*12:03:01'] was removed because it contains unknown alleles\n",
      "Warning! The genotype ['A*02:01:01', 'A*68:01:02', 'B*07:02:01', 'B*35:01:01', 'C*03:39', 'C*07:578'] was removed because it contains unknown alleles\n",
      "Warning! The genotype ['A*02:01:01', 'A*31:01:02', 'B*40:02:01', 'B*58:01:01', 'C*02:02:02', 'C*07:18:01'] was removed because it contains unknown alleles\n",
      "Warning! The genotype ['A*02:01:01', 'A*11:01:01', 'B*27:05:02', 'B*51:07:01', 'C*02:02:02', 'C*14:02:01'] was removed because it contains unknown alleles\n",
      "Warning! The genotype ['A*03:312', 'A*26:203', 'B*07:02:01', 'B*38:01:01', 'C*07:02:01', 'C*12:03:01'] was removed because it contains unknown alleles\n",
      "Warning! The genotype ['A*01:01:01', 'A*66:01:01', 'B*40:02:01', 'B*41:02:01', 'C*02:02:02', 'C*17:03:01'] was removed because it contains unknown alleles\n",
      "Warning! The genotype ['A*24:02:01', 'A*68:01:01', 'B*51:143', 'B*52:01:02', 'C*07:02:01', 'C*15:02:01'] was removed because it contains unknown alleles\n",
      "Warning! The genotype ['A*03:01:01', 'A*68:02:01', 'B*07:02:01', 'B*07:05:01', 'C*07:02:01', 'C*15:05:02'] was removed because it contains unknown alleles\n",
      "Warning! The genotype ['A*02:01:01', 'A*02:01:01', 'B*41:02:01', 'B*57:01:01', 'C*06:02:01', 'C*17:03:01'] was removed because it contains unknown alleles\n",
      "Warning! The genotype ['A*02:01:01', 'A*68:01:02', 'B*38:99', 'B*44:302:01', 'C*02:02:02', 'C*12:03:01'] was removed because it contains unknown alleles\n",
      "Warning! The genotype ['A*02:01:01', 'A*66:01:01', 'B*07:02:01', 'B*41:02:01', 'C*07:02:01', 'C*17:03:01'] was removed because it contains unknown alleles\n",
      "Warning! The genotype ['A*02:01:01', 'A*30:04:01', 'B*14:01:01', 'B*18:01:01', 'C*08:02:01', 'C*12:03:01'] was removed because it contains unknown alleles\n",
      "Warning! The genotype ['A*01:01:01', 'A*01:194', 'B*37:02', 'B*37:02', 'C*06:204', 'C*06:57'] was removed because it contains unknown alleles\n",
      "Warning! The genotype ['A*11:01:01', 'A*24:02:01', 'B*18:01:01', 'B*48:01:01', 'C*07:01:01', 'C*08:03:01'] was removed because it contains unknown alleles\n",
      "Warning! The genotype ['A*03:01:01', 'A*25:01:01', 'B*07:381', 'B*18:177', 'C*07:02:01', 'C*12:03:01'] was removed because it contains unknown alleles\n",
      "Warning! The genotype ['A*03:12', 'A*26:20:02', 'B*07:02:01', 'B*38:01:01', 'C*07:02:01', 'C*12:03:01'] was removed because it contains unknown alleles\n",
      "Warning! The genotype ['A*01:01:83', 'A*03:395', 'B*08:01:53', 'B*57:01:01'] was removed because it contains unknown alleles\n",
      "Warning! The genotype ['A*01:01:01', 'A*01:261', 'B*35:01:01', 'B*35:02:01', 'C*02:02:02', 'C*06:02:01'] was removed because it contains unknown alleles\n",
      "Warning! The genotype ['A*11:01:01', 'A*11:01:01', 'B*53:17:02', 'B*58:08:02', 'C*07:18:01', 'C*12:02:02'] was removed because it contains unknown alleles\n",
      "Warning! The genotype ['A*01:261', 'A*11:01:01', 'B*35:01:01', 'B*58:01:01', 'C*02:02:02', 'C*07:18:01'] was removed because it contains unknown alleles\n",
      "Warning! The genotype ['A*01:380:01', 'A*11:326', 'B*35:03:01', 'B*51:01:01', 'C*04:01:01', 'C*15:02:01'] was removed because it contains unknown alleles\n",
      "Warning! The genotype ['A*02:01:01', 'A*03:01:01', 'B*07:381', 'B*38:99', 'C*07:51', 'C*12:28'] was removed because it contains unknown alleles\n",
      "Warning! The genotype ['A*03:01:01', 'A*11:01:01', 'B*40:544', 'B*51:285', 'C*02:02:02', 'C*03:03:01'] was removed because it contains unknown alleles\n",
      "Warning! The genotype ['A*02:01:01', 'A*02:01:01', 'B*27:197', 'B*58:11', 'C*02:02:02', 'C*03:02:02'] was removed because it contains unknown alleles\n",
      "Warning! The genotype ['A*03:63', 'A*11:12:01', 'B*35:60', 'B*56:09', 'C*01:02:01', 'C*04:01:01'] was removed because it contains unknown alleles\n",
      "Warning! The genotype ['A*02:01:01', 'A*11:01:01', 'B*07:381', 'B*35:01:01', 'C*04:01:01', 'C*07:02:01'] was removed because it contains unknown alleles\n",
      "Warning! The genotype ['A*02:01:01', 'A*25:01:01', 'B*18:01:01', 'B*18:01:01', 'C*07:04:01', 'C*12:87'] was removed because it contains unknown alleles\n",
      "Warning! The genotype ['A*02:01:01', 'A*03:01:01', 'B*35:60', 'B*56:09', 'C*04:01:01', 'C*12:03:01'] was removed because it contains unknown alleles\n",
      "Warning! The genotype ['A*02:06:01', 'A*24:02:01', 'B*44:02:01', 'B*48:01:01', 'C*01:02:01', 'C*08:03:01'] was removed because it contains unknown alleles\n",
      "Warning! The genotype ['A*02:01:01', 'A*11:01:01', 'B*39:01:01', 'B*41:02:01', 'C*04:01:01', 'C*17:03:01'] was removed because it contains unknown alleles\n",
      "Warning! The genotype ['A*03:01:01', 'A*11:01:01', 'B*39:01:01', 'B*57:01:01', 'C*04:360', 'C*18:01:01'] was removed because it contains unknown alleles\n",
      "Warning! The genotype ['A*02:407', 'A*68:01:02', 'B*27:05:03', 'B*51:01:01', 'C*02:02:02', 'C*14:02:01'] was removed because it contains unknown alleles\n",
      "Warning! The genotype ['A*26:01:01', 'A*68:01:02', 'B*41:02:01', 'B*51:01:01', 'C*14:02:01', 'C*17:03:01'] was removed because it contains unknown alleles\n",
      "Warning! The genotype ['A*02:06:01', 'A*33:03:01', 'B*48:01:01', 'B*58:01:01', 'C*03:02:02', 'C*08:03:01'] was removed because it contains unknown alleles\n",
      "Warning! The genotype ['A*02:06:01', 'A*11:01:01', 'B*40:06:01', 'B*48:01:01', 'C*01:02:01', 'C*08:03:01'] was removed because it contains unknown alleles\n",
      "Warning! The genotype ['A*26:01:01', 'A*68:01:02', 'B*38:01:01', 'B*51:01:01', 'C*12:167', 'C*15:205'] was removed because it contains unknown alleles\n",
      "Warning! The genotype ['A*23:01:01', 'A*66:01:01', 'B*27:07:01', 'B*41:02:01', 'C*15:02:01', 'C*17:03:01'] was removed because it contains unknown alleles\n",
      "Warning! The genotype ['A*02:01:01', 'A*24:31', 'B*07:02:01', 'B*27:02:01', 'C*02:02:02', 'C*07:02:01'] was removed because it contains unknown alleles\n",
      "Warning! The genotype ['A*02:01:01', 'A*02:06:01', 'B*18:01:01', 'B*40:02:01', 'C*03:04:01', 'C*07:975'] was removed because it contains unknown alleles\n",
      "Warning! The genotype ['A*02:01:01', 'A*25:01:01', 'B*18:177', 'B*40:01:02', 'C*03:04:01', 'C*07:01:01'] was removed because it contains unknown alleles\n",
      "Warning! The genotype ['A*03:12', 'A*25:03', 'B*18:01:33', 'B*44:02:59', 'C*08:25', 'C*12:203'] was removed because it contains unknown alleles\n",
      "Warning! The genotype ['A*03:01:01', 'A*30:55', 'B*07:381', 'B*35:380:01', 'C*04:01:01', 'C*07:02:01'] was removed because it contains unknown alleles\n",
      "Warning! The genotype ['A*02:01:01', 'A*02:01:01', 'B*40:01:02', 'B*49:01:01', 'C*03:04:01', 'C*07:993:02'] was removed because it contains unknown alleles\n",
      "Warning! The genotype ['A*02:875', 'A*24:02:01', 'B*13:84', 'B*40:03:01', 'C*03:344:01', 'C*06:132:02'] was removed because it contains unknown alleles\n",
      "Warning! The genotype ['A*11:88', 'A*24:50', 'B*07:02:01', 'B*39:06:02', 'C*07:02:01', 'C*07:02:01'] was removed because it contains unknown alleles\n",
      "Warning! The genotype ['A*01:01:01', 'A*02:01:01', 'B*07:02:01', 'B*08:01:01', 'C*07:27:01', 'C*07:639'] was removed because it contains unknown alleles\n",
      "Warning! The genotype ['A*02:01:01', 'A*24:02:01', 'B*15:01:01', 'B*55:01:01', 'C*01:131', 'C*03:86'] was removed because it contains unknown alleles\n",
      "Warning! The genotype ['A*11:250', 'A*11:250', 'B*48:04:01', 'B*48:04:01', 'C*04:315', 'C*04:387'] was removed because it contains unknown alleles\n",
      "Warning! The genotype ['A*02:01:01', 'A*11:353', 'B*35:01:01', 'B*51:01:01', 'C*04:01:01', 'C*16:02:01'] was removed because it contains unknown alleles\n",
      "Warning! The genotype ['A*03:12', 'A*25:03', 'B*18:01:01', 'B*35:01:01', 'C*04:01:01', 'C*12:03:01'] was removed because it contains unknown alleles\n",
      "Warning! The genotype ['A*01:01:01', 'A*03:12', 'B*07:02:01', 'B*08:01:01', 'C*07:01:01', 'C*07:02:01'] was removed because it contains unknown alleles\n",
      "Warning! The genotype ['A*01:298', 'A*01:298', 'B*44:106', 'B*44:16', 'C*07:02:04', 'C*07:1075'] was removed because it contains unknown alleles\n",
      "Warning! The genotype ['B*13:02:01', 'B*13:02:01', 'C*06:02:23', 'C*12:195:03'] was removed because it contains unknown alleles\n",
      "Warning! The genotype ['A*24:02:01', 'A*26:01:01', 'B*27:05:02', 'B*50:01:01', 'C*02:02:02', 'C*02:151'] was removed because it contains unknown alleles\n",
      "Warning! The genotype ['A*02:01:01', 'A*66:01:01', 'B*41:02:01', 'B*73:01:01', 'C*15:05:01', 'C*17:03:01'] was removed because it contains unknown alleles\n",
      "Warning! The genotype ['A*02:01:01', 'A*24:02:01', 'B*35:02:01', 'B*51:05:01', 'C*04:01:01', 'C*04:01:01'] was removed because it contains unknown alleles\n",
      "Warning! The genotype ['A*02:01:01', 'A*02:01:01', 'B*27:02:01', 'B*41:02:01', 'C*02:02:02', 'C*17:03:01'] was removed because it contains unknown alleles\n",
      "Warning! The genotype ['A*02:01:01', 'A*68:01:02', 'B*15:01:01', 'B*48:01:01', 'C*01:02:01', 'C*08:03:01'] was removed because it contains unknown alleles\n",
      "Warning! The genotype ['A*01:01:01', 'A*02:01:01', 'B*15:01:01', 'B*41:02:01', 'C*04:01:01', 'C*17:03:01'] was removed because it contains unknown alleles\n",
      "Warning! The genotype ['A*02:01:01', 'A*25:01:01', 'B*18:01:01', 'B*41:02:01', 'C*12:03:01', 'C*17:03:01'] was removed because it contains unknown alleles\n",
      "Warning! The genotype ['A*01:383', 'A*02:884:01', 'B*08:01:01', 'B*27:05:02', 'C*07:01:01', 'C*15:11'] was removed because it contains unknown alleles\n",
      "Warning! The genotype ['A*02:01:01', 'A*03:01:01', 'B*07:02:01', 'B*44:02:01', 'C*07:02:01', 'C*16:04:01'] was removed because it contains unknown alleles\n",
      "Warning! The genotype ['A*02:01:01', 'A*02:06:01', 'B*40:02:01', 'B*41:02:01', 'C*03:04:01', 'C*17:03:01'] was removed because it contains unknown alleles\n",
      "Warning! The genotype ['A*02:01:01', 'A*02:07:01', 'B*27:14', 'B*46:01:01', 'C*01:02:01', 'C*01:02:01'] was removed because it contains unknown alleles\n",
      "Warning! The genotype ['A*01:01:01', 'A*02:01:01', 'B*27:14', 'B*37:01:01', 'C*01:02:01', 'C*06:02:01'] was removed because it contains unknown alleles\n",
      "Warning! The genotype ['A*02:01:01', 'A*31:08', 'B*27:05:02', 'B*38:01:01', 'C*02:02:02', 'C*12:03:01'] was removed because it contains unknown alleles\n",
      "Warning! The genotype ['A*03:01:01', 'A*11:01:01', 'B*18:01:01', 'B*73:01:01', 'C*12:03:01', 'C*15:05:01'] was removed because it contains unknown alleles\n",
      "Warning! The genotype ['A*23:01:01', 'A*29:01:01', 'B*07:05:01', 'B*27:05:02', 'C*03:02:02', 'C*15:05:02'] was removed because it contains unknown alleles\n",
      "Warning! The genotype ['A*02:01:01', 'A*26:01:01', 'B*07:381', 'B*18:177', 'C*07:01:01', 'C*07:02:01'] was removed because it contains unknown alleles\n",
      "Warning! The genotype ['A*02:01:01', 'A*31:01:02', 'B*40:420', 'B*40:74', 'C*03:04:01', 'C*03:04:01'] was removed because it contains unknown alleles\n",
      "Warning! The genotype ['A*03:01:01', 'A*24:02:01', 'B*07:02:01', 'B*38:01:01', 'C*07:51', 'C*12:28'] was removed because it contains unknown alleles\n",
      "Warning! The genotype ['A*02:01:01', 'A*26:01:01', 'B*08:01:01', 'B*38:01:01', 'C*07:514:01', 'C*12:03:01'] was removed because it contains unknown alleles\n",
      "Warning! The genotype ['A*03:12', 'A*32:01:01', 'B*07:02:01', 'B*07:02:01', 'C*07:02:01', 'C*07:02:01'] was removed because it contains unknown alleles\n",
      "Warning! The genotype ['A*02:01:01', 'A*66:01:01', 'B*35:02:01', 'B*44:27:01', 'C*07:04:01', 'C*17:03:01'] was removed because it contains unknown alleles\n",
      "Warning! The genotype ['A*02:01:01', 'A*03:01:01', 'B*07:381', 'B*35:380:01', 'C*04:01:01', 'C*07:02:01'] was removed because it contains unknown alleles\n",
      "Warning! The genotype ['A*02:01:01', 'A*25:01:01', 'B*07:381', 'B*18:177', 'C*07:02:01', 'C*12:03:01'] was removed because it contains unknown alleles\n",
      "Warning! The genotype ['A*02:01:01', 'A*24:02:01', 'B*08:01:01', 'B*51:01:01', 'C*07:02:01', 'C*16:02:01'] was removed because it contains unknown alleles\n",
      "Warning! The genotype ['A*01:01:01', 'A*02:09:01', 'B*51:01:01', 'B*57:01:01', 'C*06:329:01', 'C*15:205'] was removed because it contains unknown alleles\n",
      "Warning! The genotype ['A*01:01:01', 'A*24:02:01', 'B*07:152', 'B*08:01:01', 'C*07:01:01', 'C*07:02:01'] was removed because it contains unknown alleles\n",
      "Warning! The genotype ['A*01:01:01', 'A*02:01:01', 'B*08:01:01', 'B*39:06:02', 'C*07:19', 'C*07:27:01'] was removed because it contains unknown alleles\n",
      "Warning! The genotype ['A*02:01:01', 'A*74:06', 'B*40:149', 'B*40:52', 'C*03:136', 'C*07:1031'] was removed because it contains unknown alleles\n",
      "Warning! The genotype ['A*02:01:01', 'A*03:01:01', 'B*07:02:01', 'B*41:02:01', 'C*07:02:01', 'C*17:03:01'] was removed because it contains unknown alleles\n",
      "Warning! The genotype ['A*03:01:01', 'A*23:01:01', 'B*07:02:01', 'B*57:01:01', 'C*06:136', 'C*07:31:01'] was removed because it contains unknown alleles\n",
      "Warning! The genotype ['A*03:72', 'A*24:104', 'B*35:03:01', 'B*50:01:01', 'C*04:01:01', 'C*06:02:01'] was removed because it contains unknown alleles\n",
      "Warning! The genotype ['A*01:01:01', 'A*03:149', 'B*08:01:01', 'B*56:01:01', 'C*01:02:01', 'C*07:01:01'] was removed because it contains unknown alleles\n",
      "Warning! The genotype ['A*24:02:01', 'A*26:01:01', 'B*18:01:01', 'B*38:01:01', 'C*12:03:01', 'C*12:361'] was removed because it contains unknown alleles\n",
      "Warning! The genotype ['A*03:01:01', 'A*11:410', 'B*35:60', 'B*56:11', 'C*01:130', 'C*04:01:01'] was removed because it contains unknown alleles\n",
      "Warning! The genotype ['A*24:82', 'A*33:119', 'B*13:02:01', 'B*35:02:01', 'C*04:01:01', 'C*06:02:01'] was removed because it contains unknown alleles\n",
      "Warning! The genotype ['A*02:01:01', 'A*03:01:01', 'B*40:02:01', 'B*56:01:01', 'C*01:197', 'C*03:04:98'] was removed because it contains unknown alleles\n",
      "Warning! The genotype ['A*02:01:01', 'A*31:01:02', 'B*35:21', 'B*51:143', 'C*04:04:02', 'C*15:08:01'] was removed because it contains unknown alleles\n",
      "Warning! The genotype ['A*01:01:01', 'A*29:01:01', 'B*07:05:01', 'B*57:01:01', 'C*06:02:01', 'C*15:05:01'] was removed because it contains unknown alleles\n",
      "Warning! The genotype ['A*02:01:01', 'A*11:364', 'B*18:01:20', 'B*35:01:01', 'C*03:03:01', 'C*12:03:01'] was removed because it contains unknown alleles\n",
      "Warning! The genotype ['A*02:01:01', 'A*24:02:01', 'B*15:01:01', 'B*41:02:01', 'C*03:03:01', 'C*17:03:01'] was removed because it contains unknown alleles\n",
      "Warning! The genotype ['A*02:01:01', 'A*32:01:01', 'B*41:02:01', 'B*52:01:01', 'C*12:02:02', 'C*17:03:01'] was removed because it contains unknown alleles\n",
      "Warning! The genotype ['A*31:08', 'A*68:01:02', 'B*13:02:01', 'B*27:05:02', 'C*02:02:02', 'C*06:02:01'] was removed because it contains unknown alleles\n",
      "Warning! The genotype ['A*02:01:01', 'A*11:83', 'B*07:02:01', 'B*27:05:02', 'C*01:02:01', 'C*07:02:01'] was removed because it contains unknown alleles\n",
      "Warning! The genotype ['A*03:01:01', 'A*11:241', 'B*07:02:01', 'B*35:01:01', 'C*04:01:01', 'C*07:02:01'] was removed because it contains unknown alleles\n",
      "Warning! The genotype ['A*02:01:01', 'A*11:01:01', 'B*18:01:01', 'B*41:02:01', 'C*07:01:01', 'C*17:03:01'] was removed because it contains unknown alleles\n",
      "Warning! The genotype ['A*11:01:01', 'A*11:01:01', 'B*35:167', 'B*49:11', 'C*04:01:01', 'C*04:01:01'] was removed because it contains unknown alleles\n",
      "Warning! The genotype ['A*01:274', 'A*33:237', 'B*14:02:01', 'B*57:01:01', 'C*06:02:01', 'C*08:02:01'] was removed because it contains unknown alleles\n",
      "Warning! The genotype ['A*01:01:01', 'A*03:01:01', 'B*07:381', 'B*50:57', 'C*04:01:01', 'C*07:02:01'] was removed because it contains unknown alleles\n",
      "Warning! The genotype ['A*02:01:01', 'A*24:02:01', 'B*08:01:01', 'B*27:05:02', 'C*02:151', 'C*07:01:01'] was removed because it contains unknown alleles\n",
      "Warning! The genotype ['A*03:24', 'A*68:178', 'B*14:02:01', 'B*35:01:01', 'C*04:01:01', 'C*08:02:01'] was removed because it contains unknown alleles\n",
      "Warning! The genotype ['A*02:211:01', 'A*24:28', 'B*44:37:01', 'B*56:74', 'C*01:14', 'C*16:53'] was removed because it contains unknown alleles\n",
      "Warning! The genotype ['A*02:01:01', 'A*24:02:01', 'B*44:522', 'B*56:01:01', 'C*01:02:01', 'C*16:02:01'] was removed because it contains unknown alleles\n",
      "Warning! The genotype ['A*03:01:01', 'A*03:01:01', 'B*07:381', 'B*35:380:01', 'C*04:01:01', 'C*07:02:01'] was removed because it contains unknown alleles\n",
      "Warning! The genotype ['A*02:01:01', 'A*32:01:01', 'B*41:01:01', 'B*44:03:01', 'C*04:08', 'C*17:01:01'] was removed because it contains unknown alleles\n",
      "Warning! The genotype ['A*11:72', 'A*26:01:01', 'B*44:05:01', 'B*51:01:01', 'C*02:02:02', 'C*04:01:01'] was removed because it contains unknown alleles\n",
      "Warning! The genotype ['A*02:01:01', 'A*26:01:01', 'B*38:01:01', 'B*41:02:01', 'C*12:03:01', 'C*17:03:01'] was removed because it contains unknown alleles\n",
      "Warning! The genotype ['A*03:12', 'A*24:104', 'B*07:02:01', 'B*07:02:01', 'C*07:02:01', 'C*07:02:01'] was removed because it contains unknown alleles\n",
      "Warning! The genotype ['A*11:01:01', 'A*31:01:02', 'B*58:01:01', 'B*58:01:01', 'C*03:02:02', 'C*07:18:01'] was removed because it contains unknown alleles\n",
      "Warning! The genotype ['A*01:01:01', 'A*24:02:01', 'B*35:01:11', 'B*57:01:01', 'C*04:477', 'C*18:01:01'] was removed because it contains unknown alleles\n",
      "Warning! The genotype ['A*02:01:01', 'A*03:01:01', 'B*27:197', 'B*35:57', 'C*02:02:02', 'C*04:01:01'] was removed because it contains unknown alleles\n",
      "Warning! The genotype ['A*02:01:01', 'A*03:01:01', 'B*15:01:01', 'B*27:05:02', 'C*01:51', 'C*03:04:01'] was removed because it contains unknown alleles\n",
      "Warning! The genotype ['A*02:01:01', 'A*03:01:01', 'B*07:381', 'B*15:01:01', 'C*03:04:01', 'C*07:02:01'] was removed because it contains unknown alleles\n",
      "Warning! The genotype ['A*02:01:01', 'A*02:01:01', 'B*48:01:01', 'B*48:01:01', 'C*04:01:130', 'C*08:03:01'] was removed because it contains unknown alleles\n",
      "Warning! The genotype ['A*01:181', 'A*02:01:01', 'B*08:01:01', 'B*27:02:01', 'C*02:02:02', 'C*07:01:01'] was removed because it contains unknown alleles\n",
      "Warning! The genotype ['A*03:02:01', 'A*24:02:01', 'B*27:05:02', 'B*44:02:01', 'C*02:151', 'C*16:04:01'] was removed because it contains unknown alleles\n",
      "Warning! The genotype ['A*01:01:01', 'A*01:01:01', 'B*08:01:01', 'B*39:31:01', 'C*07:514:02', 'C*12:02:08'] was removed because it contains unknown alleles\n",
      "Warning! The genotype ['A*01:01:01', 'A*31:01:02', 'B*38:01:01', 'B*39:31:01', 'C*12:03:01', 'C*12:03:01'] was removed because it contains unknown alleles\n",
      "Warning! The genotype ['A*02:01:01', 'A*03:01:01', 'B*08:01:01', 'B*35:01:01', 'C*04:01:01', 'C*07:07'] was removed because it contains unknown alleles\n",
      "Warning! The genotype ['A*32:01:01', 'A*32:01:01', 'B*27:05:02', 'B*55:01:01', 'C*01:02:01', 'C*01:22'] was removed because it contains unknown alleles\n",
      "Warning! The genotype ['A*01:01:01', 'A*02:01:01', 'B*08:01:01', 'B*41:02:01', 'C*07:01:01', 'C*17:03:01'] was removed because it contains unknown alleles\n",
      "Warning! The genotype ['A*11:01:01', 'A*24:02:01', 'B*51:01:01', 'B*52:01:01', 'C*12:02:02', 'C*16:04:01'] was removed because it contains unknown alleles\n",
      "Warning! The genotype ['A*11:01:01', 'A*24:02:01', 'B*35:03:01', 'B*40:06:01', 'C*04:01:01', 'C*08:22:01'] was removed because it contains unknown alleles\n",
      "Warning! The genotype ['A*02:158', 'A*02:161', 'B*27:05:02', 'B*35:03:01', 'C*02:02:02', 'C*04:184'] was removed because it contains unknown alleles\n",
      "Warning! The genotype ['A*03:12', 'A*25:03', 'B*18:01:01', 'B*48:01:01', 'C*08:03:01', 'C*12:211'] was removed because it contains unknown alleles\n",
      "Warning! The genotype ['A*02:01:02', 'A*02:1044', 'B*15:01:01', 'B*45:01:01', 'C*03:524', 'C*06:132:01'] was removed because it contains unknown alleles\n",
      "Warning! The genotype ['A*11:01:01', 'A*24:02:01', 'B*27:05:02', 'B*35:01:01', 'C*02:02:02', 'C*04:367'] was removed because it contains unknown alleles\n",
      "Warning! The genotype ['A*03:12', 'A*25:03', 'B*18:01:01', 'B*51:01:01', 'C*12:167', 'C*15:205'] was removed because it contains unknown alleles\n",
      "Warning! The genotype ['A*02:01:01', 'A*30:01:01', 'B*52:01:01', 'B*58:01:01', 'C*07:18:01', 'C*12:02:02'] was removed because it contains unknown alleles\n",
      "Warning! The genotype ['A*01:01:01', 'A*24:02:01', 'B*41:33', 'B*44:188', 'C*04:01:01', 'C*17:01:01'] was removed because it contains unknown alleles\n",
      "Warning! The genotype ['A*11:10', 'A*66:23', 'B*27:05:02', 'B*41:02:01', 'C*02:55:01', 'C*17:40'] was removed because it contains unknown alleles\n",
      "Warning! The genotype ['A*11:01:01', 'A*11:322', 'B*15:02:01', 'B*27:07:01', 'C*08:01:01', 'C*15:02:01'] was removed because it contains unknown alleles\n",
      "Warning! The genotype ['A*02:01:01', 'A*11:01:01', 'B*07:02:01', 'B*35:380:01', 'C*04:01:01', 'C*07:02:01'] was removed because it contains unknown alleles\n",
      "Warning! The genotype ['A*02:614', 'A*68:278', 'B*07:02:01', 'B*14:02:01', 'C*07:02:01', 'C*08:02:01'] was removed because it contains unknown alleles\n",
      "Warning! The genotype ['A*02:01:01', 'A*25:01:01', 'B*15:535', 'B*44:464:01', 'C*04:01:01', 'C*05:01:01'] was removed because it contains unknown alleles\n",
      "Warning! The genotype ['A*02:01:01', 'A*02:01:01', 'B*13:136', 'B*51:271', 'C*06:02:01', 'C*14:02:01'] was removed because it contains unknown alleles\n",
      "Warning! The genotype ['A*03:343', 'A*03:343', 'B*08:97', 'B*38:99', 'C*12:03:10', 'C*12:03:10'] was removed because it contains unknown alleles\n",
      "Warning! The genotype ['A*03:01:01', 'A*24:104', 'B*13:02:01', 'B*49:01:01', 'C*06:02:01', 'C*07:01:01'] was removed because it contains unknown alleles\n",
      "Warning! The genotype ['A*02:01:01', 'A*25:01:01', 'B*07:02:01', 'B*40:01:02', 'C*03:37:02', 'C*07:02:01'] was removed because it contains unknown alleles\n",
      "Warning! The genotype ['A*02:01:01', 'A*30:08:02', 'B*13:02:01', 'B*51:01:01', 'C*06:02:01', 'C*16:02:01'] was removed because it contains unknown alleles\n",
      "Warning! The genotype ['A*03:12', 'A*11:199:01', 'B*27:05:02', 'B*40:01:02', 'C*02:02:02', 'C*03:04:01'] was removed because it contains unknown alleles\n",
      "Warning! The genotype ['A*02:01:01', 'A*02:01:01', 'B*35:208:02', 'B*58:36', 'C*04:01:01', 'C*06:303'] was removed because it contains unknown alleles\n",
      "Warning! The genotype ['A*01:348', 'A*02:01:01', 'B*08:01:01', 'B*44:03:01', 'C*07:01:01', 'C*16:01:01'] was removed because it contains unknown alleles\n",
      "Warning! The genotype ['A*01:383', 'A*02:884:01', 'B*15:17:01', 'B*52:01:01', 'C*07:01:02', 'C*12:02:02'] was removed because it contains unknown alleles\n",
      "Warning! The genotype ['A*02:11:01', 'A*31:01:02', 'B*35:471', 'B*39:01:01', 'C*04:01:01', 'C*04:01:92'] was removed because it contains unknown alleles\n",
      "Warning! The genotype ['A*24:290', 'A*68:249', 'B*44:287', 'B*51:01:01', 'C*07:04:01', 'C*15:06:01'] was removed because it contains unknown alleles\n",
      "Warning! The genotype ['A*01:175', 'A*03:01:01', 'B*07:02:01', 'B*08:01:01', 'C*07:01:01', 'C*07:02:01'] was removed because it contains unknown alleles\n",
      "Warning! The genotype ['A*02:01:09', 'A*66:01:01', 'B*41:02:01', 'B*44:05:01', 'C*02:55:01', 'C*17:03:01'] was removed because it contains unknown alleles\n",
      "Warning! The genotype ['A*03:12', 'A*26:20:02', 'B*07:440', 'B*38:01:01', 'C*07:51', 'C*12:28'] was removed because it contains unknown alleles\n",
      "Warning! The genotype ['A*02:01:01', 'A*24:02:01', 'B*07:02:01', 'B*41:02:01', 'C*07:02:01', 'C*17:03:01'] was removed because it contains unknown alleles\n",
      "Warning! The genotype ['A*03:01:01', 'A*24:02:01', 'B*27:05:02', 'B*27:05:02', 'C*01:02:01', 'C*02:151'] was removed because it contains unknown alleles\n",
      "Warning! The genotype ['A*24:82', 'A*33:243', 'B*07:381', 'B*14:64', 'C*07:02:01', 'C*08:02:01'] was removed because it contains unknown alleles\n",
      "Warning! The genotype ['A*30:01:01', 'A*31:01:02', 'B*42:02:01', 'B*48:01:01', 'C*08:01:01', 'C*17:01:01'] was removed because it contains unknown alleles\n",
      "Warning! The genotype ['A*03:12', 'A*68:24', 'B*07:381', 'B*15:535', 'C*03:39', 'C*07:578'] was removed because it contains unknown alleles\n",
      "Warning! The genotype ['A*02:01:01', 'A*02:01:01', 'B*07:10', 'B*18:01:01', 'C*07:01:01', 'C*07:02:01'] was removed because it contains unknown alleles\n",
      "Warning! The genotype ['A*02:01:01', 'A*03:344:02', 'B*35:01:01', 'B*58:01:01', 'C*03:02:02', 'C*04:01:01'] was removed because it contains unknown alleles\n",
      "Warning! The genotype ['A*03:01:01', 'A*24:02:01', 'B*40:01:02', 'B*56:01:01', 'C*01:131', 'C*03:86'] was removed because it contains unknown alleles\n",
      "Warning! The genotype ['A*03:01:01', 'A*24:02:01', 'B*07:05:01', 'B*44:02:01', 'C*05:58:03', 'C*15:05:02'] was removed because it contains unknown alleles\n",
      "Warning! The genotype ['A*01:157', 'A*23:01:01', 'B*08:01:01', 'B*18:01:01', 'C*07:01:01', 'C*12:03:01'] was removed because it contains unknown alleles\n",
      "Warning! The genotype ['A*11:146', 'A*24:02:01', 'B*13:02:01', 'B*15:01:01', 'C*03:03:01', 'C*06:02:01'] was removed because it contains unknown alleles\n",
      "Warning! The genotype ['A*02:01:01', 'A*30:01:01', 'B*13:02:01', 'B*27:05:02', 'C*02:05:02', 'C*06:127:02'] was removed because it contains unknown alleles\n",
      "Warning! The genotype ['A*24:02:01', 'A*66:01:01', 'B*39:01:01', 'B*41:02:01', 'C*07:02:01', 'C*17:03:01'] was removed because it contains unknown alleles\n",
      "Warning! The genotype ['A*11:01:01', 'A*68:01:01', 'B*35:03:01', 'B*55:01:01', 'C*03:507', 'C*04:01:01'] was removed because it contains unknown alleles\n",
      "Warning! The genotype ['A*01:01:01', 'A*02:01:01', 'B*57:01:01', 'B*57:02:01', 'C*06:02:01', 'C*18:02:01'] was removed because it contains unknown alleles\n",
      "Warning! The genotype ['A*02:01:01', 'A*02:01:01', 'B*35:42:02', 'B*51:01:02', 'C*04:01:01', 'C*14:02:01'] was removed because it contains unknown alleles\n",
      "Warning! The genotype ['A*01:01:01', 'A*02:01:01', 'B*35:311', 'B*35:43:01', 'C*01:02:01', 'C*06:02:01'] was removed because it contains unknown alleles\n",
      "Warning! The genotype ['A*01:01:01', 'A*02:01:01', 'B*27:05:02', 'B*27:14', 'C*01:02:01', 'C*01:02:01'] was removed because it contains unknown alleles\n",
      "Warning! The genotype ['A*11:88', 'A*24:50', 'B*27:05:02', 'B*51:01:01', 'C*02:26:02', 'C*15:118'] was removed because it contains unknown alleles\n",
      "Warning! The genotype ['A*11:01:01', 'A*30:04:01', 'B*35:01:01', 'B*41:01:01', 'C*04:01:01', 'C*16:02:01'] was removed because it contains unknown alleles\n",
      "Warning! The genotype ['A*02:948', 'A*24:515', 'B*07:02:01', 'B*44:02:01', 'C*05:01:01', 'C*07:02:01'] was removed because it contains unknown alleles\n",
      "Warning! The genotype ['A*02:01:01', 'A*25:27:01', 'B*15:01:01', 'B*51:01:01', 'C*03:04:01', 'C*14:02:01'] was removed because it contains unknown alleles\n",
      "Warning! The genotype ['A*02:01:01', 'A*11:01:01', 'B*15:20', 'B*35:43:01', 'C*04:01:01', 'C*04:01:01'] was removed because it contains unknown alleles\n",
      "Warning! The genotype ['A*11:306', 'A*31:135', 'B*07:02:01', 'B*39:01:01', 'C*07:02:01', 'C*07:02:01'] was removed because it contains unknown alleles\n",
      "Warning! The genotype ['A*26:01:01', 'A*33:191', 'B*14:02:01', 'B*27:04:01', 'C*08:02:01', 'C*15:02:01'] was removed because it contains unknown alleles\n",
      "Warning! The genotype ['A*02:01:01', 'A*02:01:01', 'B*35:386', 'B*44:270:01', 'C*05:01:01', 'C*06:02:01'] was removed because it contains unknown alleles\n",
      "Warning! The genotype ['A*24:02:01', 'A*32:01:01', 'B*08:01:01', 'B*40:01:02', 'C*03:344:01', 'C*07:96:01'] was removed because it contains unknown alleles\n",
      "Warning! The genotype ['A*02:06:01', 'A*02:293Q', 'B*15:01:01', 'B*48:01:01', 'C*04:01:01', 'C*08:01:01'] was removed because it contains unknown alleles\n",
      "Warning! The genotype ['A*01:01:01', 'A*02:01:01', 'B*15:46', 'B*40:379:01', 'C*03:04:01', 'C*03:04:01'] was removed because it contains unknown alleles\n",
      "Warning! The genotype ['A*01:383', 'A*02:884:01', 'B*14:01:01', 'B*44:02:01', 'C*05:01:01', 'C*08:02:01'] was removed because it contains unknown alleles\n",
      "Warning! The genotype ['A*02:01:01', 'A*30:01:01', 'B*13:02:01', 'B*44:02:01', 'C*05:248', 'C*06:129'] was removed because it contains unknown alleles\n",
      "Warning! The genotype ['A*03:12', 'A*25:03', 'B*07:02:01', 'B*18:01:01', 'C*07:02:01', 'C*12:03:01'] was removed because it contains unknown alleles\n",
      "Warning! The genotype ['A*11:01:01', 'A*25:01:01', 'B*18:43', 'B*35:01:01', 'C*04:01:01', 'C*07:01:01'] was removed because it contains unknown alleles\n",
      "Warning! The genotype ['A*11:01:01', 'A*25:01:01', 'B*18:01:01', 'B*35:01:01', 'C*04:103:02', 'C*12:269'] was removed because it contains unknown alleles\n",
      "Warning! The genotype ['A*02:01:01', 'A*26:01:01', 'B*40:97', 'B*44:03:01', 'C*03:03:01', 'C*04:01:01'] was removed because it contains unknown alleles\n",
      "Warning! The genotype ['A*01:01:01', 'A*23:01:01', 'B*37:01:01', 'B*49:01:01', 'C*06:127:01', 'C*07:514:01'] was removed because it contains unknown alleles\n",
      "Warning! The genotype ['A*03:01:01', 'A*03:01:01', 'B*18:01:01', 'B*38:01:01', 'C*07:26:01', 'C*12:03:01'] was removed because it contains unknown alleles\n",
      "Warning! The genotype ['A*02:01:01', 'A*24:02:01', 'B*07:381', 'B*18:177', 'C*07:02:01', 'C*12:03:01'] was removed because it contains unknown alleles\n",
      "Warning! The genotype ['A*02:509', 'A*24:02:01', 'B*15:01:01', 'B*44:02:01', 'C*03:03:01', 'C*05:01:01'] was removed because it contains unknown alleles\n",
      "Warning! The genotype ['A*01:01:01', 'A*01:01:01', 'B*08:01:01', 'B*51:01:01', 'C*07:01:01', 'C*15:13:01'] was removed because it contains unknown alleles\n",
      "Warning! The genotype ['A*02:01:01', 'A*02:01:01', 'B*18:31', 'B*41:02:01', 'C*02:02:02', 'C*17:03:01'] was removed because it contains unknown alleles\n",
      "Warning! The genotype ['A*03:02:01', 'A*11:01:01', 'B*40:01:02', 'B*44:02:01', 'C*03:04:01', 'C*16:04:01'] was removed because it contains unknown alleles\n",
      "Warning! The genotype ['A*02:01:01', 'A*24:02:01', 'B*44:06', 'B*44:459', 'C*05:29:01', 'C*16:139'] was removed because it contains unknown alleles\n",
      "Warning! The genotype ['A*02:01:01', 'A*11:01:01', 'B*40:02:01', 'B*55:01:01', 'C*03:04:01', 'C*03:189N'] was removed because it contains unknown alleles\n",
      "Warning! The genotype ['A*02:01:185', 'A*02:445', 'B*51:01:01', 'B*51:01:01', 'C*16:02:01', 'C*16:02:01'] was removed because it contains unknown alleles\n",
      "Warning! The genotype ['A*02:01:01', 'A*24:02:01', 'B*40:379:01', 'B*51:230:01', 'C*01:02:01', 'C*03:387'] was removed because it contains unknown alleles\n",
      "Warning! The genotype ['A*02:01:01', 'A*03:01:01', 'B*38:01:01', 'B*39:06:02', 'C*06:303', 'C*07:02:01'] was removed because it contains unknown alleles\n",
      "Warning! The genotype ['A*02:01:01', 'A*25:01:01', 'B*44:03:01', 'B*51:57', 'C*04:01:01', 'C*15:02:01'] was removed because it contains unknown alleles\n",
      "Warning! The genotype ['A*23:17:01', 'A*24:463', 'B*49:09', 'B*51:01:01', 'C*07:01:01', 'C*15:02:01'] was removed because it contains unknown alleles\n",
      "Warning! The genotype ['A*01:01:01', 'A*02:06:01', 'B*35:01:01', 'B*50:01:01', 'C*04:477', 'C*18:01:01'] was removed because it contains unknown alleles\n",
      "Warning! The genotype ['A*31:47', 'A*32:01:01', 'B*27:05:02', 'B*51:01:01', 'C*02:02:02', 'C*07:02:01'] was removed because it contains unknown alleles\n",
      "Warning! The genotype ['A*03:01:01', 'A*03:01:01', 'B*35:03:01', 'B*39:01:01', 'C*04:29', 'C*07:76:01'] was removed because it contains unknown alleles\n",
      "Warning! The genotype ['A*23:17:01', 'A*24:463', 'B*39:01:01', 'B*49:01:01', 'C*07:01:01', 'C*12:03:01'] was removed because it contains unknown alleles\n",
      "Warning! The genotype ['A*02:01:01', 'A*03:12', 'B*07:381', 'B*38:01:01', 'C*07:02:01', 'C*12:03:01'] was removed because it contains unknown alleles\n",
      "Warning! The genotype ['A*02:01:01', 'A*31:01:02', 'B*18:177', 'B*40:379:01', 'C*03:04:01', 'C*07:96:01'] was removed because it contains unknown alleles\n",
      "Warning! The genotype ['A*03:312', 'A*26:01:01', 'B*39:01:01', 'B*52:01:01', 'C*12:02:02', 'C*12:03:01'] was removed because it contains unknown alleles\n",
      "Warning! The genotype ['A*23:01:01', 'A*24:02:01', 'B*41:02:01', 'B*44:03:01', 'C*04:01:01', 'C*17:03:01'] was removed because it contains unknown alleles\n",
      "Warning! The genotype ['A*01:01:01', 'A*68:02:01', 'B*08:272', 'B*14:28', 'C*07:01:01', 'C*08:02:01'] was removed because it contains unknown alleles\n",
      "Warning! The genotype ['A*01:01:01', 'A*03:395', 'B*07:02:01', 'B*57:01:01', 'C*06:02:01', 'C*07:02:01'] was removed because it contains unknown alleles\n",
      "Warning! The genotype ['A*01:01:01', 'A*02:30:01', 'B*08:01:01', 'B*38:01:01', 'C*07:01:01', 'C*12:03:01'] was removed because it contains unknown alleles\n",
      "Warning! The genotype ['A*02:05:01', 'A*02:05:01', 'B*14:02:01', 'B*58:01:01', 'C*07:18:01', 'C*08:02:01'] was removed because it contains unknown alleles\n",
      "Warning! The genotype ['A*02:01:01', 'A*03:02:01', 'B*44:02:01', 'B*44:02:01', 'C*05:01:01', 'C*16:04:01'] was removed because it contains unknown alleles\n",
      "Warning! The genotype ['A*02:01:01', 'A*68:01:02', 'B*51:01:01', 'B*58:01:01', 'C*03:02:02', 'C*16:02:01'] was removed because it contains unknown alleles\n",
      "Warning! The genotype ['A*02:01:01', 'A*11:01:01', 'B*27:05:02', 'B*48:01:01', 'C*02:02:02', 'C*08:03:01'] was removed because it contains unknown alleles\n",
      "Warning! The genotype ['A*24:02:01', 'A*32:01:01', 'B*07:02:01', 'B*44:02:01', 'C*07:02:01', 'C*16:04:01'] was removed because it contains unknown alleles\n",
      "Warning! The genotype ['A*02:01:01', 'A*02:01:01', 'B*15:247', 'B*44:27:01', 'C*03:03:01', 'C*07:04:01'] was removed because it contains unknown alleles\n",
      "Warning! The genotype ['A*24:02:01', 'A*29:02:01', 'B*44:02:01', 'B*58:01:01', 'C*07:18:01', 'C*16:04:01'] was removed because it contains unknown alleles\n",
      "Warning! The genotype ['A*02:01:01', 'A*24:02:01', 'B*38:01:01', 'B*51:01:01', 'C*12:03:01', 'C*16:02:01'] was removed because it contains unknown alleles\n",
      "Warning! The genotype ['A*02:01:01', 'A*03:01:01', 'B*27:05:02', 'B*57:01:01', 'C*02:02:02', 'C*06:127:02'] was removed because it contains unknown alleles\n",
      "Warning! The genotype ['A*03:205', 'A*31:21', 'B*35:380:01', 'B*40:379:01', 'C*03:04:01', 'C*04:01:01'] was removed because it contains unknown alleles\n",
      "Warning! The genotype ['A*24:02:01', 'A*68:01:01', 'B*07:381', 'B*18:177', 'C*07:01:01', 'C*07:02:01'] was removed because it contains unknown alleles\n",
      "Warning! The genotype ['A*01:01:01', 'A*23:06', 'B*08:01:01', 'B*44:03:01', 'C*04:01:01', 'C*07:01:01'] was removed because it contains unknown alleles\n",
      "Warning! The genotype ['A*01:370', 'A*03:01:01', 'B*35:01:01', 'B*35:08:01', 'C*04:01:01', 'C*04:01:01'] was removed because it contains unknown alleles\n",
      "Warning! The genotype ['A*02:01:01', 'A*25:01:01', 'B*07:02:01', 'B*18:01:01', 'C*07:02:01', 'C*12:28'] was removed because it contains unknown alleles\n",
      "Warning! The genotype ['A*02:01:01', 'A*02:01:01', 'B*13:118', 'B*15:01:01', 'C*01:02:01', 'C*06:02:102'] was removed because it contains unknown alleles\n",
      "Warning! The genotype ['A*23:01:01', 'A*24:532', 'B*18:01:01', 'B*44:03:01', 'C*04:01:01', 'C*07:01:01'] was removed because it contains unknown alleles\n",
      "Warning! The genotype ['A*01:338', 'A*26:01:01', 'B*08:01:01', 'B*38:01:01', 'C*07:01:01', 'C*12:03:01'] was removed because it contains unknown alleles\n",
      "Warning! The genotype ['A*01:01:01', 'A*24:02:01', 'B*14:02:01', 'B*40:06:01', 'C*08:02:01', 'C*08:22:01'] was removed because it contains unknown alleles\n",
      "Warning! The genotype ['A*02:01:01', 'A*02:01:01', 'B*52:07:02', 'B*52:37', 'C*05:01:01', 'C*12:02:02'] was removed because it contains unknown alleles\n",
      "Warning! The genotype ['A*02:01:01', 'A*03:01:04', 'B*07:405', 'B*44:347', 'C*07:51', 'C*12:28'] was removed because it contains unknown alleles\n",
      "Warning! The genotype ['A*02:05:01', 'A*24:02:01', 'B*14:02:01', 'B*15:410', 'C*03:360', 'C*08:02:01'] was removed because it contains unknown alleles\n",
      "Warning! The genotype ['A*02:01:01', 'A*03:01:01', 'B*35:03:01', 'B*40:49', 'C*03:04:01', 'C*04:01:01'] was removed because it contains unknown alleles\n",
      "Warning! The genotype ['A*25:01:01', 'A*32:01:01', 'B*07:143', 'B*18:43', 'C*07:02:01', 'C*12:03:01'] was removed because it contains unknown alleles\n",
      "Warning! The genotype ['A*01:01:01', 'A*68:01:02', 'B*40:130:02', 'B*51:01:01', 'C*03:04:01', 'C*15:02:01'] was removed because it contains unknown alleles\n",
      "Warning! The genotype ['A*03:12', 'A*25:03', 'B*07:02:01', 'B*18:01:01', 'C*07:51', 'C*12:28'] was removed because it contains unknown alleles\n",
      "Warning! The genotype ['A*01:380:01', 'A*11:326', 'B*08:01:01', 'B*15:01:01', 'C*03:03:01', 'C*07:01:01'] was removed because it contains unknown alleles\n",
      "Warning! The genotype ['A*02:01:01', 'A*03:01:01', 'B*35:169', 'B*44:37:01', 'C*04:01:01', 'C*07:04:01'] was removed because it contains unknown alleles\n",
      "Warning! The genotype ['A*02:01:01', 'A*24:02:01', 'B*07:381', 'B*38:99', 'C*07:02:01', 'C*12:03:01'] was removed because it contains unknown alleles\n",
      "Warning! The genotype ['A*02:01:01', 'A*03:01:01', 'B*40:32', 'B*44:27:01', 'C*03:04:01', 'C*07:04:01'] was removed because it contains unknown alleles\n",
      "Warning! The genotype ['A*02:01:01', 'A*25:01:01', 'B*15:01:01', 'B*27:02:01', 'C*02:212', 'C*04:01:01'] was removed because it contains unknown alleles\n",
      "Warning! The genotype ['A*02:01:01', 'A*03:01:01', 'B*18:06', 'B*27:02:01', 'C*02:212', 'C*12:03:01'] was removed because it contains unknown alleles\n",
      "Warning! The genotype ['A*03:01:01', 'A*24:02:01', 'B*07:381', 'B*15:535', 'C*03:03:01', 'C*07:02:01'] was removed because it contains unknown alleles\n",
      "Warning! The genotype ['A*01:28', 'A*03:395', 'B*07:02:01', 'B*14:02:01', 'C*07:02:01', 'C*08:02:01'] was removed because it contains unknown alleles\n",
      "Warning! The genotype ['A*24:02:01', 'A*66:01:01', 'B*27:05:02', 'B*41:02:01', 'C*02:02:02', 'C*17:03:01'] was removed because it contains unknown alleles\n",
      "Warning! The genotype ['A*02:01:01', 'A*24:02:01', 'B*40:02:01', 'B*51:01:01', 'C*02:26:02', 'C*15:118'] was removed because it contains unknown alleles\n",
      "Warning! The genotype ['A*03:01:01', 'A*24:02:01', 'B*44:27:01', 'B*51:01:01', 'C*07:04:01', 'C*15:13:01'] was removed because it contains unknown alleles\n",
      "Warning! The genotype ['A*02:01:01', 'A*03:01:01', 'B*13:02:01', 'B*27:05:02', 'C*02:05:02', 'C*06:127:02'] was removed because it contains unknown alleles\n",
      "Warning! The genotype ['A*02:884:01', 'A*11:01:01', 'B*35:03:01', 'B*58:01:01', 'C*07:18:01', 'C*12:03:01'] was removed because it contains unknown alleles\n",
      "Warning! The genotype ['A*01:03:01', 'A*03:01:01', 'B*56:68', 'B*73:01:01', 'C*01:02:01', 'C*15:05:01'] was removed because it contains unknown alleles\n",
      "Warning! The genotype ['A*01:01:01', 'A*02:01:01', 'B*44:06', 'B*44:459', 'C*05:01:01', 'C*07:02:01'] was removed because it contains unknown alleles\n",
      "Warning! The genotype ['A*01:01:01', 'A*01:01:01', 'B*08:01:01', 'B*51:07:02', 'C*07:01:01', 'C*14:02:01'] was removed because it contains unknown alleles\n",
      "Warning! The genotype ['A*66:01:01', 'A*68:21:01', 'B*08:01:01', 'B*38:01:01', 'C*07:01:01', 'C*12:03:01'] was removed because it contains unknown alleles\n",
      "Warning! The genotype ['A*02:01:01', 'A*68:01:02', 'B*15:01:01', 'B*18:01:01', 'C*04:01:01', 'C*07:315'] was removed because it contains unknown alleles\n",
      "Warning! The genotype ['A*03:12', 'A*26:20:02', 'B*07:02:01', 'B*49:01:01', 'C*07:01:01', 'C*07:02:01'] was removed because it contains unknown alleles\n",
      "Warning! The genotype ['A*02:01:01', 'A*02:01:01', 'B*41:02:01', 'B*51:01:01', 'C*15:02:01', 'C*17:03:01'] was removed because it contains unknown alleles\n",
      "Warning! The genotype ['A*01:01:01', 'A*25:01:01', 'B*08:50', 'B*51:68', 'C*07:01:01', 'C*14:02:01'] was removed because it contains unknown alleles\n",
      "Warning! The genotype ['A*02:01:01', 'A*30:08:01', 'B*07:02:01', 'B*13:02:01', 'C*06:136', 'C*07:02:01'] was removed because it contains unknown alleles\n",
      "Warning! The genotype ['A*01:01:01', 'A*03:01:01', 'B*07:02:01', 'B*08:01:01', 'C*07:01:01', 'C*07:639'] was removed because it contains unknown alleles\n",
      "Warning! The genotype ['A*02:06:01', 'A*03:01:01', 'B*27:224', 'B*35:01:01', 'C*02:02:02', 'C*03:13:01'] was removed because it contains unknown alleles\n",
      "Warning! The genotype ['A*24:02:01', 'A*25:01:01', 'B*18:168', 'B*39:43', 'C*07:02:01', 'C*12:03:01'] was removed because it contains unknown alleles\n",
      "Warning! The genotype ['A*01:01:01', 'A*02:12', 'B*08:01:01', 'B*52:01:01', 'C*07:01:01', 'C*12:02:02'] was removed because it contains unknown alleles\n",
      "Warning! The genotype ['A*03:72', 'A*23:64', 'B*07:02:01', 'B*44:03:01', 'C*04:33', 'C*07:02:01'] was removed because it contains unknown alleles\n",
      "Warning! The genotype ['A*02:110', 'A*24:14:01', 'B*35:01:01', 'B*35:01:01', 'C*04:01:01', 'C*04:01:01'] was removed because it contains unknown alleles\n",
      "Warning! The genotype ['A*01:01:01', 'A*02:06:01', 'B*44:06', 'B*44:459', 'C*07:04:01', 'C*15:02:01'] was removed because it contains unknown alleles\n",
      "Warning! The genotype ['A*02:01:01', 'A*33:01:01', 'B*14:02:01', 'B*15:01:01', 'C*03:41:01', 'C*05:01:75'] was removed because it contains unknown alleles\n",
      "Warning! The genotype ['A*02:01:01', 'A*02:01:01', 'B*18:01:01', 'B*41:02:01', 'C*12:03:01', 'C*17:03:01'] was removed because it contains unknown alleles\n",
      "Warning! The genotype ['A*03:12', 'A*11:199:01', 'B*07:381', 'B*51:230:01', 'C*01:02:01', 'C*07:02:01'] was removed because it contains unknown alleles\n",
      "Warning! The genotype ['A*68:01:01', 'A*68:01:02', 'B*13:02:01', 'B*18:01:01', 'C*06:131', 'C*12:03:01'] was removed because it contains unknown alleles\n",
      "Warning! The genotype ['A*03:12', 'A*26:20:02', 'B*07:02:01', 'B*44:02:01', 'C*03:03:01', 'C*07:02:01'] was removed because it contains unknown alleles\n",
      "Warning! The genotype ['A*24:02:01', 'A*24:02:01', 'B*53:24', 'B*78:02:02', 'C*02:16:02', 'C*04:01:01'] was removed because it contains unknown alleles\n",
      "Warning! The genotype ['A*01:01:01', 'A*68:01:01', 'B*08:01:01', 'B*40:01:37', 'C*03:04:01', 'C*07:96:01'] was removed because it contains unknown alleles\n",
      "Warning! The genotype ['A*01:01:01', 'A*23:79', 'B*49:01:01', 'B*57:01:01', 'C*06:02:01', 'C*07:01:01'] was removed because it contains unknown alleles\n",
      "Warning! The genotype ['A*25:01:01', 'A*68:01:02', 'B*35:01:01', 'B*56:01:01', 'C*01:51', 'C*03:04:01'] was removed because it contains unknown alleles\n",
      "Warning! The genotype ['A*01:01:01', 'A*02:01:01', 'B*13:02:01', 'B*15:01:01', 'C*03:03:01', 'C*06:228'] was removed because it contains unknown alleles\n",
      "Warning! The genotype ['A*11:01:01', 'A*30:01:01', 'B*13:02:01', 'B*51:01:01', 'C*06:02:01', 'C*16:02:01'] was removed because it contains unknown alleles\n",
      "Warning! The genotype ['A*01:01:01', 'A*24:02:01', 'B*13:02:01', 'B*51:143', 'C*06:04:01', 'C*15:74'] was removed because it contains unknown alleles\n",
      "Warning! The genotype ['A*02:01:01', 'A*25:01:01', 'B*18:43', 'B*44:02:59', 'C*05:01:01', 'C*12:03:01'] was removed because it contains unknown alleles\n",
      "Warning! The genotype ['A*01:01:01', 'A*03:01:01', 'B*15:01:01', 'B*27:05:02', 'C*02:26:03', 'C*03:03:01'] was removed because it contains unknown alleles\n",
      "Warning! The genotype ['A*25:01:01', 'A*32:01:01', 'B*08:01:01', 'B*40:229', 'C*02:02:02', 'C*07:01:01'] was removed because it contains unknown alleles\n",
      "Warning! The genotype ['A*01:01:01', 'A*68:02:01', 'B*15:17:01', 'B*51:01:01', 'C*07:01:02', 'C*15:13:01'] was removed because it contains unknown alleles\n",
      "Warning! The genotype ['A*02:01:170', 'A*26:01:43', 'B*15:01:01', 'B*27:14', 'C*01:02:01', 'C*03:04:01'] was removed because it contains unknown alleles\n",
      "Warning! The genotype ['A*02:01:01', 'A*03:01:01', 'B*35:03:01', 'B*50:01:01', 'C*04:360', 'C*18:01:01'] was removed because it contains unknown alleles\n",
      "Warning! The genotype ['A*02:01:01', 'A*03:01:01', 'B*07:02:01', 'B*27:05:02', 'C*02:77', 'C*07:27:02'] was removed because it contains unknown alleles\n",
      "Warning! The genotype ['A*11:01:01', 'A*26:01:01', 'B*07:381', 'B*35:516', 'C*04:01:01', 'C*07:02:01'] was removed because it contains unknown alleles\n",
      "Warning! The genotype ['A*03:24', 'A*68:66:01', 'B*40:32', 'B*42:01:01', 'C*07:02:01', 'C*17:03:01'] was removed because it contains unknown alleles\n",
      "Warning! The genotype ['A*01:01:01', 'A*66:01:01', 'B*08:01:01', 'B*41:02:01', 'C*07:01:01', 'C*17:03:01'] was removed because it contains unknown alleles\n",
      "Warning! The genotype ['A*02:01:01', 'A*25:01:01', 'B*18:01:01', 'B*27:05:02', 'C*02:163', 'C*12:167'] was removed because it contains unknown alleles\n",
      "Warning! The genotype ['A*32:01:01', 'A*66:01:01', 'B*39:01:01', 'B*41:02:01', 'C*07:02:01', 'C*17:03:01'] was removed because it contains unknown alleles\n",
      "Warning! The genotype ['A*11:88', 'A*24:50', 'B*15:17:01', 'B*27:05:02', 'C*02:02:02', 'C*07:01:02'] was removed because it contains unknown alleles\n",
      "Warning! The genotype ['A*03:01:01', 'A*32:01:18', 'B*37:01:01', 'B*40:02:01', 'C*02:163', 'C*06:329:01'] was removed because it contains unknown alleles\n",
      "Warning! The genotype ['A*02:488', 'A*03:01:01', 'B*07:02:01', 'B*27:05:02', 'C*02:02:02', 'C*07:02:01'] was removed because it contains unknown alleles\n",
      "Warning! The genotype ['A*02:05:07', 'A*03:01:01', 'B*07:02:01', 'B*50:01:01', 'C*06:136', 'C*07:31:01'] was removed because it contains unknown alleles\n",
      "Warning! The genotype ['A*02:181', 'A*26:01:01', 'B*38:01:01', 'B*56:01:01', 'C*01:02:01', 'C*12:03:01'] was removed because it contains unknown alleles\n",
      "Warning! The genotype ['A*02:01:01', 'A*32:01:01', 'B*44:464:01', 'B*50:57', 'C*05:01:01', 'C*06:02:01'] was removed because it contains unknown alleles\n",
      "Warning! The genotype ['A*01:408', 'A*25:01:01', 'B*08:01:01', 'B*40:01:02', 'C*03:344:01', 'C*07:96:01'] was removed because it contains unknown alleles\n",
      "Warning! The genotype ['A*01:274', 'A*32:116', 'B*13:02:01', 'B*41:01:01', 'C*07:01:01', 'C*17:01:01'] was removed because it contains unknown alleles\n",
      "Warning! The genotype ['A*02:01:01', 'A*29:01:01', 'B*13:02:01', 'B*35:03:01', 'C*04:477', 'C*18:01:01'] was removed because it contains unknown alleles\n",
      "Warning! The genotype ['A*03:01:01', 'A*68:01:02', 'B*27:05:02', 'B*35:15:01', 'C*02:02:02', 'C*04:01:01'] was removed because it contains unknown alleles\n",
      "Warning! The genotype ['A*02:01:01', 'A*02:01:01', 'B*07:381', 'B*51:230:01', 'C*04:01:01', 'C*07:02:01'] was removed because it contains unknown alleles\n",
      "Warning! The genotype ['A*01:01:01', 'A*68:01:01', 'B*07:02:01', 'B*40:01:02', 'C*03:344:01', 'C*07:578'] was removed because it contains unknown alleles\n",
      "Warning! The genotype ['A*02:01:01', 'A*66:01:01', 'B*35:01:01', 'B*44:02:01', 'C*05:01:01', 'C*17:03:01'] was removed because it contains unknown alleles\n",
      "Warning! The genotype ['A*02:01:01', 'A*26:01:01', 'B*07:381', 'B*35:380:01', 'C*04:01:01', 'C*07:02:01'] was removed because it contains unknown alleles\n",
      "Warning! The genotype ['A*02:01:01', 'A*11:01:01', 'B*15:20', 'B*35:43:01', 'C*03:04:01', 'C*04:01:01'] was removed because it contains unknown alleles\n",
      "Warning! The genotype ['A*01:100', 'A*68:01:02', 'B*13:02:01', 'B*57:01:01', 'C*06:02:01', 'C*06:02:01'] was removed because it contains unknown alleles\n",
      "Warning! The genotype ['A*03:72', 'A*24:104', 'B*15:01:01', 'B*44:02:01', 'C*03:03:01', 'C*05:01:01'] was removed because it contains unknown alleles\n",
      "Warning! The genotype ['A*02:980', 'A*24:02:01', 'B*27:02:01', 'B*38:01:01', 'C*02:02:17', 'C*12:03:78'] was removed because it contains unknown alleles\n",
      "Warning! The genotype ['A*03:01:01', 'A*03:166', 'B*07:02:01', 'B*44:02:01', 'C*05:140', 'C*07:02:01'] was removed because it contains unknown alleles\n",
      "Warning! The genotype ['A*01:01:01', 'A*03:01:01', 'B*07:361', 'B*39:01:01', 'C*07:02:01', 'C*07:518'] was removed because it contains unknown alleles\n",
      "Warning! The genotype ['A*01:383', 'A*02:884:01', 'B*08:01:01', 'B*44:02:01', 'C*05:01:01', 'C*07:01:01'] was removed because it contains unknown alleles\n",
      "Warning! The genotype ['A*02:01:01', 'A*03:01:01', 'B*07:02:01', 'B*13:02:01', 'C*06:02:01', 'C*07:208'] was removed because it contains unknown alleles\n",
      "Warning! The genotype ['A*02:884:01', 'A*03:01:01', 'B*27:127', 'B*47:04', 'C*05:107', 'C*08:15:01'] was removed because it contains unknown alleles\n",
      "Warning! The genotype ['A*02:384', 'A*03:01:71', 'B*07:02:01', 'B*35:03:01', 'C*07:02:01', 'C*12:03:01'] was removed because it contains unknown alleles\n",
      "Warning! The genotype ['A*01:121', 'A*68:02:01', 'B*38:33', 'B*52:01:01', 'C*12:02:02', 'C*12:206'] was removed because it contains unknown alleles\n",
      "Warning! The genotype ['A*03:63', 'A*11:12:01', 'B*07:02:01', 'B*14:01:01', 'C*07:02:01', 'C*08:02:01'] was removed because it contains unknown alleles\n",
      "Warning! The genotype ['A*24:02:01', 'A*30:01:01', 'B*07:02:01', 'B*13:02:01', 'C*06:02:01', 'C*07:741'] was removed because it contains unknown alleles\n",
      "Warning! The genotype ['A*01:01:01', 'A*31:01:02', 'B*13:176', 'B*51:271', 'C*01:02:01', 'C*06:02:01'] was removed because it contains unknown alleles\n",
      "Warning! The genotype ['A*02:01:01', 'A*68:02:01', 'B*07:381', 'B*14:64', 'C*07:02:01', 'C*08:02:01'] was removed because it contains unknown alleles\n",
      "Warning! The genotype ['A*02:01:01', 'A*03:01:01', 'B*07:381', 'B*50:57', 'C*06:02:01', 'C*07:02:01'] was removed because it contains unknown alleles\n",
      "Warning! The genotype ['A*02:01:01', 'A*11:01:01', 'B*07:02:01', 'B*07:05:01', 'C*07:02:01', 'C*15:05:02'] was removed because it contains unknown alleles\n",
      "Warning! The genotype ['A*24:03:01', 'A*68:01:02', 'B*35:277', 'B*51:01:01', 'C*15:02:01', 'C*15:04:01'] was removed because it contains unknown alleles\n",
      "Warning! The genotype ['A*03:01:01', 'A*11:01:01', 'B*40:32', 'B*57:01:01', 'C*03:04:01', 'C*06:02:01'] was removed because it contains unknown alleles\n",
      "Warning! The genotype ['A*02:01:01', 'A*29:01:01', 'B*27:12:01', 'B*44:27:01', 'C*07:04:01', 'C*12:03:01'] was removed because it contains unknown alleles\n",
      "Warning! The genotype ['A*11:01:01', 'A*68:24', 'B*13:02:01', 'B*40:01:02', 'C*03:04:01', 'C*06:02:01'] was removed because it contains unknown alleles\n",
      "Warning! The genotype ['A*02:01:01', 'A*03:01:12', 'B*27:05:02', 'B*38:01:01', 'C*02:163', 'C*12:167'] was removed because it contains unknown alleles\n",
      "Warning! The genotype ['A*01:383', 'A*02:884:01', 'B*13:02:01', 'B*14:02:01', 'C*06:02:01', 'C*08:02:01'] was removed because it contains unknown alleles\n",
      "Warning! The genotype ['A*03:72', 'A*24:104', 'B*45:01:01', 'B*47:01:01', 'C*06:02:01', 'C*07:02:01'] was removed because it contains unknown alleles\n",
      "Warning! The genotype ['A*03:72', 'A*24:104', 'B*07:02:01', 'B*51:01:01', 'C*07:02:01', 'C*15:02:01'] was removed because it contains unknown alleles\n",
      "Warning! The genotype ['A*01:383', 'A*02:884:01', 'B*37:01:01', 'B*51:08:01', 'C*06:02:01', 'C*16:02:01'] was removed because it contains unknown alleles\n",
      "Warning! The genotype ['A*32:01:01', 'A*68:24', 'B*13:02:01', 'B*44:02:01', 'C*05:01:01', 'C*06:02:01'] was removed because it contains unknown alleles\n",
      "Warning! The genotype ['A*03:72', 'A*24:104', 'B*07:02:01', 'B*15:01:01', 'C*03:03:01', 'C*07:02:01'] was removed because it contains unknown alleles\n",
      "Warning! The genotype ['A*01:406', 'A*02:293Q', 'B*08:01:01', 'B*13:02:01', 'C*06:02:23', 'C*07:166'] was removed because it contains unknown alleles\n",
      "Warning! The genotype ['A*01:01:01', 'A*24:02:01', 'B*35:01:01', 'B*35:02:01', 'C*04:496', 'C*18:01:01'] was removed because it contains unknown alleles\n",
      "Warning! The genotype ['A*02:01:01', 'A*03:05:01', 'B*07:02:01', 'B*57:01:01', 'C*06:02:01', 'C*07:02:30'] was removed because it contains unknown alleles\n",
      "Warning! The genotype ['A*02:01:01', 'A*03:300', 'B*07:02:01', 'B*44:02:01', 'C*05:42', 'C*07:02:01'] was removed because it contains unknown alleles\n",
      "Warning! The genotype ['A*24:02:01', 'A*68:01:02', 'B*18:01:01', 'B*39:01:03', 'C*07:741', 'C*12:03:10'] was removed because it contains unknown alleles\n",
      "Warning! The genotype ['A*02:01:01', 'A*02:01:01', 'B*40:47', 'B*44:09', 'C*03:04:01', 'C*05:01:01'] was removed because it contains unknown alleles\n",
      "Warning! The genotype ['A*01:296', 'A*03:01:01', 'B*35:01:01', 'B*37:01:01', 'C*04:01:01', 'C*06:275'] was removed because it contains unknown alleles\n",
      "Warning! The genotype ['A*02:01:01', 'A*02:01:01', 'B*13:02:01', 'B*35:03:01', 'C*04:477', 'C*18:01:01'] was removed because it contains unknown alleles\n",
      "Warning! The genotype ['A*02:01:01', 'A*25:68', 'B*18:01:01', 'B*38:01:01', 'C*12:03:01', 'C*12:03:01'] was removed because it contains unknown alleles\n",
      "Warning! The genotype ['A*03:72', 'A*24:02:01', 'B*07:381', 'B*48:02:01', 'C*04:01:01', 'C*07:02:01'] was removed because it contains unknown alleles\n",
      "Warning! The genotype ['A*02:864:01', 'A*25:68', 'B*07:04:01', 'B*18:43', 'C*07:02:01', 'C*12:03:01'] was removed because it contains unknown alleles\n",
      "Warning! The genotype ['A*02:01:01', 'A*11:01:01', 'B*07:02:01', 'B*41:02:01', 'C*07:02:01', 'C*17:03:01'] was removed because it contains unknown alleles\n",
      "Warning! The genotype ['A*03:24', 'A*68:66:01', 'B*08:01:01', 'B*38:01:01', 'C*07:01:01', 'C*12:03:01'] was removed because it contains unknown alleles\n",
      "Warning! The genotype ['A*26:01:01', 'A*30:01:01', 'B*41:02:01', 'B*44:02:01', 'C*05:01:01', 'C*17:03:01'] was removed because it contains unknown alleles\n",
      "Warning! The genotype ['A*33:03:01', 'A*66:01:01', 'B*44:03:02', 'B*49:01:01', 'C*07:01:01', 'C*07:06:01'] was removed because it contains unknown alleles\n",
      "Warning! The genotype ['A*02:01:01', 'A*02:01:01', 'B*15:01:01', 'B*41:02:01', 'C*03:04:01', 'C*17:03:01'] was removed because it contains unknown alleles\n",
      "Warning! The genotype ['A*03:02:01', 'A*24:02:01', 'B*44:02:01', 'B*52:01:01', 'C*12:02:02', 'C*16:04:01'] was removed because it contains unknown alleles\n",
      "Warning! The genotype ['A*01:274', 'A*33:01:01', 'B*08:01:01', 'B*14:02:01', 'C*07:01:01', 'C*08:02:01'] was removed because it contains unknown alleles\n",
      "Warning! The genotype ['A*02:01:01', 'A*32:01:01', 'B*15:220:01', 'B*40:02:01', 'C*02:02:17', 'C*12:03:78'] was removed because it contains unknown alleles\n",
      "Warning! The genotype ['A*03:01:01', 'A*03:12', 'B*07:02:01', 'B*07:02:01', 'C*07:02:01', 'C*07:02:01'] was removed because it contains unknown alleles\n",
      "Warning! The genotype ['A*29:32', 'A*33:18:01', 'B*13:02:01', 'B*44:03:01', 'C*06:02:01', 'C*16:01:01'] was removed because it contains unknown alleles\n",
      "Warning! The genotype ['A*31:01:02', 'A*68:01:01', 'B*07:381', 'B*15:535', 'C*03:04:01', 'C*07:02:01'] was removed because it contains unknown alleles\n",
      "Warning! The genotype ['A*01:147Q', 'A*02:01:01', 'B*13:02:01', 'B*38:01:01', 'C*06:02:01', 'C*12:03:01'] was removed because it contains unknown alleles\n",
      "Warning! The genotype ['A*23:17:01', 'A*24:02:01', 'B*40:379:01', 'B*50:57', 'C*03:04:01', 'C*06:02:01'] was removed because it contains unknown alleles\n",
      "Warning! The genotype ['A*02:01:01', 'A*02:07:01', 'B*35:08:01', 'B*46:29', 'C*01:02:01', 'C*04:334'] was removed because it contains unknown alleles\n",
      "Warning! The genotype ['A*03:01:01', 'A*03:01:01', 'B*51:300', 'B*56:94', 'C*03:03:01', 'C*15:02:01'] was removed because it contains unknown alleles\n",
      "Warning! The genotype ['A*01:01:01', 'A*02:01:01', 'B*15:05:01', 'B*57:161', 'C*03:313', 'C*06:143'] was removed because it contains unknown alleles\n",
      "Warning! The genotype ['A*02:01:01', 'A*32:01:01', 'B*15:01:01', 'B*40:11:01', 'C*02:02:02', 'C*03:03:01'] was removed because it contains unknown alleles\n",
      "Warning! The genotype ['A*03:01:01', 'A*31:08', 'B*07:02:01', 'B*27:05:02', 'C*02:77', 'C*07:27:02'] was removed because it contains unknown alleles\n",
      "Warning! The genotype ['A*02:01:01', 'A*02:01:01', 'B*15:20', 'B*35:43:01', 'C*03:524', 'C*04:01:01'] was removed because it contains unknown alleles\n",
      "Warning! The genotype ['A*01:01:01', 'A*31:01:02', 'B*51:143', 'B*52:01:01', 'C*12:02:02', 'C*15:02:01'] was removed because it contains unknown alleles\n",
      "Warning! The genotype ['A*02:01:01', 'A*03:02:01', 'B*18:01:01', 'B*44:02:01', 'C*07:01:01', 'C*16:04:01'] was removed because it contains unknown alleles\n",
      "Warning! The genotype ['A*02:01:01', 'A*02:74:02', 'B*35:02:01', 'B*44:03:01', 'C*04:01:01', 'C*04:01:01'] was removed because it contains unknown alleles\n",
      "Warning! The genotype ['A*02:05:01', 'A*24:02:01', 'B*44:02:01', 'B*50:01:01', 'C*05:01:01', 'C*06:06:01'] was removed because it contains unknown alleles\n",
      "Warning! The genotype ['A*01:221', 'A*03:01:01', 'B*51:01:01', 'B*57:01:01', 'C*01:02:01', 'C*06:02:01'] was removed because it contains unknown alleles\n",
      "Warning! The genotype ['A*02:01:01', 'A*02:01:01', 'B*51:01:01', 'B*57:01:01', 'C*06:02:01', 'C*15:04:01'] was removed because it contains unknown alleles\n",
      "Warning! The genotype ['A*02:01:01', 'A*02:01:01', 'B*27:05:02', 'B*44:321', 'C*02:02:02', 'C*05:01:01'] was removed because it contains unknown alleles\n",
      "Warning! The genotype ['A*01:01:01', 'A*30:04:01', 'B*18:01:01', 'B*49:01:01', 'C*07:01:01', 'C*16:02:01'] was removed because it contains unknown alleles\n",
      "Warning! The genotype ['A*24:02:01', 'A*25:01:01', 'B*35:380:01', 'B*44:464:01', 'C*04:01:01', 'C*05:120'] was removed because it contains unknown alleles\n",
      "Warning! The genotype ['A*11:01:01', 'A*11:01:01', 'B*35:197', 'B*57:01:01', 'C*04:01:01', 'C*06:02:01'] was removed because it contains unknown alleles\n",
      "Warning! The genotype ['A*24:02:01', 'A*30:01:01', 'B*35:01:01', 'B*58:01:01', 'C*04:334', 'C*07:18:01'] was removed because it contains unknown alleles\n",
      "Warning! The genotype ['A*11:306', 'A*33:163', 'B*35:01:01', 'B*58:01:01', 'C*03:02:02', 'C*04:01:01'] was removed because it contains unknown alleles\n",
      "Warning! The genotype ['A*01:01:01', 'A*32:01:01', 'B*08:01:01', 'B*51:01:01', 'C*07:01:01', 'C*16:02:01'] was removed because it contains unknown alleles\n",
      "Warning! The genotype ['A*02:552', 'A*02:804', 'B*07:02:01', 'B*15:01:01', 'C*03:39', 'C*07:578'] was removed because it contains unknown alleles\n",
      "Warning! The genotype ['A*01:01:01', 'A*23:01:01', 'B*35:309', 'B*44:37:01', 'C*04:477', 'C*18:01:01'] was removed because it contains unknown alleles\n",
      "Warning! The genotype ['A*02:01:01', 'A*02:01:01', 'B*08:12:01', 'B*40:01:02', 'C*03:04:01', 'C*07:01:01'] was removed because it contains unknown alleles\n",
      "Warning! The genotype ['A*03:01:01', 'A*26:01:01', 'B*41:02:01', 'B*51:07:01', 'C*14:02:01', 'C*17:01:18'] was removed because it contains unknown alleles\n",
      "Warning! The genotype ['A*25:01:01', 'A*66:01:01', 'B*18:01:01', 'B*41:02:01', 'C*06:02:01', 'C*17:03:01'] was removed because it contains unknown alleles\n",
      "Warning! The genotype ['A*03:12', 'A*68:01:02', 'B*07:02:01', 'B*35:01:01', 'C*04:01:01', 'C*07:02:01'] was removed because it contains unknown alleles\n",
      "Warning! The genotype ['A*02:01:01', 'A*11:267', 'B*51:01:01', 'B*52:01:01', 'C*12:130', 'C*16:02:01'] was removed because it contains unknown alleles\n",
      "Warning! The genotype ['A*03:72', 'A*24:104', 'B*27:05:02', 'B*35:01:01', 'C*02:185', 'C*04:01:01'] was removed because it contains unknown alleles\n",
      "Warning! The genotype ['A*24:02:01', 'A*66:01:01', 'B*41:02:01', 'B*44:03:01', 'C*04:01:01', 'C*17:03:01'] was removed because it contains unknown alleles\n",
      "Warning! The genotype ['A*02:783', 'A*03:01:59', 'B*27:224', 'B*27:34', 'C*01:23', 'C*07:177'] was removed because it contains unknown alleles\n",
      "Warning! The genotype ['A*03:01:01', 'A*03:01:01', 'B*18:06', 'B*35:03:01', 'C*04:01:01', 'C*12:03:01'] was removed because it contains unknown alleles\n",
      "Warning! The genotype ['A*11:01:01', 'A*26:01:01', 'B*18:03:01', 'B*38:01:01', 'C*07:514:01', 'C*12:03:01'] was removed because it contains unknown alleles\n",
      "Warning! The genotype ['A*01:01:01', 'A*24:02:01', 'B*07:02:01', 'B*14:02:01', 'C*07:1024', 'C*08:02:01'] was removed because it contains unknown alleles\n",
      "Warning! The genotype ['A*03:01:01', 'A*30:01:01', 'B*35:01:01', 'B*41:02:01', 'C*04:01:01', 'C*17:03:01'] was removed because it contains unknown alleles\n",
      "Warning! The genotype ['A*26:01:01', 'A*30:02:01', 'B*18:01:01', 'B*38:01:01', 'C*05:37', 'C*12:03:01'] was removed because it contains unknown alleles\n",
      "Warning! The genotype ['A*03:01:01', 'A*25:01:01', 'B*13:02:01', 'B*44:02:01', 'C*06:02:01', 'C*16:04:01'] was removed because it contains unknown alleles\n",
      "Warning! The genotype ['A*02:01:01', 'A*03:01:01', 'B*40:219', 'B*44:212', 'C*02:02:02', 'C*05:01:01'] was removed because it contains unknown alleles\n",
      "Warning! The genotype ['A*02:01:01', 'A*03:01:01', 'B*40:02:01', 'B*44:02:01', 'C*02:163', 'C*05:01:01'] was removed because it contains unknown alleles\n",
      "Warning! The genotype ['A*01:01:01', 'A*01:01:01', 'B*14:02:01', 'B*58:01:01', 'C*07:18:01', 'C*08:02:01'] was removed because it contains unknown alleles\n",
      "Warning! The genotype ['A*03:72', 'A*24:104', 'B*08:01:01', 'B*27:05:03', 'C*02:02:02', 'C*07:02:01'] was removed because it contains unknown alleles\n",
      "Warning! The genotype ['A*24:02:01', 'A*25:01:01', 'B*07:381', 'B*18:177', 'C*07:01:01', 'C*07:02:01'] was removed because it contains unknown alleles\n",
      "Warning! The genotype ['A*02:01:01', 'A*02:01:01', 'B*13:02:01', 'B*48:01:01', 'C*08:03:01', 'C*12:02:02'] was removed because it contains unknown alleles\n",
      "Warning! The genotype ['A*02:01:01', 'A*68:24', 'B*07:02:01', 'B*13:02:01', 'C*06:02:01', 'C*07:02:01'] was removed because it contains unknown alleles\n",
      "Warning! The genotype ['A*01:01:01', 'A*24:02:01', 'B*27:05:02', 'B*58:01:01', 'C*02:151', 'C*07:18:01'] was removed because it contains unknown alleles\n",
      "Warning! The genotype ['A*01:380:01', 'A*11:326', 'B*15:01:01', 'B*52:02:02', 'C*03:04:01', 'C*12:02:02'] was removed because it contains unknown alleles\n",
      "Warning! The genotype ['A*11:01:01', 'A*11:01:01', 'B*18:03:01', 'B*40:229', 'C*02:02:02', 'C*07:236'] was removed because it contains unknown alleles\n",
      "Warning! The genotype ['A*02:01:02', 'A*03:01:01', 'B*18:01:01', 'B*27:05:02', 'C*02:163', 'C*12:03:78'] was removed because it contains unknown alleles\n",
      "Warning! The genotype ['A*02:02:01', 'A*24:02:01', 'B*07:02:52', 'B*41:01:01', 'C*07:02:01', 'C*17:38:01'] was removed because it contains unknown alleles\n",
      "Warning! The genotype ['A*02:01:01', 'A*03:26', 'B*27:02:01', 'B*44:02:01'] was removed because it contains unknown alleles\n",
      "Warning! The genotype ['A*02:01:01', 'A*02:783', 'B*35:01:01', 'B*48:01:01', 'C*04:01:01', 'C*08:101'] was removed because it contains unknown alleles\n",
      "Warning! The genotype ['A*02:01:01', 'A*24:02:06', 'B*27:07:01', 'B*40:429', 'C*03:04:01', 'C*03:04:01'] was removed because it contains unknown alleles\n",
      "Warning! The genotype ['A*02:01:01', 'A*03:01:01', 'B*35:441', 'B*44:269', 'C*04:01:01', 'C*07:04:01'] was removed because it contains unknown alleles\n",
      "Warning! The genotype ['A*03:72', 'A*24:104', 'B*07:33:01', 'B*15:01:01', 'C*03:03:01', 'C*07:02:01'] was removed because it contains unknown alleles\n",
      "Warning! The genotype ['A*01:200', 'A*32:01:01', 'B*07:02:01', 'B*18:01:01', 'C*07:02:01', 'C*12:03:01'] was removed because it contains unknown alleles\n",
      "Warning! The genotype ['A*02:950', 'A*30:01:01', 'B*13:02:01', 'B*35:02:01', 'C*04:360', 'C*18:01:01'] was removed because it contains unknown alleles\n",
      "Warning! The genotype ['A*01:01:01', 'A*26:135', 'B*48:01:01', 'B*55:01:01', 'C*03:03:01', 'C*08:03:01'] was removed because it contains unknown alleles\n",
      "Warning! The genotype ['A*02:01:01', 'A*03:01:01', 'B*53:17:02', 'B*78:02:01', 'C*04:01:01', 'C*12:02:02'] was removed because it contains unknown alleles\n",
      "Warning! The genotype ['A*25:01:01', 'A*26:01:01', 'B*18:01:01', 'B*27:14', 'C*01:02:01', 'C*12:03:01'] was removed because it contains unknown alleles\n",
      "Warning! The genotype ['A*03:01:01', 'A*32:01:01', 'B*07:02:01', 'B*40:01:02', 'C*03:344:01', 'C*07:578'] was removed because it contains unknown alleles\n",
      "Warning! The genotype ['A*03:12', 'A*26:20:02', 'B*35:01:01', 'B*38:01:01', 'C*04:01:01', 'C*12:03:01'] was removed because it contains unknown alleles\n",
      "Warning! The genotype ['A*01:01:01', 'A*26:01:01', 'B*08:01:01', 'B*44:02:01', 'C*03:39', 'C*07:96:01'] was removed because it contains unknown alleles\n",
      "Warning! The genotype ['A*11:88', 'A*24:50', 'B*07:02:01', 'B*13:02:01', 'C*06:02:01', 'C*07:02:01'] was removed because it contains unknown alleles\n",
      "Warning! The genotype ['A*01:01:01', 'A*24:02:01', 'B*15:17:01', 'B*48:01:01', 'C*07:01:02', 'C*08:03:01'] was removed because it contains unknown alleles\n",
      "Warning! The genotype ['A*03:72', 'A*24:104', 'B*40:01:01', 'B*40:02:01', 'C*03:04:01', 'C*15:02:01'] was removed because it contains unknown alleles\n",
      "Warning! The genotype ['A*02:01:01', 'A*11:01:01', 'B*15:01:01', 'B*35:197', 'C*03:04:01', 'C*04:01:01'] was removed because it contains unknown alleles\n",
      "Warning! The genotype ['A*02:01:01', 'A*32:01:01', 'B*27:07:01', 'B*40:429', 'C*02:02:02', 'C*02:02:02'] was removed because it contains unknown alleles\n",
      "Warning! The genotype ['A*11:01:01', 'A*23:01:01', 'B*49:09', 'B*52:11:01', 'C*07:1000', 'C*12:02:02'] was removed because it contains unknown alleles\n",
      "Warning! The genotype ['A*02:01:01', 'A*32:01:01', 'B*39:01:01', 'B*51:01:01', 'C*12:03:01', 'C*15:04:01'] was removed because it contains unknown alleles\n",
      "Warning! The genotype ['A*03:63', 'A*11:12:01', 'B*07:02:01', 'B*35:03:01', 'C*04:01:01', 'C*07:02:01'] was removed because it contains unknown alleles\n",
      "Warning! The genotype ['A*29:01:01', 'A*30:01:01', 'B*07:05:01', 'B*13:02:01', 'C*06:04:01', 'C*15:214'] was removed because it contains unknown alleles\n",
      "Warning! The genotype ['A*01:143', 'A*31:01:02', 'B*39:01:01', 'B*44:02:01', 'C*05:01:01', 'C*12:03:01'] was removed because it contains unknown alleles\n",
      "Warning! The genotype ['A*24:490', 'A*30:04:01', 'B*13:02:01', 'B*49:01:01', 'C*06:02:01', 'C*07:514:01'] was removed because it contains unknown alleles\n",
      "Warning! The genotype ['A*24:290', 'A*68:01:02', 'B*35:01:01', 'B*35:03:01', 'C*03:116:01', 'C*12:03:01'] was removed because it contains unknown alleles\n",
      "Warning! The genotype ['A*01:01:01', 'A*02:01:01', 'B*18:26', 'B*40:80', 'C*03:04:01', 'C*07:01:01'] was removed because it contains unknown alleles\n",
      "Warning! The genotype ['A*24:02:01', 'A*31:01:02', 'B*08:01:01', 'B*15:01:01', 'C*03:251', 'C*05:01:01'] was removed because it contains unknown alleles\n",
      "Warning! The genotype ['A*02:01:01', 'A*11:01:01', 'B*07:02:01', 'B*08:132', 'C*07:01:01', 'C*07:02:01'] was removed because it contains unknown alleles\n",
      "Warning! The genotype ['A*29:01:01', 'A*31:01:02', 'B*07:02:01', 'B*07:05:01', 'C*07:02:01', 'C*15:05:02'] was removed because it contains unknown alleles\n",
      "Warning! The genotype ['A*11:01:01', 'A*24:02:01', 'B*27:02:01', 'B*51:07:01', 'C*05:01:01', 'C*14:02:01'] was removed because it contains unknown alleles\n",
      "Warning! The genotype ['A*01:383', 'A*02:884:01', 'B*15:01:01', 'B*41:01:01', 'C*03:03:01', 'C*17:01:01'] was removed because it contains unknown alleles\n",
      "Warning! The genotype ['A*11:440', 'A*33:51', 'B*52:01:01', 'B*58:01:01', 'C*03:02:02', 'C*12:02:02'] was removed because it contains unknown alleles\n",
      "Warning! The genotype ['A*02:01:01', 'A*24:02:01', 'B*48:01:01', 'B*57:01:01', 'C*06:02:01', 'C*08:03:01'] was removed because it contains unknown alleles\n",
      "Warning! The genotype ['A*02:01:01', 'A*68:01:02', 'B*40:47', 'B*44:09', 'C*03:04:01', 'C*05:01:01'] was removed because it contains unknown alleles\n",
      "Warning! The genotype ['A*02:19', 'A*24:515', 'B*07:271', 'B*13:02:01', 'C*06:30', 'C*07:736:01'] was removed because it contains unknown alleles\n",
      "Warning! The genotype ['A*03:01:01', 'A*32:01:01', 'B*35:138', 'B*35:156', 'C*04:01:01', 'C*04:01:16'] was removed because it contains unknown alleles\n",
      "Warning! The genotype ['A*02:152', 'A*33:01:09', 'B*14:02:01', 'B*46:01:01', 'C*01:02:01', 'C*08:02:01'] was removed because it contains unknown alleles\n",
      "Warning! The genotype ['A*03:01:71', 'A*23:64', 'B*35:03:01', 'B*44:03:01', 'C*04:01:01', 'C*04:01:01'] was removed because it contains unknown alleles\n",
      "Warning! The genotype ['A*02:01:01', 'A*68:02:01', 'B*14:02:01', 'B*51:01:01', 'C*08:02:01', 'C*15:13:01'] was removed because it contains unknown alleles\n",
      "Warning! The genotype ['A*01:02:01', 'A*03:01:01', 'B*15:16:01', 'B*35:03:01', 'C*04:01:01', 'C*14:02:01'] was removed because it contains unknown alleles\n",
      "Warning! The genotype ['A*03:12', 'A*26:20:02', 'B*07:02:01', 'B*44:05:01', 'C*02:02:02', 'C*07:02:01'] was removed because it contains unknown alleles\n",
      "Warning! The genotype ['A*29:01:01', 'A*29:02:01', 'B*56:01:01', 'B*58:01:01', 'C*01:02:01', 'C*07:18:01'] was removed because it contains unknown alleles\n",
      "Warning! The genotype ['A*02:01:01', 'A*23:01:01', 'B*41:02:01', 'B*49:01:01', 'C*07:01:01', 'C*17:03:01'] was removed because it contains unknown alleles\n",
      "Warning! The genotype ['A*01:322', 'A*23:01:01', 'B*44:03:01', 'B*52:01:01', 'C*04:01:01', 'C*12:02:02'] was removed because it contains unknown alleles\n",
      "Warning! The genotype ['A*01:383', 'A*02:884:01', 'B*08:01:01', 'B*18:01:01', 'C*07:01:01', 'C*07:01:01'] was removed because it contains unknown alleles\n",
      "Warning! The genotype ['A*01:380:01', 'A*11:326', 'B*08:01:01', 'B*35:01:01', 'C*04:01:01', 'C*07:09'] was removed because it contains unknown alleles\n",
      "Warning! The genotype ['A*02:01:01', 'A*02:01:01', 'B*41:02:01', 'B*51:01:01', 'C*07:01:01', 'C*17:03:01'] was removed because it contains unknown alleles\n",
      "Warning! The genotype ['A*02:01:01', 'A*02:01:01', 'B*07:05:01', 'B*49:01:01', 'C*07:01:01', 'C*15:05:02'] was removed because it contains unknown alleles\n",
      "Warning! The genotype ['A*02:01:01', 'A*25:01:01', 'B*07:381', 'B*18:177', 'C*07:31:01', 'C*12:118'] was removed because it contains unknown alleles\n",
      "Warning! The genotype ['A*01:01:01', 'A*03:01:01', 'B*07:02:01', 'B*08:01:01', 'C*07:27:01', 'C*07:639'] was removed because it contains unknown alleles\n",
      "Warning! The genotype ['A*02:01:01', 'A*03:09', 'B*15:01:01', 'B*35:03:01', 'C*03:04:01', 'C*04:01:01'] was removed because it contains unknown alleles\n",
      "Warning! The genotype ['A*02:01:01', 'A*02:05:01', 'B*18:01:01', 'B*51:01:01', 'C*12:140:02', 'C*15:10:01'] was removed because it contains unknown alleles\n",
      "Warning! The genotype ['A*03:12', 'A*31:01:02', 'B*07:02:01', 'B*07:02:01', 'C*07:02:01', 'C*07:02:01'] was removed because it contains unknown alleles\n",
      "Warning! The genotype ['A*02:01:01', 'A*02:01:01', 'B*15:01:01', 'B*40:01:02', 'C*01:131', 'C*03:86'] was removed because it contains unknown alleles\n",
      "Warning! The genotype ['A*02:884:01', 'A*11:12:01', 'B*35:350', 'B*73:01:01', 'C*12:140:02', 'C*15:208'] was removed because it contains unknown alleles\n",
      "Warning! The genotype ['A*02:01:01', 'A*68:01:02', 'B*15:05:01', 'B*57:161', 'C*03:04:01', 'C*06:02:01'] was removed because it contains unknown alleles\n",
      "Warning! The genotype ['A*02:01:01', 'A*32:01:01', 'B*14:01:01', 'B*38:01:01', 'C*08:02:01', 'C*12:03:01'] was removed because it contains unknown alleles\n",
      "Warning! The genotype ['A*24:02:40', 'A*33:01:01', 'B*13:02:01', 'B*14:118', 'C*06:02:01', 'C*08:02:01'] was removed because it contains unknown alleles\n",
      "Warning! The genotype ['A*02:884:01', 'A*03:02:01', 'B*18:01:01', 'B*27:05:02', 'C*02:02:02', 'C*07:01:01'] was removed because it contains unknown alleles\n",
      "Warning! The genotype ['A*33:01:01', 'A*33:13', 'B*08:01:01', 'B*14:02:01', 'C*07:884', 'C*08:02:01'] was removed because it contains unknown alleles\n",
      "Warning! The genotype ['A*11:01:01', 'A*26:01:01', 'B*35:228', 'B*55:01:01', 'C*03:03:01', 'C*04:01:01'] was removed because it contains unknown alleles\n",
      "Warning! The genotype ['A*03:01:01', 'A*66:01:01', 'B*41:02:01', 'B*50:01:01', 'C*06:02:01', 'C*17:03:01'] was removed because it contains unknown alleles\n",
      "Warning! The genotype ['A*01:01:01', 'A*32:01:01', 'B*44:02:01', 'B*73:01:01', 'C*05:01:15', 'C*15:05:16'] was removed because it contains unknown alleles\n",
      "Warning! The genotype ['A*01:383', 'A*02:884:01', 'B*08:01:01', 'B*51:01:01', 'C*01:02:01', 'C*07:01:01'] was removed because it contains unknown alleles\n",
      "Warning! The genotype ['A*24:218', 'A*26:01:01', 'B*40:02:01', 'B*40:214', 'C*03:04:01', 'C*03:04:01'] was removed because it contains unknown alleles\n",
      "Warning! The genotype ['A*02:968', 'A*26:01:01', 'B*49:09', 'B*51:02:01', 'C*02:02:02', 'C*07:01:01'] was removed because it contains unknown alleles\n",
      "Warning! The genotype ['A*02:01:01', 'A*11:01:01', 'B*51:01:01', 'B*58:01:01', 'C*07:18:01', 'C*15:02:01'] was removed because it contains unknown alleles\n",
      "Warning! The genotype ['A*02:01:01', 'A*33:03:01', 'B*07:02:01', 'B*58:01:01', 'C*03:02:02', 'C*07:578'] was removed because it contains unknown alleles\n",
      "Warning! The genotype ['A*02:01:01', 'A*02:783', 'B*18:01:01', 'B*44:27:01', 'C*07:01:01', 'C*07:04:01'] was removed because it contains unknown alleles\n",
      "Warning! The genotype ['A*11:88', 'A*24:50', 'B*07:02:01', 'B*35:01:01', 'C*04:01:01', 'C*07:02:01'] was removed because it contains unknown alleles\n",
      "Warning! The genotype ['A*02:01:01', 'A*26:01:01', 'B*38:01:01', 'B*40:02:01', 'C*02:02:02', 'C*12:331'] was removed because it contains unknown alleles\n",
      "Warning! The genotype ['A*02:01:01', 'A*31:01:02', 'B*15:535', 'B*44:464:01', 'C*03:03:01', 'C*05:01:01'] was removed because it contains unknown alleles\n",
      "Warning! The genotype ['A*02:01:01', 'A*24:02:01', 'B*07:02:01', 'B*15:572', 'C*04:01:01', 'C*07:02:01'] was removed because it contains unknown alleles\n",
      "Warning! The genotype ['A*02:01:01', 'A*11:01:01', 'B*18:01:01', 'B*44:02:01', 'C*05:01:01', 'C*07:118'] was removed because it contains unknown alleles\n",
      "Warning! The genotype ['A*02:01:01', 'A*23:01:01', 'B*07:02:01', 'B*41:02:01', 'C*07:02:01', 'C*17:03:01'] was removed because it contains unknown alleles\n",
      "Warning! The genotype ['A*23:01:01', 'A*25:01:01', 'B*18:01:01', 'B*41:02:01', 'C*12:03:01', 'C*17:03:01'] was removed because it contains unknown alleles\n",
      "Warning! The genotype ['A*26:01:01', 'A*68:01:02', 'B*51:300', 'B*56:94', 'C*03:03:01', 'C*15:02:01'] was removed because it contains unknown alleles\n",
      "Warning! The genotype ['A*11:01:01', 'A*26:154', 'B*49:01:01', 'B*51:01:01', 'C*02:02:02', 'C*07:01:01'] was removed because it contains unknown alleles\n",
      "Warning! The genotype ['A*03:01:01', 'A*24:02:01', 'B*18:01:01', 'B*48:01:01', 'C*07:01:01', 'C*08:03:01'] was removed because it contains unknown alleles\n",
      "Warning! The genotype ['A*02:864:01', 'A*25:68', 'B*27:05:02', 'B*41:02:01', 'C*01:02:01', 'C*17:03:01'] was removed because it contains unknown alleles\n",
      "Warning! The genotype ['A*01:01:01', 'A*02:01:01', 'B*07:02:01', 'B*39:01:01', 'C*07:51', 'C*12:28'] was removed because it contains unknown alleles\n",
      "Warning! The genotype ['A*02:01:01', 'A*24:02:01', 'B*41:02:01', 'B*51:01:01', 'C*15:02:01', 'C*17:03:01'] was removed because it contains unknown alleles\n",
      "Warning! The genotype ['A*03:01:01', 'A*24:02:01', 'B*13:02:01', 'B*51:01:01', 'C*06:02:01', 'C*16:02:01'] was removed because it contains unknown alleles\n",
      "Warning! The genotype ['A*02:01:01', 'A*11:01:01', 'B*07:381', 'B*35:380:01', 'C*04:01:01', 'C*07:02:01'] was removed because it contains unknown alleles\n",
      "Warning! The genotype ['A*02:01:01', 'A*03:01:01', 'B*15:01:01', 'B*41:02:01', 'C*03:03:01', 'C*17:03:01'] was removed because it contains unknown alleles\n",
      "Warning! The genotype ['A*01:383', 'A*02:884:01', 'B*08:01:01', 'B*40:01:02', 'C*03:04:01', 'C*07:01:01'] was removed because it contains unknown alleles\n",
      "Warning! The genotype ['A*24:50', 'A*26:16', 'B*35:01:01', 'B*35:01:01', 'C*03:03:01', 'C*04:01:01'] was removed because it contains unknown alleles\n",
      "Warning! The genotype ['A*01:383', 'A*02:884:01', 'B*35:01:01', 'B*40:01:02', 'C*03:04:01', 'C*04:01:01'] was removed because it contains unknown alleles\n",
      "Warning! The genotype ['A*23:01:01', 'A*24:463', 'B*44:03:01', 'B*44:05:01', 'C*02:02:02', 'C*04:01:01'] was removed because it contains unknown alleles\n",
      "Warning! The genotype ['A*01:01:01', 'A*01:01:01', 'B*08:01:01', 'B*51:01:01', 'C*03:02:02', 'C*07:975'] was removed because it contains unknown alleles\n",
      "Warning! The genotype ['A*26:01:01', 'A*34:02:01', 'B*07:02:01', 'B*14:01:01', 'C*07:02:01', 'C*08:02:01'] was removed because it contains unknown alleles\n",
      "Warning! The genotype ['A*02:01:01', 'A*11:01:01', 'B*44:02:01', 'B*55:01:01', 'C*03:267', 'C*05:01:01'] was removed because it contains unknown alleles\n",
      "Warning! The genotype ['A*01:01:13', 'A*02:884:01', 'B*13:02:01', 'B*27:02:01', 'C*02:02:02', 'C*06:02:01'] was removed because it contains unknown alleles\n",
      "Warning! The genotype ['A*24:02:01', 'A*31:01:02', 'B*07:02:01', 'B*15:17:01', 'C*07:479', 'C*12:03:01'] was removed because it contains unknown alleles\n",
      "Warning! The genotype ['A*02:01:01', 'A*31:01:02', 'B*27:05:02', 'B*39:01:01', 'C*02:02:02', 'C*12:119'] was removed because it contains unknown alleles\n",
      "Warning! The genotype ['A*01:01:01', 'A*02:01:01', 'B*13:176', 'B*35:386', 'C*04:01:01', 'C*06:228'] was removed because it contains unknown alleles\n",
      "Warning! The genotype ['A*02:01:01', 'A*30:187', 'B*13:02:01', 'B*35:01:01', 'C*04:01:01', 'C*06:02:01'] was removed because it contains unknown alleles\n",
      "Warning! The genotype ['A*02:01:01', 'A*02:01:01', 'B*27:05:02', 'B*51:01:01', 'C*02:02:02', 'C*16:02:01'] was removed because it contains unknown alleles\n",
      "Warning! The genotype ['A*11:01:01', 'A*24:02:01', 'B*35:380:01', 'B*40:379:01', 'C*03:04:01', 'C*04:01:01'] was removed because it contains unknown alleles\n",
      "Warning! The genotype ['A*02:01:01', 'A*02:01:01', 'B*18:01:01', 'B*41:02:01', 'C*07:01:01', 'C*17:03:01'] was removed because it contains unknown alleles\n",
      "Warning! The genotype ['A*02:01:01', 'A*24:02:01', 'B*07:02:01', 'B*41:01:01', 'C*07:891', 'C*17:01:01'] was removed because it contains unknown alleles\n",
      "Warning! The genotype ['A*01:01:01', 'A*02:05:01', 'B*08:01:01', 'B*58:01:01', 'C*07:01:01', 'C*07:18:01'] was removed because it contains unknown alleles\n",
      "Warning! The genotype ['A*02:01:01', 'A*11:01:01', 'B*07:02:01', 'B*18:01:01', 'C*07:27:01', 'C*07:639'] was removed because it contains unknown alleles\n",
      "Warning! The genotype ['A*01:383', 'A*02:884:01', 'B*27:05:02', 'B*57:01:01', 'C*01:02:01', 'C*06:02:01'] was removed because it contains unknown alleles\n",
      "Warning! The genotype ['A*24:02:57', 'A*68:01:02', 'B*07:02:01', 'B*18:01:01', 'C*07:27:01', 'C*07:334'] was removed because it contains unknown alleles\n",
      "Warning! The genotype ['A*03:01:01', 'A*03:01:46', 'B*35:01:01', 'B*38:33', 'C*04:01:01', 'C*12:03:01'] was removed because it contains unknown alleles\n",
      "Warning! The genotype ['A*01:383', 'A*02:01:01', 'B*44:02:01', 'B*57:01:01', 'C*05:01:01', 'C*06:02:01'] was removed because it contains unknown alleles\n",
      "Warning! The genotype ['A*02:01:01', 'A*03:22:01', 'B*51:237:01', 'B*56:01:01', 'C*01:02:01', 'C*15:13:01'] was removed because it contains unknown alleles\n",
      "Warning! The genotype ['A*11:01:01', 'A*68:01:02', 'B*18:177', 'B*44:302:01', 'C*04:01:01', 'C*07:01:01'] was removed because it contains unknown alleles\n",
      "Warning! The genotype ['A*02:01:01', 'A*03:01:01', 'B*18:11', 'B*35:03:01', 'C*02:02:02', 'C*04:01:01'] was removed because it contains unknown alleles\n",
      "Warning! The genotype ['A*24:02:01', 'A*30:01:01', 'B*13:02:01', 'B*41:01:01', 'C*06:02:01', 'C*16:04:01'] was removed because it contains unknown alleles\n",
      "Warning! The genotype ['A*25:01:01', 'A*26:08:01', 'B*18:01:01', 'B*55:01:01', 'C*03:03:01', 'C*12:03:01'] was removed because it contains unknown alleles\n",
      "Warning! The genotype ['A*02:01:01', 'A*02:01:01', 'B*07:02:01', 'B*41:02:01', 'C*07:02:01', 'C*17:03:01'] was removed because it contains unknown alleles\n",
      "Warning! The genotype ['A*02:110', 'A*24:14:01', 'B*15:01:01', 'B*44:09', 'C*03:13:01', 'C*05:148'] was removed because it contains unknown alleles\n",
      "Warning! The genotype ['A*01:01:01', 'A*26:01:01', 'B*44:50:01', 'B*49:02', 'C*04:01:01', 'C*07:01:01'] was removed because it contains unknown alleles\n",
      "Warning! The genotype ['A*02:01:01', 'A*02:12', 'B*07:02:01', 'B*52:01:01', 'C*07:02:01', 'C*12:02:02'] was removed because it contains unknown alleles\n",
      "Warning! The genotype ['A*02:01:01', 'A*31:01:02', 'B*40:298:01', 'B*51:375', 'C*01:02:01', 'C*03:04:01'] was removed because it contains unknown alleles\n",
      "Warning! The genotype ['A*02:658', 'A*11:01:01', 'B*07:02:01', 'B*07:02:01', 'C*07:02:01', 'C*07:02:16'] was removed because it contains unknown alleles\n",
      "Warning! The genotype ['A*02:01:01', 'A*03:01:01', 'B*35:01:01', 'B*40:01:02', 'C*03:04:01', 'C*04:201:02'] was removed because it contains unknown alleles\n",
      "Warning! The genotype ['A*01:01:01', 'A*03:207', 'B*07:02:01', 'B*57:01:01', 'C*06:02:01', 'C*07:31:01'] was removed because it contains unknown alleles\n",
      "Warning! The genotype ['A*02:01:02', 'A*03:01:01', 'B*35:01:08', 'B*40:379:01', 'C*03:04:01', 'C*04:64:02'] was removed because it contains unknown alleles\n",
      "Warning! The genotype ['A*02:802', 'A*03:01:04', 'B*07:02:01', 'B*44:27:01', 'C*07:04:01', 'C*07:929'] was removed because it contains unknown alleles\n",
      "Warning! The genotype ['A*11:01:01', 'A*11:01:01', 'B*35:11:01', 'B*49:01:01', 'C*04:01:01', 'C*07:196'] was removed because it contains unknown alleles\n",
      "Warning! The genotype ['A*03:01:01', 'A*24:239', 'B*07:02:01', 'B*39:01:01', 'C*07:02:01', 'C*07:400'] was removed because it contains unknown alleles\n",
      "Warning! The genotype ['A*02:06:01', 'A*29:01:01', 'B*07:05:01', 'B*35:380:01', 'C*04:01:01', 'C*15:05:09'] was removed because it contains unknown alleles\n",
      "Warning! The genotype ['A*25:01:01', 'A*30:02:01', 'B*08:01:01', 'B*18:05:01', 'C*05:01:01', 'C*07:01:01'] was removed because it contains unknown alleles\n",
      "Warning! The genotype ['A*01:383', 'A*02:01:01', 'B*37:01:01', 'B*40:01:02', 'C*03:04:01', 'C*06:02:01'] was removed because it contains unknown alleles\n",
      "Warning! The genotype ['A*03:01:01', 'A*32:01:01', 'B*15:228', 'B*52:07:02', 'C*07:02:01', 'C*12:02:01'] was removed because it contains unknown alleles\n",
      "Warning! The genotype ['A*02:01:01', 'A*03:01:01', 'B*15:01:01', 'B*35:01:01', 'C*03:04:01', 'C*04:339:01'] was removed because it contains unknown alleles\n",
      "Warning! The genotype ['A*01:01:01', 'A*02:01:01', 'B*41:02:01', 'B*44:03:01', 'C*04:01:01', 'C*17:03:01'] was removed because it contains unknown alleles\n",
      "Warning! The genotype ['A*01:383', 'A*02:01:01', 'B*08:01:01', 'B*38:01:01', 'C*07:01:01', 'C*12:03:01'] was removed because it contains unknown alleles\n",
      "Warning! The genotype ['A*03:01:01', 'A*30:177', 'B*35:01:01', 'B*35:01:01', 'C*04:01:01', 'C*04:01:01'] was removed because it contains unknown alleles\n",
      "Warning! The genotype ['A*02:01:01', 'A*03:01:01', 'B*13:176', 'B*35:42:03', 'C*04:477', 'C*18:01:01'] was removed because it contains unknown alleles\n",
      "Warning! The genotype ['A*01:01:01', 'A*02:01:01', 'B*18:01:01', 'B*57:01:01', 'C*05:16', 'C*06:127:01'] was removed because it contains unknown alleles\n",
      "Warning! The genotype ['A*02:01:01', 'A*02:01:01', 'B*15:05:01', 'B*57:161', 'C*03:04:01', 'C*06:02:01'] was removed because it contains unknown alleles\n",
      "Warning! The genotype ['A*02:01:01', 'A*02:01:01', 'B*07:02:01', 'B*18:103', 'C*07:01:01', 'C*07:02:01'] was removed because it contains unknown alleles\n",
      "Warning! The genotype ['A*03:63', 'A*11:12:01', 'B*07:02:01', 'B*35:01:01', 'C*04:01:01', 'C*07:02:01'] was removed because it contains unknown alleles\n",
      "Warning! The genotype ['A*03:312', 'A*26:01:01', 'B*18:01:01', 'B*27:05:02', 'C*01:02:01', 'C*07:01:01'] was removed because it contains unknown alleles\n",
      "Warning! The genotype ['A*01:01:01', 'A*02:01:01', 'B*35:02:01', 'B*44:02:01', 'C*04:120', 'C*05:09:01'] was removed because it contains unknown alleles\n",
      "Warning! The genotype ['A*11:88', 'A*24:50', 'B*13:02:01', 'B*18:03:01', 'C*06:02:01', 'C*07:01:01'] was removed because it contains unknown alleles\n",
      "Warning! The genotype ['A*03:205', 'A*31:21', 'B*07:02:01', 'B*44:02:01', 'C*05:01:01', 'C*07:02:01'] was removed because it contains unknown alleles\n",
      "Warning! The genotype ['A*02:01:01', 'A*03:01:01', 'B*39:01:01', 'B*57:01:01', 'C*06:02:01', 'C*07:741'] was removed because it contains unknown alleles\n",
      "Warning! The genotype ['A*33:131', 'A*68:04:02', 'B*18:03:01', 'B*58:01:01', 'C*03:02:02', 'C*07:01:01'] was removed because it contains unknown alleles\n",
      "Warning! The genotype ['A*24:02:01', 'A*25:01:01', 'B*18:01:01', 'B*41:02:01', 'C*12:03:01', 'C*17:03:01'] was removed because it contains unknown alleles\n",
      "Warning! The genotype ['A*24:50', 'A*32:01:01', 'B*07:33:01', 'B*44:150', 'C*05:01:01', 'C*07:583'] was removed because it contains unknown alleles\n",
      "Warning! The genotype ['A*02:665', 'A*26:01:01', 'B*27:05:02', 'B*56:01:01', 'C*01:02:01', 'C*02:02:02'] was removed because it contains unknown alleles\n",
      "Warning! The genotype ['A*02:217:02', 'A*02:729', 'B*44:02:01', 'B*44:41:01', 'C*05:01:01', 'C*12:04:02'] was removed because it contains unknown alleles\n",
      "Warning! The genotype ['A*24:02:01', 'A*32:01:01', 'B*38:01:01', 'B*39:01:01', 'C*12:03:01', 'C*12:171'] was removed because it contains unknown alleles\n",
      "Warning! The genotype ['A*25:01:01', 'A*69:01:01', 'B*18:01:01', 'B*35:08:01', 'C*12:03:01', 'C*12:93'] was removed because it contains unknown alleles\n",
      "Warning! The genotype ['A*01:01:01', 'A*68:01:02', 'B*08:271', 'B*44:02:01', 'C*07:27:01', 'C*07:589'] was removed because it contains unknown alleles\n",
      "Warning! The genotype ['A*02:1038', 'A*02:38', 'B*15:535', 'B*40:147', 'C*03:03:01', 'C*03:04:01'] was removed because it contains unknown alleles\n",
      "Warning! The genotype ['A*25:01:01', 'A*25:09', 'B*18:01:01', 'B*35:03:01', 'C*12:03:01', 'C*12:03:01'] was removed because it contains unknown alleles\n",
      "Warning! The genotype ['A*03:05:01', 'A*30:26', 'B*13:108', 'B*13:108', 'C*06:02:23', 'C*07:1026'] was removed because it contains unknown alleles\n",
      "Warning! The genotype ['A*02:1081', 'A*02:252', 'B*13:02:01', 'B*27:05:02', 'C*06:08', 'C*06:127:02'] was removed because it contains unknown alleles\n",
      "Warning! The genotype ['A*03:152', 'A*24:194', 'B*15:01:01', 'B*35:01:01', 'C*03:03:01', 'C*04:316'] was removed because it contains unknown alleles\n",
      "Warning! The genotype ['A*02:159', 'A*02:488', 'B*35:03:01', 'B*51:137', 'C*04:11', 'C*14:49'] was removed because it contains unknown alleles\n",
      "Warning! The genotype ['A*26:20:02', 'A*66:12', 'B*13:02:01', 'B*18:11', 'C*06:02:01', 'C*06:278'] was removed because it contains unknown alleles\n",
      "Warning! The genotype ['A*11:328', 'A*31:135', 'B*35:350', 'B*40:01:02', 'C*03:04:01', 'C*04:01:01'] was removed because it contains unknown alleles\n",
      "Warning! The genotype ['A*02:864:01', 'A*25:01:01', 'B*18:01:01', 'B*44:27:01', 'C*07:04:01', 'C*12:03:01'] was removed because it contains unknown alleles\n",
      "Warning! The genotype ['A*01:01:01', 'A*26:01:01', 'B*38:99', 'B*57:01:01', 'C*06:02:01', 'C*12:03:01'] was removed because it contains unknown alleles\n",
      "Warning! The genotype ['A*02:01:01', 'A*32:01:01', 'B*07:02:01', 'B*51:01:01', 'C*01:02:01', 'C*07:348'] was removed because it contains unknown alleles\n",
      "Warning! The genotype ['A*02:283', 'A*25:01:01', 'B*15:01:01', 'B*18:01:01', 'C*02:02:02', 'C*12:03:01'] was removed because it contains unknown alleles\n",
      "Warning! The genotype ['A*01:01:01', 'A*02:01:01', 'B*35:208:02', 'B*58:36', 'C*04:01:01', 'C*06:02:01'] was removed because it contains unknown alleles\n",
      "Warning! The genotype ['A*01:01:01', 'A*24:02:01', 'B*13:02:01', 'B*51:01:01', 'C*06:02:01', 'C*14:152'] was removed because it contains unknown alleles\n",
      "Warning! The genotype ['A*02:01:01', 'A*24:02:01', 'B*44:02:01', 'B*51:01:01', 'C*14:84', 'C*16:04:01'] was removed because it contains unknown alleles\n",
      "Warning! The genotype ['A*01:01:01', 'A*02:01:01', 'B*39:06:02', 'B*51:01:01', 'C*01:02:01', 'C*07:518'] was removed because it contains unknown alleles\n",
      "Warning! The genotype ['A*29:01:01', 'A*31:135', 'B*38:01:01', 'B*44:03:01', 'C*04:01:01', 'C*12:03:01'] was removed because it contains unknown alleles\n",
      "Warning! The genotype ['A*03:22:01', 'A*24:104', 'B*13:02:01', 'B*56:01:01', 'C*01:02:01', 'C*06:02:01'] was removed because it contains unknown alleles\n",
      "Warning! The genotype ['A*02:01:01', 'A*29:02:01', 'B*44:459', 'B*51:42', 'C*15:205', 'C*16:01:01'] was removed because it contains unknown alleles\n",
      "Warning! The genotype ['A*02:01:01', 'A*68:24', 'B*13:02:01', 'B*57:01:01', 'C*06:02:01', 'C*06:02:01'] was removed because it contains unknown alleles\n",
      "Warning! The genotype ['A*24:02:01', 'A*29:01:01', 'B*39:01:01', 'B*57:01:01', 'C*07:02:01', 'C*07:115'] was removed because it contains unknown alleles\n",
      "Warning! The genotype ['A*02:14', 'A*02:22:01', 'B*13:02:01', 'B*50:01:01', 'C*06:02:01', 'C*06:02:01'] was removed because it contains unknown alleles\n",
      "Warning! The genotype ['A*02:01:01', 'A*23:01:01', 'B*07:381', 'B*49:01:01', 'C*07:01:01', 'C*07:02:01'] was removed because it contains unknown alleles\n",
      "Warning! The genotype ['A*03:01:01', 'A*31:01:02', 'B*47:01:01', 'B*51:143', 'C*06:02:01', 'C*15:205'] was removed because it contains unknown alleles\n",
      "Warning! The genotype ['A*02:01:01', 'A*11:123', 'B*08:01:01', 'B*27:05:02', 'C*02:02:02', 'C*07:01:01'] was removed because it contains unknown alleles\n",
      "Warning! The genotype ['A*11:88', 'A*24:50', 'B*07:02:01', 'B*40:02:01', 'C*03:344:01', 'C*07:578'] was removed because it contains unknown alleles\n",
      "Warning! The genotype ['A*02:01:01', 'A*33:51', 'B*07:02:01', 'B*13:02:01', 'C*06:02:01', 'C*07:02:01'] was removed because it contains unknown alleles\n",
      "Warning! The genotype ['A*01:380:01', 'A*11:326', 'B*08:01:01', 'B*52:01:01', 'C*07:01:01', 'C*12:02:02'] was removed because it contains unknown alleles\n",
      "Warning! The genotype ['A*01:01:01', 'A*29:02:01', 'B*44:459', 'B*51:42', 'C*12:98', 'C*16:201'] was removed because it contains unknown alleles\n",
      "Warning! The genotype ['A*02:01:01', 'A*02:01:01', 'B*14:01:01', 'B*15:01:01', 'C*03:04:01', 'C*08:02:01'] was removed because it contains unknown alleles\n",
      "Warning! The genotype ['A*02:01:01', 'A*03:218', 'B*07:02:01', 'B*27:02:01', 'C*03:04:01', 'C*07:02:01'] was removed because it contains unknown alleles\n",
      "Warning! The genotype ['A*02:01:01', 'A*02:06:01', 'B*44:02:01', 'B*48:01:01', 'C*05:01:01', 'C*08:03:01'] was removed because it contains unknown alleles\n",
      "Warning! The genotype ['A*02:01:01', 'A*03:01:01', 'B*07:06:01', 'B*27:05:02', 'C*02:02:02', 'C*15:05:02'] was removed because it contains unknown alleles\n",
      "Warning! The genotype ['A*02:01:170', 'A*26:01:43', 'B*44:02:01', 'B*44:27:01', 'C*07:04:01', 'C*16:04:01'] was removed because it contains unknown alleles\n",
      "Warning! The genotype ['A*02:01:01', 'A*02:01:01', 'B*41:02:01', 'B*44:27:01', 'C*07:04:01', 'C*17:03:01'] was removed because it contains unknown alleles\n",
      "Warning! The genotype ['A*01:01:01', 'A*02:01:01', 'B*07:381', 'B*37:108', 'C*06:02:01', 'C*07:02:01'] was removed because it contains unknown alleles\n",
      "Warning! The genotype ['A*02:01:01', 'A*24:02:01', 'B*15:29:01', 'B*18:01:01', 'C*07:01:01', 'C*07:04:01'] was removed because it contains unknown alleles\n",
      "Warning! The genotype ['A*03:01:01', 'A*03:01:01', 'B*15:01:01', 'B*41:02:01', 'C*03:04:01', 'C*17:03:01'] was removed because it contains unknown alleles\n",
      "Warning! The genotype ['A*01:322', 'A*02:01:01', 'B*44:06', 'B*44:459', 'C*02:02:02', 'C*05:01:01'] was removed because it contains unknown alleles\n",
      "Warning! The genotype ['A*11:328', 'A*25:68', 'B*18:01:01', 'B*55:01:01', 'C*03:03:01', 'C*12:03:01'] was removed because it contains unknown alleles\n",
      "Warning! The genotype ['A*24:50', 'A*26:16', 'B*35:01:01', 'B*38:01:01', 'C*04:35:01', 'C*12:03:01'] was removed because it contains unknown alleles\n",
      "Warning! The genotype ['A*02:346', 'A*26:30', 'B*18:01:01', 'B*41:02:01', 'C*02:02:02', 'C*17:03:01'] was removed because it contains unknown alleles\n",
      "Warning! The genotype ['A*01:01:01', 'A*01:01:103', 'B*35:02:01', 'B*37:01:01', 'C*04:360', 'C*18:01:01'] was removed because it contains unknown alleles\n",
      "Warning! The genotype ['A*01:01:01', 'A*25:01:01', 'B*18:01:01', 'B*57:01:01', 'C*06:02:01', 'C*06:160'] was removed because it contains unknown alleles\n",
      "Warning! The genotype ['A*02:864:01', 'A*31:01:02', 'B*18:01:01', 'B*35:03:01', 'C*04:01:01', 'C*07:01:41'] was removed because it contains unknown alleles\n",
      "Warning! The genotype ['A*02:01:01', 'A*68:01:01', 'B*08:01:01', 'B*15:17:01', 'C*07:01:01', 'C*07:506:01'] was removed because it contains unknown alleles\n",
      "Warning! The genotype ['A*25:01:01', 'A*31:01:02', 'B*40:259', 'B*44:02:01', 'C*03:04:01', 'C*05:01:01'] was removed because it contains unknown alleles\n",
      "Warning! The genotype ['A*02:01:01', 'A*11:01:01', 'B*07:02:01', 'B*44:02:01', 'C*05:01:01', 'C*07:260:02'] was removed because it contains unknown alleles\n",
      "Warning! The genotype ['A*30:01:01', 'A*32:01:01', 'B*13:02:01', 'B*39:01:01', 'C*06:76:01', 'C*12:147'] was removed because it contains unknown alleles\n",
      "Warning! The genotype ['A*02:01:01', 'A*29:02:01', 'B*07:02:01', 'B*44:03:01', 'C*07:31:01', 'C*16:06'] was removed because it contains unknown alleles\n",
      "Warning! The genotype ['A*02:01:01', 'A*29:02:01', 'B*27:05:03', 'B*44:03:01', 'C*02:134', 'C*16:34'] was removed because it contains unknown alleles\n",
      "Warning! The genotype ['A*01:01:01', 'A*24:585:01', 'B*40:01:02', 'B*44:02:01', 'C*03:04:01', 'C*05:01:01'] was removed because it contains unknown alleles\n",
      "Warning! The genotype ['A*01:01:01', 'A*29:02:01', 'B*41:02:01', 'B*44:188', 'C*16:01:01', 'C*17:03:01'] was removed because it contains unknown alleles\n",
      "Warning! The genotype ['A*02:01:01', 'A*24:23', 'B*13:02:01', 'B*35:03:01', 'C*04:01:01', 'C*06:02:01'] was removed because it contains unknown alleles\n",
      "Warning! The genotype ['A*03:01:01', 'A*68:01:02', 'B*35:01:01', 'B*51:01:01', 'C*04:01:01', 'C*16:02:01'] was removed because it contains unknown alleles\n",
      "Warning! The genotype ['A*01:01:01', 'A*02:01:01', 'B*15:228', 'B*52:07:02', 'C*03:03:01', 'C*12:02:02'] was removed because it contains unknown alleles\n",
      "Warning! The genotype ['A*03:01:01', 'A*03:01:01', 'B*35:380:01', 'B*47:01:01', 'C*04:01:01', 'C*06:02:01'] was removed because it contains unknown alleles\n",
      "Warning! The genotype ['A*02:06:01', 'A*26:01:01', 'B*35:01:01', 'B*51:01:01', 'C*04:01:01', 'C*14:25'] was removed because it contains unknown alleles\n",
      "Warning! The genotype ['A*02:01:01', 'A*02:01:39', 'B*40:80', 'B*41:02:01', 'C*03:04:01', 'C*17:03:01'] was removed because it contains unknown alleles\n",
      "Warning! The genotype ['A*02:864:01', 'A*33:03:23', 'B*18:01:01', 'B*58:35', 'C*03:02:02', 'C*07:01:01'] was removed because it contains unknown alleles\n",
      "Warning! The genotype ['A*02:01:01', 'A*23:01:01', 'B*44:522', 'B*51:271', 'C*04:01:34', 'C*15:02:01'] was removed because it contains unknown alleles\n",
      "Warning! The genotype ['A*01:01:01', 'A*03:01:01', 'B*15:20', 'B*35:43:01', 'C*03:03:01', 'C*04:01:01'] was removed because it contains unknown alleles\n",
      "Warning! The genotype ['A*02:01:01', 'A*03:01:01', 'B*27:05:02', 'B*38:01:01', 'C*02:115', 'C*12:05:01'] was removed because it contains unknown alleles\n",
      "Warning! The genotype ['A*11:01:01', 'A*11:01:01', 'B*51:01:01', 'B*55:17', 'C*01:14', 'C*08:02:01'] was removed because it contains unknown alleles\n",
      "Warning! The genotype ['A*24:02:01', 'A*26:01:01', 'B*07:381', 'B*51:230:01', 'C*07:02:01', 'C*15:02:01'] was removed because it contains unknown alleles\n",
      "Warning! The genotype ['A*02:01:01', 'A*03:358', 'B*13:02:01', 'B*44:03:01', 'C*04:01:01', 'C*06:02:01'] was removed because it contains unknown alleles\n",
      "Warning! The genotype ['A*02:614', 'A*68:278', 'B*27:05:02', 'B*53:01:01', 'C*02:02:02', 'C*04:01:01'] was removed because it contains unknown alleles\n",
      "Warning! The genotype ['A*01:01:01', 'A*31:08', 'B*08:01:01', 'B*27:05:02', 'C*02:02:02', 'C*07:01:01'] was removed because it contains unknown alleles\n",
      "Warning! The genotype ['A*03:72', 'A*24:104', 'B*07:381', 'B*35:516', 'C*04:01:01', 'C*07:02:01'] was removed because it contains unknown alleles\n",
      "Warning! The genotype ['A*02:01:01', 'A*02:06:01', 'B*15:515', 'B*51:367', 'C*03:03:01', 'C*15:02:01'] was removed because it contains unknown alleles\n",
      "Warning! The genotype ['A*24:02:01', 'A*31:01:02', 'B*40:544', 'B*51:285', 'C*03:04:01', 'C*14:02:01'] was removed because it contains unknown alleles\n",
      "Warning! The genotype ['A*01:01:01', 'A*24:02:01', 'B*08:01:01', 'B*48:01:01', 'C*07:01:01', 'C*08:03:01'] was removed because it contains unknown alleles\n",
      "Warning! The genotype ['A*02:243:03', 'A*33:03:01', 'B*51:01:01', 'B*58:01:01', 'C*03:02:02', 'C*15:02:01'] was removed because it contains unknown alleles\n",
      "Warning! The genotype ['A*24:02:01', 'A*24:02:01', 'B*27:05:02', 'B*35:380:01', 'C*01:02:01', 'C*04:01:01'] was removed because it contains unknown alleles\n",
      "Warning! The genotype ['A*24:02:01', 'A*25:01:01', 'B*07:381', 'B*18:177', 'C*07:02:01', 'C*12:03:01'] was removed because it contains unknown alleles\n",
      "Warning! The genotype ['A*02:01:01', 'A*24:424', 'B*13:02:01', 'B*35:02:01', 'C*04:01:01', 'C*06:02:01'] was removed because it contains unknown alleles\n",
      "Warning! The genotype ['A*02:01:01', 'A*68:02:01', 'B*39:10:01', 'B*44:02:01', 'C*05:29:01', 'C*12:03:01'] was removed because it contains unknown alleles\n",
      "Warning! The genotype ['A*02:01:01', 'A*33:03:01', 'B*15:11:01', 'B*58:01:01', 'C*03:04:01', 'C*03:132'] was removed because it contains unknown alleles\n",
      "Warning! The genotype ['A*02:01:01', 'A*11:410', 'B*13:02:01', 'B*44:02:01', 'C*05:01:01', 'C*06:02:01'] was removed because it contains unknown alleles\n",
      "Warning! The genotype ['A*01:01:01', 'A*24:02:01', 'B*40:06:01', 'B*44:05:01', 'C*02:02:02', 'C*08:22:01'] was removed because it contains unknown alleles\n",
      "Warning! The genotype ['A*02:01:01', 'A*32:01:01', 'B*41:02:01', 'B*44:02:01', 'C*05:01:01', 'C*17:03:01'] was removed because it contains unknown alleles\n",
      "Warning! The genotype ['A*01:01:01', 'A*02:01:01', 'B*18:168', 'B*39:43', 'C*07:01:01', 'C*12:03:01'] was removed because it contains unknown alleles\n",
      "Warning! The genotype ['A*01:01:01', 'A*31:01:02', 'B*38:01:01', 'B*39:01:01', 'C*12:03:01', 'C*12:24:01'] was removed because it contains unknown alleles\n",
      "Warning! The genotype ['A*01:383', 'A*02:884:01', 'B*27:05:02', 'B*57:01:01', 'C*02:02:02', 'C*06:02:01'] was removed because it contains unknown alleles\n",
      "Warning! The genotype ['A*01:01:01', 'A*24:02:01', 'B*15:17:01', 'B*35:02:01', 'C*04:01:01', 'C*17:03:01'] was removed because it contains unknown alleles\n",
      "Warning! The genotype ['A*02:01:01', 'A*24:398', 'B*44:464:01', 'B*50:57', 'C*05:01:01', 'C*06:02:01'] was removed because it contains unknown alleles\n",
      "Warning! The genotype ['A*03:63', 'A*11:12:01', 'B*07:416', 'B*35:380:01', 'C*04:01:01', 'C*07:02:01'] was removed because it contains unknown alleles\n",
      "Warning! The genotype ['A*25:01:01', 'A*26:01:01', 'B*38:99', 'B*44:464:01', 'C*05:248', 'C*12:312'] was removed because it contains unknown alleles\n",
      "Warning! The genotype ['A*02:01:01', 'A*24:02:01', 'B*35:01:01', 'B*41:02:01', 'C*04:01:01', 'C*17:03:01'] was removed because it contains unknown alleles\n",
      "Warning! The genotype ['A*02:01:01', 'A*24:02:01', 'B*48:01:01', 'B*51:01:01', 'C*05:01:01', 'C*08:03:01'] was removed because it contains unknown alleles\n",
      "Warning! The genotype ['A*25:01:01', 'A*33:01:01', 'B*14:02:01', 'B*18:01:01', 'C*08:05', 'C*12:98'] was removed because it contains unknown alleles\n",
      "Warning! The genotype ['A*02:01:01', 'A*03:01:01', 'B*35:380:01', 'B*40:379:01', 'C*03:04:01', 'C*04:01:01'] was removed because it contains unknown alleles\n",
      "Warning! The genotype ['A*03:01:01', 'A*11:01:01', 'B*07:02:01', 'B*15:01:01', 'C*03:39', 'C*07:02:25'] was removed because it contains unknown alleles\n",
      "Warning! The genotype ['A*01:01:01', 'A*32:149', 'B*18:01:01', 'B*40:02:01', 'C*02:02:02', 'C*07:01:01'] was removed because it contains unknown alleles\n",
      "Warning! The genotype ['A*02:01:01', 'A*11:364', 'B*15:01:01', 'B*35:01:01', 'C*03:04:01', 'C*04:01:01'] was removed because it contains unknown alleles\n",
      "Warning! The genotype ['A*02:293Q', 'A*24:02:01', 'B*07:02:01', 'B*13:01:01', 'C*03:04:01', 'C*07:02:01'] was removed because it contains unknown alleles\n",
      "Warning! The genotype ['A*01:01:01', 'A*02:06:01', 'B*37:01:01', 'B*44:02:01', 'C*05:248', 'C*06:274'] was removed because it contains unknown alleles\n",
      "Warning! The genotype ['A*03:242', 'A*26:203', 'B*56:01:01', 'B*58:01:01', 'C*01:02:01', 'C*03:02:02'] was removed because it contains unknown alleles\n",
      "Warning! The genotype ['A*03:01:01', 'A*24:02:01', 'B*07:02:01', 'B*48:01:01', 'C*07:02:01', 'C*08:03:01'] was removed because it contains unknown alleles\n",
      "Warning! The genotype ['A*02:35:01', 'A*69:01:01', 'B*15:01:01', 'B*35:08:01', 'C*03:03:01', 'C*12:03:01'] was removed because it contains unknown alleles\n",
      "Warning! The genotype ['A*02:01:01', 'A*03:01:01', 'B*13:02:01', 'B*35:01:01', 'C*04:477', 'C*18:01:01'] was removed because it contains unknown alleles\n",
      "Warning! The genotype ['A*02:01:01', 'A*24:50', 'B*07:02:01', 'B*15:01:01', 'C*03:03:01', 'C*07:02:01'] was removed because it contains unknown alleles\n",
      "Warning! The genotype ['A*01:01:01', 'A*11:01:01', 'B*08:156', 'B*42:01:01', 'C*07:01:01', 'C*07:02:01'] was removed because it contains unknown alleles\n",
      "Warning! The genotype ['A*02:01:01', 'A*32:01:01', 'B*15:535', 'B*40:379:01', 'C*03:04:01', 'C*03:04:01'] was removed because it contains unknown alleles\n",
      "Warning! The genotype ['A*02:01:01', 'A*32:01:01', 'B*50:58', 'B*51:02:01', 'C*02:02:02', 'C*14:02:01'] was removed because it contains unknown alleles\n",
      "Warning! The genotype ['A*24:02:01', 'A*31:01:02', 'B*27:05:02', 'B*27:05:02', 'C*02:02:02', 'C*02:151'] was removed because it contains unknown alleles\n",
      "Warning! The genotype ['A*03:344:02', 'A*25:01:01', 'B*18:01:01', 'B*35:03:01', 'C*04:01:01', 'C*12:03:01'] was removed because it contains unknown alleles\n",
      "Warning! The genotype ['A*02:01:01', 'A*02:01:01', 'B*44:02:01', 'B*51:07:01', 'C*05:01:01', 'C*14:02:01'] was removed because it contains unknown alleles\n",
      "Warning! The genotype ['A*01:01:01', 'A*24:02:30', 'B*37:01:01', 'B*44:02:01', 'C*06:345', 'C*16:04:01'] was removed because it contains unknown alleles\n",
      "Warning! The genotype ['A*03:01:01', 'A*26:01:01', 'B*07:02:01', 'B*38:01:01', 'C*07:51', 'C*12:28'] was removed because it contains unknown alleles\n",
      "Warning! The genotype ['A*01:01:01', 'A*03:01:01', 'B*07:02:01', 'B*52:01:01', 'C*07:51', 'C*12:02:02'] was removed because it contains unknown alleles\n",
      "Warning! The genotype ['A*31:01:02', 'A*68:01:02', 'B*13:02:01', 'B*27:05:02', 'C*02:163', 'C*06:19'] was removed because it contains unknown alleles\n",
      "Warning! The genotype ['A*24:02:01', 'A*25:01:01', 'B*18:01:01', 'B*35:02:01', 'C*04:296', 'C*12:55'] was removed because it contains unknown alleles\n",
      "Warning! The genotype ['A*02:01:01', 'A*03:01:01', 'B*07:271', 'B*44:27:01', 'C*07:02:01', 'C*07:04:01'] was removed because it contains unknown alleles\n",
      "Warning! The genotype ['A*11:01:01', 'A*24:354', 'B*15:01:01', 'B*27:05:02', 'C*02:02:02', 'C*03:03:01'] was removed because it contains unknown alleles\n",
      "Warning! The genotype ['A*03:01:01', 'A*24:02:01', 'B*07:381', 'B*35:380:01', 'C*04:01:01', 'C*07:02:01'] was removed because it contains unknown alleles\n",
      "Warning! The genotype ['A*30:177', 'A*32:01:01', 'B*35:03:01', 'B*39:01:01', 'C*12:03:01', 'C*12:03:01'] was removed because it contains unknown alleles\n",
      "Warning! The genotype ['A*02:96', 'A*24:02:01', 'B*35:01:01', 'B*51:01:01', 'C*01:02:01', 'C*04:01:01'] was removed because it contains unknown alleles\n",
      "Warning! The genotype ['A*02:01:01', 'A*24:02:01', 'B*15:17:01', 'B*18:01:01', 'C*12:03:01', 'C*16:02:01'] was removed because it contains unknown alleles\n",
      "Warning! The genotype ['A*03:01:01', 'A*24:02:01', 'B*07:02:01', 'B*15:01:01', 'C*03:39', 'C*07:578'] was removed because it contains unknown alleles\n",
      "Warning! The genotype ['A*24:02:01', 'A*24:02:04', 'B*14:02:01', 'B*51:01:01', 'C*08:02:01', 'C*15:04:01'] was removed because it contains unknown alleles\n",
      "Warning! The genotype ['A*02:01:01', 'A*24:02:01', 'B*13:02:01', 'B*44:02:01', 'C*06:02:01', 'C*16:04:01'] was removed because it contains unknown alleles\n",
      "Warning! The genotype ['A*02:01:01', 'A*24:02:01', 'B*07:02:01', 'B*51:01:01', 'C*07:730', 'C*14:02:01'] was removed because it contains unknown alleles\n",
      "Warning! The genotype ['A*02:01:01', 'A*29:01:01', 'B*07:10', 'B*35:02:01', 'C*04:01:01', 'C*07:02:01'] was removed because it contains unknown alleles\n",
      "Warning! The genotype ['A*24:82', 'A*31:210', 'B*08:01:01', 'B*27:05:02', 'C*02:02:02', 'C*07:01:01'] was removed because it contains unknown alleles\n",
      "Warning! The genotype ['A*01:01:01', 'A*25:01:01', 'B*27:05:02', 'B*57:01:01', 'C*02:163', 'C*06:329:01'] was removed because it contains unknown alleles\n",
      "Warning! The genotype ['A*03:01:01', 'A*32:01:01', 'B*07:02:01', 'B*14:01:01', 'C*07:02:01', 'C*08:02:01'] was removed because it contains unknown alleles\n",
      "Warning! The genotype ['A*02:05:01', 'A*26:01:01', 'B*14:01:01', 'B*38:01:01', 'C*08:02:01', 'C*12:203'] was removed because it contains unknown alleles\n",
      "Warning! The genotype ['A*02:864:01', 'A*25:01:01', 'B*07:02:01', 'B*07:02:01', 'C*07:02:01', 'C*07:02:01'] was removed because it contains unknown alleles\n",
      "Warning! The genotype ['A*01:01:01', 'A*11:01:79', 'B*08:156', 'B*42:01:01', 'C*07:01:01', 'C*07:02:01'] was removed because it contains unknown alleles\n",
      "Warning! The genotype ['A*03:01:01', 'A*29:02:01', 'B*35:01:01', 'B*58:01:01', 'C*04:01:01', 'C*07:18:01'] was removed because it contains unknown alleles\n",
      "Warning! The genotype ['A*03:01:01', 'A*26:01:01', 'B*07:02:01', 'B*27:05:02', 'C*01:142', 'C*07:02:01'] was removed because it contains unknown alleles\n",
      "Warning! The genotype ['A*02:01:01', 'A*03:01:01', 'B*07:06:01', 'B*18:01:01', 'C*12:03:01', 'C*15:05:02'] was removed because it contains unknown alleles\n",
      "Warning! The genotype ['A*03:12', 'A*68:71', 'B*44:02:01', 'B*52:01:02', 'C*05:01:01', 'C*07:02:01'] was removed because it contains unknown alleles\n",
      "Warning! The genotype ['A*02:01:01', 'A*11:01:01', 'B*35:01:01', 'B*51:01:01', 'C*04:01:01', 'C*16:02:01'] was removed because it contains unknown alleles\n",
      "Warning! The genotype ['A*02:864:01', 'A*31:135', 'B*27:05:02', 'B*40:02:01', 'C*02:02:02', 'C*03:04:01'] was removed because it contains unknown alleles\n",
      "Warning! The genotype ['A*02:05:01', 'A*11:01:01', 'B*27:05:02', 'B*40:02:01', 'C*02:02:02', 'C*03:35:01'] was removed because it contains unknown alleles\n",
      "Warning! The genotype ['A*11:01:01', 'A*30:04:01', 'B*49:01:01', 'B*73:01:01', 'C*07:01:01', 'C*15:05:01'] was removed because it contains unknown alleles\n",
      "Warning! The genotype ['A*32:01:01', 'A*66:01:01', 'B*35:02:01', 'B*41:02:01', 'C*04:01:01', 'C*17:03:01'] was removed because it contains unknown alleles\n",
      "Warning! The genotype ['A*02:01:01', 'A*11:01:01', 'B*27:05:02', 'B*41:02:01', 'C*04:01:01', 'C*17:03:01'] was removed because it contains unknown alleles\n",
      "Warning! The genotype ['A*02:01:01', 'A*24:02:01', 'B*40:06:01', 'B*41:02:01', 'C*15:02:01', 'C*17:03:01'] was removed because it contains unknown alleles\n",
      "Warning! The genotype ['A*02:01:01', 'A*03:01:01', 'B*27:02:01', 'B*41:02:01', 'C*02:02:02', 'C*17:03:01'] was removed because it contains unknown alleles\n",
      "Warning! The genotype ['A*02:01:01', 'A*03:01:01', 'B*35:03:01', 'B*51:01:01', 'C*04:01:01', 'C*16:02:01'] was removed because it contains unknown alleles\n",
      "Warning! The genotype ['A*02:05:01', 'A*24:02:01', 'B*13:02:01', 'B*15:220:01', 'C*06:02:01', 'C*12:03:01'] was removed because it contains unknown alleles\n",
      "Warning! The genotype ['A*03:01:01', 'A*32:01:01', 'B*41:02:01', 'B*51:01:01', 'C*15:13:01', 'C*17:03:01'] was removed because it contains unknown alleles\n",
      "Warning! The genotype ['A*02:01:01', 'A*02:01:01', 'B*15:01:01', 'B*40:06:01', 'C*04:01:01', 'C*08:22:01'] was removed because it contains unknown alleles\n",
      "Warning! The genotype ['A*11:01:01', 'A*30:01:01', 'B*13:02:01', 'B*35:01:01', 'C*04:360', 'C*18:01:01'] was removed because it contains unknown alleles\n",
      "Warning! The genotype ['A*02:01:01', 'A*02:01:01', 'B*41:02:01', 'B*41:02:01', 'C*17:03:01', 'C*17:03:01'] was removed because it contains unknown alleles\n",
      "Warning! The genotype ['A*03:01:01', 'A*68:01:02', 'B*40:02:01', 'B*50:01:01', 'C*04:01:01', 'C*07:68'] was removed because it contains unknown alleles\n",
      "Warning! The genotype ['A*02:01:01', 'A*24:02:01', 'B*51:01:01', 'B*51:01:01', 'C*01:02:01', 'C*16:02:01'] was removed because it contains unknown alleles\n",
      "Warning! The genotype ['A*23:01:01', 'A*23:01:01', 'B*35:309', 'B*44:37:01', 'C*04:01:01', 'C*04:01:01'] was removed because it contains unknown alleles\n",
      "Warning! The genotype ['A*01:01:01', 'A*02:01:01', 'B*13:176', 'B*35:02:01', 'C*06:02:01', 'C*06:02:01'] was removed because it contains unknown alleles\n",
      "Warning! The genotype ['A*01:01:01', 'A*03:01:01', 'B*08:272', 'B*14:28', 'C*07:01:01', 'C*08:02:01'] was removed because it contains unknown alleles\n",
      "Warning! The genotype ['A*03:01:01', 'A*66:01:01', 'B*18:01:01', 'B*41:02:01', 'C*07:01:01', 'C*17:03:01'] was removed because it contains unknown alleles\n",
      "Warning! The genotype ['A*01:01:01', 'A*02:01:01', 'B*08:01:01', 'B*44:03:01', 'C*07:01:01', 'C*16:02:01'] was removed because it contains unknown alleles\n",
      "Warning! The genotype ['A*03:72', 'A*24:104', 'B*07:02:01', 'B*07:02:01', 'C*07:02:01', 'C*07:02:01'] was removed because it contains unknown alleles\n",
      "Warning! The genotype ['A*01:01:01', 'A*11:01:01', 'B*35:423', 'B*51:01:01', 'C*04:01:01', 'C*15:02:01'] was removed because it contains unknown alleles\n",
      "Warning! The genotype ['A*24:02:01', 'A*68:01:02', 'B*44:02:01', 'B*57:163', 'C*05:01:01', 'C*06:02:01'] was removed because it contains unknown alleles\n",
      "Warning! The genotype ['A*02:01:01', 'A*03:01:01', 'B*40:01:02', 'B*51:01:01', 'C*03:04:01', 'C*15:13:01'] was removed because it contains unknown alleles\n",
      "Warning! The genotype ['A*02:01:01', 'A*11:01:01', 'B*35:380:01', 'B*44:464:01', 'C*04:01:01', 'C*07:04:01'] was removed because it contains unknown alleles\n",
      "Warning! The genotype ['A*01:01:01', 'A*23:01:01', 'B*50:01:01', 'B*51:01:01', 'C*06:02:01', 'C*15:13:01'] was removed because it contains unknown alleles\n",
      "Warning! The genotype ['A*24:207:01', 'A*29:01:01', 'B*07:05:01', 'B*44:05:01', 'C*15:111', 'C*15:118'] was removed because it contains unknown alleles\n",
      "Warning! The genotype ['A*02:102', 'A*02:623', 'B*27:02:01', 'B*50:01:01', 'C*02:02:02', 'C*06:02:01'] was removed because it contains unknown alleles\n",
      "Warning! The genotype ['A*02:01:01', 'A*11:01:01', 'B*39:01:01', 'B*41:02:01', 'C*12:03:01', 'C*17:03:01'] was removed because it contains unknown alleles\n",
      "Warning! The genotype ['A*02:01:01', 'A*02:704', 'B*41:02:01', 'B*57:01:01', 'C*06:02:01', 'C*17:03:01'] was removed because it contains unknown alleles\n",
      "Warning! The genotype ['A*24:02:01', 'A*31:01:02', 'B*13:03', 'B*56:60', 'C*01:02:01', 'C*06:02:01'] was removed because it contains unknown alleles\n",
      "Warning! The genotype ['A*11:43', 'A*33:51', 'B*08:01:01', 'B*51:01:01', 'C*07:02:01', 'C*16:02:01'] was removed because it contains unknown alleles\n",
      "Warning! The genotype ['A*01:01:01', 'A*02:01:01', 'B*07:02:01', 'B*08:01:01', 'C*07:01:01', 'C*07:194'] was removed because it contains unknown alleles\n",
      "Warning! The genotype ['A*11:01:01', 'A*24:02:01', 'B*53:17:02', 'B*58:08:02', 'C*05:01:01', 'C*12:02:02'] was removed because it contains unknown alleles\n",
      "Warning! The genotype ['A*03:12', 'A*26:20:02', 'B*35:01:01', 'B*38:01:01', 'C*03:03:01', 'C*12:03:01'] was removed because it contains unknown alleles\n",
      "Warning! The genotype ['A*02:35:01', 'A*11:01:01', 'B*44:27:01', 'B*56:01:01', 'C*01:02:01', 'C*07:04:01'] was removed because it contains unknown alleles\n",
      "Warning! The genotype ['A*02:01:01', 'A*02:01:01', 'B*07:381', 'B*15:535', 'C*03:03:01', 'C*12:03:01'] was removed because it contains unknown alleles\n",
      "Warning! The genotype ['A*24:02:01', 'A*31:01:02', 'B*41:02:01', 'B*51:01:01', 'C*01:02:01', 'C*17:03:01'] was removed because it contains unknown alleles\n",
      "Warning! The genotype ['A*02:01:01', 'A*31:01:02', 'B*37:108', 'B*44:464:01', 'C*05:01:01', 'C*06:02:01'] was removed because it contains unknown alleles\n",
      "Warning! The genotype ['A*03:01:01', 'A*25:01:01', 'B*18:105', 'B*35:32:02', 'C*04:01:01', 'C*12:03:01'] was removed because it contains unknown alleles\n",
      "Warning! The genotype ['A*24:82', 'A*31:210', 'B*15:18:01', 'B*44:05:01', 'C*02:02:02', 'C*07:04:01'] was removed because it contains unknown alleles\n",
      "Warning! The genotype ['A*11:01:01', 'A*66:01:01', 'B*35:01:01', 'B*41:02:01', 'C*04:01:01', 'C*17:03:01'] was removed because it contains unknown alleles\n",
      "Warning! The genotype ['A*02:01:01', 'A*68:01:02', 'B*53:01:01', 'B*78:02:02', 'C*03:43:01', 'C*14:02:01'] was removed because it contains unknown alleles\n",
      "Warning! The genotype ['A*03:72', 'A*24:104', 'B*07:02:01', 'B*40:02:01', 'C*02:02:02', 'C*07:02:01'] was removed because it contains unknown alleles\n",
      "Warning! The genotype ['A*02:01:01', 'A*26:01:01', 'B*38:99', 'B*40:379:01', 'C*03:04:01', 'C*12:03:01'] was removed because it contains unknown alleles\n",
      "Warning! The genotype ['A*02:76:02', 'A*24:02:01', 'B*35:03:01', 'B*44:05:01', 'C*02:02:02', 'C*04:01:01'] was removed because it contains unknown alleles\n",
      "Warning! The genotype ['A*03:01:01', 'A*33:03:01', 'B*35:02:01', 'B*44:03:02', 'C*04:01:01', 'C*07:06:01'] was removed because it contains unknown alleles\n",
      "Warning! The genotype ['A*25:01:01', 'A*68:01:02', 'B*38:99', 'B*44:302:01', 'C*04:01:01', 'C*12:03:01'] was removed because it contains unknown alleles\n",
      "Warning! The genotype ['A*03:12', 'A*25:03', 'B*18:01:03', 'B*52:01:01', 'C*12:02:02', 'C*12:03:01'] was removed because it contains unknown alleles\n",
      "Warning! The genotype ['A*01:01:01', 'A*24:02:01', 'B*13:02:01', 'B*48:01:01', 'C*06:02:01', 'C*08:03:01'] was removed because it contains unknown alleles\n",
      "Warning! The genotype ['A*01:274', 'A*29:119', 'B*08:01:01', 'B*18:01:01', 'C*02:02:02', 'C*07:01:01'] was removed because it contains unknown alleles\n",
      "Warning! The genotype ['A*01:01:01', 'A*01:01:01', 'B*08:01:01', 'B*57:01:01', 'C*06:127:01', 'C*07:514:01'] was removed because it contains unknown alleles\n",
      "Warning! The genotype ['A*24:290', 'A*68:249', 'B*15:18:01', 'B*35:01:01', 'C*03:03:01', 'C*07:04:01'] was removed because it contains unknown alleles\n",
      "Warning! The genotype ['A*01:01:01', 'A*02:01:01', 'B*57:01:01', 'B*58:01:01', 'C*06:02:01', 'C*07:18:01'] was removed because it contains unknown alleles\n",
      "Warning! The genotype ['A*24:02:01', 'A*32:01:01', 'B*07:02:01', 'B*07:05:01', 'C*07:02:01', 'C*15:05:02'] was removed because it contains unknown alleles\n",
      "Warning! The genotype ['A*02:01:01', 'A*24:02:01', 'B*27:05:02', 'B*51:01:01', 'C*02:26:02', 'C*15:118'] was removed because it contains unknown alleles\n",
      "Warning! The genotype ['A*03:01:01', 'A*24:02:01', 'B*57:120', 'B*58:36', 'C*03:02:02', 'C*06:02:01'] was removed because it contains unknown alleles\n",
      "Warning! The genotype ['A*01:01:01', 'A*66:01:01', 'B*41:02:01', 'B*52:01:01', 'C*12:02:02', 'C*17:03:01'] was removed because it contains unknown alleles\n",
      "Warning! The genotype ['A*02:01:01', 'A*02:01:01', 'B*07:02:01', 'B*40:01:02', 'C*03:344:01', 'C*07:578'] was removed because it contains unknown alleles\n",
      "Warning! The genotype ['A*02:01:01', 'A*24:02:01', 'B*50:45', 'B*56:25', 'C*01:02:01', 'C*03:03:01'] was removed because it contains unknown alleles\n",
      "Warning! The genotype ['A*02:01:01', 'A*03:01:01', 'B*08:01:01', 'B*58:01:01', 'C*07:02:01', 'C*07:18:01'] was removed because it contains unknown alleles\n",
      "Warning! The genotype ['A*02:01:01', 'A*32:01:01', 'B*07:381', 'B*38:99', 'C*07:02:01', 'C*12:03:01'] was removed because it contains unknown alleles\n",
      "Warning! The genotype ['A*11:01:01', 'A*32:01:01', 'B*44:02:01', 'B*53:01:01', 'C*04:01:01', 'C*16:04:01'] was removed because it contains unknown alleles\n",
      "Warning! The genotype ['A*11:01:01', 'A*68:02:01', 'B*51:01:02', 'B*53:17:02', 'C*04:01:01', 'C*12:02:02'] was removed because it contains unknown alleles\n",
      "Warning! The genotype ['A*11:01:01', 'A*11:01:01', 'B*56:01:01', 'B*73:01:01', 'C*01:02:01', 'C*15:05:01'] was removed because it contains unknown alleles\n",
      "Warning! The genotype ['A*01:01:01', 'A*11:01:01', 'B*35:01:01', 'B*37:01:01', 'C*04:477', 'C*18:01:01'] was removed because it contains unknown alleles\n",
      "Warning! The genotype ['A*03:01:01', 'A*03:01:01', 'B*35:60', 'B*56:09', 'C*01:02:01', 'C*04:01:01'] was removed because it contains unknown alleles\n",
      "Warning! The genotype ['A*02:22:01', 'A*68:164:01', 'B*15:01:01', 'B*15:01:01', 'C*03:03:01', 'C*03:04:01'] was removed because it contains unknown alleles\n",
      "Warning! The genotype ['A*02:01:01', 'A*24:02:01', 'B*07:02:01', 'B*27:05:02', 'C*01:17', 'C*07:02:01'] was removed because it contains unknown alleles\n",
      "Warning! The genotype ['A*29:90', 'A*33:03:01', 'B*44:03:01', 'B*58:01:01', 'C*03:02:02', 'C*16:01:01'] was removed because it contains unknown alleles\n",
      "Warning! The genotype ['A*01:01:01', 'A*33:01:01', 'B*14:02:01', 'B*58:01:01', 'C*07:18:01', 'C*08:02:01'] was removed because it contains unknown alleles\n",
      "Warning! The genotype ['A*03:01:01', 'A*11:01:01', 'B*07:381', 'B*15:535', 'C*03:03:01', 'C*07:02:01'] was removed because it contains unknown alleles\n",
      "Warning! The genotype ['A*02:01:01', 'A*33:05', 'B*14:02:01', 'B*44:42', 'C*02:02:02', 'C*08:02:01'] was removed because it contains unknown alleles\n",
      "Warning! The genotype ['A*24:02:01', 'A*31:01:02', 'B*15:01:01', 'B*51:01:01', 'C*03:03:01', 'C*15:13:01'] was removed because it contains unknown alleles\n",
      "Warning! The genotype ['A*26:199', 'A*30:01:01', 'B*13:02:01', 'B*49:01:01', 'C*06:02:01', 'C*07:01:01'] was removed because it contains unknown alleles\n",
      "Warning! The genotype ['A*01:01:01', 'A*02:01:01', 'B*07:02:03', 'B*15:01:01', 'C*03:344:01', 'C*07:578'] was removed because it contains unknown alleles\n",
      "Warning! The genotype ['A*24:02:01', 'A*33:03:01', 'B*40:47', 'B*44:46:01', 'C*03:04:01', 'C*14:03:01'] was removed because it contains unknown alleles\n",
      "Warning! The genotype ['A*02:102', 'A*02:623', 'B*38:01:01', 'B*50:01:01', 'C*06:02:38', 'C*12:03:08'] was removed because it contains unknown alleles\n",
      "Warning! The genotype ['A*11:01:01', 'A*11:01:01', 'B*15:01:01', 'B*35:197', 'C*03:03:01', 'C*04:01:01'] was removed because it contains unknown alleles\n",
      "Warning! The genotype ['A*24:290', 'A*68:249', 'B*40:01:02', 'B*44:03:01', 'C*01:02:01', 'C*03:04:01'] was removed because it contains unknown alleles\n",
      "Warning! The genotype ['A*11:01:01', 'A*24:02:01', 'B*15:05:01', 'B*18:01:01', 'C*04:01:01', 'C*12:03:01'] was removed because it contains unknown alleles\n",
      "Warning! The genotype ['A*11:01:01', 'A*24:02:01', 'B*56:68', 'B*73:01:01', 'C*01:02:01', 'C*15:05:01'] was removed because it contains unknown alleles\n",
      "Warning! The genotype ['A*02:864:01', 'A*25:68', 'B*18:01:01', 'B*58:01:01', 'C*07:18:01', 'C*12:03:01'] was removed because it contains unknown alleles\n",
      "Warning! The genotype ['A*02:01:01', 'A*02:01:01', 'B*07:381', 'B*15:535', 'C*03:04:01', 'C*07:02:01'] was removed because it contains unknown alleles\n",
      "Warning! The genotype ['A*03:12', 'A*26:20:02', 'B*08:01:01', 'B*08:01:01', 'C*07:01:01', 'C*07:02:01'] was removed because it contains unknown alleles\n",
      "Warning! The genotype ['A*01:383', 'A*02:884:01', 'B*27:05:02', 'B*44:03:01', 'C*02:27:01', 'C*16:02:01'] was removed because it contains unknown alleles\n",
      "Warning! The genotype ['A*01:274', 'A*32:116', 'B*07:02:01', 'B*39:01:01', 'C*07:02:01', 'C*12:03:01'] was removed because it contains unknown alleles\n",
      "Warning! The genotype ['A*02:01:01', 'A*26:16', 'B*40:02:01', 'B*51:01:01', 'C*02:02:02', 'C*14:02:01'] was removed because it contains unknown alleles\n",
      "Warning! The genotype ['A*01:01:01', 'A*02:01:01', 'B*08:01:01', 'B*15:01:01', 'C*04:01:01', 'C*07:1045'] was removed because it contains unknown alleles\n",
      "Warning! The genotype ['A*03:397', 'A*30:01:01', 'B*35:01:01', 'B*35:03:01', 'C*04:01:01', 'C*04:01:01'] was removed because it contains unknown alleles\n",
      "Warning! The genotype ['A*02:864:01', 'A*31:135', 'B*35:03:01', 'B*44:27:01', 'C*04:01:01', 'C*07:04:01'] was removed because it contains unknown alleles\n",
      "Warning! The genotype ['A*24:02:01', 'A*66:01:01', 'B*41:02:01', 'B*48:01:01', 'C*08:03:01', 'C*17:03:01'] was removed because it contains unknown alleles\n",
      "Warning! The genotype ['A*02:01:01', 'A*03:01:01', 'B*40:32', 'B*42:01:01', 'C*07:02:01', 'C*17:03:01'] was removed because it contains unknown alleles\n",
      "Warning! The genotype ['A*02:01:01', 'A*11:01:01', 'B*40:03:01', 'B*55:01:01', 'C*03:03:01', 'C*03:04:01'] was removed because it contains unknown alleles\n",
      "Warning! The genotype ['A*02:01:01', 'A*26:01:01', 'B*15:34:01', 'B*27:05:02', 'C*02:02:02', 'C*04:01:01'] was removed because it contains unknown alleles\n",
      "Warning! The genotype ['A*02:01:01', 'A*66:01:01', 'B*41:02:01', 'B*41:02:01', 'C*17:03:01', 'C*17:03:01'] was removed because it contains unknown alleles\n",
      "Warning! The genotype ['A*01:01:01', 'A*26:01:01', 'B*14:01:01', 'B*37:01:01', 'C*06:02:01', 'C*08:02:01'] was removed because it contains unknown alleles\n",
      "Warning! The genotype ['A*02:01:01', 'A*11:01:01', 'B*13:02:01', 'B*35:03:01', 'C*04:75', 'C*06:02:01'] was removed because it contains unknown alleles\n",
      "Warning! The genotype ['A*02:01:01', 'A*29:02:01', 'B*44:522', 'B*51:271', 'C*14:02:01', 'C*16:01:01'] was removed because it contains unknown alleles\n",
      "Warning! The genotype ['A*01:01:01', 'A*02:01:01', 'B*08:01:01', 'B*56:68', 'C*01:02:01', 'C*07:01:01'] was removed because it contains unknown alleles\n",
      "Warning! The genotype ['A*02:01:01', 'A*03:01:01', 'B*07:381', 'B*51:230:01', 'C*07:02:01', 'C*15:13:01'] was removed because it contains unknown alleles\n",
      "Warning! The genotype ['A*25:01:01', 'A*29:01:01', 'B*07:05:01', 'B*18:01:01', 'C*12:03:01', 'C*15:05:02'] was removed because it contains unknown alleles\n",
      "Warning! The genotype ['A*03:02:01', 'A*24:02:01', 'B*27:05:02', 'B*51:01:01', 'C*02:151', 'C*15:02:01'] was removed because it contains unknown alleles\n",
      "Warning! The genotype ['A*03:01:01', 'A*24:02:01', 'B*35:429', 'B*40:544', 'C*02:02:02', 'C*04:01:01'] was removed because it contains unknown alleles\n",
      "Warning! The genotype ['A*02:05:01', 'A*66:01:01', 'B*35:01:01', 'B*41:02:01', 'C*04:01:01', 'C*17:03:01'] was removed because it contains unknown alleles\n",
      "Warning! The genotype ['A*03:01:01', 'A*23:01:01', 'B*07:381', 'B*18:177', 'C*07:02:01', 'C*12:03:01'] was removed because it contains unknown alleles\n",
      "Warning! The genotype ['A*01:383', 'A*02:884:01', 'B*40:01:02', 'B*51:01:01', 'C*01:02:01', 'C*03:04:01'] was removed because it contains unknown alleles\n",
      "Warning! The genotype ['A*02:01:01', 'A*24:02:01', 'B*15:212', 'B*40:21', 'C*03:04:01', 'C*04:01:01'] was removed because it contains unknown alleles\n",
      "Warning! The genotype ['A*03:12', 'A*26:20:02', 'B*18:105', 'B*35:32:02', 'C*04:01:01', 'C*07:01:01'] was removed because it contains unknown alleles\n",
      "Warning! The genotype ['A*25:01:01', 'A*31:170', 'B*07:381', 'B*18:177', 'C*07:02:01', 'C*12:03:01'] was removed because it contains unknown alleles\n",
      "Warning! The genotype ['A*02:01:01', 'A*03:01:01', 'B*15:247', 'B*44:27:01', 'C*03:03:01', 'C*05:01:01'] was removed because it contains unknown alleles\n",
      "Warning! The genotype ['A*25:01:01', 'A*26:01:01', 'B*40:444', 'B*52:01:01', 'C*03:04:01', 'C*12:02:02'] was removed because it contains unknown alleles\n",
      "Warning! The genotype ['A*03:01:01', 'A*25:73', 'B*18:01:01', 'B*44:27:01', 'C*07:04:01', 'C*12:03:01'] was removed because it contains unknown alleles\n",
      "Warning! The genotype ['A*02:01:01', 'A*24:02:01', 'B*18:01:01', 'B*41:02:01', 'C*07:01:01', 'C*17:03:01'] was removed because it contains unknown alleles\n",
      "Warning! The genotype ['A*30:01:01', 'A*31:01:02', 'B*39:01:01', 'B*44:05:01', 'C*02:134', 'C*12:140:01'] was removed because it contains unknown alleles\n",
      "Warning! The genotype ['A*02:01:01', 'A*03:01:01', 'B*07:381', 'B*14:02:01', 'C*07:02:01', 'C*08:02:01'] was removed because it contains unknown alleles\n",
      "Warning! The genotype ['A*03:01:01', 'A*24:02:01', 'B*07:02:01', 'B*40:01:02', 'C*03:344:01', 'C*07:578'] was removed because it contains unknown alleles\n",
      "Warning! The genotype ['A*03:01:14', 'A*66:01:01', 'B*07:02:01', 'B*41:02:01', 'C*07:02:01', 'C*17:03:01'] was removed because it contains unknown alleles\n",
      "Warning! The genotype ['A*03:02:01', 'A*24:02:01', 'B*39:06:02', 'B*44:02:01', 'C*07:02:01', 'C*16:04:01'] was removed because it contains unknown alleles\n",
      "Warning! The genotype ['A*01:01:01', 'A*26:01:01', 'B*07:02:01', 'B*07:07:01', 'C*07:02:01', 'C*07:02:01'] was removed because it contains unknown alleles\n",
      "Warning! The genotype ['A*01:01:01', 'A*11:362', 'B*37:01:01', 'B*50:01:01', 'C*06:02:01', 'C*06:02:01'] was removed because it contains unknown alleles\n",
      "Warning! The genotype ['A*02:01:01', 'A*24:02:01', 'B*15:247', 'B*44:27:01', 'C*03:03:01', 'C*05:01:01'] was removed because it contains unknown alleles\n",
      "Warning! The genotype ['A*02:01:01', 'A*26:01:01', 'B*08:01:01', 'B*41:02:01', 'C*07:02:01', 'C*17:03:01'] was removed because it contains unknown alleles\n",
      "Warning! The genotype ['A*01:01:01', 'A*02:01:01', 'B*39:01:01', 'B*41:02:01', 'C*12:03:01', 'C*17:03:01'] was removed because it contains unknown alleles\n",
      "Warning! The genotype ['A*01:143', 'A*31:21', 'B*07:02:01', 'B*49:01:01', 'C*07:01:01', 'C*07:02:01'] was removed because it contains unknown alleles\n",
      "Warning! The genotype ['A*01:01:01', 'A*02:01:01', 'B*08:01:01', 'B*18:177', 'C*07:01:01', 'C*07:02:01'] was removed because it contains unknown alleles\n",
      "Warning! The genotype ['A*02:05:01', 'A*11:01:01', 'B*07:02:01', 'B*58:01:01', 'C*07:19', 'C*07:27:01'] was removed because it contains unknown alleles\n",
      "Warning! The genotype ['A*01:01:01', 'A*24:02:01', 'B*07:02:01', 'B*08:187', 'C*07:01:01', 'C*07:02:01'] was removed because it contains unknown alleles\n",
      "Warning! The genotype ['A*23:01:01', 'A*30:01:01', 'B*35:71', 'B*44:03:01', 'C*03:03:01', 'C*04:01:01'] was removed because it contains unknown alleles\n",
      "Warning! The genotype ['A*24:50', 'A*26:16', 'B*07:02:01', 'B*41:01:01', 'C*07:02:01', 'C*17:01:01'] was removed because it contains unknown alleles\n",
      "Warning! The genotype ['A*01:01:01', 'A*03:01:01', 'B*44:27:01', 'B*50:01:01', 'C*06:11', 'C*07:406'] was removed because it contains unknown alleles\n",
      "Warning! The genotype ['A*01:01:01', 'A*02:704', 'B*27:05:02', 'B*41:02:01', 'C*02:02:02', 'C*17:03:01'] was removed because it contains unknown alleles\n",
      "Warning! The genotype ['A*24:02:01', 'A*24:02:106', 'B*07:02:01', 'B*56:01:01', 'C*01:249', 'C*07:02:01'] was removed because it contains unknown alleles\n",
      "Warning! The genotype ['A*24:290', 'A*68:249', 'B*18:01:01', 'B*44:02:01', 'C*07:04:01', 'C*12:03:01'] was removed because it contains unknown alleles\n",
      "Warning! The genotype ['A*03:01:01', 'A*66:01:01', 'B*40:80', 'B*41:02:01', 'C*03:04:01', 'C*17:03:01'] was removed because it contains unknown alleles\n",
      "Warning! The genotype ['A*11:88', 'A*24:50', 'B*39:01:01', 'B*51:01:01', 'C*07:02:01', 'C*15:02:01'] was removed because it contains unknown alleles\n",
      "Warning! The genotype ['A*02:01:01', 'A*26:01:01', 'B*07:05:01', 'B*57:01:01', 'C*06:02:01', 'C*15:05:02'] was removed because it contains unknown alleles\n",
      "Warning! The genotype ['A*02:01:01', 'A*68:24', 'B*13:02:01', 'B*48:01:01', 'C*06:02:01', 'C*08:03:01'] was removed because it contains unknown alleles\n",
      "Warning! The genotype ['A*03:72', 'A*24:104', 'B*35:01:01', 'B*48:01:01', 'C*04:01:01', 'C*08:01:01'] was removed because it contains unknown alleles\n",
      "Warning! The genotype ['A*11:01:01', 'A*68:01:02', 'B*07:02:01', 'B*27:14', 'C*01:02:01', 'C*02:02:02'] was removed because it contains unknown alleles\n",
      "Warning! The genotype ['A*02:01:01', 'A*02:01:01', 'B*18:177', 'B*44:464:01', 'C*05:01:01', 'C*07:92'] was removed because it contains unknown alleles\n",
      "Warning! The genotype ['A*02:01:01', 'A*02:06:01', 'B*15:01:01', 'B*48:01:01', 'C*03:04:03', 'C*08:03:01'] was removed because it contains unknown alleles\n",
      "Warning! The genotype ['A*02:783', 'A*30:04:01', 'B*44:05:01', 'B*49:01:01', 'C*07:01:01', 'C*07:01:01'] was removed because it contains unknown alleles\n",
      "Warning! The genotype ['A*03:01:01', 'A*23:01:01', 'B*07:02:01', 'B*41:02:01', 'C*07:02:01', 'C*17:03:01'] was removed because it contains unknown alleles\n",
      "Warning! The genotype ['A*02:01:01', 'A*24:571', 'B*07:02:01', 'B*27:02:01', 'C*02:02:02', 'C*07:02:01'] was removed because it contains unknown alleles\n",
      "Warning! The genotype ['A*11:88', 'A*24:50', 'B*27:05:02', 'B*35:03:01', 'C*02:151', 'C*04:01:01'] was removed because it contains unknown alleles\n",
      "Warning! The genotype ['A*02:01:01', 'A*11:01:01', 'B*35:380:01', 'B*44:464:01', 'C*04:01:01', 'C*05:01:01'] was removed because it contains unknown alleles\n",
      "Warning! The genotype ['A*02:01:01', 'A*68:02:01', 'B*14:118', 'B*44:03:02', 'C*07:06:01', 'C*08:02:01'] was removed because it contains unknown alleles\n",
      "Warning! The genotype ['A*30:01:01', 'A*32:01:01', 'B*13:02:01', 'B*35:319', 'C*04:360', 'C*18:01:01'] was removed because it contains unknown alleles\n",
      "Warning! The genotype ['A*02:06:01', 'A*11:01:01', 'B*18:58', 'B*35:190', 'C*04:01:01', 'C*07:01:01'] was removed because it contains unknown alleles\n",
      "Warning! The genotype ['A*24:02:01', 'A*66:01:01', 'B*41:02:01', 'B*51:01:01', 'C*15:04:01', 'C*17:03:01'] was removed because it contains unknown alleles\n",
      "Warning! The genotype ['A*01:01:01', 'A*26:01:01', 'B*15:01:01', 'B*15:01:01', 'C*01:51', 'C*03:04:01'] was removed because it contains unknown alleles\n",
      "Warning! The genotype ['A*24:02:01', 'A*25:01:01', 'B*53:01:01', 'B*78:02:02', 'C*04:01:01', 'C*14:02:01'] was removed because it contains unknown alleles\n",
      "Warning! The genotype ['A*02:01:01', 'A*03:01:01', 'B*35:01:01', 'B*41:02:01', 'C*04:01:01', 'C*17:03:01'] was removed because it contains unknown alleles\n",
      "Warning! The genotype ['A*03:01:01', 'A*25:01:01', 'B*07:02:01', 'B*18:177', 'C*07:02:01', 'C*12:03:01'] was removed because it contains unknown alleles\n",
      "Warning! The genotype ['A*01:01:01', 'A*03:01:01', 'B*07:381', 'B*51:230:01', 'C*07:02:01', 'C*14:02:01'] was removed because it contains unknown alleles\n",
      "Warning! The genotype ['A*02:01:01', 'A*24:02:01', 'B*27:05:02', 'B*51:01:01', 'C*02:02:02', 'C*16:02:01'] was removed because it contains unknown alleles\n",
      "Warning! The genotype ['A*03:01:01', 'A*11:01:01', 'B*44:06', 'B*51:57', 'C*12:03:01', 'C*12:03:01'] was removed because it contains unknown alleles\n",
      "Warning! The genotype ['A*02:01:01', 'A*11:01:01', 'B*15:01:01', 'B*44:02:01', 'C*03:03:01', 'C*12:345N'] was removed because it contains unknown alleles\n",
      "Warning! The genotype ['A*02:01:01', 'A*25:01:01', 'B*18:01:01', 'B*35:01:01', 'C*12:03:01', 'C*14:89'] was removed because it contains unknown alleles\n",
      "Warning! The genotype ['A*02:01:01', 'A*02:01:01', 'B*08:01:01', 'B*18:01:01', 'C*02:02:02', 'C*07:314:02'] was removed because it contains unknown alleles\n",
      "Warning! The genotype ['A*11:01:01', 'A*26:01:01', 'B*37:55', 'B*51:01:01', 'C*07:01:01', 'C*14:02:01'] was removed because it contains unknown alleles\n",
      "Warning! The genotype ['A*03:02:01', 'A*24:02:01', 'B*07:02:01', 'B*44:02:01', 'C*07:02:01', 'C*16:04:01'] was removed because it contains unknown alleles\n",
      "Warning! The genotype ['A*24:02:01', 'A*24:02:01', 'B*44:02:01', 'B*48:01:01', 'C*08:03:01', 'C*16:04:01'] was removed because it contains unknown alleles\n",
      "Warning! The genotype ['A*03:72', 'A*24:104', 'B*07:02:01', 'B*55:01:01', 'C*01:02:01', 'C*07:02:01'] was removed because it contains unknown alleles\n",
      "Warning! The genotype ['A*02:01:01', 'A*24:02:01', 'B*37:80', 'B*52:07:02', 'C*06:02:01', 'C*12:02:02'] was removed because it contains unknown alleles\n",
      "Warning! The genotype ['A*01:01:01', 'A*23:01:01', 'B*35:309', 'B*44:37:01', 'C*04:01:01', 'C*04:01:01'] was removed because it contains unknown alleles\n",
      "Warning! The genotype ['A*02:569', 'A*26:01:01', 'B*40:01:02', 'B*49:01:01', 'C*03:344:01', 'C*07:96:01'] was removed because it contains unknown alleles\n",
      "Warning! The genotype ['A*03:12', 'A*11:199:01', 'B*13:02:01', 'B*35:01:01', 'C*04:01:01', 'C*06:02:01'] was removed because it contains unknown alleles\n",
      "Warning! The genotype ['A*03:01:01', 'A*33:01:01', 'B*14:64', 'B*44:464:01', 'C*08:02:01', 'C*16:04:01'] was removed because it contains unknown alleles\n",
      "Warning! The genotype ['A*03:02:01', 'A*31:139', 'B*08:01:01', 'B*51:01:01', 'C*07:02:01', 'C*07:02:01'] was removed because it contains unknown alleles\n",
      "Warning! The genotype ['A*02:01:01', 'A*24:02:01', 'B*18:01:01', 'B*41:02:01', 'C*12:03:01', 'C*17:03:01'] was removed because it contains unknown alleles\n",
      "Warning! The genotype ['A*02:447', 'A*26:01:01', 'B*18:03:01', 'B*40:02:01', 'C*03:04:01', 'C*07:01:01'] was removed because it contains unknown alleles\n",
      "Warning! The genotype ['A*01:01:01', 'A*30:01:01', 'B*27:05:03', 'B*41:02:01', 'C*02:02:02', 'C*17:03:01'] was removed because it contains unknown alleles\n",
      "Warning! The genotype ['A*03:72', 'A*24:104', 'B*07:02:01', 'B*18:01:01', 'C*07:01:01', 'C*07:02:01'] was removed because it contains unknown alleles\n",
      "Warning! The genotype ['A*02:01:01', 'A*02:06:01', 'B*07:10', 'B*40:02:01', 'C*03:04:01', 'C*07:02:01'] was removed because it contains unknown alleles\n",
      "Warning! The genotype ['A*01:319', 'A*02:884:01', 'B*08:01:01', 'B*44:02:01', 'C*05:01:01', 'C*07:01:01'] was removed because it contains unknown alleles\n",
      "Warning! The genotype ['A*02:01:01', 'A*23:04', 'B*49:01:01', 'B*50:01:01', 'C*06:02:01', 'C*07:01:01'] was removed because it contains unknown alleles\n",
      "Warning! The genotype ['A*02:01:01', 'A*02:01:01', 'B*50:01:01', 'B*58:01:01', 'C*06:02:01', 'C*07:18:01'] was removed because it contains unknown alleles\n",
      "Warning! The genotype ['A*01:01:01', 'A*02:01:01', 'B*08:01:01', 'B*44:02:01', 'C*05:01:01', 'C*07:190'] was removed because it contains unknown alleles\n",
      "Warning! The genotype ['A*02:01:01', 'A*02:783', 'B*07:02:01', 'B*07:02:01', 'C*07:02:01', 'C*07:02:01'] was removed because it contains unknown alleles\n",
      "Warning! The genotype ['A*02:06:01', 'A*11:01:01', 'B*37:01:01', 'B*48:01:01', 'C*06:02:01', 'C*08:06'] was removed because it contains unknown alleles\n",
      "Warning! The genotype ['A*01:01:01', 'A*24:02:01', 'B*18:01:01', 'B*37:01:01', 'C*06:326Q', 'C*12:03:01'] was removed because it contains unknown alleles\n",
      "Warning! The genotype ['A*01:01:01', 'A*02:32N', 'B*40:01:02', 'B*51:01:01', 'C*03:04:01', 'C*14:02:01'] was removed because it contains unknown alleles\n",
      "Warning! The genotype ['A*26:207', 'A*33:51', 'B*48:01:01', 'B*58:01:01', 'C*03:02:02', 'C*08:01:01'] was removed because it contains unknown alleles\n",
      "Warning! The genotype ['A*25:01:01', 'A*32:01:01', 'B*15:01:01', 'B*51:01:01', 'C*03:03:01', 'C*15:13:01'] was removed because it contains unknown alleles\n",
      "Warning! The genotype ['A*03:01:01', 'A*03:52', 'B*08:01:01', 'B*35:03:01', 'C*04:01:01', 'C*07:01:01'] was removed because it contains unknown alleles\n",
      "Warning! The genotype ['A*03:01:01', 'A*30:01:01', 'B*13:02:01', 'B*35:03:01', 'C*04:360', 'C*18:01:01'] was removed because it contains unknown alleles\n",
      "Warning! The genotype ['A*11:01:01', 'A*23:01:01', 'B*13:02:01', 'B*44:03:01', 'C*04:360', 'C*18:01:01'] was removed because it contains unknown alleles\n",
      "Warning! The genotype ['A*01:01:01', 'A*03:01:01', 'B*35:01:01', 'B*35:02:01', 'C*04:144', 'C*06:02:01'] was removed because it contains unknown alleles\n",
      "Warning! The genotype ['A*11:01:01', 'A*31:01:02', 'B*14:64', 'B*27:05:02', 'C*01:02:01', 'C*08:15:01'] was removed because it contains unknown alleles\n",
      "Warning! The genotype ['A*02:01:01', 'A*03:01:01', 'B*27:197', 'B*35:279', 'C*07:02:01', 'C*12:03:01'] was removed because it contains unknown alleles\n",
      "Warning! The genotype ['A*02:01:01', 'A*29:02:01', 'B*51:01:01', 'B*58:01:01', 'C*07:18:01', 'C*14:02:01'] was removed because it contains unknown alleles\n",
      "Warning! The genotype ['A*02:01:01', 'A*11:01:01', 'B*39:01:01', 'B*51:01:01', 'C*12:05:01', 'C*16:201'] was removed because it contains unknown alleles\n",
      "Warning! The genotype ['A*02:01:01', 'A*03:01:01', 'B*15:01:01', 'B*41:03:02', 'C*03:03:01', 'C*17:03:01'] was removed because it contains unknown alleles\n",
      "Warning! The genotype ['A*03:312', 'A*68:01:02', 'B*18:01:01', 'B*40:02:01', 'C*02:02:02', 'C*12:03:01'] was removed because it contains unknown alleles\n",
      "Warning! The genotype ['A*24:02:01', 'A*68:01:02', 'B*44:270:01', 'B*51:271', 'C*07:04:01', 'C*15:13:01'] was removed because it contains unknown alleles\n",
      "Warning! The genotype ['A*02:01:01', 'A*23:01:01', 'B*07:381', 'B*50:57', 'C*06:02:01', 'C*07:126'] was removed because it contains unknown alleles\n",
      "Warning! The genotype ['A*01:380:01', 'A*11:326', 'B*55:01:01', 'B*57:01:01', 'C*03:03:01', 'C*06:02:01'] was removed because it contains unknown alleles\n",
      "Warning! The genotype ['A*01:01:01', 'A*03:02:01', 'B*35:03:01', 'B*51:01:01', 'C*12:140:02', 'C*15:10:01'] was removed because it contains unknown alleles\n",
      "Warning! The genotype ['A*02:02:01', 'A*03:01:01', 'B*07:381', 'B*14:64', 'C*07:02:01', 'C*08:02:01'] was removed because it contains unknown alleles\n",
      "Warning! The genotype ['A*01:01:01', 'A*24:02:01', 'B*08:01:01', 'B*15:142', 'C*03:03:01', 'C*07:01:01'] was removed because it contains unknown alleles\n",
      "Warning! The genotype ['A*03:01:01', 'A*68:01:02', 'B*38:01:01', 'B*44:02:01', 'C*05:248', 'C*12:03:01'] was removed because it contains unknown alleles\n",
      "Warning! The genotype ['A*02:01:01', 'A*02:01:01', 'B*27:127', 'B*47:04', 'C*01:02:01', 'C*07:04:01'] was removed because it contains unknown alleles\n",
      "Warning! The genotype ['A*30:01:01', 'A*66:01:01', 'B*13:02:01', 'B*41:02:01', 'C*06:02:01', 'C*17:03:01'] was removed because it contains unknown alleles\n",
      "Warning! The genotype ['A*25:01:01', 'A*26:01:01', 'B*18:177', 'B*44:03:01', 'C*12:03:01', 'C*16:01:01'] was removed because it contains unknown alleles\n",
      "Warning! The genotype ['A*03:01:01', 'A*24:02:01', 'B*35:208:02', 'B*57:01:01', 'C*04:01:01', 'C*06:02:01'] was removed because it contains unknown alleles\n",
      "Warning! The genotype ['A*02:01:01', 'A*02:01:01', 'B*15:212', 'B*40:21', 'C*03:04:01', 'C*04:01:01'] was removed because it contains unknown alleles\n",
      "Warning! The genotype ['A*02:01:01', 'A*26:01:01', 'B*18:01:01', 'B*57:01:01', 'C*05:42', 'C*06:217'] was removed because it contains unknown alleles\n",
      "Warning! The genotype ['A*02:01:01', 'A*11:01:01', 'B*07:04:01', 'B*52:01:01', 'C*07:51', 'C*12:132'] was removed because it contains unknown alleles\n",
      "Warning! The genotype ['A*03:72', 'A*24:104', 'B*08:01:01', 'B*40:02:01', 'C*02:02:02', 'C*07:01:01'] was removed because it contains unknown alleles\n",
      "Warning! The genotype ['A*03:01:01', 'A*29:01:01', 'B*35:01:01', 'B*41:02:01', 'C*04:01:01', 'C*17:03:01'] was removed because it contains unknown alleles\n",
      "Warning! The genotype ['A*03:01:01', 'A*66:01:01', 'B*40:16:01', 'B*42:01:01', 'C*07:02:01', 'C*17:03:01'] was removed because it contains unknown alleles\n",
      "Warning! The genotype ['A*02:01:01', 'A*02:01:01', 'B*07:02:01', 'B*51:07:01', 'C*07:02:01', 'C*14:02:01'] was removed because it contains unknown alleles\n",
      "Warning! The genotype ['A*02:01:01', 'A*26:01:01', 'B*41:02:01', 'B*44:02:01', 'C*03:03:01', 'C*17:03:01'] was removed because it contains unknown alleles\n",
      "Warning! The genotype ['A*02:01:01', 'A*24:50', 'B*42:01:01', 'B*48:08', 'C*07:02:01', 'C*17:03:01'] was removed because it contains unknown alleles\n",
      "Warning! The genotype ['A*24:02:01', 'A*24:02:01', 'B*07:02:01', 'B*18:01:01', 'C*07:27:01', 'C*07:639'] was removed because it contains unknown alleles\n",
      "Warning! The genotype ['A*03:01:01', 'A*03:35', 'B*47:01:01', 'B*50:01:01', 'C*06:02:01', 'C*06:02:01'] was removed because it contains unknown alleles\n",
      "Warning! The genotype ['A*02:01:01', 'A*68:01:24', 'B*51:143', 'B*56:25', 'C*01:02:01', 'C*14:02:01'] was removed because it contains unknown alleles\n",
      "Warning! The genotype ['A*02:01:01', 'A*24:74:02', 'B*07:02:01', 'B*55:01:01', 'C*01:02:01', 'C*07:02:01'] was removed because it contains unknown alleles\n",
      "Warning! The genotype ['A*02:01:01', 'A*23:01:01', 'B*07:86', 'B*44:224', 'C*04:01:01', 'C*07:464'] was removed because it contains unknown alleles\n",
      "Warning! The genotype ['A*02:01:01', 'A*24:02:01', 'B*15:212', 'B*40:21', 'C*03:04:01', 'C*03:319'] was removed because it contains unknown alleles\n",
      "Warning! The genotype ['A*01:01:01', 'A*02:01:01', 'B*08:156', 'B*42:01:01', 'C*07:27:01', 'C*07:639'] was removed because it contains unknown alleles\n",
      "Warning! The genotype ['A*02:01:01', 'A*32:01:01', 'B*27:05:02', 'B*51:01:01', 'C*02:43:01', 'C*16:02:01'] was removed because it contains unknown alleles\n",
      "Warning! The genotype ['A*02:01:01', 'A*32:01:43', 'B*13:02:01', 'B*35:03:01', 'C*04:148', 'C*06:02:01'] was removed because it contains unknown alleles\n",
      "Warning! The genotype ['A*03:12', 'A*11:199:01', 'B*07:02:01', 'B*57:01:01', 'C*06:02:01', 'C*07:02:01'] was removed because it contains unknown alleles\n",
      "Warning! The genotype ['A*02:01:01', 'A*02:01:01', 'B*49:62', 'B*51:07:01', 'C*07:1000', 'C*14:02:01'] was removed because it contains unknown alleles\n",
      "Warning! The genotype ['A*01:01:01', 'A*03:01:01', 'B*35:03:01', 'B*52:01:01', 'C*04:04:01', 'C*12:02:02'] was removed because it contains unknown alleles\n",
      "Warning! The genotype ['A*25:01:01', 'A*25:01:01', 'B*18:01:01', 'B*18:43', 'C*12:03:01', 'C*12:03:01'] was removed because it contains unknown alleles\n",
      "Warning! The genotype ['A*24:02:01', 'A*26:01:01', 'B*37:108', 'B*44:302:01', 'C*06:02:01', 'C*16:01:01'] was removed because it contains unknown alleles\n",
      "Warning! The genotype ['A*02:01:01', 'A*02:01:01', 'B*14:64', 'B*40:379:01', 'C*03:04:01', 'C*08:02:01'] was removed because it contains unknown alleles\n",
      "Warning! The genotype ['A*03:01:01', 'A*24:02:01', 'B*07:06:01', 'B*18:01:01', 'C*07:01:01', 'C*15:05:02'] was removed because it contains unknown alleles\n",
      "Warning! The genotype ['A*01:01:01', 'A*11:01:01', 'B*52:01:01', 'B*58:01:01', 'C*07:18:01', 'C*12:02:02'] was removed because it contains unknown alleles\n",
      "Warning! The genotype ['A*11:01:01', 'A*24:02:01', 'B*35:01:01', 'B*41:02:01', 'C*04:01:01', 'C*17:03:01'] was removed because it contains unknown alleles\n",
      "Warning! The genotype ['A*24:50', 'A*26:16', 'B*15:01:01', 'B*41:01:01', 'C*03:04:01', 'C*16:04:01'] was removed because it contains unknown alleles\n",
      "Warning! The genotype ['A*03:12', 'A*26:20:02', 'B*14:02:01', 'B*38:01:01', 'C*08:02:01', 'C*12:03:01'] was removed because it contains unknown alleles\n",
      "Warning! The genotype ['A*25:01:01', 'A*33:03:01', 'B*07:381', 'B*18:177', 'C*07:02:01', 'C*12:03:01'] was removed because it contains unknown alleles\n",
      "Warning! The genotype ['A*02:35:01', 'A*68:01:02', 'B*13:02:01', 'B*14:02:01', 'C*06:274', 'C*08:02:01'] was removed because it contains unknown alleles\n",
      "Warning! The genotype ['A*23:01:01', 'A*32:01:01', 'B*07:381', 'B*15:535', 'C*03:03:01', 'C*07:02:01'] was removed because it contains unknown alleles\n",
      "Warning! The genotype ['A*01:01:01', 'A*24:02:01', 'B*48:01:01', 'B*57:01:01', 'C*06:02:01', 'C*08:03:01'] was removed because it contains unknown alleles\n",
      "Warning! The genotype ['A*01:01:01', 'A*02:01:01', 'B*15:01:01', 'B*48:01:01', 'C*03:03:01', 'C*08:03:01'] was removed because it contains unknown alleles\n",
      "Warning! The genotype ['A*02:01:01', 'A*30:02:01', 'B*18:168', 'B*39:43', 'C*05:01:01', 'C*17:03:01'] was removed because it contains unknown alleles\n",
      "Warning! The genotype ['A*02:01:01', 'A*26:01:01', 'B*07:381', 'B*38:99', 'C*07:02:01', 'C*12:03:01'] was removed because it contains unknown alleles\n",
      "Warning! The genotype ['A*03:01:01', 'A*25:01:01', 'B*18:04:02', 'B*35:197', 'C*04:01:01', 'C*12:03:01'] was removed because it contains unknown alleles\n",
      "Warning! The genotype ['A*03:371', 'A*25:01:01', 'B*07:02:01', 'B*07:02:01', 'C*03:04:01', 'C*07:02:01'] was removed because it contains unknown alleles\n",
      "Warning! The genotype ['A*01:01:01', 'A*02:01:01', 'B*14:01:01', 'B*44:03:01', 'C*04:01:01', 'C*08:02:01'] was removed because it contains unknown alleles\n",
      "Warning! The genotype ['A*02:01:01', 'A*02:01:01', 'B*51:01:01', 'B*51:01:01', 'C*16:02:01', 'C*16:02:01'] was removed because it contains unknown alleles\n",
      "Warning! The genotype ['A*23:01:01', 'A*32:01:01', 'B*44:464:01', 'B*50:57', 'C*05:01:01', 'C*06:02:01'] was removed because it contains unknown alleles\n",
      "Warning! The genotype ['A*24:02:01', 'A*68:01:02', 'B*44:02:01', 'B*52:01:01', 'C*12:02:02', 'C*16:04:01'] was removed because it contains unknown alleles\n",
      "Warning! The genotype ['A*11:72', 'A*24:02:01', 'B*35:01:01', 'B*51:01:01', 'C*04:01:01', 'C*04:01:01'] was removed because it contains unknown alleles\n",
      "Warning! The genotype ['A*11:01:01', 'A*24:02:01', 'B*27:05:02', 'B*35:01:01', 'C*02:151', 'C*04:01:01'] was removed because it contains unknown alleles\n",
      "Warning! The genotype ['A*01:383', 'A*02:884:01', 'B*08:01:01', 'B*48:01:01', 'C*07:01:01', 'C*08:03:01'] was removed because it contains unknown alleles\n",
      "Warning! The genotype ['A*01:383', 'A*02:884:01', 'B*08:01:01', 'B*35:01:01', 'C*04:01:01', 'C*07:01:01'] was removed because it contains unknown alleles\n",
      "Warning! The genotype ['A*02:327', 'A*02:327', 'B*27:98', 'B*27:98', 'C*01:09:01', 'C*06:30'] was removed because it contains unknown alleles\n",
      "Warning! The genotype ['A*25:01:01', 'A*68:01:01', 'B*18:01:01', 'B*51:01:01', 'C*12:03:01', 'C*16:02:01'] was removed because it contains unknown alleles\n",
      "Warning! The genotype ['A*11:01:01', 'A*32:01:01', 'B*35:429', 'B*40:544', 'C*02:02:02', 'C*04:01:01'] was removed because it contains unknown alleles\n",
      "Warning! The genotype ['A*02:07:01', 'A*69:01:01', 'B*46:01:01', 'B*57:02:01', 'C*01:02:01', 'C*18:02:01'] was removed because it contains unknown alleles\n",
      "Warning! The genotype ['A*02:05:01', 'A*24:02:01', 'B*18:01:01', 'B*50:01:01', 'C*06:60', 'C*07:01:01'] was removed because it contains unknown alleles\n",
      "Warning! The genotype ['A*26:01:01', 'A*26:01:01', 'B*14:01:01', 'B*38:01:01', 'C*08:02:01', 'C*12:03:01'] was removed because it contains unknown alleles\n",
      "Warning! The genotype ['A*24:32', 'A*32:01:01', 'B*44:03:01', 'B*55:01:01', 'C*03:03:01', 'C*04:04:01'] was removed because it contains unknown alleles\n",
      "Warning! The genotype ['A*25:01:01', 'A*26:01:01', 'B*07:381', 'B*38:99', 'C*07:02:01', 'C*12:03:01'] was removed because it contains unknown alleles\n",
      "Warning! The genotype ['A*24:02:01', 'A*25:01:01', 'B*15:58', 'B*39:91', 'C*03:03:01', 'C*07:02:01'] was removed because it contains unknown alleles\n",
      "Warning! The genotype ['A*11:01:01', 'A*24:02:01', 'B*07:381', 'B*35:380:01', 'C*03:03:01', 'C*07:02:01'] was removed because it contains unknown alleles\n",
      "Warning! The genotype ['A*03:01:01', 'A*24:104', 'B*18:01:01', 'B*35:01:01', 'C*04:01:01', 'C*07:01:01'] was removed because it contains unknown alleles\n",
      "Warning! The genotype ['A*02:01:01', 'A*26:16', 'B*44:06', 'B*44:459', 'C*02:02:02', 'C*14:02:01'] was removed because it contains unknown alleles\n",
      "Warning! The genotype ['A*01:01:01', 'A*24:02:01', 'B*38:01:01', 'B*48:01:01', 'C*08:03:01', 'C*12:98'] was removed because it contains unknown alleles\n",
      "Warning! The genotype ['A*03:24', 'A*68:178', 'B*07:02:01', 'B*14:02:01', 'C*07:02:01', 'C*08:02:01'] was removed because it contains unknown alleles\n",
      "Warning! The genotype ['A*03:01:01', 'A*66:01:01', 'B*41:02:01', 'B*44:27:01', 'C*07:04:01', 'C*17:03:01'] was removed because it contains unknown alleles\n",
      "Warning! The genotype ['A*03:01:01', 'A*29:02:01', 'B*35:63', 'B*35:87', 'C*04:01:01', 'C*17:03:01'] was removed because it contains unknown alleles\n",
      "Warning! The genotype ['A*03:01:01', 'A*11:01:01', 'B*07:02:01', 'B*52:90', 'C*07:51', 'C*12:132'] was removed because it contains unknown alleles\n",
      "Warning! The genotype ['A*01:01:01', 'A*11:01:01', 'B*38:01:01', 'B*41:02:01', 'C*02:02:02', 'C*17:03:01'] was removed because it contains unknown alleles\n",
      "Warning! The genotype ['A*02:01:01', 'A*02:01:01', 'B*44:459', 'B*51:42', 'C*04:01:01', 'C*15:02:01'] was removed because it contains unknown alleles\n",
      "Warning! The genotype ['A*01:383', 'A*02:884:01', 'B*15:01:01', 'B*44:03:01', 'C*03:04:01', 'C*04:01:01'] was removed because it contains unknown alleles\n",
      "Warning! The genotype ['A*02:01:01', 'A*30:01:01', 'B*13:02:01', 'B*41:02:01', 'C*06:02:01', 'C*17:03:01'] was removed because it contains unknown alleles\n",
      "Warning! The genotype ['A*02:01:01', 'A*26:01:01', 'B*07:02:01', 'B*49:01:01', 'C*07:27:01', 'C*07:639'] was removed because it contains unknown alleles\n",
      "Warning! The genotype ['A*03:01:73', 'A*32:01:01', 'B*07:02:01', 'B*55:01:01', 'C*03:39', 'C*07:578'] was removed because it contains unknown alleles\n",
      "Warning! The genotype ['A*03:22:01', 'A*30:01:01', 'B*07:02:01', 'B*13:02:01', 'C*06:02:01', 'C*07:02:01'] was removed because it contains unknown alleles\n",
      "Warning! The genotype ['A*11:01:01', 'A*68:01:02', 'B*07:02:01', 'B*44:02:01', 'C*07:02:01', 'C*07:68'] was removed because it contains unknown alleles\n",
      "Warning! The genotype ['A*02:864:01', 'A*25:68', 'B*18:01:01', 'B*41:02:01', 'C*12:03:01', 'C*17:03:01'] was removed because it contains unknown alleles\n",
      "Warning! The genotype ['A*02:01:01', 'A*33:01:01', 'B*14:02:01', 'B*27:02:01', 'C*02:63', 'C*08:02:01'] was removed because it contains unknown alleles\n",
      "Warning! The genotype ['A*02:01:01', 'A*68:01:01', 'B*38:99', 'B*40:379:01', 'C*03:04:01', 'C*12:03:01'] was removed because it contains unknown alleles\n",
      "Warning! The genotype ['A*02:01:01', 'A*02:01:01', 'B*13:02:01', 'B*15:01:01', 'C*04:360', 'C*18:01:01'] was removed because it contains unknown alleles\n",
      "Warning! The genotype ['A*02:01:01', 'A*02:01:01', 'B*40:420', 'B*40:74', 'C*12:03:01', 'C*15:02:01'] was removed because it contains unknown alleles\n",
      "Warning! The genotype ['A*24:82', 'A*31:210', 'B*35:01:01', 'B*39:01:01', 'C*04:01:01', 'C*12:03:01'] was removed because it contains unknown alleles\n",
      "Warning! The genotype ['A*26:01:01', 'A*29:01:01', 'B*07:05:01', 'B*38:01:01', 'C*12:03:78', 'C*15:208'] was removed because it contains unknown alleles\n",
      "Warning! The genotype ['A*02:01:01', 'A*03:01:01', 'B*07:381', 'B*15:535', 'C*03:03:01', 'C*07:02:01'] was removed because it contains unknown alleles\n",
      "Warning! The genotype ['A*02:01:01', 'A*24:02:01', 'B*18:177', 'B*44:302:01', 'C*04:01:01', 'C*07:01:01'] was removed because it contains unknown alleles\n",
      "Warning! The genotype ['A*02:01:01', 'A*24:02:01', 'B*41:02:01', 'B*44:05:01', 'C*02:02:02', 'C*17:03:01'] was removed because it contains unknown alleles\n",
      "Warning! The genotype ['A*02:01:01', 'A*23:46', 'B*44:02:01', 'B*44:03:01', 'C*04:01:01', 'C*05:01:01'] was removed because it contains unknown alleles\n",
      "Warning! The genotype ['A*02:01:01', 'A*03:01:01', 'B*15:01:01', 'B*57:01:01', 'C*04:360', 'C*18:01:01'] was removed because it contains unknown alleles\n",
      "Warning! The genotype ['A*26:01:01', 'A*33:191', 'B*14:02:01', 'B*38:01:01', 'C*08:02:01', 'C*12:03:01'] was removed because it contains unknown alleles\n",
      "Warning! The genotype ['A*02:01:01', 'A*02:09:01', 'B*40:157', 'B*44:09', 'C*03:04:01', 'C*16:04:01'] was removed because it contains unknown alleles\n",
      "Warning! The genotype ['A*02:01:170', 'A*25:68', 'B*18:01:01', 'B*27:05:03', 'C*02:02:02', 'C*12:03:01'] was removed because it contains unknown alleles\n",
      "Warning! The genotype ['A*03:01:01', 'A*33:01:01', 'B*44:302:01', 'B*51:230:01', 'C*01:02:01', 'C*02:02:02'] was removed because it contains unknown alleles\n",
      "Warning! The genotype ['A*02:01:01', 'A*24:02:01', 'B*07:02:01', 'B*48:01:01', 'C*07:02:01', 'C*08:03:01'] was removed because it contains unknown alleles\n",
      "Warning! The genotype ['A*01:01:01', 'A*01:01:01', 'B*40:01:02', 'B*51:01:01', 'C*03:04:01', 'C*15:13:01'] was removed because it contains unknown alleles\n",
      "Warning! The genotype ['A*01:01:01', 'A*02:01:01', 'B*51:01:01', 'B*57:01:01', 'C*06:02:01', 'C*15:13:01'] was removed because it contains unknown alleles\n",
      "Warning! The genotype ['A*02:01:01', 'A*31:01:02', 'B*37:01:01', 'B*51:01:01', 'C*06:02:01', 'C*16:02:01'] was removed because it contains unknown alleles\n",
      "Warning! The genotype ['A*02:01:01', 'A*66:01:01', 'B*41:02:01', 'B*44:02:01', 'C*05:01:01', 'C*17:03:01'] was removed because it contains unknown alleles\n",
      "Warning! The genotype ['A*02:01:01', 'A*02:01:01', 'B*07:02:01', 'B*48:01:01', 'C*07:02:01', 'C*08:22:01'] was removed because it contains unknown alleles\n",
      "Warning! The genotype ['A*03:72', 'A*23:64', 'B*07:02:01', 'B*44:03:01', 'C*04:01:01', 'C*07:02:01'] was removed because it contains unknown alleles\n",
      "Warning! The genotype ['A*03:01:01', 'A*24:02:01', 'B*44:06', 'B*44:459', 'C*16:02:01', 'C*16:04:01'] was removed because it contains unknown alleles\n",
      "Warning! The genotype ['A*01:01:01', 'A*32:01:01', 'B*51:01:01', 'B*52:01:01', 'C*07:891', 'C*12:16:02'] was removed because it contains unknown alleles\n",
      "Warning! The genotype ['A*02:01:01', 'A*03:01:01', 'B*41:02:01', 'B*44:02:01', 'C*05:01:01', 'C*17:03:01'] was removed because it contains unknown alleles\n",
      "Warning! The genotype ['A*03:01:01', 'A*11:199:01', 'B*08:01:01', 'B*35:01:01', 'C*04:01:01', 'C*07:01:01'] was removed because it contains unknown alleles\n",
      "Warning! The genotype ['A*11:01:01', 'A*23:01:01', 'B*44:302:01', 'B*51:230:01', 'C*04:01:01', 'C*15:02:01'] was removed because it contains unknown alleles\n",
      "Warning! The genotype ['A*01:01:01', 'A*02:01:01', 'B*48:01:01', 'B*57:01:01', 'C*06:02:01', 'C*08:03:01'] was removed because it contains unknown alleles\n",
      "Warning! The genotype ['A*01:01:01', 'A*03:02:01', 'B*07:02:01', 'B*44:02:01', 'C*07:02:01', 'C*16:04:01'] was removed because it contains unknown alleles\n",
      "Warning! The genotype ['A*02:01:01', 'A*30:04:01', 'B*50:01:01', 'B*51:169', 'C*06:02:01', 'C*16:02:01'] was removed because it contains unknown alleles\n",
      "Warning! The genotype ['A*11:01:01', 'A*24:02:01', 'B*15:01:01', 'B*55:01:01', 'C*03:03:01', 'C*16:04:01'] was removed because it contains unknown alleles\n",
      "Warning! The genotype ['A*02:01:01', 'A*03:01:01', 'B*41:02:01', 'B*44:02:01', 'C*04:01:01', 'C*17:03:01'] was removed because it contains unknown alleles\n",
      "Warning! The genotype ['A*11:88', 'A*24:50', 'B*35:03:01', 'B*40:01:02', 'C*03:04:01', 'C*12:03:01'] was removed because it contains unknown alleles\n",
      "Warning! The genotype ['A*03:12', 'A*11:199:01', 'B*35:01:01', 'B*44:27:01', 'C*04:01:01', 'C*07:04:01'] was removed because it contains unknown alleles\n",
      "Warning! The genotype ['A*02:01:01', 'A*24:02:01', 'B*13:02:01', 'B*40:01:02', 'C*06:02:01', 'C*17:03:01'] was removed because it contains unknown alleles\n",
      "Warning! The genotype ['A*25:01:01', 'A*30:01:01', 'B*18:105', 'B*35:32:02', 'C*03:03:01', 'C*12:03:01'] was removed because it contains unknown alleles\n",
      "Warning! The genotype ['A*01:01:01', 'A*25:01:01', 'B*08:01:01', 'B*57:01:01', 'C*06:127:01', 'C*07:514:02'] was removed because it contains unknown alleles\n",
      "Warning! The genotype ['A*02:01:01', 'A*68:24', 'B*13:02:01', 'B*27:05:02', 'C*02:02:02', 'C*06:02:01'] was removed because it contains unknown alleles\n",
      "Warning! The genotype ['A*02:17:02', 'A*03:01:01', 'B*07:02:01', 'B*51:143', 'C*07:02:01', 'C*15:02:01'] was removed because it contains unknown alleles\n",
      "Warning! The genotype ['A*31:01:02', 'A*68:97', 'B*14:02:01', 'B*15:08:01', 'C*01:02:01', 'C*08:02:01'] was removed because it contains unknown alleles\n",
      "Warning! The genotype ['A*02:01:01', 'A*02:01:01', 'B*18:177', 'B*27:05:02', 'C*01:02:01', 'C*07:617'] was removed because it contains unknown alleles\n",
      "Warning! The genotype ['A*02:01:01', 'A*11:01:01', 'B*44:09', 'B*49:02', 'C*05:01:01', 'C*06:02:01'] was removed because it contains unknown alleles\n",
      "Warning! The genotype ['A*01:01:01', 'A*26:01:01', 'B*15:05:01', 'B*38:01:01', 'C*07:01:01', 'C*12:03:01'] was removed because it contains unknown alleles\n",
      "Warning! The genotype ['A*01:01:01', 'A*01:01:01', 'B*51:01:01', 'B*58:01:01', 'C*07:18:01', 'C*15:02:01'] was removed because it contains unknown alleles\n",
      "Warning! The genotype ['A*24:02:01', 'A*24:02:01', 'B*15:27:01', 'B*39:01:01', 'C*04:01:01', 'C*07:02:01'] was removed because it contains unknown alleles\n",
      "Warning! The genotype ['A*01:01:01', 'A*02:01:01', 'B*08:01:01', 'B*40:01:02', 'C*03:04:01', 'C*07:547'] was removed because it contains unknown alleles\n",
      "Warning! The genotype ['A*11:01:01', 'A*24:181', 'B*35:11:01', 'B*49:01:01', 'C*04:01:01', 'C*07:01:01'] was removed because it contains unknown alleles\n",
      "Warning! The genotype ['A*02:01:01', 'A*03:01:01', 'B*41:02:01', 'B*57:01:01', 'C*06:02:01', 'C*17:03:01'] was removed because it contains unknown alleles\n",
      "Warning! The genotype ['A*02:01:152', 'A*30:01:01', 'B*35:01:01', 'B*44:48:02', 'C*04:01:01', 'C*07:04:01'] was removed because it contains unknown alleles\n",
      "Warning! The genotype ['A*02:01:01', 'A*24:02:01', 'B*40:01:02', 'B*51:05:01', 'C*03:04:01', 'C*04:01:01'] was removed because it contains unknown alleles\n",
      "Warning! The genotype ['A*02:01:01', 'A*03:01:01', 'B*15:24:01', 'B*50:01:01', 'C*03:04:01', 'C*07:01:01'] was removed because it contains unknown alleles\n",
      "Warning! The genotype ['A*01:383', 'A*02:884:01', 'B*15:228', 'B*52:07:02', 'C*06:02:01', 'C*12:02:02'] was removed because it contains unknown alleles\n",
      "Warning! The genotype ['A*03:01:01', 'A*03:12', 'B*07:02:01', 'B*07:02:01', 'C*03:04:01', 'C*03:04:01'] was removed because it contains unknown alleles\n",
      "Warning! The genotype ['A*25:01:01', 'A*30:01:01', 'B*13:02:01', 'B*51:57', 'C*06:02:01', 'C*14:02:01'] was removed because it contains unknown alleles\n",
      "Warning! The genotype ['A*02:01:01', 'A*24:02:01', 'B*40:379:01', 'B*51:230:01', 'C*01:02:01', 'C*03:04:01'] was removed because it contains unknown alleles\n",
      "Warning! The genotype ['A*02:01:01', 'A*26:15', 'B*38:01:01', 'B*44:02:01', 'C*05:01:01', 'C*12:03:01'] was removed because it contains unknown alleles\n",
      "Warning! The genotype ['A*33:03:01', 'A*33:191', 'B*14:02:01', 'B*35:02:01', 'C*04:01:01', 'C*08:02:01'] was removed because it contains unknown alleles\n",
      "Warning! The genotype ['A*33:01:01', 'A*68:01:02', 'B*14:02:01', 'B*40:379:01', 'C*03:04:01', 'C*08:02:01'] was removed because it contains unknown alleles\n",
      "Warning! The genotype ['A*02:01:01', 'A*25:01:01', 'B*07:47', 'B*57:01:01', 'C*06:02:01', 'C*07:02:01'] was removed because it contains unknown alleles\n",
      "Warning! The genotype ['A*24:50', 'A*26:16', 'B*39:01:01', 'B*49:01:01', 'C*07:27:01', 'C*07:639'] was removed because it contains unknown alleles\n",
      "Warning! The genotype ['A*25:01:01', 'A*66:01:01', 'B*13:02:01', 'B*41:02:01', 'C*06:02:01', 'C*17:03:01'] was removed because it contains unknown alleles\n",
      "Warning! The genotype ['A*02:614', 'A*68:278', 'B*14:59', 'B*18:15', 'C*07:01:01', 'C*08:02:01'] was removed because it contains unknown alleles\n",
      "Warning! The genotype ['A*23:01:01', 'A*25:01:01', 'B*18:177', 'B*44:302:01', 'C*04:01:01', 'C*12:03:01'] was removed because it contains unknown alleles\n",
      "Warning! The genotype ['A*02:01:01', 'A*25:01:01', 'B*07:250', 'B*15:01:01', 'C*03:03:01', 'C*07:02:01'] was removed because it contains unknown alleles\n",
      "Warning! The genotype ['A*02:01:01', 'A*26:01:01', 'B*35:01:01', 'B*57:01:01', 'C*04:360', 'C*18:01:02'] was removed because it contains unknown alleles\n",
      "Warning! The genotype ['A*26:01:01', 'A*30:04:01', 'B*35:01:01', 'B*41:01:01', 'C*15:04:01', 'C*16:02:01'] was removed because it contains unknown alleles\n",
      "Warning! The genotype ['A*02:01:01', 'A*02:01:01', 'B*13:02:01', 'B*41:02:01', 'C*06:02:01', 'C*17:03:01'] was removed because it contains unknown alleles\n",
      "Warning! The genotype ['A*02:66', 'A*26:08:01', 'B*15:01:01', 'B*51:01:01', 'C*01:02:01', 'C*03:03:01'] was removed because it contains unknown alleles\n",
      "Warning! The genotype ['A*02:01:01', 'A*24:02:01', 'B*07:381', 'B*18:177', 'C*07:01:01', 'C*07:02:01'] was removed because it contains unknown alleles\n",
      "Warning! The genotype ['A*01:01:01', 'A*02:01:01', 'B*07:48:01', 'B*27:05:02', 'C*01:02:01', 'C*07:02:01'] was removed because it contains unknown alleles\n",
      "Warning! The genotype ['A*02:01:01', 'A*02:01:01', 'B*27:05:02', 'B*38:01:01', 'C*02:163', 'C*12:167'] was removed because it contains unknown alleles\n",
      "Warning! The genotype ['A*02:01:01', 'A*02:01:01', 'B*40:06:01', 'B*44:02:01', 'C*05:01:01', 'C*08:22:01'] was removed because it contains unknown alleles\n",
      "Warning! The genotype ['A*01:383', 'A*02:884:01', 'B*27:02:01', 'B*39:06:02', 'C*02:02:02', 'C*07:02:01'] was removed because it contains unknown alleles\n",
      "Warning! The genotype ['A*01:01:01', 'A*03:01:01', 'B*35:01:01', 'B*50:01:01', 'C*04:360', 'C*18:01:01'] was removed because it contains unknown alleles\n",
      "Warning! The genotype ['A*02:01:01', 'A*26:01:01', 'B*27:02:01', 'B*51:01:01', 'C*02:08:01', 'C*16:121'] was removed because it contains unknown alleles\n",
      "Warning! The genotype ['A*03:12', 'A*26:20:02', 'B*07:02:01', 'B*18:01:01', 'C*07:01:01', 'C*07:02:01'] was removed because it contains unknown alleles\n",
      "Warning! The genotype ['A*01:01:01', 'A*24:02:01', 'B*44:02:01', 'B*57:01:01', 'C*06:02:01', 'C*16:04:01'] was removed because it contains unknown alleles\n",
      "Warning! The genotype ['A*33:03:01', 'A*66:01:01', 'B*35:01:01', 'B*41:02:01', 'C*04:01:01', 'C*17:03:01'] was removed because it contains unknown alleles\n",
      "Warning! The genotype ['A*02:06:01', 'A*03:01:01', 'B*35:380:01', 'B*44:464:01', 'C*01:02:01', 'C*04:01:01'] was removed because it contains unknown alleles\n",
      "Warning! The genotype ['A*02:01:01', 'A*02:06:01', 'B*15:556', 'B*39:01:01', 'C*03:03:01', 'C*07:02:01'] was removed because it contains unknown alleles\n",
      "Warning! The genotype ['A*01:01:13', 'A*01:298', 'B*08:134', 'B*08:49', 'C*06:02:01', 'C*07:615'] was removed because it contains unknown alleles\n",
      "Warning! The genotype ['A*03:72', 'A*24:420', 'B*44:276', 'B*44:46:01', 'C*04:01:01', 'C*04:73'] was removed because it contains unknown alleles\n",
      "Warning! The genotype ['A*02:01:01', 'A*32:01:01', 'B*18:177', 'B*44:464:01', 'C*05:01:01', 'C*12:03:01'] was removed because it contains unknown alleles\n",
      "Warning! The genotype ['A*02:01:01', 'A*02:01:01', 'B*38:01:01', 'B*48:01:01', 'C*08:03:01', 'C*12:98'] was removed because it contains unknown alleles\n",
      "Warning! The genotype ['A*03:02:01', 'A*33:01:01', 'B*14:64', 'B*44:464:01', 'C*08:02:01', 'C*16:04:01'] was removed because it contains unknown alleles\n",
      "Warning! The genotype ['A*02:14', 'A*02:22:01', 'B*38:01:01', 'B*44:05:01', 'C*02:02:02', 'C*12:03:01'] was removed because it contains unknown alleles\n",
      "Warning! The genotype ['A*02:12', 'A*25:01:01', 'B*51:01:01', 'B*52:01:01', 'C*12:02:02', 'C*15:10:01'] was removed because it contains unknown alleles\n",
      "Warning! The genotype ['A*02:01:01', 'A*24:02:01', 'B*39:01:01', 'B*40:01:02', 'C*03:344:01', 'C*07:578'] was removed because it contains unknown alleles\n",
      "Warning! The genotype ['A*26:01:01', 'A*68:01:02', 'B*14:01:01', 'B*27:05:02', 'C*01:02:01', 'C*08:02:01'] was removed because it contains unknown alleles\n",
      "Warning! The genotype ['A*02:01:01', 'A*68:01:02', 'B*27:127', 'B*47:04', 'C*01:02:01', 'C*07:04:01'] was removed because it contains unknown alleles\n",
      "Warning! The genotype ['A*02:09:01', 'A*33:01:01', 'B*40:02:01', 'B*44:02:01', 'C*03:04:01', 'C*16:04:01'] was removed because it contains unknown alleles\n",
      "Warning! The genotype ['A*02:01:01', 'A*03:02:01', 'B*08:01:01', 'B*51:01:01', 'C*01:58', 'C*07:39'] was removed because it contains unknown alleles\n",
      "Warning! The genotype ['A*02:01:01', 'A*02:01:01', 'B*40:01:02', 'B*51:01:01', 'C*03:04:01', 'C*16:02:01'] was removed because it contains unknown alleles\n",
      "Warning! The genotype ['A*02:06:01', 'A*02:06:01', 'B*35:01:01', 'B*44:02:01', 'C*03:03:01', 'C*16:04:01'] was removed because it contains unknown alleles\n",
      "Warning! The genotype ['A*02:01:01', 'A*03:01:01', 'B*07:02:01', 'B*40:01:02', 'C*03:04:01', 'C*07:314:02'] was removed because it contains unknown alleles\n",
      "Warning! The genotype ['A*01:01:01', 'A*03:22:01', 'B*08:01:01', 'B*56:01:01', 'C*01:02:01', 'C*07:01:01'] was removed because it contains unknown alleles\n",
      "Warning! The genotype ['A*01:01:01', 'A*24:02:01', 'B*40:06:01', 'B*57:01:01', 'C*06:02:01', 'C*08:22:01'] was removed because it contains unknown alleles\n",
      "Warning! The genotype ['A*31:01:02', 'A*33:191', 'B*14:02:01', 'B*27:05:02', 'C*02:02:02', 'C*08:02:01'] was removed because it contains unknown alleles\n",
      "Warning! The genotype ['A*02:01:01', 'A*02:01:01', 'B*39:31:01', 'B*44:02:01', 'C*05:01:01', 'C*12:03:01'] was removed because it contains unknown alleles\n",
      "Warning! The genotype ['A*02:14', 'A*02:22:01', 'B*27:05:02', 'B*50:01:01', 'C*01:02:01', 'C*06:02:01'] was removed because it contains unknown alleles\n",
      "Warning! The genotype ['A*02:01:01', 'A*25:01:01', 'B*27:02:01', 'B*50:01:01', 'C*02:163', 'C*06:329:01'] was removed because it contains unknown alleles\n",
      "Warning! The genotype ['A*02:66', 'A*25:01:01', 'B*50:01:01', 'B*51:01:01', 'C*01:02:01', 'C*06:110'] was removed because it contains unknown alleles\n",
      "Warning! The genotype ['A*24:82', 'A*33:01:01', 'B*14:02:01', 'B*50:01:01', 'C*06:02:01', 'C*08:02:01'] was removed because it contains unknown alleles\n",
      "Warning! The genotype ['A*24:02:01', 'A*32:01:01', 'B*44:02:01', 'B*44:02:01', 'C*05:01:01', 'C*16:04:01'] was removed because it contains unknown alleles\n",
      "Warning! The genotype ['A*02:01:01', 'A*11:269', 'B*44:27:01', 'B*52:01:01', 'C*07:04:01', 'C*12:02:02'] was removed because it contains unknown alleles\n",
      "Warning! The genotype ['A*02:01:01', 'A*03:01:01', 'B*40:02:01', 'B*51:01:01', 'C*03:04:01', 'C*16:02:01'] was removed because it contains unknown alleles\n",
      "Warning! The genotype ['A*01:01:01', 'A*11:01:01', 'B*07:02:01', 'B*35:02:01', 'C*04:01:01', 'C*07:907'] was removed because it contains unknown alleles\n",
      "Warning! The genotype ['A*03:01:01', 'A*26:01:01', 'B*53:04', 'B*78:02:01', 'C*04:01:01', 'C*14:02:01'] was removed because it contains unknown alleles\n",
      "Warning! The genotype ['A*02:01:01', 'A*24:02:01', 'B*44:03:01', 'B*56:01:01', 'C*01:14', 'C*16:01:01'] was removed because it contains unknown alleles\n",
      "Warning! The genotype ['A*02:01:135', 'A*23:01:01', 'B*50:01:01', 'B*51:01:01', 'C*04:174', 'C*06:02:01'] was removed because it contains unknown alleles\n",
      "Warning! The genotype ['A*01:274', 'A*29:02:01', 'B*44:03:01', 'B*52:01:01', 'C*12:49', 'C*16:201'] was removed because it contains unknown alleles\n",
      "Warning! The genotype ['A*02:01:01', 'A*11:01:01', 'B*35:90', 'B*44:03:01', 'C*04:01:01', 'C*16:02:01'] was removed because it contains unknown alleles\n",
      "Warning! The genotype ['A*02:01:01', 'A*02:01:01', 'B*15:01:01', 'B*51:01:01', 'C*01:02:01', 'C*03:126'] was removed because it contains unknown alleles\n",
      "Warning! The genotype ['A*02:01:01', 'A*02:01:01', 'B*08:01:01', 'B*51:05:01', 'C*04:01:01', 'C*07:01:01'] was removed because it contains unknown alleles\n",
      "Warning! The genotype ['A*01:399', 'A*24:02:01', 'B*27:05:02', 'B*41:01:01', 'C*01:02:01', 'C*07:01:02'] was removed because it contains unknown alleles\n",
      "Warning! The genotype ['A*24:02:01', 'A*24:02:01', 'B*35:03:01', 'B*44:05:01', 'C*02:02:02', 'C*04:226'] was removed because it contains unknown alleles\n",
      "Warning! The genotype ['A*26:01:01', 'A*30:150', 'B*38:01:01', 'B*49:01:01', 'C*07:01:01', 'C*12:03:01'] was removed because it contains unknown alleles\n",
      "Warning! The genotype ['A*02:01:01', 'A*24:02:01', 'B*49:09', 'B*51:02:01', 'C*07:01:01', 'C*07:01:01'] was removed because it contains unknown alleles\n",
      "Warning! The genotype ['A*02:01:01', 'A*25:01:01', 'B*18:01:01', 'B*73:01:01', 'C*12:03:01', 'C*15:05:01'] was removed because it contains unknown alleles\n",
      "Warning! The genotype ['A*03:01:01', 'A*29:01:01', 'B*07:02:01', 'B*07:05:01', 'C*07:02:01', 'C*15:05:02'] was removed because it contains unknown alleles\n",
      "Warning! The genotype ['A*02:01:01', 'A*02:01:01', 'B*07:05:01', 'B*52:01:01', 'C*12:02:01', 'C*15:22'] was removed because it contains unknown alleles\n",
      "Warning! The genotype ['A*26:01:01', 'A*33:03:01', 'B*44:03:02', 'B*52:01:01', 'C*07:06:01', 'C*12:02:02'] was removed because it contains unknown alleles\n",
      "Warning! The genotype ['A*11:01:01', 'A*68:24', 'B*13:02:01', 'B*35:01:01', 'C*04:01:01', 'C*06:02:01'] was removed because it contains unknown alleles\n",
      "Warning! The genotype ['A*03:01:01', 'A*68:24', 'B*13:02:01', 'B*18:01:01', 'C*06:02:01', 'C*07:01:01'] was removed because it contains unknown alleles\n",
      "Warning! The genotype ['A*32:01:01', 'A*68:01:02', 'B*40:01:02', 'B*40:02:01', 'C*02:27:01', 'C*03:07:01'] was removed because it contains unknown alleles\n",
      "Warning! The genotype ['A*24:02:01', 'A*68:185', 'B*35:03:01', 'B*39:06:02', 'C*04:01:01', 'C*07:02:01'] was removed because it contains unknown alleles\n",
      "Warning! The genotype ['A*02:01:01', 'A*03:01:01', 'B*15:535', 'B*40:02:01', 'C*03:04:01', 'C*07:04:01'] was removed because it contains unknown alleles\n",
      "Warning! The genotype ['A*01:01:01', 'A*03:01:01', 'B*08:01:01', 'B*41:02:01', 'C*07:01:01', 'C*17:03:01'] was removed because it contains unknown alleles\n",
      "Warning! The genotype ['A*30:04:01', 'A*32:01:01', 'B*44:02:01', 'B*49:01:01', 'C*05:24', 'C*07:01:01'] was removed because it contains unknown alleles\n",
      "Warning! The genotype ['A*01:01:01', 'A*25:01:01', 'B*07:381', 'B*18:177', 'C*07:02:01', 'C*12:03:01'] was removed because it contains unknown alleles\n",
      "Warning! The genotype ['A*02:01:01', 'A*02:01:01', 'B*07:381', 'B*50:57', 'C*06:02:01', 'C*07:02:01'] was removed because it contains unknown alleles\n",
      "Warning! The genotype ['A*11:01:01', 'A*11:01:01', 'B*35:03:01', 'B*35:423', 'C*04:01:01', 'C*04:01:01'] was removed because it contains unknown alleles\n",
      "Warning! The genotype ['A*11:01:01', 'A*31:01:02', 'B*07:02:01', 'B*38:01:01', 'C*07:31:01', 'C*12:118'] was removed because it contains unknown alleles\n",
      "Warning! The genotype ['A*03:312', 'A*26:203', 'B*07:02:01', 'B*07:02:01', 'C*07:02:01', 'C*07:02:01'] was removed because it contains unknown alleles\n",
      "Warning! The genotype ['A*25:01:01', 'A*29:01:01', 'B*07:05:01', 'B*27:96:01', 'C*01:02:01', 'C*15:05:02'] was removed because it contains unknown alleles\n",
      "Warning! The genotype ['A*32:01:01', 'A*68:01:02', 'B*27:127', 'B*47:04', 'C*01:02:01', 'C*07:04:01'] was removed because it contains unknown alleles\n",
      "Warning! The genotype ['A*01:01:01', 'A*03:01:01', 'B*07:381', 'B*35:380:01', 'C*04:01:01', 'C*07:02:01'] was removed because it contains unknown alleles\n",
      "Warning! The genotype ['A*01:01:01', 'A*23:01:01', 'B*49:01:01', 'B*51:01:01', 'C*07:01:01', 'C*15:13:01'] was removed because it contains unknown alleles\n",
      "Warning! The genotype ['A*02:66', 'A*11:01:01', 'B*51:01:01', 'B*51:01:01', 'C*01:02:01', 'C*15:02:01'] was removed because it contains unknown alleles\n",
      "Warning! The genotype ['A*30:01:01', 'A*33:01:01', 'B*13:02:01', 'B*44:03:01', 'C*02:02:02', 'C*06:329:01'] was removed because it contains unknown alleles\n",
      "Warning! The genotype ['A*03:01:01', 'A*24:02:01', 'B*07:381', 'B*14:64', 'C*07:02:01', 'C*08:02:01'] was removed because it contains unknown alleles\n",
      "Warning! The genotype ['A*11:01:01', 'A*68:01:02', 'B*44:464:01', 'B*51:230:01', 'C*04:01:01', 'C*07:04:01'] was removed because it contains unknown alleles\n",
      "Warning! The genotype ['A*03:344:02', 'A*26:203', 'B*07:02:01', 'B*44:05:01', 'C*02:02:02', 'C*07:02:01'] was removed because it contains unknown alleles\n",
      "Warning! The genotype ['A*02:01:01', 'A*02:01:01', 'B*40:11:01', 'B*40:80', 'C*03:04:01', 'C*03:04:01'] was removed because it contains unknown alleles\n",
      "Warning! The genotype ['A*03:02:01', 'A*23:01:01', 'B*08:01:01', 'B*44:02:01', 'C*07:02:01', 'C*16:04:01'] was removed because it contains unknown alleles\n",
      "Warning! The genotype ['A*11:01:01', 'A*33:01:01', 'B*14:64', 'B*44:302:01', 'C*04:01:01', 'C*08:02:01'] was removed because it contains unknown alleles\n",
      "Warning! The genotype ['A*11:01:01', 'A*24:02:01', 'B*18:177', 'B*44:03:01', 'C*04:247', 'C*07:01:01'] was removed because it contains unknown alleles\n",
      "Warning! The genotype ['A*03:72', 'A*24:104', 'B*35:03:01', 'B*40:01:02', 'C*03:04:01', 'C*04:01:01'] was removed because it contains unknown alleles\n",
      "Warning! The genotype ['A*02:01:01', 'A*24:02:01', 'B*35:03:01', 'B*51:01:01', 'C*04:01:01', 'C*16:02:01'] was removed because it contains unknown alleles\n",
      "Warning! The genotype ['A*01:01:01', 'A*02:06:01', 'B*08:01:01', 'B*48:01:01', 'C*07:01:01', 'C*08:03:01'] was removed because it contains unknown alleles\n",
      "Warning! The genotype ['A*02:01:01', 'A*02:06:01', 'B*35:01:01', 'B*48:01:01', 'C*04:01:01', 'C*08:03:01'] was removed because it contains unknown alleles\n",
      "Warning! The genotype ['A*01:28', 'A*11:01:01', 'B*51:103', 'B*52:07:02', 'C*06:127:02', 'C*12:03:19'] was removed because it contains unknown alleles\n",
      "Warning! The genotype ['A*29:01:01', 'A*68:01:02', 'B*07:05:01', 'B*44:02:01', 'C*07:04:01', 'C*15:05:02'] was removed because it contains unknown alleles\n",
      "Warning! The genotype ['A*26:01:30', 'A*68:01:01', 'B*27:14', 'B*44:02:01', 'C*01:02:01', 'C*07:04:01'] was removed because it contains unknown alleles\n",
      "Warning! The genotype ['A*02:01:01', 'A*29:01:01', 'B*07:05:01', 'B*44:02:01', 'C*05:01:01', 'C*15:05:02'] was removed because it contains unknown alleles\n",
      "Warning! The genotype ['A*01:01:01', 'A*24:02:01', 'B*08:01:01', 'B*40:06:01', 'C*07:01:01', 'C*08:22:01'] was removed because it contains unknown alleles\n",
      "Warning! The genotype ['A*02:01:01', 'A*24:02:01', 'B*07:02:01', 'B*15:07:01', 'C*03:03:01', 'C*07:02:01'] was removed because it contains unknown alleles\n",
      "Warning! The genotype ['A*01:01:01', 'A*31:01:02', 'B*53:01:01', 'B*58:08:01', 'C*03:02:02', 'C*14:02:01'] was removed because it contains unknown alleles\n",
      "Warning! The genotype ['A*02:01:01', 'A*32:01:01', 'B*15:535', 'B*44:464:01', 'C*03:04:01', 'C*07:04:01'] was removed because it contains unknown alleles\n",
      "Warning! The genotype ['A*01:01:01', 'A*29:02:01', 'B*14:02:01', 'B*44:05:01', 'C*02:27:01', 'C*05:01:01'] was removed because it contains unknown alleles\n",
      "Warning! The genotype ['A*11:01:01', 'A*24:02:01', 'B*07:02:01', 'B*35:337:02', 'C*04:01:01', 'C*07:02:01'] was removed because it contains unknown alleles\n",
      "Warning! The genotype ['A*01:01:01', 'A*68:24', 'B*08:01:01', 'B*13:02:01', 'C*06:02:01', 'C*07:01:01'] was removed because it contains unknown alleles\n",
      "Warning! The genotype ['A*02:09:01', 'A*68:24', 'B*13:02:01', 'B*44:27:01', 'C*06:02:01', 'C*07:04:01'] was removed because it contains unknown alleles\n",
      "Warning! The genotype ['A*01:380:01', 'A*11:326', 'B*08:01:01', 'B*35:01:01', 'C*04:01:01', 'C*07:01:01'] was removed because it contains unknown alleles\n",
      "Warning! The genotype ['A*02:01:01', 'A*24:02:01', 'B*13:02:01', 'B*41:02:01', 'C*06:02:01', 'C*17:03:01'] was removed because it contains unknown alleles\n",
      "Warning! The genotype ['A*02:01:01', 'A*02:01:01', 'B*15:01:01', 'B*41:02:01', 'C*03:03:01', 'C*17:03:01'] was removed because it contains unknown alleles\n",
      "Warning! The genotype ['A*02:01:01', 'A*02:01:01', 'B*15:535', 'B*44:464:01', 'C*03:04:01', 'C*05:01:01'] was removed because it contains unknown alleles\n",
      "Warning! The genotype ['A*02:01:01', 'A*02:05:01', 'B*15:220:01', 'B*55:01:01', 'C*03:03:01', 'C*12:03:01'] was removed because it contains unknown alleles\n",
      "Warning! The genotype ['A*01:01:01', 'A*03:01:01', 'B*08:01:01', 'B*38:99', 'C*07:01:01', 'C*12:03:01'] was removed because it contains unknown alleles\n",
      "Warning! The genotype ['A*01:383', 'A*02:884:01', 'B*08:01:01', 'B*39:01:01', 'C*07:01:01', 'C*12:03:01'] was removed because it contains unknown alleles\n",
      "Warning! The genotype ['A*25:01:01', 'A*68:13:01', 'B*18:01:01', 'B*58:01:01', 'C*03:02:02', 'C*12:03:01'] was removed because it contains unknown alleles\n",
      "Warning! The genotype ['A*01:01:01', 'A*02:01:01', 'B*13:02:01', 'B*15:183', 'C*04:477', 'C*18:01:01'] was removed because it contains unknown alleles\n",
      "Warning! The genotype ['A*02:06:01', 'A*32:01:01', 'B*18:177', 'B*44:464:01', 'C*05:01:01', 'C*07:01:01'] was removed because it contains unknown alleles\n",
      "Warning! The genotype ['A*01:01:01', 'A*11:01:01', 'B*18:105', 'B*35:32:02', 'C*04:01:01', 'C*12:03:01'] was removed because it contains unknown alleles\n",
      "Warning! The genotype ['A*01:01:01', 'A*11:01:01', 'B*08:01:01', 'B*73:01:01', 'C*07:01:01', 'C*15:05:01'] was removed because it contains unknown alleles\n",
      "Warning! The genotype ['A*02:01:01', 'A*68:01:02', 'B*15:247', 'B*44:27:01', 'C*04:01:01', 'C*05:01:01'] was removed because it contains unknown alleles\n",
      "Warning! The genotype ['A*02:01:01', 'A*03:01:01', 'B*07:02:01', 'B*45:01:01', 'C*07:31:01', 'C*16:01:01'] was removed because it contains unknown alleles\n",
      "Warning! The genotype ['A*02:01:01', 'A*11:01:01', 'B*52:01:01', 'B*57:10', 'C*06:02:01', 'C*12:02:02'] was removed because it contains unknown alleles\n",
      "Warning! The genotype ['A*11:01:01', 'A*26:01:01', 'B*08:01:01', 'B*35:197', 'C*04:01:01', 'C*07:01:01'] was removed because it contains unknown alleles\n",
      "Warning! The genotype ['A*03:72', 'A*24:104', 'B*13:02:01', 'B*41:02:01', 'C*06:02:01', 'C*17:03:01'] was removed because it contains unknown alleles\n",
      "Warning! The genotype ['A*24:02:01', 'A*31:01:02', 'B*27:07:01', 'B*40:429', 'C*01:02:01', 'C*03:04:01'] was removed because it contains unknown alleles\n",
      "Warning! The genotype ['A*01:100', 'A*02:01:01', 'B*08:01:01', 'B*48:01:01', 'C*07:01:01', 'C*08:03:01'] was removed because it contains unknown alleles\n",
      "Warning! The genotype ['A*02:01:01', 'A*03:01:01', 'B*27:127', 'B*47:04', 'C*02:02:02', 'C*05:01:01'] was removed because it contains unknown alleles\n",
      "Warning! The genotype ['A*02:06:01', 'A*11:01:01', 'B*40:02:01', 'B*48:01:01', 'C*02:02:02', 'C*08:03:01'] was removed because it contains unknown alleles\n",
      "Warning! The genotype ['A*03:01:01', 'A*24:02:01', 'B*41:02:01', 'B*56:01:01', 'C*01:02:01', 'C*17:03:01'] was removed because it contains unknown alleles\n",
      "Warning! The genotype ['A*02:06:01', 'A*03:01:01', 'B*41:02:01', 'B*51:01:01', 'C*15:02:01', 'C*17:03:01'] was removed because it contains unknown alleles\n",
      "Warning! The genotype ['A*01:01:01', 'A*24:02:01', 'B*08:01:01', 'B*41:01:01', 'C*07:01:01', 'C*16:04:01'] was removed because it contains unknown alleles\n",
      "Warning! The genotype ['A*02:01:01', 'A*24:02:01', 'B*07:72', 'B*35:08:01', 'C*04:01:01', 'C*07:02:01'] was removed because it contains unknown alleles\n",
      "Warning! The genotype ['A*01:01:01', 'A*02:01:01', 'B*27:02:01', 'B*27:14', 'C*01:02:01', 'C*02:02:02'] was removed because it contains unknown alleles\n",
      "Warning! The genotype ['A*02:01:01', 'A*24:02:01', 'B*27:02:01', 'B*27:14', 'C*01:02:01', 'C*02:02:02'] was removed because it contains unknown alleles\n",
      "Warning! The genotype ['A*02:01:01', 'A*33:01:01', 'B*14:02:01', 'B*51:01:01', 'C*08:02:01', 'C*15:13:01'] was removed because it contains unknown alleles\n",
      "Warning! The genotype ['A*02:05:01', 'A*68:01:02', 'B*44:02:01', 'B*50:01:01', 'C*06:02:01', 'C*07:68'] was removed because it contains unknown alleles\n",
      "Warning! The genotype ['A*02:01:01', 'A*24:02:01', 'B*40:01:02', 'B*51:01:01', 'C*03:04:01', 'C*15:06:01'] was removed because it contains unknown alleles\n",
      "Warning! The genotype ['A*03:12', 'A*11:199:01', 'B*08:01:01', 'B*35:01:01', 'C*04:01:01', 'C*07:01:01'] was removed because it contains unknown alleles\n",
      "Warning! The genotype ['A*03:01:01', 'A*11:01:01', 'B*51:07:02', 'B*52:01:02', 'C*12:02:02', 'C*14:02:01'] was removed because it contains unknown alleles\n",
      "Warning! The genotype ['A*02:05:01', 'A*24:02:01', 'B*50:45', 'B*56:25', 'C*03:03:01', 'C*06:02:01'] was removed because it contains unknown alleles\n",
      "Warning! The genotype ['A*03:01:01', 'A*03:01:01', 'B*35:42:02', 'B*51:08:06', 'C*04:01:01', 'C*16:02:01'] was removed because it contains unknown alleles\n",
      "Warning! The genotype ['A*11:01:01', 'A*68:24', 'B*07:02:01', 'B*13:02:01', 'C*06:02:01', 'C*07:02:01'] was removed because it contains unknown alleles\n",
      "Warning! The genotype ['A*02:01:01', 'A*25:01:01', 'B*07:02:01', 'B*13:02:01', 'C*07:27:01', 'C*07:639'] was removed because it contains unknown alleles\n",
      "Warning! The genotype ['A*03:01:01', 'A*26:01:01', 'B*35:423', 'B*51:07:02', 'C*04:01:01', 'C*14:02:01'] was removed because it contains unknown alleles\n",
      "Warning! The genotype ['A*03:12', 'A*26:20:02', 'B*07:381', 'B*38:99', 'C*07:31:01', 'C*12:118'] was removed because it contains unknown alleles\n",
      "Warning! The genotype ['A*26:01:01', 'A*32:01:01', 'B*27:14', 'B*40:02:01', 'C*01:02:01', 'C*02:02:02'] was removed because it contains unknown alleles\n",
      "Warning! The genotype ['A*26:01:01', 'A*29:02:01', 'B*27:14', 'B*55:01:01', 'C*01:02:01', 'C*03:03:01'] was removed because it contains unknown alleles\n",
      "Warning! The genotype ['A*01:01:01', 'A*01:01:01', 'B*08:01:01', 'B*52:01:01', 'C*07:589', 'C*12:02:02'] was removed because it contains unknown alleles\n",
      "Warning! The genotype ['A*02:01:01', 'A*03:344:02', 'B*15:05:01', 'B*57:161', 'C*03:03:01', 'C*06:02:01'] was removed because it contains unknown alleles\n",
      "Warning! The genotype ['A*02:01:01', 'A*02:01:01', 'B*35:03:01', 'B*40:01:02', 'C*03:04:01', 'C*04:293'] was removed because it contains unknown alleles\n",
      "Warning! The genotype ['A*01:274', 'A*33:237', 'B*14:02:01', 'B*37:01:01', 'C*06:02:01', 'C*08:02:01'] was removed because it contains unknown alleles\n",
      "Warning! The genotype ['A*01:01:01', 'A*24:02:01', 'B*07:381', 'B*37:108', 'C*06:02:01', 'C*07:02:01'] was removed because it contains unknown alleles\n",
      "Warning! The genotype ['A*24:02:01', 'A*26:01:01', 'B*15:01:01', 'B*51:01:01', 'C*03:03:01', 'C*15:04:01'] was removed because it contains unknown alleles\n",
      "Warning! The genotype ['A*03:01:01', 'A*31:01:02', 'B*15:68', 'B*18:01:01', 'C*07:01:01', 'C*08:03:01'] was removed because it contains unknown alleles\n",
      "Warning! The genotype ['A*01:01:01', 'A*26:01:01', 'B*15:17:01', 'B*57:10', 'C*06:02:01', 'C*07:01:02'] was removed because it contains unknown alleles\n",
      "Warning! The genotype ['A*01:01:01', 'A*02:01:01', 'B*07:381', 'B*35:380:01', 'C*04:01:01', 'C*07:02:01'] was removed because it contains unknown alleles\n",
      "Warning! The genotype ['A*02:01:01', 'A*25:01:01', 'B*18:177', 'B*40:379:01', 'C*03:04:01', 'C*07:01:01'] was removed because it contains unknown alleles\n",
      "Warning! The genotype ['A*24:290', 'A*68:249', 'B*39:01:01', 'B*51:01:01', 'C*07:02:01', 'C*14:02:01'] was removed because it contains unknown alleles\n",
      "Warning! The genotype ['A*02:864:01', 'A*33:191', 'B*14:02:01', 'B*44:02:01', 'C*05:01:01', 'C*08:02:01'] was removed because it contains unknown alleles\n",
      "Warning! The genotype ['A*03:12', 'A*25:03', 'B*07:381', 'B*18:177', 'C*07:51', 'C*12:28'] was removed because it contains unknown alleles\n",
      "Warning! The genotype ['A*03:01:01', 'A*26:01:01', 'B*27:14', 'B*44:27:01', 'C*01:02:01', 'C*07:04:01'] was removed because it contains unknown alleles\n",
      "Warning! The genotype ['A*25:01:01', 'A*26:01:01', 'B*18:43', 'B*27:14', 'C*01:02:01', 'C*12:03:01'] was removed because it contains unknown alleles\n",
      "Warning! The genotype ['A*24:03:01', 'A*31:01:02', 'B*07:02:01', 'B*39:01:01', 'C*07:51', 'C*12:28'] was removed because it contains unknown alleles\n",
      "Warning! The genotype ['A*02:01:01', 'A*24:02:01', 'B*35:380:01', 'B*44:302:01', 'C*04:01:01', 'C*04:01:01'] was removed because it contains unknown alleles\n",
      "Warning! The genotype ['A*01:01:01', 'A*01:01:01', 'B*08:01:01', 'B*38:99', 'C*07:01:01', 'C*12:03:01'] was removed because it contains unknown alleles\n",
      "Warning! The genotype ['A*01:01:01', 'A*11:01:01', 'B*35:02:01', 'B*51:01:01', 'C*06:02:01', 'C*15:09:01'] was removed because it contains unknown alleles\n",
      "Warning! The genotype ['A*24:02:01', 'A*25:01:01', 'B*18:43', 'B*35:03:01', 'C*12:03:01', 'C*12:03:01'] was removed because it contains unknown alleles\n",
      "Warning! The genotype ['A*02:01:01', 'A*03:01:01', 'B*15:01:01', 'B*51:01:01', 'C*03:03:01', 'C*15:13:01'] was removed because it contains unknown alleles\n",
      "Warning! The genotype ['A*02:01:01', 'A*24:02:01', 'B*18:01:01', 'B*27:02:01', 'C*02:163', 'C*12:167'] was removed because it contains unknown alleles\n",
      "Warning! The genotype ['A*02:864:01', 'A*25:68', 'B*18:01:01', 'B*35:42:01', 'C*04:01:01', 'C*12:03:01'] was removed because it contains unknown alleles\n",
      "Warning! The genotype ['A*03:12', 'A*25:03', 'B*18:177', 'B*44:302:01', 'C*12:03:01', 'C*16:01:01'] was removed because it contains unknown alleles\n",
      "Warning! The genotype ['A*24:02:01', 'A*68:01:02', 'B*07:08:01', 'B*08:132', 'C*02:02:02', 'C*07:01:01'] was removed because it contains unknown alleles\n",
      "Warning! The genotype ['A*01:383', 'A*02:884:01', 'B*08:01:01', 'B*41:01:01', 'C*07:01:01', 'C*07:01:02'] was removed because it contains unknown alleles\n",
      "Warning! The genotype ['A*11:01:01', 'A*24:02:01', 'B*39:78', 'B*57:01:01', 'C*06:02:38', 'C*12:03:01'] was removed because it contains unknown alleles\n",
      "Warning! The genotype ['A*03:02:01', 'A*32:01:01', 'B*08:156', 'B*08:94', 'C*07:02:01', 'C*07:02:01'] was removed because it contains unknown alleles\n",
      "Warning! The genotype ['A*25:01:01', 'A*29:02:01', 'B*15:535', 'B*44:03:01', 'C*03:04:01', 'C*16:01:01'] was removed because it contains unknown alleles\n",
      "Warning! The genotype ['A*11:01:01', 'A*24:02:01', 'B*13:03', 'B*56:60', 'C*01:02:01', 'C*06:02:01'] was removed because it contains unknown alleles\n",
      "Warning! The genotype ['A*24:02:01', 'A*30:18:01', 'B*13:33', 'B*15:01:01', 'C*03:03:01', 'C*06:02:01'] was removed because it contains unknown alleles\n",
      "Warning! The genotype ['A*02:614', 'A*68:164:02', 'B*40:01:02', 'B*56:01:01', 'C*01:02:01', 'C*03:04:01'] was removed because it contains unknown alleles\n",
      "Warning! The genotype ['A*24:02:01', 'A*25:01:01', 'B*18:01:01', 'B*51:01:01', 'C*12:03:01', 'C*16:02:01'] was removed because it contains unknown alleles\n",
      "Warning! The genotype ['A*02:01:01', 'A*03:01:01', 'B*40:01:02', 'B*41:02:01', 'C*03:04:01', 'C*17:03:01'] was removed because it contains unknown alleles\n",
      "Warning! The genotype ['A*03:01:01', 'A*03:12', 'B*07:02:01', 'B*39:01:01', 'C*07:02:01', 'C*12:03:01'] was removed because it contains unknown alleles\n",
      "Warning! The genotype ['A*02:17:02', 'A*03:01:01', 'B*41:02:01', 'B*51:01:01', 'C*15:02:01', 'C*17:03:01'] was removed because it contains unknown alleles\n",
      "Warning! The genotype ['A*31:01:02', 'A*66:01:01', 'B*07:02:01', 'B*41:02:01', 'C*07:02:01', 'C*17:03:01'] was removed because it contains unknown alleles\n",
      "Warning! The genotype ['A*02:01:01', 'A*24:28', 'B*07:02:01', 'B*44:05:01', 'C*02:02:02', 'C*07:02:01'] was removed because it contains unknown alleles\n",
      "Warning! The genotype ['A*02:01:01', 'A*24:56:01', 'B*18:01:01', 'B*51:01:01', 'C*07:01:01', 'C*15:13:01'] was removed because it contains unknown alleles\n",
      "Warning! The genotype ['A*02:01:01', 'A*11:01:79', 'B*07:381', 'B*35:380:01', 'C*04:01:01', 'C*07:02:01'] was removed because it contains unknown alleles\n",
      "Warning! The genotype ['A*11:01:01', 'A*33:03:01', 'B*40:01:02', 'B*44:03:02', 'C*03:04:01', 'C*07:06:01'] was removed because it contains unknown alleles\n",
      "Warning! The genotype ['A*02:01:01', 'A*02:01:01', 'B*44:02:01', 'B*57:02:01', 'C*16:04:01', 'C*18:02:01'] was removed because it contains unknown alleles\n",
      "Warning! The genotype ['A*24:02:01', 'A*68:01:01', 'B*38:01:01', 'B*55:01:01', 'C*12:03:01', 'C*16:04:01'] was removed because it contains unknown alleles\n",
      "Warning! The genotype ['A*01:383', 'A*02:884:01', 'B*15:18:01', 'B*35:01:01', 'C*04:01:01', 'C*07:04:01'] was removed because it contains unknown alleles\n",
      "Warning! The genotype ['A*24:50', 'A*26:16', 'B*27:05:02', 'B*35:01:01', 'C*01:02:01', 'C*04:01:01'] was removed because it contains unknown alleles\n",
      "Warning! The genotype ['A*03:01:01', 'A*11:352', 'B*13:02:01', 'B*14:02:01', 'C*06:282', 'C*07:02:128'] was removed because it contains unknown alleles\n",
      "Warning! The genotype ['A*02:01:01', 'A*30:01:01', 'B*13:02:01', 'B*44:27:01', 'C*06:11', 'C*07:406'] was removed because it contains unknown alleles\n",
      "Warning! The genotype ['A*02:01:01', 'A*02:01:01', 'B*40:32', 'B*42:01:01', 'C*07:02:01', 'C*17:03:01'] was removed because it contains unknown alleles\n",
      "Warning! The genotype ['A*02:01:01', 'A*02:06:01', 'B*15:01:01', 'B*48:01:01', 'C*04:01:01', 'C*08:03:01'] was removed because it contains unknown alleles\n",
      "Warning! The genotype ['A*02:01:01', 'A*68:01:02', 'B*18:177', 'B*57:01:01', 'C*07:01:01', 'C*07:01:01'] was removed because it contains unknown alleles\n",
      "Warning! The genotype ['A*02:01:01', 'A*32:01:01', 'B*44:02:01', 'B*51:05:01', 'C*04:01:01', 'C*05:01:01'] was removed because it contains unknown alleles\n",
      "Warning! The genotype ['A*01:383', 'A*02:884:01', 'B*27:02:01', 'B*37:01:01', 'C*02:02:02', 'C*06:02:01'] was removed because it contains unknown alleles\n",
      "Warning! The genotype ['A*24:02:01', 'A*32:01:01', 'B*44:25', 'B*49:02', 'C*02:02:03', 'C*07:01:07'] was removed because it contains unknown alleles\n",
      "Warning! The genotype ['A*02:01:01', 'A*33:03:01', 'B*13:02:01', 'B*52:83', 'C*06:02:07', 'C*12:02:02'] was removed because it contains unknown alleles\n",
      "Warning! The genotype ['A*01:01:01', 'A*24:02:01', 'B*35:08:01', 'B*55:01:01', 'C*03:03:01', 'C*04:339:01'] was removed because it contains unknown alleles\n",
      "Warning! The genotype ['A*11:88', 'A*24:50', 'B*35:01:01', 'B*35:01:01', 'C*04:01:01', 'C*04:01:01'] was removed because it contains unknown alleles\n",
      "Warning! The genotype ['A*03:01:01', 'A*11:146', 'B*07:02:01', 'B*44:02:01', 'C*05:01:01', 'C*07:02:01'] was removed because it contains unknown alleles\n",
      "Warning! The genotype ['A*23:01:01', 'A*25:01:01', 'B*35:197', 'B*44:03:01', 'C*04:01:01', 'C*04:01:01'] was removed because it contains unknown alleles\n",
      "Warning! The genotype ['A*24:02:01', 'A*25:01:01', 'B*18:01:01', 'B*39:06:02', 'C*07:02:01', 'C*12:195:02'] was removed because it contains unknown alleles\n",
      "Warning! The genotype ['A*24:50', 'A*26:16', 'B*07:02:01', 'B*40:01:02', 'C*03:04:01', 'C*07:02:01'] was removed because it contains unknown alleles\n",
      "Warning! The genotype ['A*02:414', 'A*11:01:01', 'B*15:01:01', 'B*27:37', 'C*03:07:01', 'C*03:308'] was removed because it contains unknown alleles\n",
      "Warning! The genotype ['A*03:01:01', 'A*11:01:01', 'B*15:20', 'B*35:43:01', 'C*03:04:01', 'C*04:01:01'] was removed because it contains unknown alleles\n",
      "Warning! The genotype ['A*02:01:01', 'A*30:135', 'B*13:02:01', 'B*15:01:01', 'C*03:03:01', 'C*06:02:01'] was removed because it contains unknown alleles\n",
      "Warning! The genotype ['A*01:01:01', 'A*25:01:01', 'B*14:02:01', 'B*18:01:01', 'C*08:02:01', 'C*12:98'] was removed because it contains unknown alleles\n",
      "Warning! The genotype ['A*03:02:01', 'A*30:02:01', 'B*53:01:01', 'B*58:01:01', 'C*04:01:01', 'C*07:18:01'] was removed because it contains unknown alleles\n",
      "Warning! The genotype ['A*02:01:01', 'A*03:01:01', 'B*35:01:01', 'B*52:01:01', 'C*04:01:01', 'C*12:16:01'] was removed because it contains unknown alleles\n",
      "Warning! The genotype ['A*02:01:01', 'A*68:02:01', 'B*53:01:01', 'B*57:01:01', 'C*04:01:01', 'C*06:282'] was removed because it contains unknown alleles\n",
      "Warning! The genotype ['A*01:01:01', 'A*23:01:01', 'B*44:459', 'B*51:42', 'C*04:01:01', 'C*15:13:01'] was removed because it contains unknown alleles\n",
      "Warning! The genotype ['A*02:01:01', 'A*24:02:01', 'B*07:02:01', 'B*13:02:01', 'C*06:11', 'C*07:76:01'] was removed because it contains unknown alleles\n",
      "Warning! The genotype ['A*03:12', 'A*25:03', 'B*18:01:01', 'B*35:03:01', 'C*12:03:01', 'C*12:03:01'] was removed because it contains unknown alleles\n",
      "Warning! The genotype ['A*03:63', 'A*11:12:01', 'B*07:02:01', 'B*55:01:01', 'C*03:03:01', 'C*07:02:01'] was removed because it contains unknown alleles\n",
      "Warning! The genotype ['A*26:01:01', 'A*30:08:02', 'B*13:02:01', 'B*39:01:01', 'C*06:02:38', 'C*12:03:08'] was removed because it contains unknown alleles\n",
      "Warning! The genotype ['A*02:05:01', 'A*02:20:01', 'B*14:02:01', 'B*15:01:01', 'C*03:03:01', 'C*08:202'] was removed because it contains unknown alleles\n",
      "Warning! The genotype ['A*01:383', 'A*02:884:01', 'B*15:01:01', 'B*37:01:01', 'C*03:04:01', 'C*06:02:01'] was removed because it contains unknown alleles\n",
      "Warning! The genotype ['A*02:01:01', 'A*02:06:01', 'B*07:02:01', 'B*27:90:02', 'C*02:02:02', 'C*07:02:01'] was removed because it contains unknown alleles\n",
      "Warning! The genotype ['A*01:221', 'A*03:56:01', 'B*08:01:01', 'B*44:03:01', 'C*07:01:01', 'C*16:01:01'] was removed because it contains unknown alleles\n",
      "Warning! The genotype ['A*23:01:01', 'A*26:01:01', 'B*38:01:01', 'B*44:302:01', 'C*04:01:01', 'C*12:03:01'] was removed because it contains unknown alleles\n",
      "Warning! The genotype ['A*02:01:01', 'A*02:704', 'B*39:01:01', 'B*41:02:01', 'C*07:02:01', 'C*17:03:01'] was removed because it contains unknown alleles\n",
      "Warning! The genotype ['A*02:252', 'A*23:01:01', 'B*41:02:01', 'B*50:57', 'C*06:02:01', 'C*17:03:01'] was removed because it contains unknown alleles\n",
      "Warning! The genotype ['A*23:01:01', 'A*24:87', 'B*35:03:01', 'B*44:02:01', 'C*04:01:01', 'C*05:01:01'] was removed because it contains unknown alleles\n",
      "Warning! The genotype ['A*02:01:01', 'A*68:01:01', 'B*40:49', 'B*44:55', 'C*03:04:01', 'C*05:01:01'] was removed because it contains unknown alleles\n",
      "Warning! The genotype ['A*02:01:01', 'A*03:01:01', 'B*13:02:01', 'B*35:03:01', 'C*04:226', 'C*06:02:01'] was removed because it contains unknown alleles\n",
      "Warning! The genotype ['A*03:01:01', 'A*26:01:01', 'B*38:01:01', 'B*51:08:01', 'C*12:03:01', 'C*16:02:01'] was removed because it contains unknown alleles\n",
      "Warning! The genotype ['A*33:03:01', 'A*68:01:02', 'B*44:02:01', 'B*44:03:02', 'C*07:04:01', 'C*07:06:01'] was removed because it contains unknown alleles\n",
      "Warning! The genotype ['A*02:01:170', 'A*26:01:43', 'B*39:01:01', 'B*44:02:01', 'C*07:199:01', 'C*12:03:01'] was removed because it contains unknown alleles\n",
      "Warning! The genotype ['A*02:102', 'A*02:623', 'B*50:01:01', 'B*57:01:01', 'C*06:02:01', 'C*06:02:01'] was removed because it contains unknown alleles\n",
      "Warning! The genotype ['A*01:01:01', 'A*02:01:01', 'B*13:02:01', 'B*51:05:01', 'C*04:01:01', 'C*06:02:01'] was removed because it contains unknown alleles\n",
      "Warning! The genotype ['A*01:01:01', 'A*32:01:01', 'B*08:01:01', 'B*44:03:02', 'C*07:01:01', 'C*07:06:01'] was removed because it contains unknown alleles\n",
      "Warning! The genotype ['A*03:72', 'A*24:104', 'B*35:08:01', 'B*44:05:01', 'C*02:02:02', 'C*04:01:01'] was removed because it contains unknown alleles\n",
      "Warning! The genotype ['A*24:02:01', 'A*66:01:01', 'B*41:02:01', 'B*58:01:01', 'C*03:02:02', 'C*17:03:01'] was removed because it contains unknown alleles\n",
      "Warning! The genotype ['A*02:01:01', 'A*66:01:01', 'B*35:01:01', 'B*41:02:01', 'C*08:01:01', 'C*17:03:01'] was removed because it contains unknown alleles\n",
      "Warning! The genotype ['A*02:864:01', 'A*33:191', 'B*14:64', 'B*40:379:01', 'C*03:04:01', 'C*08:02:01'] was removed because it contains unknown alleles\n",
      "Warning! The genotype ['A*24:02:01', 'A*30:04:01', 'B*40:06:01', 'B*49:01:01', 'C*07:148', 'C*14:02:01'] was removed because it contains unknown alleles\n",
      "Warning! The genotype ['A*01:01:01', 'A*24:02:01', 'B*07:54', 'B*08:01:01', 'C*07:01:01', 'C*07:02:01'] was removed because it contains unknown alleles\n",
      "Warning! The genotype ['A*03:01:71', 'A*11:01:79', 'B*53:01:13', 'B*78:02:01', 'C*04:442', 'C*16:02:01'] was removed because it contains unknown alleles\n",
      "Warning! The genotype ['A*02:01:01', 'A*68:01:02', 'B*27:05:02', 'B*41:02:01', 'C*02:02:02', 'C*17:03:01'] was removed because it contains unknown alleles\n",
      "Warning! The genotype ['A*11:01:01', 'A*25:01:01', 'B*14:02:01', 'B*58:01:01', 'C*07:18:01', 'C*08:02:01'] was removed because it contains unknown alleles\n",
      "Warning! The genotype ['A*24:04', 'A*31:01:02', 'B*07:02:01', 'B*27:05:02', 'C*02:02:02', 'C*07:02:01'] was removed because it contains unknown alleles\n",
      "Warning! The genotype ['A*02:01:01', 'A*11:01:01', 'B*18:01:01', 'B*18:11', 'C*07:01:01', 'C*12:03:01'] was removed because it contains unknown alleles\n",
      "Warning! The genotype ['A*03:01:01', 'A*24:02:01', 'B*35:01:01', 'B*40:06:01', 'C*04:01:01', 'C*08:22:01'] was removed because it contains unknown alleles\n",
      "Warning! The genotype ['A*24:02:01', 'A*68:13:01', 'B*44:02:01', 'B*44:02:01', 'C*05:01:01', 'C*16:04:01'] was removed because it contains unknown alleles\n",
      "Warning! The genotype ['A*02:01:01', 'A*24:02:01', 'B*18:105', 'B*35:32:02', 'C*04:01:01', 'C*07:01:01'] was removed because it contains unknown alleles\n",
      "Warning! The genotype ['A*02:01:01', 'A*02:01:01', 'B*40:01:02', 'B*41:02:01', 'C*03:04:01', 'C*17:03:01'] was removed because it contains unknown alleles\n",
      "Warning! The genotype ['A*02:01:01', 'A*24:02:01', 'B*38:01:01', 'B*48:01:01', 'C*08:03:01', 'C*12:03:01'] was removed because it contains unknown alleles\n",
      "Warning! The genotype ['A*31:01:02', 'A*66:01:01', 'B*41:01:01', 'B*44:02:01', 'C*05:01:01', 'C*17:38:01'] was removed because it contains unknown alleles\n",
      "Warning! The genotype ['A*02:06:01', 'A*11:01:01', 'B*18:177', 'B*44:464:01', 'C*05:01:01', 'C*07:01:01'] was removed because it contains unknown alleles\n",
      "Warning! The genotype ['A*02:01:01', 'A*02:01:192', 'B*40:01:02', 'B*44:16', 'C*03:04:01', 'C*05:01:01'] was removed because it contains unknown alleles\n",
      "Warning! The genotype ['A*03:01:01', 'A*69:01:01', 'B*15:01:01', 'B*57:02:01', 'C*04:01:01', 'C*18:02:01'] was removed because it contains unknown alleles\n",
      "Warning! The genotype ['A*02:01:01', 'A*31:44', 'B*35:03:01', 'B*39:01:01', 'C*04:01:01', 'C*07:02:01'] was removed because it contains unknown alleles\n",
      "Warning! The genotype ['A*01:01:01', 'A*02:01:01', 'B*38:99', 'B*40:379:01', 'C*03:04:01', 'C*12:03:01'] was removed because it contains unknown alleles\n",
      "Warning! The genotype ['A*23:01:01', 'A*24:02:01', 'B*48:01:01', 'B*49:01:01', 'C*07:01:01', 'C*08:03:01'] was removed because it contains unknown alleles\n",
      "Warning! The genotype ['A*02:01:01', 'A*03:01:01', 'B*35:03:01', 'B*57:01:01', 'C*04:477', 'C*18:01:01'] was removed because it contains unknown alleles\n",
      "Warning! The genotype ['A*11:01:01', 'A*30:01:01', 'B*07:381', 'B*38:99', 'C*07:02:01', 'C*12:03:01'] was removed because it contains unknown alleles\n",
      "Warning! The genotype ['A*24:104', 'A*32:01:01', 'B*08:01:01', 'B*51:01:01', 'C*07:02:01', 'C*16:02:01'] was removed because it contains unknown alleles\n",
      "Warning! The genotype ['A*02:01:01', 'A*33:03:01', 'B*44:03:02', 'B*56:01:01', 'C*01:02:01', 'C*07:06:01'] was removed because it contains unknown alleles\n",
      "Warning! The genotype ['A*11:01:01', 'A*32:01:01', 'B*35:60', 'B*56:09', 'C*01:02:01', 'C*04:01:01'] was removed because it contains unknown alleles\n",
      "Warning! The genotype ['A*31:01:02', 'A*32:01:01', 'B*07:381', 'B*18:01:01', 'C*07:02:01', 'C*12:03:01'] was removed because it contains unknown alleles\n",
      "Warning! The genotype ['A*02:01:01', 'A*33:01:01', 'B*14:02:01', 'B*27:05:02', 'C*02:27:01', 'C*05:01:01'] was removed because it contains unknown alleles\n",
      "Warning! The genotype ['A*03:01:01', 'A*26:01:01', 'B*44:02:01', 'B*44:27:01', 'C*05:01:01', 'C*07:328'] was removed because it contains unknown alleles\n",
      "Warning! The genotype ['A*01:01:01', 'A*68:01:02', 'B*07:381', 'B*15:535', 'C*01:02:01', 'C*07:02:01'] was removed because it contains unknown alleles\n",
      "Warning! The genotype ['A*01:01:01', 'A*02:01:01', 'B*07:381', 'B*18:177', 'C*07:01:01', 'C*07:02:01'] was removed because it contains unknown alleles\n",
      "Warning! The genotype ['A*26:01:01', 'A*26:01:01', 'B*38:01:01', 'B*44:02:01', 'C*05:28', 'C*12:03:01'] was removed because it contains unknown alleles\n",
      "Warning! The genotype ['A*03:72', 'A*24:104', 'B*40:01:02', 'B*58:01:01', 'C*03:02:02', 'C*03:04:01'] was removed because it contains unknown alleles\n",
      "Warning! The genotype ['A*11:88', 'A*24:50', 'B*40:01:02', 'B*52:01:01', 'C*03:04:01', 'C*12:02:02'] was removed because it contains unknown alleles\n",
      "Warning! The genotype ['A*02:01:01', 'A*02:530', 'B*15:01:01', 'B*49:01:01', 'C*07:01:01', 'C*07:02:01'] was removed because it contains unknown alleles\n",
      "Warning! The genotype ['A*03:12', 'A*25:03', 'B*18:01:01', 'B*18:01:01', 'C*07:01:01', 'C*12:03:01'] was removed because it contains unknown alleles\n",
      "Warning! The genotype ['A*02:14', 'A*02:22:01', 'B*50:01:01', 'B*73:01:01', 'C*06:02:01', 'C*15:05:01'] was removed because it contains unknown alleles\n",
      "Warning! The genotype ['A*03:01:01', 'A*03:01:01', 'B*07:381', 'B*15:535', 'C*03:03:01', 'C*07:02:01'] was removed because it contains unknown alleles\n",
      "Warning! The genotype ['A*02:01:01', 'A*66:01:01', 'B*35:01:01', 'B*41:02:01', 'C*04:01:01', 'C*17:03:01'] was removed because it contains unknown alleles\n",
      "Warning! The genotype ['A*02:135', 'A*69:02', 'B*41:02:01', 'B*44:02:01', 'C*05:01:01', 'C*17:03:01'] was removed because it contains unknown alleles\n",
      "Warning! The genotype ['A*01:01:01', 'A*02:01:01', 'B*07:02:01', 'B*41:02:01', 'C*07:02:01', 'C*17:03:01'] was removed because it contains unknown alleles\n",
      "Warning! The genotype ['A*02:01:01', 'A*30:01:01', 'B*13:02:01', 'B*15:07:01', 'C*03:39', 'C*06:132:01'] was removed because it contains unknown alleles\n",
      "Warning! The genotype ['A*02:01:01', 'A*11:01:01', 'B*18:105', 'B*35:32:02', 'C*04:01:01', 'C*07:01:01'] was removed because it contains unknown alleles\n",
      "Warning! The genotype ['A*03:01:01', 'A*03:01:01', 'B*35:01:01', 'B*44:27:01', 'C*04:120', 'C*07:45'] was removed because it contains unknown alleles\n",
      "Warning! The genotype ['A*02:01:01', 'A*02:01:01', 'B*18:01:01', 'B*44:27:01', 'C*07:04:01', 'C*07:617'] was removed because it contains unknown alleles\n",
      "Warning! The genotype ['A*01:01:01', 'A*68:02:01', 'B*14:02:01', 'B*15:220:01', 'C*07:01:01', 'C*08:02:01'] was removed because it contains unknown alleles\n",
      "Warning! The genotype ['A*01:01:01', 'A*02:01:01', 'B*44:06', 'B*44:27:01', 'C*05:01:01', 'C*07:403'] was removed because it contains unknown alleles\n",
      "Warning! The genotype ['A*01:01:01', 'A*66:01:01', 'B*15:17:01', 'B*41:02:01', 'C*07:01:02', 'C*17:03:01'] was removed because it contains unknown alleles\n",
      "Warning! The genotype ['A*01:01:01', 'A*02:01:01', 'B*14:64', 'B*44:464:01', 'C*05:01:01', 'C*08:02:01'] was removed because it contains unknown alleles\n",
      "Warning! The genotype ['A*02:01:01', 'A*68:24', 'B*13:02:01', 'B*18:01:01', 'C*06:02:01', 'C*07:01:01'] was removed because it contains unknown alleles\n",
      "Warning! The genotype ['A*23:01:01', 'A*68:24', 'B*13:02:01', 'B*41:01:01', 'C*06:02:01', 'C*17:01:01'] was removed because it contains unknown alleles\n",
      "Warning! The genotype ['A*02:01:01', 'A*02:01:01', 'B*35:380:01', 'B*40:379:01', 'C*03:04:01', 'C*04:01:01'] was removed because it contains unknown alleles\n",
      "Warning! The genotype ['A*03:01:01', 'A*11:01:01', 'B*07:02:01', 'B*15:01:01', 'C*03:39', 'C*07:578'] was removed because it contains unknown alleles\n",
      "Warning! The genotype ['A*01:383', 'A*02:884:01', 'B*08:01:01', 'B*56:01:01', 'C*01:02:01', 'C*07:01:01'] was removed because it contains unknown alleles\n",
      "Warning! The genotype ['A*02:01:01', 'A*32:01:01', 'B*18:177', 'B*40:379:01', 'C*03:04:01', 'C*07:01:01'] was removed because it contains unknown alleles\n",
      "Warning! The genotype ['A*24:02:01', 'A*24:02:01', 'B*18:01:01', 'B*39:06:02', 'C*07:27:01', 'C*07:639'] was removed because it contains unknown alleles\n",
      "Warning! The genotype ['A*02:01:01', 'A*03:01:01', 'B*07:02:01', 'B*56:01:01', 'C*01:02:01', 'C*07:510'] was removed because it contains unknown alleles\n",
      "Warning! The genotype ['A*03:01:102', 'A*24:02:01', 'B*35:03:01', 'B*35:03:01', 'C*04:01:01', 'C*12:24:01'] was removed because it contains unknown alleles\n",
      "Warning! The genotype ['A*11:01:01', 'A*24:02:01', 'B*08:01:01', 'B*48:01:01', 'C*07:714', 'C*08:03:01'] was removed because it contains unknown alleles\n",
      "Warning! The genotype ['A*01:01:01', 'A*25:01:01', 'B*18:01:01', 'B*27:05:02', 'C*02:134', 'C*12:03:01'] was removed because it contains unknown alleles\n",
      "Warning! The genotype ['A*11:01:01', 'A*68:01:01', 'B*08:01:01', 'B*15:556', 'C*03:03:01', 'C*07:02:01'] was removed because it contains unknown alleles\n",
      "Warning! The genotype ['A*11:362', 'A*24:02:01', 'B*50:58', 'B*51:02:01', 'C*06:02:01', 'C*15:02:01'] was removed because it contains unknown alleles\n",
      "Warning! The genotype ['A*02:01:01', 'A*03:353', 'B*07:02:01', 'B*27:05:02', 'C*01:02:01', 'C*07:02:01'] was removed because it contains unknown alleles\n",
      "Warning! The genotype ['A*01:01:01', 'A*01:406', 'B*37:01:01', 'B*37:01:01', 'C*06:02:01', 'C*06:02:01'] was removed because it contains unknown alleles\n",
      "Warning! The genotype ['A*32:04', 'A*74:13', 'B*51:01:01', 'B*51:143', 'C*15:02:60', 'C*16:02:01'] was removed because it contains unknown alleles\n",
      "Warning! The genotype ['A*02:06:01', 'A*02:405', 'B*40:02:01', 'B*40:02:01', 'C*03:04:01', 'C*03:04:01'] was removed because it contains unknown alleles\n",
      "Warning! The genotype ['A*11:362', 'A*24:02:01', 'B*50:01:01', 'B*51:01:01', 'C*06:02:01', 'C*15:02:01'] was removed because it contains unknown alleles\n",
      "Warning! The genotype ['A*02:01:01', 'A*24:02:01', 'B*07:05:01', 'B*40:18', 'C*03:344:01', 'C*07:578'] was removed because it contains unknown alleles\n",
      "Warning! The genotype ['A*01:69:01', 'A*03:395', 'B*07:02:01', 'B*57:01:01', 'C*06:02:01', 'C*07:02:01'] was removed because it contains unknown alleles\n",
      "Warning! The genotype ['A*01:383', 'A*02:884:01', 'B*18:01:01', 'B*57:01:01', 'C*06:02:23', 'C*07:01:01'] was removed because it contains unknown alleles\n",
      "Warning! The genotype ['A*02:01:01', 'A*24:03:01', 'B*51:01:01', 'B*51:143', 'C*15:02:01', 'C*15:04:01'] was removed because it contains unknown alleles\n",
      "Warning! The genotype ['A*24:02:01', 'A*68:131', 'B*44:02:01', 'B*54:01:01', 'C*01:02:01', 'C*07:181'] was removed because it contains unknown alleles\n",
      "Warning! The genotype ['A*03:72', 'A*24:104', 'B*35:01:01', 'B*58:01:01', 'C*03:02:02', 'C*04:01:01'] was removed because it contains unknown alleles\n",
      "Warning! The genotype ['A*01:01:01', 'A*03:01:04', 'B*41:02:01', 'B*57:01:01', 'C*06:02:01', 'C*17:03:01'] was removed because it contains unknown alleles\n",
      "Warning! The genotype ['A*01:01:01', 'A*03:02:01', 'B*08:01:01', 'B*13:02:01', 'C*06:136', 'C*07:31:01'] was removed because it contains unknown alleles\n",
      "Warning! The genotype ['A*24:02:01', 'A*26:01:01', 'B*27:05:02', 'B*35:01:01', 'C*01:02:01', 'C*16:02:01'] was removed because it contains unknown alleles\n",
      "Warning! The genotype ['A*25:01:01', 'A*26:01:01', 'B*18:01:01', 'B*52:01:01', 'C*12:02:02', 'C*12:167'] was removed because it contains unknown alleles\n",
      "Warning! The genotype ['A*02:01:01', 'A*24:02:01', 'B*13:02:01', 'B*15:33', 'C*03:03:01', 'C*06:02:01'] was removed because it contains unknown alleles\n",
      "Warning! The genotype ['A*03:01:01', 'A*24:02:01', 'B*07:381', 'B*38:99', 'C*07:02:01', 'C*12:03:01'] was removed because it contains unknown alleles\n",
      "Warning! The genotype ['A*02:01:01', 'A*26:01:01', 'B*15:24:01', 'B*27:05:02', 'C*01:02:01', 'C*03:03:01'] was removed because it contains unknown alleles\n",
      "Warning! The genotype ['A*24:82', 'A*31:210', 'B*35:277', 'B*51:01:01', 'C*15:02:01', 'C*15:02:01'] was removed because it contains unknown alleles\n",
      "Warning! The genotype ['A*02:01:01', 'A*11:01:01', 'B*07:10', 'B*35:01:01', 'C*04:01:01', 'C*07:02:01'] was removed because it contains unknown alleles\n",
      "Warning! The genotype ['A*02:01:01', 'A*25:01:01', 'B*18:01:01', 'B*51:07:01', 'C*12:03:01', 'C*14:02:01'] was removed because it contains unknown alleles\n",
      "Warning! The genotype ['A*02:01:01', 'A*03:01:01', 'B*15:20', 'B*35:43:01', 'C*01:02:01', 'C*04:01:01'] was removed because it contains unknown alleles\n",
      "Warning! The genotype ['A*24:02:01', 'A*26:01:01', 'B*15:01:01', 'B*39:01:01', 'C*03:39', 'C*07:578'] was removed because it contains unknown alleles\n",
      "Warning! The genotype ['A*02:704', 'A*26:01:01', 'B*18:41', 'B*41:02:01', 'C*07:01:01', 'C*17:03:01'] was removed because it contains unknown alleles\n",
      "Warning! The genotype ['A*02:01:01', 'A*11:01:01', 'B*13:14', 'B*51:271', 'C*06:02:01', 'C*15:02:01'] was removed because it contains unknown alleles\n",
      "Warning! The genotype ['A*01:01:01', 'A*24:109', 'B*35:01:01', 'B*52:01:01', 'C*04:01:01', 'C*12:02:02'] was removed because it contains unknown alleles\n",
      "Warning! The genotype ['A*26:01:01', 'A*31:01:02', 'B*38:01:01', 'B*44:02:01', 'C*04:01:01', 'C*12:173'] was removed because it contains unknown alleles\n",
      "Warning! The genotype ['A*02:01:01', 'A*25:01:01', 'B*07:05:01', 'B*18:01:01', 'C*12:03:01', 'C*15:05:02'] was removed because it contains unknown alleles\n",
      "Warning! The genotype ['A*01:01:01', 'A*66:01:01', 'B*41:02:01', 'B*57:01:01', 'C*06:02:01', 'C*17:03:01'] was removed because it contains unknown alleles\n",
      "Warning! The genotype ['A*11:43', 'A*33:51', 'B*08:01:01', 'B*39:06:02', 'C*07:01:01', 'C*07:02:01'] was removed because it contains unknown alleles\n",
      "Warning! The genotype ['A*01:01:01', 'A*24:02:01', 'B*08:01:01', 'B*35:01:01', 'C*03:39', 'C*07:96:01'] was removed because it contains unknown alleles\n",
      "Warning! The genotype ['A*24:02:01', 'A*33:01:01', 'B*14:02:01', 'B*18:15', 'C*07:01:01', 'C*08:02:01'] was removed because it contains unknown alleles\n",
      "Warning! The genotype ['A*33:01:01', 'A*68:01:02', 'B*14:01:01', 'B*14:02:01', 'C*08:02:01', 'C*08:02:01'] was removed because it contains unknown alleles\n",
      "Warning! The genotype ['A*02:01:01', 'A*33:01:01', 'B*14:02:01', 'B*51:05:01', 'C*04:01:01', 'C*08:02:01'] was removed because it contains unknown alleles\n",
      "Warning! The genotype ['A*02:01:01', 'A*03:01:01', 'B*51:01:01', 'B*51:05:01', 'C*04:01:01', 'C*04:01:01'] was removed because it contains unknown alleles\n",
      "Warning! The genotype ['A*01:01:01', 'A*02:01:01', 'B*27:05:02', 'B*48:01:01', 'C*02:02:02', 'C*08:03:01'] was removed because it contains unknown alleles\n",
      "Warning! The genotype ['A*02:53N', 'A*03:01:01', 'B*13:02:01', 'B*40:01:02', 'C*03:04:01', 'C*06:02:01'] was removed because it contains unknown alleles\n",
      "Warning! The genotype ['A*02:01:01', 'A*25:01:01', 'B*07:381', 'B*18:177', 'C*07:02:01', 'C*12:03:04'] was removed because it contains unknown alleles\n",
      "Warning! The genotype ['A*02:01:01', 'A*03:01:01', 'B*07:02:01', 'B*15:535', 'C*04:01:01', 'C*07:02:01'] was removed because it contains unknown alleles\n",
      "Warning! The genotype ['A*01:01:01', 'A*02:01:01', 'B*47:01:01', 'B*51:01:01', 'C*06:02:01', 'C*15:13:01'] was removed because it contains unknown alleles\n",
      "Warning! The genotype ['A*11:01:01', 'A*26:203', 'B*38:01:01', 'B*52:01:01', 'C*12:02:02', 'C*12:03:06'] was removed because it contains unknown alleles\n",
      "Warning! The genotype ['A*11:01:01', 'A*24:02:01', 'B*51:01:01', 'B*52:01:01', 'C*12:02:02', 'C*15:13:01'] was removed because it contains unknown alleles\n",
      "Warning! The genotype ['A*02:01:01', 'A*03:01:01', 'B*07:02:01', 'B*40:01:02', 'C*03:04:01', 'C*07:938'] was removed because it contains unknown alleles\n",
      "Warning! The genotype ['A*03:02:01', 'A*23:01:01', 'B*44:02:01', 'B*50:01:01', 'C*06:02:01', 'C*16:04:01'] was removed because it contains unknown alleles\n",
      "Warning! The genotype ['A*02:864:01', 'A*25:68', 'B*18:01:01', 'B*44:27:01', 'C*07:04:01', 'C*12:03:01'] was removed because it contains unknown alleles\n",
      "Warning! The genotype ['A*01:01:01', 'A*11:01:01', 'B*08:132', 'B*56:91', 'C*01:02:01', 'C*07:01:01'] was removed because it contains unknown alleles\n",
      "Warning! The genotype ['A*03:01:01', 'A*66:01:01', 'B*35:03:01', 'B*41:02:01', 'C*12:03:01', 'C*17:03:01'] was removed because it contains unknown alleles\n",
      "Warning! The genotype ['A*02:01:01', 'A*25:01:01', 'B*18:01:01', 'B*18:01:01', 'C*07:514:01', 'C*12:03:01'] was removed because it contains unknown alleles\n",
      "Warning! The genotype ['A*11:83', 'A*24:02:01', 'B*07:02:01', 'B*15:01:01', 'C*03:03:01', 'C*07:02:01'] was removed because it contains unknown alleles\n",
      "Warning! The genotype ['A*02:01:01', 'A*24:02:01', 'B*14:01:01', 'B*27:05:02', 'C*02:02:02', 'C*08:02:01'] was removed because it contains unknown alleles\n",
      "Warning! The genotype ['A*03:72', 'A*24:104', 'B*18:01:01', 'B*35:02:01', 'C*04:01:01', 'C*07:01:01'] was removed because it contains unknown alleles\n",
      "Warning! The genotype ['A*02:01:01', 'A*68:01:01', 'B*13:14', 'B*51:01:01', 'C*06:02:01', 'C*15:02:01'] was removed because it contains unknown alleles\n",
      "Warning! The genotype ['A*03:01:01', 'A*32:01:01', 'B*07:02:01', 'B*35:42:01', 'C*04:01:01', 'C*07:02:01'] was removed because it contains unknown alleles\n",
      "Warning! The genotype ['A*03:12', 'A*32:01:01', 'B*07:02:01', 'B*40:02:01', 'C*02:02:02', 'C*07:02:01'] was removed because it contains unknown alleles\n",
      "Warning! The genotype ['A*23:01:01', 'A*31:01:02', 'B*13:02:01', 'B*50:57', 'C*06:02:01', 'C*06:02:01'] was removed because it contains unknown alleles\n",
      "Warning! The genotype ['A*24:02:01', 'A*68:01:01', 'B*07:02:01', 'B*51:01:01', 'C*07:02:01', 'C*16:02:01'] was removed because it contains unknown alleles\n",
      "Warning! The genotype ['A*23:01:01', 'A*24:02:01', 'B*35:71', 'B*44:37:01', 'C*04:01:01', 'C*04:01:01'] was removed because it contains unknown alleles\n",
      "Warning! The genotype ['A*03:01:01', 'A*26:01:01', 'B*18:01:01', 'B*38:01:01', 'C*12:03:01', 'C*12:13:01'] was removed because it contains unknown alleles\n",
      "Warning! The genotype ['A*01:01:01', 'A*03:01:01', 'B*07:02:01', 'B*38:01:01', 'C*07:51', 'C*12:28'] was removed because it contains unknown alleles\n",
      "Warning! The genotype ['A*02:01:01', 'A*31:01:02', 'B*39:01:01', 'B*51:01:01', 'C*12:03:01', 'C*16:02:01'] was removed because it contains unknown alleles\n",
      "Warning! The genotype ['A*02:06:01', 'A*03:01:01', 'B*15:01:01', 'B*48:01:01', 'C*01:02:01', 'C*08:03:01'] was removed because it contains unknown alleles\n",
      "Warning! The genotype ['A*24:02:01', 'A*66:01:01', 'B*39:01:01', 'B*41:02:01', 'C*12:03:01', 'C*17:03:01'] was removed because it contains unknown alleles\n",
      "Warning! The genotype ['A*02:01:01', 'A*68:24', 'B*13:02:01', 'B*15:01:01', 'C*03:04:01', 'C*06:02:01'] was removed because it contains unknown alleles\n",
      "Warning! The genotype ['A*33:01:01', 'A*68:24', 'B*13:02:01', 'B*14:02:01', 'C*06:02:01', 'C*08:02:01'] was removed because it contains unknown alleles\n",
      "Warning! The genotype ['A*02:01:01', 'A*68:01:01', 'B*35:01:01', 'B*51:05:01', 'C*04:01:01', 'C*04:01:01'] was removed because it contains unknown alleles\n",
      "Warning! The genotype ['A*01:01:01', 'A*02:35:01', 'B*08:01:01', 'B*44:27:01', 'C*07:01:01', 'C*07:04:01'] was removed because it contains unknown alleles\n",
      "Warning! The genotype ['A*02:01:01', 'A*29:01:01', 'B*07:05:01', 'B*15:01:01', 'C*03:03:01', 'C*15:05:02'] was removed because it contains unknown alleles\n",
      "Warning! The genotype ['A*02:704', 'A*03:01:01', 'B*35:01:01', 'B*41:02:01', 'C*04:01:01', 'C*17:03:01'] was removed because it contains unknown alleles\n",
      "Warning! The genotype ['A*01:01:01', 'A*24:02:01', 'B*18:58', 'B*35:190', 'C*04:01:01', 'C*07:01:01'] was removed because it contains unknown alleles\n",
      "Warning! The genotype ['A*01:01:01', 'A*23:01:01', 'B*44:188', 'B*50:13', 'C*02:02:02', 'C*04:01:01'] was removed because it contains unknown alleles\n",
      "Warning! The genotype ['A*02:01:01', 'A*03:01:01', 'B*41:02:01', 'B*51:01:01', 'C*15:13:01', 'C*17:03:01'] was removed because it contains unknown alleles\n",
      "Warning! The genotype ['A*02:01:01', 'A*03:01:01', 'B*07:384', 'B*40:01:02', 'C*03:04:01', 'C*07:02:01'] was removed because it contains unknown alleles\n",
      "Warning! The genotype ['A*26:01:01', 'A*26:01:34', 'B*38:33', 'B*38:49', 'C*03:03:01', 'C*12:03:01'] was removed because it contains unknown alleles\n",
      "Warning! The genotype ['A*02:01:01', 'A*02:01:182', 'B*35:01:01', 'B*41:02:01', 'C*04:01:01', 'C*17:03:01'] was removed because it contains unknown alleles\n",
      "Warning! The genotype ['A*24:290', 'A*68:249', 'B*08:01:01', 'B*56:01:01', 'C*01:02:01', 'C*07:01:01'] was removed because it contains unknown alleles\n",
      "Warning! The genotype ['A*02:01:01', 'A*30:01:01', 'B*07:02:01', 'B*13:02:01', 'C*06:02:01', 'C*07:344'] was removed because it contains unknown alleles\n",
      "Warning! The genotype ['A*01:175', 'A*03:01:01', 'B*07:02:01', 'B*08:01:01', 'C*07:01:01', 'C*07:194'] was removed because it contains unknown alleles\n",
      "Warning! The genotype ['A*02:01:01', 'A*30:01:01', 'B*13:02:01', 'B*15:01:01', 'C*03:39', 'C*06:132:02'] was removed because it contains unknown alleles\n",
      "Warning! The genotype ['A*03:01:01', 'A*29:01:01', 'B*07:02:01', 'B*37:01:01', 'C*06:02:01', 'C*07:730'] was removed because it contains unknown alleles\n",
      "Warning! The genotype ['A*24:03:01', 'A*30:01:01', 'B*07:06:01', 'B*27:02:01', 'C*02:02:02', 'C*15:05:02'] was removed because it contains unknown alleles\n",
      "Warning! The genotype ['A*01:01:01', 'A*24:02:01', 'B*07:02:01', 'B*44:06', 'C*05:01:01', 'C*07:02:01'] was removed because it contains unknown alleles\n",
      "Warning! The genotype ['A*02:01:01', 'A*23:01:01', 'B*44:27:01', 'B*50:01:01', 'C*06:11', 'C*07:406'] was removed because it contains unknown alleles\n",
      "Warning! The genotype ['A*03:01:01', 'A*11:01:01', 'B*35:01:01', 'B*50:01:01', 'C*04:360', 'C*18:01:01'] was removed because it contains unknown alleles\n",
      "Warning! The genotype ['A*02:01:01', 'A*25:01:01', 'B*15:01:01', 'B*51:01:01', 'C*03:04:01', 'C*14:46:02'] was removed because it contains unknown alleles\n",
      "Warning! The genotype ['A*03:01:01', 'A*11:01:01', 'B*35:01:01', 'B*51:57', 'C*03:03:01', 'C*04:01:01'] was removed because it contains unknown alleles\n",
      "Warning! The genotype ['A*24:02:01', 'A*31:01:02', 'B*27:02:01', 'B*35:02:01', 'C*04:29', 'C*07:76:01'] was removed because it contains unknown alleles\n",
      "Warning! The genotype ['A*01:01:01', 'A*26:01:01', 'B*44:03:01', 'B*56:84', 'C*01:02:01', 'C*04:01:01'] was removed because it contains unknown alleles\n",
      "Warning! The genotype ['A*02:01:01', 'A*68:01:02', 'B*13:02:01', 'B*18:01:01', 'C*06:127:01', 'C*07:514:01'] was removed because it contains unknown alleles\n",
      "Warning! The genotype ['A*26:01:01', 'A*32:01:01', 'B*27:14', 'B*38:01:01', 'C*01:02:01', 'C*12:03:01'] was removed because it contains unknown alleles\n",
      "Warning! The genotype ['A*11:01:01', 'A*24:02:01', 'B*35:01:01', 'B*44:02:01', 'C*04:01:01', 'C*16:04:01'] was removed because it contains unknown alleles\n",
      "Warning! The genotype ['A*03:01:01', 'A*29:02:01', 'B*35:01:01', 'B*51:08:01', 'C*04:01:01', 'C*16:02:01'] was removed because it contains unknown alleles\n",
      "Warning! The genotype ['A*26:01:01', 'A*66:01:01', 'B*41:02:01', 'B*44:03:01', 'C*16:01:01', 'C*17:03:01'] was removed because it contains unknown alleles\n",
      "Warning! The genotype ['A*24:02:01', 'A*29:01:01', 'B*07:05:01', 'B*35:03:01', 'C*04:01:01', 'C*15:05:02'] was removed because it contains unknown alleles\n",
      "Warning! The genotype ['A*01:01:01', 'A*26:01:01', 'B*27:14', 'B*56:01:01', 'C*01:02:01', 'C*01:02:01'] was removed because it contains unknown alleles\n",
      "Warning! The genotype ['A*02:01:01', 'A*66:01:01', 'B*13:02:01', 'B*41:02:01', 'C*06:02:01', 'C*17:03:01'] was removed because it contains unknown alleles\n",
      "Warning! The genotype ['A*02:01:01', 'A*03:01:01', 'B*41:02:01', 'B*51:01:01', 'C*15:02:01', 'C*17:03:01'] was removed because it contains unknown alleles\n",
      "Warning! The genotype ['A*03:02:01', 'A*31:01:02', 'B*15:08:01', 'B*44:02:01', 'C*01:02:01', 'C*16:04:01'] was removed because it contains unknown alleles\n",
      "Warning! The genotype ['A*01:01:01', 'A*03:01:01', 'B*41:02:01', 'B*47:01:01', 'C*06:02:01', 'C*17:03:01'] was removed because it contains unknown alleles\n",
      "Warning! The genotype ['A*24:02:01', 'A*68:24', 'B*07:02:01', 'B*13:02:01', 'C*06:02:01', 'C*07:02:01'] was removed because it contains unknown alleles\n",
      "Warning! The genotype ['A*02:01:01', 'A*02:64:01', 'B*27:05:02', 'B*44:02:01', 'C*02:02:02', 'C*05:01:01'] was removed because it contains unknown alleles\n",
      "Warning! The genotype ['A*01:01:01', 'A*25:01:01', 'B*08:01:01', 'B*40:229', 'C*02:02:02', 'C*07:01:01'] was removed because it contains unknown alleles\n",
      "Warning! The genotype ['A*03:02:01', 'A*25:01:01', 'B*41:02:01', 'B*51:01:01', 'C*15:02:01', 'C*17:03:01'] was removed because it contains unknown alleles\n",
      "Warning! The genotype ['A*02:01:01', 'A*02:17:02', 'B*35:43:01', 'B*52:01:01', 'C*01:02:01', 'C*12:02:02'] was removed because it contains unknown alleles\n",
      "Warning! The genotype ['A*31:01:02', 'A*66:01:01', 'B*39:01:01', 'B*41:02:01', 'C*12:03:01', 'C*17:03:01'] was removed because it contains unknown alleles\n",
      "Warning! The genotype ['A*11:01:01', 'A*25:01:01', 'B*18:01:01', 'B*53:21', 'C*04:01:01', 'C*12:03:01'] was removed because it contains unknown alleles\n",
      "Warning! The genotype ['A*02:01:01', 'A*66:01:01', 'B*40:01:02', 'B*41:02:01', 'C*03:04:01', 'C*17:03:01'] was removed because it contains unknown alleles\n",
      "Warning! The genotype ['A*02:01:01', 'A*02:01:01', 'B*18:01:01', 'B*48:01:01', 'C*07:01:01', 'C*08:03:01'] was removed because it contains unknown alleles\n",
      "Warning! The genotype ['A*02:01:01', 'A*68:24', 'B*13:02:01', 'B*40:01:02', 'C*03:04:01', 'C*06:02:01'] was removed because it contains unknown alleles\n",
      "Warning! The genotype ['A*01:01:01', 'A*24:02:01', 'B*35:01:01', 'B*40:325', 'C*03:04:01', 'C*04:01:01'] was removed because it contains unknown alleles\n",
      "Warning! The genotype ['A*01:01:01', 'A*32:01:01', 'B*08:01:01', 'B*35:08:01', 'C*04:01:01', 'C*07:682:01'] was removed because it contains unknown alleles\n",
      "Warning! The genotype ['A*11:01:01', 'A*26:37', 'B*38:01:01', 'B*39:01:01', 'C*12:03:01', 'C*12:03:01'] was removed because it contains unknown alleles\n",
      "Warning! The genotype ['A*02:01:01', 'A*11:01:01', 'B*18:01:01', 'B*51:01:01', 'C*12:03:01', 'C*15:74'] was removed because it contains unknown alleles\n",
      "Warning! The genotype ['A*24:02:01', 'A*24:02:01', 'B*07:02:01', 'B*35:01:01', 'C*03:39', 'C*07:578'] was removed because it contains unknown alleles\n",
      "Warning! The genotype ['A*11:01:01', 'A*24:02:01', 'B*07:02:01', 'B*07:141', 'C*07:02:01', 'C*07:02:01'] was removed because it contains unknown alleles\n",
      "Warning! The genotype ['A*01:01:01', 'A*68:01:01', 'B*35:03:01', 'B*44:224', 'C*04:01:01', 'C*04:01:01'] was removed because it contains unknown alleles\n",
      "Warning! The genotype ['A*23:01:01', 'A*24:02:01', 'B*18:177', 'B*44:302:01', 'C*04:01:01', 'C*07:01:01'] was removed because it contains unknown alleles\n",
      "Warning! The genotype ['A*11:01:01', 'A*29:01:01', 'B*35:42:03', 'B*44:522', 'C*04:01:01', 'C*04:01:01'] was removed because it contains unknown alleles\n",
      "Warning! The genotype ['A*03:12', 'A*11:199:01', 'B*40:02:01', 'B*44:02:01', 'C*03:04:01', 'C*05:01:01'] was removed because it contains unknown alleles\n",
      "Warning! The genotype ['A*11:01:107', 'A*29:01:01', 'B*35:42:03', 'B*44:522', 'C*04:01:01', 'C*04:01:01'] was removed because it contains unknown alleles\n",
      "Warning! The genotype ['A*02:01:01', 'A*30:01:01', 'B*07:02:01', 'B*51:08:01', 'C*07:02:01', 'C*16:02:01'] was removed because it contains unknown alleles\n",
      "Warning! The genotype ['A*24:02:01', 'A*68:01:01', 'B*18:177', 'B*40:379:01', 'C*03:04:01', 'C*07:01:01'] was removed because it contains unknown alleles\n",
      "Warning! The genotype ['A*03:01:01', 'A*24:02:01', 'B*44:03:01', 'B*73:01:01', 'C*04:01:01', 'C*15:05:01'] was removed because it contains unknown alleles\n",
      "Warning! The genotype ['A*02:06:01', 'A*03:01:01', 'B*07:02:01', 'B*15:18:01', 'C*07:04:01', 'C*17:03:01'] was removed because it contains unknown alleles\n",
      "Warning! The genotype ['A*01:01:01', 'A*31:01:02', 'B*27:05:02', 'B*44:03:01', 'C*01:02:01', 'C*16:02:01'] was removed because it contains unknown alleles\n",
      "Warning! The genotype ['A*03:01:01', 'A*31:01:02', 'B*07:381', 'B*35:01:01', 'C*04:01:01', 'C*07:02:01'] was removed because it contains unknown alleles\n",
      "Warning! The genotype ['A*02:01:02', 'A*03:344:02', 'B*07:02:01', 'B*27:02:01', 'C*02:02:02', 'C*07:02:01'] was removed because it contains unknown alleles\n",
      "Warning! The genotype ['A*11:01:01', 'A*11:01:01', 'B*27:02:01', 'B*51:01:01', 'C*02:26:02', 'C*15:118'] was removed because it contains unknown alleles\n",
      "Warning! The genotype ['A*01:383', 'A*02:884:01', 'B*07:02:01', 'B*08:01:01', 'C*07:01:01', 'C*07:02:01'] was removed because it contains unknown alleles\n",
      "Warning! The genotype ['A*02:01:01', 'A*26:01:01', 'B*14:01:01', 'B*44:02:01', 'C*05:01:01', 'C*08:02:01'] was removed because it contains unknown alleles\n",
      "Warning! The genotype ['A*24:02:01', 'A*24:02:01', 'B*15:05:01', 'B*57:161', 'C*04:01:01', 'C*06:02:01'] was removed because it contains unknown alleles\n",
      "Warning! The genotype ['A*03:01:01', 'A*25:01:01', 'B*35:197', 'B*56:01:01', 'C*01:02:01', 'C*04:01:01'] was removed because it contains unknown alleles\n",
      "Warning! The genotype ['A*11:01:01', 'A*33:05', 'B*14:02:01', 'B*51:01:01', 'C*03:03:01', 'C*08:02:01'] was removed because it contains unknown alleles\n",
      "Warning! The genotype ['A*03:01:01', 'A*68:24', 'B*15:01:01', 'B*50:01:01', 'C*03:03:01', 'C*06:02:01'] was removed because it contains unknown alleles\n",
      "Warning! The genotype ['A*11:328', 'A*25:68', 'B*35:01:01', 'B*39:01:01', 'C*04:01:01', 'C*12:03:01'] was removed because it contains unknown alleles\n",
      "Warning! The genotype ['A*26:01:01', 'A*29:01:01', 'B*07:05:01', 'B*38:01:01', 'C*12:140:02', 'C*15:208'] was removed because it contains unknown alleles\n",
      "Warning! The genotype ['A*02:01:01', 'A*31:01:02', 'B*27:05:02', 'B*41:02:01', 'C*05:01:01', 'C*17:03:01'] was removed because it contains unknown alleles\n",
      "Warning! The genotype ['A*02:01:01', 'A*30:02:01', 'B*18:01:01', 'B*41:02:01', 'C*05:01:01', 'C*17:03:01'] was removed because it contains unknown alleles\n",
      "Warning! The genotype ['A*02:01:01', 'A*30:01:01', 'B*40:117', 'B*50:01:01', 'C*03:04:01', 'C*07:01:01'] was removed because it contains unknown alleles\n",
      "Warning! The genotype ['A*02:01:01', 'A*25:01:01', 'B*13:176', 'B*51:57', 'C*06:329:01', 'C*15:205'] was removed because it contains unknown alleles\n",
      "Warning! The genotype ['A*24:02:01', 'A*33:03:01', 'B*51:01:01', 'B*58:01:01', 'C*03:02:02', 'C*15:04:01'] was removed because it contains unknown alleles\n",
      "Warning! The genotype ['A*01:01:01', 'A*23:01:01', 'B*15:535', 'B*44:302:01', 'C*04:01:01', 'C*06:02:01'] was removed because it contains unknown alleles\n",
      "Warning! The genotype ['A*01:01:01', 'A*66:01:01', 'B*37:01:01', 'B*41:02:01', 'C*06:02:01', 'C*17:03:01'] was removed because it contains unknown alleles\n",
      "Warning! The genotype ['A*02:614', 'A*68:02:01', 'B*13:02:01', 'B*14:02:01', 'C*06:02:01', 'C*08:02:01'] was removed because it contains unknown alleles\n",
      "Warning! The genotype ['A*01:02:01', 'A*02:01:01', 'B*15:16:01', 'B*27:05:02', 'C*01:02:01', 'C*14:02:01'] was removed because it contains unknown alleles\n",
      "Warning! The genotype ['A*02:30:01', 'A*68:01:02', 'B*38:99', 'B*44:464:01', 'C*07:04:01', 'C*12:03:01'] was removed because it contains unknown alleles\n",
      "Warning! The genotype ['A*02:01:01', 'A*02:01:01', 'B*41:02:01', 'B*51:01:01', 'C*01:02:01', 'C*17:03:01'] was removed because it contains unknown alleles\n",
      "Warning! The genotype ['A*02:01:01', 'A*68:01:02', 'B*07:02:01', 'B*18:177', 'C*07:01:01', 'C*07:02:01'] was removed because it contains unknown alleles\n",
      "Warning! The genotype ['A*26:01:01', 'A*30:01:01', 'B*13:02:01', 'B*51:01:01', 'C*06:02:01', 'C*16:02:01'] was removed because it contains unknown alleles\n",
      "Warning! The genotype ['A*02:01:01', 'A*23:01:01', 'B*41:02:01', 'B*44:03:01', 'C*04:01:01', 'C*17:03:01'] was removed because it contains unknown alleles\n",
      "Warning! The genotype ['A*02:01:01', 'A*29:01:01', 'B*41:02:01', 'B*52:01:01', 'C*12:02:02', 'C*17:03:01'] was removed because it contains unknown alleles\n",
      "Warning! The genotype ['A*03:01:01', 'A*30:01:01', 'B*13:03', 'B*56:60', 'C*01:02:01', 'C*06:02:01'] was removed because it contains unknown alleles\n",
      "Warning! The genotype ['A*03:12', 'A*26:20:02', 'B*35:01:01', 'B*37:01:01', 'C*04:01:01', 'C*06:02:01'] was removed because it contains unknown alleles\n",
      "Warning! The genotype ['A*01:01:01', 'A*01:03:01', 'B*56:27', 'B*73:01:01', 'C*01:02:01', 'C*15:05:01'] was removed because it contains unknown alleles\n",
      "Warning! The genotype ['A*01:01:01', 'A*30:04:01', 'B*07:02:01', 'B*14:01:01', 'C*07:02:01', 'C*08:02:01'] was removed because it contains unknown alleles\n",
      "Warning! The genotype ['A*02:01:01', 'A*23:01:01', 'B*13:02:01', 'B*44:03:01', 'C*04:328:02', 'C*06:02:01'] was removed because it contains unknown alleles\n",
      "Warning! The genotype ['A*01:01:01', 'A*25:01:01', 'B*08:156', 'B*42:01:01', 'C*07:01:01', 'C*07:02:01'] was removed because it contains unknown alleles\n",
      "Warning! The genotype ['A*26:01:01', 'A*32:01:01', 'B*38:99', 'B*44:464:01', 'C*05:01:01', 'C*12:03:01'] was removed because it contains unknown alleles\n",
      "Warning! The genotype ['A*01:01:01', 'A*02:01:01', 'B*41:02:01', 'B*58:01:01', 'C*07:18:01', 'C*17:03:01'] was removed because it contains unknown alleles\n",
      "Warning! The genotype ['A*02:01:01', 'A*03:01:01', 'B*35:01:01', 'B*51:01:01', 'C*04:01:01', 'C*16:02:01'] was removed because it contains unknown alleles\n",
      "Warning! The genotype ['A*11:01:01', 'A*26:01:01', 'B*35:197', 'B*57:01:01', 'C*04:01:01', 'C*06:02:01'] was removed because it contains unknown alleles\n",
      "Warning! The genotype ['A*02:01:01', 'A*03:02:01', 'B*07:04:01', 'B*44:02:01', 'C*07:02:01', 'C*16:04:01'] was removed because it contains unknown alleles\n",
      "Warning! The genotype ['A*02:01:01', 'A*24:02:01', 'B*41:02:01', 'B*44:02:01', 'C*07:04:01', 'C*17:03:01'] was removed because it contains unknown alleles\n",
      "Warning! The genotype ['A*01:01:01', 'A*11:01:01', 'B*41:02:01', 'B*56:01:01', 'C*01:02:01', 'C*17:03:01'] was removed because it contains unknown alleles\n",
      "Warning! The genotype ['A*01:01:01', 'A*11:01:01', 'B*15:220:01', 'B*51:01:01', 'C*07:01:01', 'C*15:02:01'] was removed because it contains unknown alleles\n",
      "Warning! The genotype ['A*24:02:01', 'A*26:01:01', 'B*07:381', 'B*38:99', 'C*07:02:01', 'C*12:03:01'] was removed because it contains unknown alleles\n",
      "Warning! The genotype ['A*02:01:01', 'A*03:01:01', 'B*07:02:01', 'B*15:07:01', 'C*03:03:01', 'C*07:02:01'] was removed because it contains unknown alleles\n",
      "Warning! The genotype ['A*02:01:01', 'A*02:01:01', 'B*44:464:01', 'B*51:230:01', 'C*05:01:01', 'C*15:06:01'] was removed because it contains unknown alleles\n",
      "Warning! The genotype ['A*03:205', 'A*31:21', 'B*18:01:01', 'B*40:01:02', 'C*03:04:01', 'C*07:01:01'] was removed because it contains unknown alleles\n",
      "Warning! The genotype ['A*02:01:01', 'A*02:01:01', 'B*53:01:01', 'B*78:02:02', 'C*04:01:01', 'C*14:02:01'] was removed because it contains unknown alleles\n",
      "Warning! The genotype ['A*01:01:01', 'A*01:01:01', 'B*40:06:01', 'B*40:460', 'C*15:02:01', 'C*15:191'] was removed because it contains unknown alleles\n",
      "Warning! The genotype ['A*26:01:01', 'A*68:01:01', 'B*35:08:01', 'B*40:01:02', 'C*03:44', 'C*04:01:01'] was removed because it contains unknown alleles\n"
     ]
    }
   ],
   "source": [
    "immun_predictor = IEPAPI_immunogenicity_predictor()\n",
    "baseline_predictor1 = Baseline_MHCflurry_predictor()\n",
    "baseline_predictor2 = Baseline_homology_predictor()\n",
    "cross_react_predictor = BATMAN_predictor()\n",
    "Popul = Population(test_genotypes)\n",
    "Processing = Protein_processing()\n",
    "protein_A = Processing.processing(Protein(pseq_A))\n",
    "protein_B = Processing.processing(Protein(pseq_B))\n",
    "protein_C = Processing.processing(Protein(pseq_C))"
   ]
  },
  {
   "cell_type": "markdown",
   "id": "06f30850-7071-4bd0-bf46-145550a11587",
   "metadata": {},
   "source": [
    "### Calculation of cross-reactivity between proteins\n",
    "To calculate multiple cross-recativity between 2 proteins you can use function Cross_react_predict wich returns a list with distribution of cross-reactivity for each individual. To specify individuals, you can pass as a \"genotype\" argument an object of the class Population and the number of individuals as a \"N_individuals\" argument. You can also pass a list with fixed genotypes as a \"genotype\" argument\n",
    "\n",
    "\n",
    "The Cross_react_plot function create a plot with cross_reactivity distributions. You can specify 2, 3, 4 or 5 proteins to plot 1, 2, 3 or 4 cross_reactivity boxplots"
   ]
  },
  {
   "cell_type": "code",
   "execution_count": 4,
   "id": "fbc1c7ca-27cb-464a-93cb-37d1ac5ea08c",
   "metadata": {
    "collapsed": true,
    "jupyter": {
     "outputs_hidden": true
    },
    "scrolled": true
   },
   "outputs": [
    {
     "name": "stderr",
     "output_type": "stream",
     "text": [
      "100%|██████████| 2/2 [00:09<00:00,  4.65s/it]\n",
      "100%|██████████| 2/2 [00:09<00:00,  4.70s/it]\n",
      "100%|██████████| 2/2 [00:09<00:00,  4.75s/it]\n",
      "100%|██████████| 1/1 [00:05<00:00,  5.04s/it]\n",
      "100%|██████████| 1/1 [00:04<00:00,  4.92s/it]\n",
      "100%|██████████| 1/1 [00:04<00:00,  4.96s/it]\n",
      "2025-07-04 16:57:29.398656: I external/local_xla/xla/tsl/cuda/cudart_stub.cc:32] Could not find cuda drivers on your machine, GPU will not be used.\n",
      "2025-07-04 16:57:29.405645: I external/local_xla/xla/tsl/cuda/cudart_stub.cc:32] Could not find cuda drivers on your machine, GPU will not be used.\n",
      "2025-07-04 16:57:29.419223: E external/local_xla/xla/stream_executor/cuda/cuda_fft.cc:467] Unable to register cuFFT factory: Attempting to register factory for plugin cuFFT when one has already been registered\n",
      "2025-07-04 16:57:29.426686: I external/local_xla/xla/tsl/cuda/cudart_stub.cc:32] Could not find cuda drivers on your machine, GPU will not be used.\n",
      "2025-07-04 16:57:29.432729: I external/local_xla/xla/tsl/cuda/cudart_stub.cc:32] Could not find cuda drivers on your machine, GPU will not be used.\n",
      "WARNING: All log messages before absl::InitializeLog() is called are written to STDERR\n",
      "E0000 00:00:1751637449.437824 3374142 cuda_dnn.cc:8579] Unable to register cuDNN factory: Attempting to register factory for plugin cuDNN when one has already been registered\n",
      "E0000 00:00:1751637449.442929 3374142 cuda_blas.cc:1407] Unable to register cuBLAS factory: Attempting to register factory for plugin cuBLAS when one has already been registered\n",
      "2025-07-04 16:57:29.445298: E external/local_xla/xla/stream_executor/cuda/cuda_fft.cc:467] Unable to register cuFFT factory: Attempting to register factory for plugin cuFFT when one has already been registered\n",
      "W0000 00:00:1751637449.460107 3374142 computation_placer.cc:177] computation placer already registered. Please check linkage and avoid linking the same target more than once.\n",
      "W0000 00:00:1751637449.460133 3374142 computation_placer.cc:177] computation placer already registered. Please check linkage and avoid linking the same target more than once.\n",
      "W0000 00:00:1751637449.460136 3374142 computation_placer.cc:177] computation placer already registered. Please check linkage and avoid linking the same target more than once.\n",
      "W0000 00:00:1751637449.460139 3374142 computation_placer.cc:177] computation placer already registered. Please check linkage and avoid linking the same target more than once.\n",
      "WARNING: All log messages before absl::InitializeLog() is called are written to STDERR\n",
      "E0000 00:00:1751637449.463201 3374144 cuda_dnn.cc:8579] Unable to register cuDNN factory: Attempting to register factory for plugin cuDNN when one has already been registered\n",
      "2025-07-04 16:57:29.465212: I tensorflow/core/platform/cpu_feature_guard.cc:210] This TensorFlow binary is optimized to use available CPU instructions in performance-critical operations.\n",
      "To enable the following instructions: AVX2 AVX512F FMA, in other operations, rebuild TensorFlow with the appropriate compiler flags.\n",
      "E0000 00:00:1751637449.468057 3374144 cuda_blas.cc:1407] Unable to register cuBLAS factory: Attempting to register factory for plugin cuBLAS when one has already been registered\n",
      "W0000 00:00:1751637449.483292 3374144 computation_placer.cc:177] computation placer already registered. Please check linkage and avoid linking the same target more than once.\n",
      "W0000 00:00:1751637449.483322 3374144 computation_placer.cc:177] computation placer already registered. Please check linkage and avoid linking the same target more than once.\n",
      "W0000 00:00:1751637449.483324 3374144 computation_placer.cc:177] computation placer already registered. Please check linkage and avoid linking the same target more than once.\n",
      "W0000 00:00:1751637449.483328 3374144 computation_placer.cc:177] computation placer already registered. Please check linkage and avoid linking the same target more than once.\n",
      "2025-07-04 16:57:29.484912: I external/local_xla/xla/tsl/cuda/cudart_stub.cc:32] Could not find cuda drivers on your machine, GPU will not be used.\n",
      "2025-07-04 16:57:29.487910: I tensorflow/core/platform/cpu_feature_guard.cc:210] This TensorFlow binary is optimized to use available CPU instructions in performance-critical operations.\n",
      "To enable the following instructions: AVX2 AVX512F FMA, in other operations, rebuild TensorFlow with the appropriate compiler flags.\n",
      "2025-07-04 16:57:29.491092: I external/local_xla/xla/tsl/cuda/cudart_stub.cc:32] Could not find cuda drivers on your machine, GPU will not be used.\n",
      "2025-07-04 16:57:29.504205: E external/local_xla/xla/stream_executor/cuda/cuda_fft.cc:467] Unable to register cuFFT factory: Attempting to register factory for plugin cuFFT when one has already been registered\n",
      "WARNING: All log messages before absl::InitializeLog() is called are written to STDERR\n",
      "E0000 00:00:1751637449.522907 3374143 cuda_dnn.cc:8579] Unable to register cuDNN factory: Attempting to register factory for plugin cuDNN when one has already been registered\n",
      "E0000 00:00:1751637449.528182 3374143 cuda_blas.cc:1407] Unable to register cuBLAS factory: Attempting to register factory for plugin cuBLAS when one has already been registered\n",
      "W0000 00:00:1751637449.544805 3374143 computation_placer.cc:177] computation placer already registered. Please check linkage and avoid linking the same target more than once.\n",
      "W0000 00:00:1751637449.544846 3374143 computation_placer.cc:177] computation placer already registered. Please check linkage and avoid linking the same target more than once.\n",
      "W0000 00:00:1751637449.544852 3374143 computation_placer.cc:177] computation placer already registered. Please check linkage and avoid linking the same target more than once.\n",
      "W0000 00:00:1751637449.544855 3374143 computation_placer.cc:177] computation placer already registered. Please check linkage and avoid linking the same target more than once.\n",
      "2025-07-04 16:57:29.549824: I tensorflow/core/platform/cpu_feature_guard.cc:210] This TensorFlow binary is optimized to use available CPU instructions in performance-critical operations.\n",
      "To enable the following instructions: AVX2 AVX512F FMA, in other operations, rebuild TensorFlow with the appropriate compiler flags.\n",
      "2025-07-04 16:57:31.876463: E external/local_xla/xla/stream_executor/cuda/cuda_platform.cc:51] failed call to cuInit: INTERNAL: CUDA error: Failed call to cuInit: UNKNOWN ERROR (303)\n",
      "2025-07-04 16:57:31.879732: E external/local_xla/xla/stream_executor/cuda/cuda_platform.cc:51] failed call to cuInit: INTERNAL: CUDA error: Failed call to cuInit: UNKNOWN ERROR (303)\n",
      "2025-07-04 16:57:32.059545: E external/local_xla/xla/stream_executor/cuda/cuda_platform.cc:51] failed call to cuInit: INTERNAL: CUDA error: Failed call to cuInit: UNKNOWN ERROR (303)\n",
      "/home/orlov.av/anaconda3/envs/BATMAN/lib/python3.11/site-packages/mhcflurry/amino_acid.py:132: FutureWarning: Downcasting behavior in `replace` is deprecated and will be removed in a future version. To retain the old behavior, explicitly call `result.infer_objects(copy=False)`. To opt-in to the future behavior, set `pd.set_option('future.no_silent_downcasting', True)`\n",
      "  result = df.replace(letter_to_index_dict)\n",
      "/home/orlov.av/anaconda3/envs/BATMAN/lib/python3.11/site-packages/mhcflurry/amino_acid.py:132: FutureWarning: Downcasting behavior in `replace` is deprecated and will be removed in a future version. To retain the old behavior, explicitly call `result.infer_objects(copy=False)`. To opt-in to the future behavior, set `pd.set_option('future.no_silent_downcasting', True)`\n",
      "  result = df.replace(letter_to_index_dict)\n",
      "/home/orlov.av/anaconda3/envs/BATMAN/lib/python3.11/site-packages/mhcflurry/amino_acid.py:132: FutureWarning: Downcasting behavior in `replace` is deprecated and will be removed in a future version. To retain the old behavior, explicitly call `result.infer_objects(copy=False)`. To opt-in to the future behavior, set `pd.set_option('future.no_silent_downcasting', True)`\n",
      "  result = df.replace(letter_to_index_dict)\n"
     ]
    },
    {
     "name": "stdout",
     "output_type": "stream",
     "text": [
      "1/1 [==============================] - 1s 596ms/step\n",
      "1/1 [==============================] - 1s 708ms/step\n",
      "1/1 [==============================] - 1s 719ms/step\n"
     ]
    },
    {
     "name": "stderr",
     "output_type": "stream",
     "text": [
      "/home/orlov.av/anaconda3/envs/BATMAN/lib/python3.11/site-packages/mhcflurry/amino_acid.py:132: FutureWarning: Downcasting behavior in `replace` is deprecated and will be removed in a future version. To retain the old behavior, explicitly call `result.infer_objects(copy=False)`. To opt-in to the future behavior, set `pd.set_option('future.no_silent_downcasting', True)`\n",
      "  result = df.replace(letter_to_index_dict)\n",
      "/home/orlov.av/anaconda3/envs/BATMAN/lib/python3.11/site-packages/mhcflurry/amino_acid.py:132: FutureWarning: Downcasting behavior in `replace` is deprecated and will be removed in a future version. To retain the old behavior, explicitly call `result.infer_objects(copy=False)`. To opt-in to the future behavior, set `pd.set_option('future.no_silent_downcasting', True)`\n",
      "  result = df.replace(letter_to_index_dict)\n",
      "/home/orlov.av/anaconda3/envs/BATMAN/lib/python3.11/site-packages/mhcflurry/amino_acid.py:132: FutureWarning: Downcasting behavior in `replace` is deprecated and will be removed in a future version. To retain the old behavior, explicitly call `result.infer_objects(copy=False)`. To opt-in to the future behavior, set `pd.set_option('future.no_silent_downcasting', True)`\n",
      "  result = df.replace(letter_to_index_dict)\n"
     ]
    },
    {
     "name": "stdout",
     "output_type": "stream",
     "text": [
      "1/1 [==============================] - 0s 122ms/step\n",
      "1/1 [==============================] - 0s 188ms/step\n",
      "1/1 [==============================] - 0s 240ms/step\n"
     ]
    },
    {
     "name": "stderr",
     "output_type": "stream",
     "text": [
      "/home/orlov.av/anaconda3/envs/BATMAN/lib/python3.11/site-packages/mhcflurry/amino_acid.py:132: FutureWarning: Downcasting behavior in `replace` is deprecated and will be removed in a future version. To retain the old behavior, explicitly call `result.infer_objects(copy=False)`. To opt-in to the future behavior, set `pd.set_option('future.no_silent_downcasting', True)`\n",
      "  result = df.replace(letter_to_index_dict)\n"
     ]
    },
    {
     "name": "stdout",
     "output_type": "stream",
     "text": [
      "1/1 [==============================] - 0s 116ms/step\n"
     ]
    },
    {
     "name": "stderr",
     "output_type": "stream",
     "text": [
      "/home/orlov.av/anaconda3/envs/BATMAN/lib/python3.11/site-packages/mhcflurry/amino_acid.py:132: FutureWarning: Downcasting behavior in `replace` is deprecated and will be removed in a future version. To retain the old behavior, explicitly call `result.infer_objects(copy=False)`. To opt-in to the future behavior, set `pd.set_option('future.no_silent_downcasting', True)`\n",
      "  result = df.replace(letter_to_index_dict)\n",
      "/home/orlov.av/anaconda3/envs/BATMAN/lib/python3.11/site-packages/mhcflurry/amino_acid.py:132: FutureWarning: Downcasting behavior in `replace` is deprecated and will be removed in a future version. To retain the old behavior, explicitly call `result.infer_objects(copy=False)`. To opt-in to the future behavior, set `pd.set_option('future.no_silent_downcasting', True)`\n",
      "  result = df.replace(letter_to_index_dict)\n"
     ]
    },
    {
     "name": "stdout",
     "output_type": "stream",
     "text": [
      "1/1 [==============================] - 0s 128ms/step\n",
      "1/1 [==============================] - 0s 166ms/step\n"
     ]
    },
    {
     "name": "stderr",
     "output_type": "stream",
     "text": [
      "/home/orlov.av/anaconda3/envs/BATMAN/lib/python3.11/site-packages/mhcflurry/amino_acid.py:132: FutureWarning: Downcasting behavior in `replace` is deprecated and will be removed in a future version. To retain the old behavior, explicitly call `result.infer_objects(copy=False)`. To opt-in to the future behavior, set `pd.set_option('future.no_silent_downcasting', True)`\n",
      "  result = df.replace(letter_to_index_dict)\n"
     ]
    },
    {
     "name": "stdout",
     "output_type": "stream",
     "text": [
      "1/1 [==============================] - 0s 114ms/step\n"
     ]
    },
    {
     "name": "stderr",
     "output_type": "stream",
     "text": [
      "/home/orlov.av/anaconda3/envs/BATMAN/lib/python3.11/site-packages/mhcflurry/amino_acid.py:132: FutureWarning: Downcasting behavior in `replace` is deprecated and will be removed in a future version. To retain the old behavior, explicitly call `result.infer_objects(copy=False)`. To opt-in to the future behavior, set `pd.set_option('future.no_silent_downcasting', True)`\n",
      "  result = df.replace(letter_to_index_dict)\n",
      "/home/orlov.av/anaconda3/envs/BATMAN/lib/python3.11/site-packages/mhcflurry/amino_acid.py:132: FutureWarning: Downcasting behavior in `replace` is deprecated and will be removed in a future version. To retain the old behavior, explicitly call `result.infer_objects(copy=False)`. To opt-in to the future behavior, set `pd.set_option('future.no_silent_downcasting', True)`\n",
      "  result = df.replace(letter_to_index_dict)\n"
     ]
    },
    {
     "name": "stdout",
     "output_type": "stream",
     "text": [
      "1/1 [==============================] - 0s 229ms/step\n",
      "1/1 [==============================] - 0s 212ms/step\n"
     ]
    },
    {
     "name": "stderr",
     "output_type": "stream",
     "text": [
      "/home/orlov.av/anaconda3/envs/BATMAN/lib/python3.11/site-packages/mhcflurry/amino_acid.py:132: FutureWarning: Downcasting behavior in `replace` is deprecated and will be removed in a future version. To retain the old behavior, explicitly call `result.infer_objects(copy=False)`. To opt-in to the future behavior, set `pd.set_option('future.no_silent_downcasting', True)`\n",
      "  result = df.replace(letter_to_index_dict)\n"
     ]
    },
    {
     "name": "stdout",
     "output_type": "stream",
     "text": [
      "1/1 [==============================] - 0s 114ms/step\n"
     ]
    },
    {
     "name": "stderr",
     "output_type": "stream",
     "text": [
      "/home/orlov.av/anaconda3/envs/BATMAN/lib/python3.11/site-packages/mhcflurry/amino_acid.py:132: FutureWarning: Downcasting behavior in `replace` is deprecated and will be removed in a future version. To retain the old behavior, explicitly call `result.infer_objects(copy=False)`. To opt-in to the future behavior, set `pd.set_option('future.no_silent_downcasting', True)`\n",
      "  result = df.replace(letter_to_index_dict)\n",
      "/home/orlov.av/anaconda3/envs/BATMAN/lib/python3.11/site-packages/mhcflurry/amino_acid.py:132: FutureWarning: Downcasting behavior in `replace` is deprecated and will be removed in a future version. To retain the old behavior, explicitly call `result.infer_objects(copy=False)`. To opt-in to the future behavior, set `pd.set_option('future.no_silent_downcasting', True)`\n",
      "  result = df.replace(letter_to_index_dict)\n"
     ]
    },
    {
     "name": "stdout",
     "output_type": "stream",
     "text": [
      "1/1 [==============================] - 0s 170ms/step\n"
     ]
    },
    {
     "name": "stderr",
     "output_type": "stream",
     "text": [
      "/home/orlov.av/anaconda3/envs/BATMAN/lib/python3.11/site-packages/mhcflurry/amino_acid.py:132: FutureWarning: Downcasting behavior in `replace` is deprecated and will be removed in a future version. To retain the old behavior, explicitly call `result.infer_objects(copy=False)`. To opt-in to the future behavior, set `pd.set_option('future.no_silent_downcasting', True)`\n",
      "  result = df.replace(letter_to_index_dict)\n"
     ]
    },
    {
     "name": "stdout",
     "output_type": "stream",
     "text": [
      "1/1 [==============================] - 0s 215ms/step\n",
      "1/1 [==============================] - 0s 113ms/step\n"
     ]
    },
    {
     "name": "stderr",
     "output_type": "stream",
     "text": [
      "/home/orlov.av/anaconda3/envs/BATMAN/lib/python3.11/site-packages/mhcflurry/amino_acid.py:132: FutureWarning: Downcasting behavior in `replace` is deprecated and will be removed in a future version. To retain the old behavior, explicitly call `result.infer_objects(copy=False)`. To opt-in to the future behavior, set `pd.set_option('future.no_silent_downcasting', True)`\n",
      "  result = df.replace(letter_to_index_dict)\n",
      "/home/orlov.av/anaconda3/envs/BATMAN/lib/python3.11/site-packages/mhcflurry/amino_acid.py:132: FutureWarning: Downcasting behavior in `replace` is deprecated and will be removed in a future version. To retain the old behavior, explicitly call `result.infer_objects(copy=False)`. To opt-in to the future behavior, set `pd.set_option('future.no_silent_downcasting', True)`\n",
      "  result = df.replace(letter_to_index_dict)\n"
     ]
    },
    {
     "name": "stdout",
     "output_type": "stream",
     "text": [
      "1/1 [==============================] - 0s 133ms/step\n",
      "1/1 [==============================] - 0s 147ms/step\n"
     ]
    },
    {
     "name": "stderr",
     "output_type": "stream",
     "text": [
      "/home/orlov.av/anaconda3/envs/BATMAN/lib/python3.11/site-packages/mhcflurry/amino_acid.py:132: FutureWarning: Downcasting behavior in `replace` is deprecated and will be removed in a future version. To retain the old behavior, explicitly call `result.infer_objects(copy=False)`. To opt-in to the future behavior, set `pd.set_option('future.no_silent_downcasting', True)`\n",
      "  result = df.replace(letter_to_index_dict)\n",
      "/home/orlov.av/anaconda3/envs/BATMAN/lib/python3.11/site-packages/mhcflurry/amino_acid.py:132: FutureWarning: Downcasting behavior in `replace` is deprecated and will be removed in a future version. To retain the old behavior, explicitly call `result.infer_objects(copy=False)`. To opt-in to the future behavior, set `pd.set_option('future.no_silent_downcasting', True)`\n",
      "  result = df.replace(letter_to_index_dict)\n"
     ]
    },
    {
     "name": "stdout",
     "output_type": "stream",
     "text": [
      "1/1 [==============================] - 0s 437ms/step\n"
     ]
    },
    {
     "name": "stderr",
     "output_type": "stream",
     "text": [
      "/home/orlov.av/anaconda3/envs/BATMAN/lib/python3.11/site-packages/mhcflurry/amino_acid.py:132: FutureWarning: Downcasting behavior in `replace` is deprecated and will be removed in a future version. To retain the old behavior, explicitly call `result.infer_objects(copy=False)`. To opt-in to the future behavior, set `pd.set_option('future.no_silent_downcasting', True)`\n",
      "  result = df.replace(letter_to_index_dict)\n",
      "/home/orlov.av/anaconda3/envs/BATMAN/lib/python3.11/site-packages/mhcflurry/amino_acid.py:132: FutureWarning: Downcasting behavior in `replace` is deprecated and will be removed in a future version. To retain the old behavior, explicitly call `result.infer_objects(copy=False)`. To opt-in to the future behavior, set `pd.set_option('future.no_silent_downcasting', True)`\n",
      "  result = df.replace(letter_to_index_dict)\n"
     ]
    },
    {
     "name": "stdout",
     "output_type": "stream",
     "text": [
      "1/1 [==============================] - 0s 206ms/step\n",
      "1/1 [==============================] - 0s 474ms/step\n",
      "1/1 [==============================] - 0s 414ms/step\n"
     ]
    },
    {
     "name": "stderr",
     "output_type": "stream",
     "text": [
      "/home/orlov.av/anaconda3/envs/BATMAN/lib/python3.11/site-packages/mhcflurry/amino_acid.py:132: FutureWarning: Downcasting behavior in `replace` is deprecated and will be removed in a future version. To retain the old behavior, explicitly call `result.infer_objects(copy=False)`. To opt-in to the future behavior, set `pd.set_option('future.no_silent_downcasting', True)`\n",
      "  result = df.replace(letter_to_index_dict)\n",
      "/home/orlov.av/anaconda3/envs/BATMAN/lib/python3.11/site-packages/mhcflurry/amino_acid.py:132: FutureWarning: Downcasting behavior in `replace` is deprecated and will be removed in a future version. To retain the old behavior, explicitly call `result.infer_objects(copy=False)`. To opt-in to the future behavior, set `pd.set_option('future.no_silent_downcasting', True)`\n",
      "  result = df.replace(letter_to_index_dict)\n"
     ]
    },
    {
     "name": "stdout",
     "output_type": "stream",
     "text": [
      "1/1 [==============================] - 0s 184ms/step\n",
      "1/1 [==============================] - 0s 215ms/step\n"
     ]
    },
    {
     "name": "stderr",
     "output_type": "stream",
     "text": [
      "/home/orlov.av/anaconda3/envs/BATMAN/lib/python3.11/site-packages/mhcflurry/amino_acid.py:132: FutureWarning: Downcasting behavior in `replace` is deprecated and will be removed in a future version. To retain the old behavior, explicitly call `result.infer_objects(copy=False)`. To opt-in to the future behavior, set `pd.set_option('future.no_silent_downcasting', True)`\n",
      "  result = df.replace(letter_to_index_dict)\n"
     ]
    },
    {
     "name": "stdout",
     "output_type": "stream",
     "text": [
      "1/1 [==============================] - 0s 119ms/step\n"
     ]
    },
    {
     "name": "stderr",
     "output_type": "stream",
     "text": [
      "/home/orlov.av/anaconda3/envs/BATMAN/lib/python3.11/site-packages/mhcflurry/amino_acid.py:132: FutureWarning: Downcasting behavior in `replace` is deprecated and will be removed in a future version. To retain the old behavior, explicitly call `result.infer_objects(copy=False)`. To opt-in to the future behavior, set `pd.set_option('future.no_silent_downcasting', True)`\n",
      "  result = df.replace(letter_to_index_dict)\n",
      "/home/orlov.av/anaconda3/envs/BATMAN/lib/python3.11/site-packages/mhcflurry/amino_acid.py:132: FutureWarning: Downcasting behavior in `replace` is deprecated and will be removed in a future version. To retain the old behavior, explicitly call `result.infer_objects(copy=False)`. To opt-in to the future behavior, set `pd.set_option('future.no_silent_downcasting', True)`\n",
      "  result = df.replace(letter_to_index_dict)\n"
     ]
    },
    {
     "name": "stdout",
     "output_type": "stream",
     "text": [
      "1/1 [==============================] - 0s 124ms/step\n",
      "1/1 [==============================] - 0s 122ms/step\n"
     ]
    },
    {
     "name": "stderr",
     "output_type": "stream",
     "text": [
      "/home/orlov.av/anaconda3/envs/BATMAN/lib/python3.11/site-packages/mhcflurry/amino_acid.py:132: FutureWarning: Downcasting behavior in `replace` is deprecated and will be removed in a future version. To retain the old behavior, explicitly call `result.infer_objects(copy=False)`. To opt-in to the future behavior, set `pd.set_option('future.no_silent_downcasting', True)`\n",
      "  result = df.replace(letter_to_index_dict)\n"
     ]
    },
    {
     "name": "stdout",
     "output_type": "stream",
     "text": [
      "1/1 [==============================] - 0s 103ms/step\n"
     ]
    },
    {
     "name": "stderr",
     "output_type": "stream",
     "text": [
      "/home/orlov.av/anaconda3/envs/BATMAN/lib/python3.11/site-packages/mhcflurry/amino_acid.py:132: FutureWarning: Downcasting behavior in `replace` is deprecated and will be removed in a future version. To retain the old behavior, explicitly call `result.infer_objects(copy=False)`. To opt-in to the future behavior, set `pd.set_option('future.no_silent_downcasting', True)`\n",
      "  result = df.replace(letter_to_index_dict)\n",
      "/home/orlov.av/anaconda3/envs/BATMAN/lib/python3.11/site-packages/mhcflurry/amino_acid.py:132: FutureWarning: Downcasting behavior in `replace` is deprecated and will be removed in a future version. To retain the old behavior, explicitly call `result.infer_objects(copy=False)`. To opt-in to the future behavior, set `pd.set_option('future.no_silent_downcasting', True)`\n",
      "  result = df.replace(letter_to_index_dict)\n"
     ]
    },
    {
     "name": "stdout",
     "output_type": "stream",
     "text": [
      "1/1 [==============================] - 0s 136ms/step\n",
      "1/1 [==============================] - 0s 128ms/step\n"
     ]
    },
    {
     "name": "stderr",
     "output_type": "stream",
     "text": [
      "/home/orlov.av/anaconda3/envs/BATMAN/lib/python3.11/site-packages/mhcflurry/amino_acid.py:132: FutureWarning: Downcasting behavior in `replace` is deprecated and will be removed in a future version. To retain the old behavior, explicitly call `result.infer_objects(copy=False)`. To opt-in to the future behavior, set `pd.set_option('future.no_silent_downcasting', True)`\n",
      "  result = df.replace(letter_to_index_dict)\n"
     ]
    },
    {
     "name": "stdout",
     "output_type": "stream",
     "text": [
      "1/1 [==============================] - 0s 108ms/step\n"
     ]
    },
    {
     "name": "stderr",
     "output_type": "stream",
     "text": [
      "/home/orlov.av/anaconda3/envs/BATMAN/lib/python3.11/site-packages/mhcflurry/amino_acid.py:132: FutureWarning: Downcasting behavior in `replace` is deprecated and will be removed in a future version. To retain the old behavior, explicitly call `result.infer_objects(copy=False)`. To opt-in to the future behavior, set `pd.set_option('future.no_silent_downcasting', True)`\n",
      "  result = df.replace(letter_to_index_dict)\n",
      "/home/orlov.av/anaconda3/envs/BATMAN/lib/python3.11/site-packages/mhcflurry/amino_acid.py:132: FutureWarning: Downcasting behavior in `replace` is deprecated and will be removed in a future version. To retain the old behavior, explicitly call `result.infer_objects(copy=False)`. To opt-in to the future behavior, set `pd.set_option('future.no_silent_downcasting', True)`\n",
      "  result = df.replace(letter_to_index_dict)\n"
     ]
    },
    {
     "name": "stdout",
     "output_type": "stream",
     "text": [
      "1/1 [==============================] - 0s 127ms/step\n"
     ]
    },
    {
     "name": "stderr",
     "output_type": "stream",
     "text": [
      "/home/orlov.av/anaconda3/envs/BATMAN/lib/python3.11/site-packages/mhcflurry/amino_acid.py:132: FutureWarning: Downcasting behavior in `replace` is deprecated and will be removed in a future version. To retain the old behavior, explicitly call `result.infer_objects(copy=False)`. To opt-in to the future behavior, set `pd.set_option('future.no_silent_downcasting', True)`\n",
      "  result = df.replace(letter_to_index_dict)\n"
     ]
    },
    {
     "name": "stdout",
     "output_type": "stream",
     "text": [
      "1/1 [==============================] - 0s 143ms/step\n",
      "1/1 [==============================] - 0s 113ms/step\n"
     ]
    },
    {
     "name": "stderr",
     "output_type": "stream",
     "text": [
      "/home/orlov.av/anaconda3/envs/BATMAN/lib/python3.11/site-packages/mhcflurry/amino_acid.py:132: FutureWarning: Downcasting behavior in `replace` is deprecated and will be removed in a future version. To retain the old behavior, explicitly call `result.infer_objects(copy=False)`. To opt-in to the future behavior, set `pd.set_option('future.no_silent_downcasting', True)`\n",
      "  result = df.replace(letter_to_index_dict)\n",
      "/home/orlov.av/anaconda3/envs/BATMAN/lib/python3.11/site-packages/mhcflurry/amino_acid.py:132: FutureWarning: Downcasting behavior in `replace` is deprecated and will be removed in a future version. To retain the old behavior, explicitly call `result.infer_objects(copy=False)`. To opt-in to the future behavior, set `pd.set_option('future.no_silent_downcasting', True)`\n",
      "  result = df.replace(letter_to_index_dict)\n"
     ]
    },
    {
     "name": "stdout",
     "output_type": "stream",
     "text": [
      "1/1 [==============================] - 0s 124ms/step\n",
      "1/1 [==============================] - 0s 150ms/step\n"
     ]
    },
    {
     "name": "stderr",
     "output_type": "stream",
     "text": [
      "/home/orlov.av/anaconda3/envs/BATMAN/lib/python3.11/site-packages/mhcflurry/amino_acid.py:132: FutureWarning: Downcasting behavior in `replace` is deprecated and will be removed in a future version. To retain the old behavior, explicitly call `result.infer_objects(copy=False)`. To opt-in to the future behavior, set `pd.set_option('future.no_silent_downcasting', True)`\n",
      "  result = df.replace(letter_to_index_dict)\n",
      "/home/orlov.av/anaconda3/envs/BATMAN/lib/python3.11/site-packages/mhcflurry/amino_acid.py:132: FutureWarning: Downcasting behavior in `replace` is deprecated and will be removed in a future version. To retain the old behavior, explicitly call `result.infer_objects(copy=False)`. To opt-in to the future behavior, set `pd.set_option('future.no_silent_downcasting', True)`\n",
      "  result = df.replace(letter_to_index_dict)\n"
     ]
    },
    {
     "name": "stdout",
     "output_type": "stream",
     "text": [
      "1/1 [==============================] - 0s 400ms/step\n",
      "1/1 [==============================] - 0s 429ms/step\n"
     ]
    },
    {
     "name": "stderr",
     "output_type": "stream",
     "text": [
      "/home/orlov.av/anaconda3/envs/BATMAN/lib/python3.11/site-packages/mhcflurry/amino_acid.py:132: FutureWarning: Downcasting behavior in `replace` is deprecated and will be removed in a future version. To retain the old behavior, explicitly call `result.infer_objects(copy=False)`. To opt-in to the future behavior, set `pd.set_option('future.no_silent_downcasting', True)`\n",
      "  result = df.replace(letter_to_index_dict)\n",
      "/home/orlov.av/anaconda3/envs/BATMAN/lib/python3.11/site-packages/mhcflurry/amino_acid.py:132: FutureWarning: Downcasting behavior in `replace` is deprecated and will be removed in a future version. To retain the old behavior, explicitly call `result.infer_objects(copy=False)`. To opt-in to the future behavior, set `pd.set_option('future.no_silent_downcasting', True)`\n",
      "  result = df.replace(letter_to_index_dict)\n"
     ]
    },
    {
     "name": "stdout",
     "output_type": "stream",
     "text": [
      "1/1 [==============================] - 0s 104ms/step\n",
      "1/1 [==============================] - 0s 102ms/step\n"
     ]
    },
    {
     "name": "stderr",
     "output_type": "stream",
     "text": [
      "/home/orlov.av/anaconda3/envs/BATMAN/lib/python3.11/site-packages/mhcflurry/amino_acid.py:132: FutureWarning: Downcasting behavior in `replace` is deprecated and will be removed in a future version. To retain the old behavior, explicitly call `result.infer_objects(copy=False)`. To opt-in to the future behavior, set `pd.set_option('future.no_silent_downcasting', True)`\n",
      "  result = df.replace(letter_to_index_dict)\n"
     ]
    },
    {
     "name": "stdout",
     "output_type": "stream",
     "text": [
      "1/1 [==============================] - 0s 104ms/step\n"
     ]
    },
    {
     "name": "stderr",
     "output_type": "stream",
     "text": [
      "/home/orlov.av/anaconda3/envs/BATMAN/lib/python3.11/site-packages/mhcflurry/amino_acid.py:132: FutureWarning: Downcasting behavior in `replace` is deprecated and will be removed in a future version. To retain the old behavior, explicitly call `result.infer_objects(copy=False)`. To opt-in to the future behavior, set `pd.set_option('future.no_silent_downcasting', True)`\n",
      "  result = df.replace(letter_to_index_dict)\n"
     ]
    },
    {
     "name": "stdout",
     "output_type": "stream",
     "text": [
      "1/1 [==============================] - 0s 99ms/step\n"
     ]
    },
    {
     "name": "stderr",
     "output_type": "stream",
     "text": [
      "/home/orlov.av/anaconda3/envs/BATMAN/lib/python3.11/site-packages/mhcflurry/amino_acid.py:132: FutureWarning: Downcasting behavior in `replace` is deprecated and will be removed in a future version. To retain the old behavior, explicitly call `result.infer_objects(copy=False)`. To opt-in to the future behavior, set `pd.set_option('future.no_silent_downcasting', True)`\n",
      "  result = df.replace(letter_to_index_dict)\n"
     ]
    },
    {
     "name": "stdout",
     "output_type": "stream",
     "text": [
      "1/1 [==============================] - 0s 98ms/step\n"
     ]
    },
    {
     "name": "stderr",
     "output_type": "stream",
     "text": [
      "/home/orlov.av/anaconda3/envs/BATMAN/lib/python3.11/site-packages/mhcflurry/amino_acid.py:132: FutureWarning: Downcasting behavior in `replace` is deprecated and will be removed in a future version. To retain the old behavior, explicitly call `result.infer_objects(copy=False)`. To opt-in to the future behavior, set `pd.set_option('future.no_silent_downcasting', True)`\n",
      "  result = df.replace(letter_to_index_dict)\n"
     ]
    },
    {
     "name": "stdout",
     "output_type": "stream",
     "text": [
      "1/1 [==============================] - 0s 99ms/step\n"
     ]
    },
    {
     "name": "stderr",
     "output_type": "stream",
     "text": [
      "/home/orlov.av/anaconda3/envs/BATMAN/lib/python3.11/site-packages/mhcflurry/amino_acid.py:132: FutureWarning: Downcasting behavior in `replace` is deprecated and will be removed in a future version. To retain the old behavior, explicitly call `result.infer_objects(copy=False)`. To opt-in to the future behavior, set `pd.set_option('future.no_silent_downcasting', True)`\n",
      "  result = df.replace(letter_to_index_dict)\n"
     ]
    },
    {
     "name": "stdout",
     "output_type": "stream",
     "text": [
      "1/1 [==============================] - 0s 118ms/step\n"
     ]
    },
    {
     "name": "stderr",
     "output_type": "stream",
     "text": [
      "/home/orlov.av/anaconda3/envs/BATMAN/lib/python3.11/site-packages/mhcflurry/amino_acid.py:132: FutureWarning: Downcasting behavior in `replace` is deprecated and will be removed in a future version. To retain the old behavior, explicitly call `result.infer_objects(copy=False)`. To opt-in to the future behavior, set `pd.set_option('future.no_silent_downcasting', True)`\n",
      "  result = df.replace(letter_to_index_dict)\n"
     ]
    },
    {
     "name": "stdout",
     "output_type": "stream",
     "text": [
      "1/1 [==============================] - 0s 108ms/step\n"
     ]
    },
    {
     "name": "stderr",
     "output_type": "stream",
     "text": [
      "/home/orlov.av/anaconda3/envs/BATMAN/lib/python3.11/site-packages/mhcflurry/amino_acid.py:132: FutureWarning: Downcasting behavior in `replace` is deprecated and will be removed in a future version. To retain the old behavior, explicitly call `result.infer_objects(copy=False)`. To opt-in to the future behavior, set `pd.set_option('future.no_silent_downcasting', True)`\n",
      "  result = df.replace(letter_to_index_dict)\n"
     ]
    },
    {
     "name": "stdout",
     "output_type": "stream",
     "text": [
      "1/1 [==============================] - 0s 408ms/step\n"
     ]
    },
    {
     "name": "stderr",
     "output_type": "stream",
     "text": [
      "/home/orlov.av/anaconda3/envs/BATMAN/lib/python3.11/site-packages/mhcflurry/amino_acid.py:132: FutureWarning: Downcasting behavior in `replace` is deprecated and will be removed in a future version. To retain the old behavior, explicitly call `result.infer_objects(copy=False)`. To opt-in to the future behavior, set `pd.set_option('future.no_silent_downcasting', True)`\n",
      "  result = df.replace(letter_to_index_dict)\n"
     ]
    },
    {
     "name": "stdout",
     "output_type": "stream",
     "text": [
      "1/1 [==============================] - 0s 107ms/step\n"
     ]
    },
    {
     "name": "stderr",
     "output_type": "stream",
     "text": [
      "/home/orlov.av/anaconda3/envs/BATMAN/lib/python3.11/site-packages/mhcflurry/amino_acid.py:132: FutureWarning: Downcasting behavior in `replace` is deprecated and will be removed in a future version. To retain the old behavior, explicitly call `result.infer_objects(copy=False)`. To opt-in to the future behavior, set `pd.set_option('future.no_silent_downcasting', True)`\n",
      "  result = df.replace(letter_to_index_dict)\n"
     ]
    },
    {
     "name": "stdout",
     "output_type": "stream",
     "text": [
      "1/1 [==============================] - 0s 103ms/step\n"
     ]
    },
    {
     "name": "stderr",
     "output_type": "stream",
     "text": [
      "/home/orlov.av/anaconda3/envs/BATMAN/lib/python3.11/site-packages/mhcflurry/amino_acid.py:132: FutureWarning: Downcasting behavior in `replace` is deprecated and will be removed in a future version. To retain the old behavior, explicitly call `result.infer_objects(copy=False)`. To opt-in to the future behavior, set `pd.set_option('future.no_silent_downcasting', True)`\n",
      "  result = df.replace(letter_to_index_dict)\n",
      "/home/orlov.av/anaconda3/envs/BATMAN/lib/python3.11/site-packages/mhcflurry/amino_acid.py:132: FutureWarning: Downcasting behavior in `replace` is deprecated and will be removed in a future version. To retain the old behavior, explicitly call `result.infer_objects(copy=False)`. To opt-in to the future behavior, set `pd.set_option('future.no_silent_downcasting', True)`\n",
      "  result = df.replace(letter_to_index_dict)\n",
      "/home/orlov.av/anaconda3/envs/BATMAN/lib/python3.11/site-packages/mhcflurry/amino_acid.py:132: FutureWarning: Downcasting behavior in `replace` is deprecated and will be removed in a future version. To retain the old behavior, explicitly call `result.infer_objects(copy=False)`. To opt-in to the future behavior, set `pd.set_option('future.no_silent_downcasting', True)`\n",
      "  result = df.replace(letter_to_index_dict)\n"
     ]
    },
    {
     "name": "stdout",
     "output_type": "stream",
     "text": [
      "1/1 [==============================] - 0s 98ms/step\n"
     ]
    },
    {
     "name": "stderr",
     "output_type": "stream",
     "text": [
      "/home/orlov.av/anaconda3/envs/BATMAN/lib/python3.11/site-packages/mhcflurry/amino_acid.py:132: FutureWarning: Downcasting behavior in `replace` is deprecated and will be removed in a future version. To retain the old behavior, explicitly call `result.infer_objects(copy=False)`. To opt-in to the future behavior, set `pd.set_option('future.no_silent_downcasting', True)`\n",
      "  result = df.replace(letter_to_index_dict)\n"
     ]
    },
    {
     "name": "stdout",
     "output_type": "stream",
     "text": [
      "1/1 [==============================] - 0s 389ms/step\n",
      "1/1 [==============================] - 0s 159ms/step\n",
      "1/1 [==============================] - 0s 474ms/step\n"
     ]
    },
    {
     "name": "stderr",
     "output_type": "stream",
     "text": [
      "/home/orlov.av/anaconda3/envs/BATMAN/lib/python3.11/site-packages/mhcflurry/amino_acid.py:132: FutureWarning: Downcasting behavior in `replace` is deprecated and will be removed in a future version. To retain the old behavior, explicitly call `result.infer_objects(copy=False)`. To opt-in to the future behavior, set `pd.set_option('future.no_silent_downcasting', True)`\n",
      "  result = df.replace(letter_to_index_dict)\n",
      "/home/orlov.av/anaconda3/envs/BATMAN/lib/python3.11/site-packages/mhcflurry/amino_acid.py:132: FutureWarning: Downcasting behavior in `replace` is deprecated and will be removed in a future version. To retain the old behavior, explicitly call `result.infer_objects(copy=False)`. To opt-in to the future behavior, set `pd.set_option('future.no_silent_downcasting', True)`\n",
      "  result = df.replace(letter_to_index_dict)\n"
     ]
    },
    {
     "name": "stdout",
     "output_type": "stream",
     "text": [
      "1/1 [==============================] - 0s 105ms/step\n",
      "1/1 [==============================] - 0s 96ms/step\n"
     ]
    },
    {
     "name": "stderr",
     "output_type": "stream",
     "text": [
      "/home/orlov.av/anaconda3/envs/BATMAN/lib/python3.11/site-packages/mhcflurry/amino_acid.py:132: FutureWarning: Downcasting behavior in `replace` is deprecated and will be removed in a future version. To retain the old behavior, explicitly call `result.infer_objects(copy=False)`. To opt-in to the future behavior, set `pd.set_option('future.no_silent_downcasting', True)`\n",
      "  result = df.replace(letter_to_index_dict)\n",
      "/home/orlov.av/anaconda3/envs/BATMAN/lib/python3.11/site-packages/mhcflurry/amino_acid.py:132: FutureWarning: Downcasting behavior in `replace` is deprecated and will be removed in a future version. To retain the old behavior, explicitly call `result.infer_objects(copy=False)`. To opt-in to the future behavior, set `pd.set_option('future.no_silent_downcasting', True)`\n",
      "  result = df.replace(letter_to_index_dict)\n"
     ]
    },
    {
     "name": "stdout",
     "output_type": "stream",
     "text": [
      "1/1 [==============================] - 0s 95ms/step\n",
      "1/1 [==============================] - 0s 94ms/step\n"
     ]
    },
    {
     "name": "stderr",
     "output_type": "stream",
     "text": [
      "/home/orlov.av/anaconda3/envs/BATMAN/lib/python3.11/site-packages/mhcflurry/amino_acid.py:132: FutureWarning: Downcasting behavior in `replace` is deprecated and will be removed in a future version. To retain the old behavior, explicitly call `result.infer_objects(copy=False)`. To opt-in to the future behavior, set `pd.set_option('future.no_silent_downcasting', True)`\n",
      "  result = df.replace(letter_to_index_dict)\n"
     ]
    },
    {
     "name": "stdout",
     "output_type": "stream",
     "text": [
      "1/1 [==============================] - 0s 100ms/step\n"
     ]
    },
    {
     "name": "stderr",
     "output_type": "stream",
     "text": [
      "/home/orlov.av/anaconda3/envs/BATMAN/lib/python3.11/site-packages/mhcflurry/amino_acid.py:132: FutureWarning: Downcasting behavior in `replace` is deprecated and will be removed in a future version. To retain the old behavior, explicitly call `result.infer_objects(copy=False)`. To opt-in to the future behavior, set `pd.set_option('future.no_silent_downcasting', True)`\n",
      "  result = df.replace(letter_to_index_dict)\n"
     ]
    },
    {
     "name": "stdout",
     "output_type": "stream",
     "text": [
      "1/1 [==============================] - 0s 96ms/step\n"
     ]
    },
    {
     "name": "stderr",
     "output_type": "stream",
     "text": [
      "/home/orlov.av/anaconda3/envs/BATMAN/lib/python3.11/site-packages/mhcflurry/amino_acid.py:132: FutureWarning: Downcasting behavior in `replace` is deprecated and will be removed in a future version. To retain the old behavior, explicitly call `result.infer_objects(copy=False)`. To opt-in to the future behavior, set `pd.set_option('future.no_silent_downcasting', True)`\n",
      "  result = df.replace(letter_to_index_dict)\n"
     ]
    },
    {
     "name": "stdout",
     "output_type": "stream",
     "text": [
      "1/1 [==============================] - 0s 92ms/step\n"
     ]
    },
    {
     "name": "stderr",
     "output_type": "stream",
     "text": [
      "/home/orlov.av/anaconda3/envs/BATMAN/lib/python3.11/site-packages/mhcflurry/amino_acid.py:132: FutureWarning: Downcasting behavior in `replace` is deprecated and will be removed in a future version. To retain the old behavior, explicitly call `result.infer_objects(copy=False)`. To opt-in to the future behavior, set `pd.set_option('future.no_silent_downcasting', True)`\n",
      "  result = df.replace(letter_to_index_dict)\n"
     ]
    },
    {
     "name": "stdout",
     "output_type": "stream",
     "text": [
      "1/1 [==============================] - 0s 95ms/step\n"
     ]
    },
    {
     "name": "stderr",
     "output_type": "stream",
     "text": [
      "/home/orlov.av/anaconda3/envs/BATMAN/lib/python3.11/site-packages/mhcflurry/amino_acid.py:132: FutureWarning: Downcasting behavior in `replace` is deprecated and will be removed in a future version. To retain the old behavior, explicitly call `result.infer_objects(copy=False)`. To opt-in to the future behavior, set `pd.set_option('future.no_silent_downcasting', True)`\n",
      "  result = df.replace(letter_to_index_dict)\n"
     ]
    },
    {
     "name": "stdout",
     "output_type": "stream",
     "text": [
      "1/1 [==============================] - 0s 412ms/step\n"
     ]
    },
    {
     "name": "stderr",
     "output_type": "stream",
     "text": [
      "/home/orlov.av/anaconda3/envs/BATMAN/lib/python3.11/site-packages/mhcflurry/amino_acid.py:132: FutureWarning: Downcasting behavior in `replace` is deprecated and will be removed in a future version. To retain the old behavior, explicitly call `result.infer_objects(copy=False)`. To opt-in to the future behavior, set `pd.set_option('future.no_silent_downcasting', True)`\n",
      "  result = df.replace(letter_to_index_dict)\n"
     ]
    },
    {
     "name": "stdout",
     "output_type": "stream",
     "text": [
      "1/1 [==============================] - 0s 104ms/step\n"
     ]
    },
    {
     "name": "stderr",
     "output_type": "stream",
     "text": [
      "/home/orlov.av/anaconda3/envs/BATMAN/lib/python3.11/site-packages/mhcflurry/amino_acid.py:132: FutureWarning: Downcasting behavior in `replace` is deprecated and will be removed in a future version. To retain the old behavior, explicitly call `result.infer_objects(copy=False)`. To opt-in to the future behavior, set `pd.set_option('future.no_silent_downcasting', True)`\n",
      "  result = df.replace(letter_to_index_dict)\n"
     ]
    },
    {
     "name": "stdout",
     "output_type": "stream",
     "text": [
      "1/1 [==============================] - 0s 94ms/step\n"
     ]
    },
    {
     "name": "stderr",
     "output_type": "stream",
     "text": [
      "/home/orlov.av/anaconda3/envs/BATMAN/lib/python3.11/site-packages/mhcflurry/amino_acid.py:132: FutureWarning: Downcasting behavior in `replace` is deprecated and will be removed in a future version. To retain the old behavior, explicitly call `result.infer_objects(copy=False)`. To opt-in to the future behavior, set `pd.set_option('future.no_silent_downcasting', True)`\n",
      "  result = df.replace(letter_to_index_dict)\n"
     ]
    },
    {
     "name": "stdout",
     "output_type": "stream",
     "text": [
      "1/1 [==============================] - 0s 92ms/step\n"
     ]
    },
    {
     "name": "stderr",
     "output_type": "stream",
     "text": [
      "/home/orlov.av/anaconda3/envs/BATMAN/lib/python3.11/site-packages/mhcflurry/amino_acid.py:132: FutureWarning: Downcasting behavior in `replace` is deprecated and will be removed in a future version. To retain the old behavior, explicitly call `result.infer_objects(copy=False)`. To opt-in to the future behavior, set `pd.set_option('future.no_silent_downcasting', True)`\n",
      "  result = df.replace(letter_to_index_dict)\n"
     ]
    },
    {
     "name": "stdout",
     "output_type": "stream",
     "text": [
      "1/1 [==============================] - 0s 94ms/step\n"
     ]
    },
    {
     "name": "stderr",
     "output_type": "stream",
     "text": [
      "/home/orlov.av/anaconda3/envs/BATMAN/lib/python3.11/site-packages/mhcflurry/amino_acid.py:132: FutureWarning: Downcasting behavior in `replace` is deprecated and will be removed in a future version. To retain the old behavior, explicitly call `result.infer_objects(copy=False)`. To opt-in to the future behavior, set `pd.set_option('future.no_silent_downcasting', True)`\n",
      "  result = df.replace(letter_to_index_dict)\n",
      "/home/orlov.av/anaconda3/envs/BATMAN/lib/python3.11/site-packages/mhcflurry/amino_acid.py:132: FutureWarning: Downcasting behavior in `replace` is deprecated and will be removed in a future version. To retain the old behavior, explicitly call `result.infer_objects(copy=False)`. To opt-in to the future behavior, set `pd.set_option('future.no_silent_downcasting', True)`\n",
      "  result = df.replace(letter_to_index_dict)\n"
     ]
    },
    {
     "name": "stdout",
     "output_type": "stream",
     "text": [
      "1/1 [==============================] - 0s 385ms/step\n",
      "1/1 [==============================] - 0s 402ms/step\n"
     ]
    },
    {
     "name": "stderr",
     "output_type": "stream",
     "text": [
      "/home/orlov.av/anaconda3/envs/BATMAN/lib/python3.11/site-packages/mhcflurry/amino_acid.py:132: FutureWarning: Downcasting behavior in `replace` is deprecated and will be removed in a future version. To retain the old behavior, explicitly call `result.infer_objects(copy=False)`. To opt-in to the future behavior, set `pd.set_option('future.no_silent_downcasting', True)`\n",
      "  result = df.replace(letter_to_index_dict)\n"
     ]
    },
    {
     "name": "stdout",
     "output_type": "stream",
     "text": [
      "1/1 [==============================] - 0s 93ms/step\n"
     ]
    },
    {
     "name": "stderr",
     "output_type": "stream",
     "text": [
      "/home/orlov.av/anaconda3/envs/BATMAN/lib/python3.11/site-packages/mhcflurry/amino_acid.py:132: FutureWarning: Downcasting behavior in `replace` is deprecated and will be removed in a future version. To retain the old behavior, explicitly call `result.infer_objects(copy=False)`. To opt-in to the future behavior, set `pd.set_option('future.no_silent_downcasting', True)`\n",
      "  result = df.replace(letter_to_index_dict)\n"
     ]
    },
    {
     "name": "stdout",
     "output_type": "stream",
     "text": [
      "1/1 [==============================] - 0s 92ms/step\n"
     ]
    },
    {
     "name": "stderr",
     "output_type": "stream",
     "text": [
      "/home/orlov.av/anaconda3/envs/BATMAN/lib/python3.11/site-packages/mhcflurry/amino_acid.py:132: FutureWarning: Downcasting behavior in `replace` is deprecated and will be removed in a future version. To retain the old behavior, explicitly call `result.infer_objects(copy=False)`. To opt-in to the future behavior, set `pd.set_option('future.no_silent_downcasting', True)`\n",
      "  result = df.replace(letter_to_index_dict)\n"
     ]
    },
    {
     "name": "stdout",
     "output_type": "stream",
     "text": [
      "1/1 [==============================] - 0s 92ms/step\n"
     ]
    },
    {
     "name": "stderr",
     "output_type": "stream",
     "text": [
      "/home/orlov.av/anaconda3/envs/BATMAN/lib/python3.11/site-packages/mhcflurry/amino_acid.py:132: FutureWarning: Downcasting behavior in `replace` is deprecated and will be removed in a future version. To retain the old behavior, explicitly call `result.infer_objects(copy=False)`. To opt-in to the future behavior, set `pd.set_option('future.no_silent_downcasting', True)`\n",
      "  result = df.replace(letter_to_index_dict)\n"
     ]
    },
    {
     "name": "stdout",
     "output_type": "stream",
     "text": [
      "1/1 [==============================] - 0s 96ms/step\n"
     ]
    },
    {
     "name": "stderr",
     "output_type": "stream",
     "text": [
      "/home/orlov.av/anaconda3/envs/BATMAN/lib/python3.11/site-packages/mhcflurry/amino_acid.py:132: FutureWarning: Downcasting behavior in `replace` is deprecated and will be removed in a future version. To retain the old behavior, explicitly call `result.infer_objects(copy=False)`. To opt-in to the future behavior, set `pd.set_option('future.no_silent_downcasting', True)`\n",
      "  result = df.replace(letter_to_index_dict)\n"
     ]
    },
    {
     "name": "stdout",
     "output_type": "stream",
     "text": [
      "1/1 [==============================] - 0s 89ms/step\n"
     ]
    },
    {
     "name": "stderr",
     "output_type": "stream",
     "text": [
      "/home/orlov.av/anaconda3/envs/BATMAN/lib/python3.11/site-packages/mhcflurry/amino_acid.py:132: FutureWarning: Downcasting behavior in `replace` is deprecated and will be removed in a future version. To retain the old behavior, explicitly call `result.infer_objects(copy=False)`. To opt-in to the future behavior, set `pd.set_option('future.no_silent_downcasting', True)`\n",
      "  result = df.replace(letter_to_index_dict)\n"
     ]
    },
    {
     "name": "stdout",
     "output_type": "stream",
     "text": [
      "1/1 [==============================] - 0s 89ms/step\n"
     ]
    },
    {
     "name": "stderr",
     "output_type": "stream",
     "text": [
      "/home/orlov.av/anaconda3/envs/BATMAN/lib/python3.11/site-packages/mhcflurry/amino_acid.py:132: FutureWarning: Downcasting behavior in `replace` is deprecated and will be removed in a future version. To retain the old behavior, explicitly call `result.infer_objects(copy=False)`. To opt-in to the future behavior, set `pd.set_option('future.no_silent_downcasting', True)`\n",
      "  result = df.replace(letter_to_index_dict)\n",
      "/home/orlov.av/anaconda3/envs/BATMAN/lib/python3.11/site-packages/mhcflurry/amino_acid.py:132: FutureWarning: Downcasting behavior in `replace` is deprecated and will be removed in a future version. To retain the old behavior, explicitly call `result.infer_objects(copy=False)`. To opt-in to the future behavior, set `pd.set_option('future.no_silent_downcasting', True)`\n",
      "  result = df.replace(letter_to_index_dict)\n"
     ]
    },
    {
     "name": "stdout",
     "output_type": "stream",
     "text": [
      "1/1 [==============================] - 0s 379ms/step\n"
     ]
    },
    {
     "name": "stderr",
     "output_type": "stream",
     "text": [
      "/home/orlov.av/anaconda3/envs/BATMAN/lib/python3.11/site-packages/mhcflurry/amino_acid.py:132: FutureWarning: Downcasting behavior in `replace` is deprecated and will be removed in a future version. To retain the old behavior, explicitly call `result.infer_objects(copy=False)`. To opt-in to the future behavior, set `pd.set_option('future.no_silent_downcasting', True)`\n",
      "  result = df.replace(letter_to_index_dict)\n"
     ]
    },
    {
     "name": "stdout",
     "output_type": "stream",
     "text": [
      "1/1 [==============================] - 0s 399ms/step\n",
      "1/1 [==============================] - 0s 89ms/step\n"
     ]
    },
    {
     "name": "stderr",
     "output_type": "stream",
     "text": [
      "/home/orlov.av/anaconda3/envs/BATMAN/lib/python3.11/site-packages/mhcflurry/amino_acid.py:132: FutureWarning: Downcasting behavior in `replace` is deprecated and will be removed in a future version. To retain the old behavior, explicitly call `result.infer_objects(copy=False)`. To opt-in to the future behavior, set `pd.set_option('future.no_silent_downcasting', True)`\n",
      "  result = df.replace(letter_to_index_dict)\n"
     ]
    },
    {
     "name": "stdout",
     "output_type": "stream",
     "text": [
      "1/1 [==============================] - 0s 88ms/step\n"
     ]
    },
    {
     "name": "stderr",
     "output_type": "stream",
     "text": [
      "/home/orlov.av/anaconda3/envs/BATMAN/lib/python3.11/site-packages/mhcflurry/amino_acid.py:132: FutureWarning: Downcasting behavior in `replace` is deprecated and will be removed in a future version. To retain the old behavior, explicitly call `result.infer_objects(copy=False)`. To opt-in to the future behavior, set `pd.set_option('future.no_silent_downcasting', True)`\n",
      "  result = df.replace(letter_to_index_dict)\n"
     ]
    },
    {
     "name": "stdout",
     "output_type": "stream",
     "text": [
      "1/1 [==============================] - 0s 84ms/step\n"
     ]
    },
    {
     "name": "stderr",
     "output_type": "stream",
     "text": [
      "/home/orlov.av/anaconda3/envs/BATMAN/lib/python3.11/site-packages/mhcflurry/amino_acid.py:132: FutureWarning: Downcasting behavior in `replace` is deprecated and will be removed in a future version. To retain the old behavior, explicitly call `result.infer_objects(copy=False)`. To opt-in to the future behavior, set `pd.set_option('future.no_silent_downcasting', True)`\n",
      "  result = df.replace(letter_to_index_dict)\n"
     ]
    },
    {
     "name": "stdout",
     "output_type": "stream",
     "text": [
      "1/1 [==============================] - ETA: 0s"
     ]
    },
    {
     "name": "stderr",
     "output_type": "stream",
     "text": [
      "/home/orlov.av/anaconda3/envs/BATMAN/lib/python3.11/site-packages/mhcflurry/amino_acid.py:132: FutureWarning: Downcasting behavior in `replace` is deprecated and will be removed in a future version. To retain the old behavior, explicitly call `result.infer_objects(copy=False)`. To opt-in to the future behavior, set `pd.set_option('future.no_silent_downcasting', True)`\n",
      "  result = df.replace(letter_to_index_dict)\n"
     ]
    },
    {
     "name": "stdout",
     "output_type": "stream",
     "text": [
      "1/1 [==============================] - 0s 90ms/step\n"
     ]
    },
    {
     "name": "stderr",
     "output_type": "stream",
     "text": [
      "/home/orlov.av/anaconda3/envs/BATMAN/lib/python3.11/site-packages/mhcflurry/amino_acid.py:132: FutureWarning: Downcasting behavior in `replace` is deprecated and will be removed in a future version. To retain the old behavior, explicitly call `result.infer_objects(copy=False)`. To opt-in to the future behavior, set `pd.set_option('future.no_silent_downcasting', True)`\n",
      "  result = df.replace(letter_to_index_dict)\n"
     ]
    },
    {
     "name": "stdout",
     "output_type": "stream",
     "text": [
      "1/1 [==============================] - 0s 84ms/step\n"
     ]
    },
    {
     "name": "stderr",
     "output_type": "stream",
     "text": [
      "/home/orlov.av/anaconda3/envs/BATMAN/lib/python3.11/site-packages/mhcflurry/amino_acid.py:132: FutureWarning: Downcasting behavior in `replace` is deprecated and will be removed in a future version. To retain the old behavior, explicitly call `result.infer_objects(copy=False)`. To opt-in to the future behavior, set `pd.set_option('future.no_silent_downcasting', True)`\n",
      "  result = df.replace(letter_to_index_dict)\n"
     ]
    },
    {
     "name": "stdout",
     "output_type": "stream",
     "text": [
      "1/1 [==============================] - 0s 87ms/step\n",
      "1/1 [==============================] - 0s 394ms/step\n"
     ]
    },
    {
     "name": "stderr",
     "output_type": "stream",
     "text": [
      "/home/orlov.av/anaconda3/envs/BATMAN/lib/python3.11/site-packages/mhcflurry/amino_acid.py:132: FutureWarning: Downcasting behavior in `replace` is deprecated and will be removed in a future version. To retain the old behavior, explicitly call `result.infer_objects(copy=False)`. To opt-in to the future behavior, set `pd.set_option('future.no_silent_downcasting', True)`\n",
      "  result = df.replace(letter_to_index_dict)\n"
     ]
    },
    {
     "name": "stdout",
     "output_type": "stream",
     "text": [
      "1/1 [==============================] - 0s 92ms/step\n"
     ]
    },
    {
     "name": "stderr",
     "output_type": "stream",
     "text": [
      "/home/orlov.av/anaconda3/envs/BATMAN/lib/python3.11/site-packages/mhcflurry/amino_acid.py:132: FutureWarning: Downcasting behavior in `replace` is deprecated and will be removed in a future version. To retain the old behavior, explicitly call `result.infer_objects(copy=False)`. To opt-in to the future behavior, set `pd.set_option('future.no_silent_downcasting', True)`\n",
      "  result = df.replace(letter_to_index_dict)\n"
     ]
    },
    {
     "name": "stdout",
     "output_type": "stream",
     "text": [
      "1/1 [==============================] - 0s 88ms/step\n"
     ]
    },
    {
     "name": "stderr",
     "output_type": "stream",
     "text": [
      "/home/orlov.av/anaconda3/envs/BATMAN/lib/python3.11/site-packages/mhcflurry/amino_acid.py:132: FutureWarning: Downcasting behavior in `replace` is deprecated and will be removed in a future version. To retain the old behavior, explicitly call `result.infer_objects(copy=False)`. To opt-in to the future behavior, set `pd.set_option('future.no_silent_downcasting', True)`\n",
      "  result = df.replace(letter_to_index_dict)\n"
     ]
    },
    {
     "name": "stdout",
     "output_type": "stream",
     "text": [
      "1/1 [==============================] - 0s 86ms/step\n"
     ]
    },
    {
     "name": "stderr",
     "output_type": "stream",
     "text": [
      "/home/orlov.av/anaconda3/envs/BATMAN/lib/python3.11/site-packages/mhcflurry/amino_acid.py:132: FutureWarning: Downcasting behavior in `replace` is deprecated and will be removed in a future version. To retain the old behavior, explicitly call `result.infer_objects(copy=False)`. To opt-in to the future behavior, set `pd.set_option('future.no_silent_downcasting', True)`\n",
      "  result = df.replace(letter_to_index_dict)\n"
     ]
    },
    {
     "name": "stdout",
     "output_type": "stream",
     "text": [
      "1/1 [==============================] - 0s 372ms/step\n"
     ]
    },
    {
     "name": "stderr",
     "output_type": "stream",
     "text": [
      "/home/orlov.av/anaconda3/envs/BATMAN/lib/python3.11/site-packages/mhcflurry/amino_acid.py:132: FutureWarning: Downcasting behavior in `replace` is deprecated and will be removed in a future version. To retain the old behavior, explicitly call `result.infer_objects(copy=False)`. To opt-in to the future behavior, set `pd.set_option('future.no_silent_downcasting', True)`\n",
      "  result = df.replace(letter_to_index_dict)\n"
     ]
    },
    {
     "name": "stdout",
     "output_type": "stream",
     "text": [
      "1/1 [==============================] - 0s 87ms/step\n"
     ]
    },
    {
     "name": "stderr",
     "output_type": "stream",
     "text": [
      "/home/orlov.av/anaconda3/envs/BATMAN/lib/python3.11/site-packages/mhcflurry/amino_acid.py:132: FutureWarning: Downcasting behavior in `replace` is deprecated and will be removed in a future version. To retain the old behavior, explicitly call `result.infer_objects(copy=False)`. To opt-in to the future behavior, set `pd.set_option('future.no_silent_downcasting', True)`\n",
      "  result = df.replace(letter_to_index_dict)\n"
     ]
    },
    {
     "name": "stdout",
     "output_type": "stream",
     "text": [
      "1/1 [==============================] - 0s 82ms/step\n"
     ]
    },
    {
     "name": "stderr",
     "output_type": "stream",
     "text": [
      "/home/orlov.av/anaconda3/envs/BATMAN/lib/python3.11/site-packages/mhcflurry/amino_acid.py:132: FutureWarning: Downcasting behavior in `replace` is deprecated and will be removed in a future version. To retain the old behavior, explicitly call `result.infer_objects(copy=False)`. To opt-in to the future behavior, set `pd.set_option('future.no_silent_downcasting', True)`\n",
      "  result = df.replace(letter_to_index_dict)\n"
     ]
    },
    {
     "name": "stdout",
     "output_type": "stream",
     "text": [
      "1/1 [==============================] - 0s 84ms/step\n"
     ]
    },
    {
     "name": "stderr",
     "output_type": "stream",
     "text": [
      "/home/orlov.av/anaconda3/envs/BATMAN/lib/python3.11/site-packages/mhcflurry/amino_acid.py:132: FutureWarning: Downcasting behavior in `replace` is deprecated and will be removed in a future version. To retain the old behavior, explicitly call `result.infer_objects(copy=False)`. To opt-in to the future behavior, set `pd.set_option('future.no_silent_downcasting', True)`\n",
      "  result = df.replace(letter_to_index_dict)\n"
     ]
    },
    {
     "name": "stdout",
     "output_type": "stream",
     "text": [
      "1/1 [==============================] - 0s 398ms/step\n"
     ]
    },
    {
     "name": "stderr",
     "output_type": "stream",
     "text": [
      "/home/orlov.av/anaconda3/envs/BATMAN/lib/python3.11/site-packages/mhcflurry/amino_acid.py:132: FutureWarning: Downcasting behavior in `replace` is deprecated and will be removed in a future version. To retain the old behavior, explicitly call `result.infer_objects(copy=False)`. To opt-in to the future behavior, set `pd.set_option('future.no_silent_downcasting', True)`\n",
      "  result = df.replace(letter_to_index_dict)\n",
      "/home/orlov.av/anaconda3/envs/BATMAN/lib/python3.11/site-packages/mhcflurry/amino_acid.py:132: FutureWarning: Downcasting behavior in `replace` is deprecated and will be removed in a future version. To retain the old behavior, explicitly call `result.infer_objects(copy=False)`. To opt-in to the future behavior, set `pd.set_option('future.no_silent_downcasting', True)`\n",
      "  result = df.replace(letter_to_index_dict)\n"
     ]
    },
    {
     "name": "stdout",
     "output_type": "stream",
     "text": [
      "1/1 [==============================] - 0s 77ms/step\n"
     ]
    },
    {
     "name": "stderr",
     "output_type": "stream",
     "text": [
      "/home/orlov.av/anaconda3/envs/BATMAN/lib/python3.11/site-packages/mhcflurry/amino_acid.py:132: FutureWarning: Downcasting behavior in `replace` is deprecated and will be removed in a future version. To retain the old behavior, explicitly call `result.infer_objects(copy=False)`. To opt-in to the future behavior, set `pd.set_option('future.no_silent_downcasting', True)`\n",
      "  result = df.replace(letter_to_index_dict)\n"
     ]
    },
    {
     "name": "stdout",
     "output_type": "stream",
     "text": [
      "1/1 [==============================] - 0s 80ms/step\n",
      "1/1 [==============================] - 0s 402ms/step\n"
     ]
    },
    {
     "name": "stderr",
     "output_type": "stream",
     "text": [
      "/home/orlov.av/anaconda3/envs/BATMAN/lib/python3.11/site-packages/mhcflurry/amino_acid.py:132: FutureWarning: Downcasting behavior in `replace` is deprecated and will be removed in a future version. To retain the old behavior, explicitly call `result.infer_objects(copy=False)`. To opt-in to the future behavior, set `pd.set_option('future.no_silent_downcasting', True)`\n",
      "  result = df.replace(letter_to_index_dict)\n"
     ]
    },
    {
     "name": "stdout",
     "output_type": "stream",
     "text": [
      "1/1 [==============================] - 0s 79ms/step\n"
     ]
    },
    {
     "name": "stderr",
     "output_type": "stream",
     "text": [
      "/home/orlov.av/anaconda3/envs/BATMAN/lib/python3.11/site-packages/mhcflurry/amino_acid.py:132: FutureWarning: Downcasting behavior in `replace` is deprecated and will be removed in a future version. To retain the old behavior, explicitly call `result.infer_objects(copy=False)`. To opt-in to the future behavior, set `pd.set_option('future.no_silent_downcasting', True)`\n",
      "  result = df.replace(letter_to_index_dict)\n"
     ]
    },
    {
     "name": "stdout",
     "output_type": "stream",
     "text": [
      "1/1 [==============================] - 0s 75ms/step\n"
     ]
    },
    {
     "name": "stderr",
     "output_type": "stream",
     "text": [
      "/home/orlov.av/anaconda3/envs/BATMAN/lib/python3.11/site-packages/mhcflurry/amino_acid.py:132: FutureWarning: Downcasting behavior in `replace` is deprecated and will be removed in a future version. To retain the old behavior, explicitly call `result.infer_objects(copy=False)`. To opt-in to the future behavior, set `pd.set_option('future.no_silent_downcasting', True)`\n",
      "  result = df.replace(letter_to_index_dict)\n",
      "/home/orlov.av/anaconda3/envs/BATMAN/lib/python3.11/site-packages/mhcflurry/amino_acid.py:132: FutureWarning: Downcasting behavior in `replace` is deprecated and will be removed in a future version. To retain the old behavior, explicitly call `result.infer_objects(copy=False)`. To opt-in to the future behavior, set `pd.set_option('future.no_silent_downcasting', True)`\n",
      "  result = df.replace(letter_to_index_dict)\n"
     ]
    },
    {
     "name": "stdout",
     "output_type": "stream",
     "text": [
      "1/1 [==============================] - 0s 374ms/step\n"
     ]
    },
    {
     "name": "stderr",
     "output_type": "stream",
     "text": [
      "/home/orlov.av/anaconda3/envs/BATMAN/lib/python3.11/site-packages/mhcflurry/amino_acid.py:132: FutureWarning: Downcasting behavior in `replace` is deprecated and will be removed in a future version. To retain the old behavior, explicitly call `result.infer_objects(copy=False)`. To opt-in to the future behavior, set `pd.set_option('future.no_silent_downcasting', True)`\n",
      "  result = df.replace(letter_to_index_dict)\n"
     ]
    },
    {
     "name": "stdout",
     "output_type": "stream",
     "text": [
      "1/1 [==============================] - 0s 77ms/step\n"
     ]
    },
    {
     "name": "stderr",
     "output_type": "stream",
     "text": [
      "/home/orlov.av/anaconda3/envs/BATMAN/lib/python3.11/site-packages/mhcflurry/amino_acid.py:132: FutureWarning: Downcasting behavior in `replace` is deprecated and will be removed in a future version. To retain the old behavior, explicitly call `result.infer_objects(copy=False)`. To opt-in to the future behavior, set `pd.set_option('future.no_silent_downcasting', True)`\n",
      "  result = df.replace(letter_to_index_dict)\n"
     ]
    },
    {
     "name": "stdout",
     "output_type": "stream",
     "text": [
      "1/1 [==============================] - 0s 76ms/step\n",
      "1/1 [==============================] - 0s 386ms/step\n"
     ]
    },
    {
     "name": "stderr",
     "output_type": "stream",
     "text": [
      "/home/orlov.av/anaconda3/envs/BATMAN/lib/python3.11/site-packages/mhcflurry/amino_acid.py:132: FutureWarning: Downcasting behavior in `replace` is deprecated and will be removed in a future version. To retain the old behavior, explicitly call `result.infer_objects(copy=False)`. To opt-in to the future behavior, set `pd.set_option('future.no_silent_downcasting', True)`\n",
      "  result = df.replace(letter_to_index_dict)\n"
     ]
    },
    {
     "name": "stdout",
     "output_type": "stream",
     "text": [
      "1/1 [==============================] - 0s 79ms/step\n"
     ]
    },
    {
     "name": "stderr",
     "output_type": "stream",
     "text": [
      "/home/orlov.av/anaconda3/envs/BATMAN/lib/python3.11/site-packages/mhcflurry/amino_acid.py:132: FutureWarning: Downcasting behavior in `replace` is deprecated and will be removed in a future version. To retain the old behavior, explicitly call `result.infer_objects(copy=False)`. To opt-in to the future behavior, set `pd.set_option('future.no_silent_downcasting', True)`\n",
      "  result = df.replace(letter_to_index_dict)\n"
     ]
    },
    {
     "name": "stdout",
     "output_type": "stream",
     "text": [
      "1/1 [==============================] - 0s 77ms/step\n"
     ]
    },
    {
     "name": "stderr",
     "output_type": "stream",
     "text": [
      "/home/orlov.av/anaconda3/envs/BATMAN/lib/python3.11/site-packages/mhcflurry/amino_acid.py:132: FutureWarning: Downcasting behavior in `replace` is deprecated and will be removed in a future version. To retain the old behavior, explicitly call `result.infer_objects(copy=False)`. To opt-in to the future behavior, set `pd.set_option('future.no_silent_downcasting', True)`\n",
      "  result = df.replace(letter_to_index_dict)\n"
     ]
    },
    {
     "name": "stdout",
     "output_type": "stream",
     "text": [
      "1/1 [==============================] - 0s 389ms/step\n"
     ]
    },
    {
     "name": "stderr",
     "output_type": "stream",
     "text": [
      "/home/orlov.av/anaconda3/envs/BATMAN/lib/python3.11/site-packages/mhcflurry/amino_acid.py:132: FutureWarning: Downcasting behavior in `replace` is deprecated and will be removed in a future version. To retain the old behavior, explicitly call `result.infer_objects(copy=False)`. To opt-in to the future behavior, set `pd.set_option('future.no_silent_downcasting', True)`\n",
      "  result = df.replace(letter_to_index_dict)\n"
     ]
    },
    {
     "name": "stdout",
     "output_type": "stream",
     "text": [
      "1/1 [==============================] - 0s 77ms/step\n"
     ]
    },
    {
     "name": "stderr",
     "output_type": "stream",
     "text": [
      "/home/orlov.av/anaconda3/envs/BATMAN/lib/python3.11/site-packages/mhcflurry/amino_acid.py:132: FutureWarning: Downcasting behavior in `replace` is deprecated and will be removed in a future version. To retain the old behavior, explicitly call `result.infer_objects(copy=False)`. To opt-in to the future behavior, set `pd.set_option('future.no_silent_downcasting', True)`\n",
      "  result = df.replace(letter_to_index_dict)\n"
     ]
    },
    {
     "name": "stdout",
     "output_type": "stream",
     "text": [
      "1/1 [==============================] - 0s 76ms/step\n"
     ]
    },
    {
     "name": "stderr",
     "output_type": "stream",
     "text": [
      "/home/orlov.av/anaconda3/envs/BATMAN/lib/python3.11/site-packages/mhcflurry/amino_acid.py:132: FutureWarning: Downcasting behavior in `replace` is deprecated and will be removed in a future version. To retain the old behavior, explicitly call `result.infer_objects(copy=False)`. To opt-in to the future behavior, set `pd.set_option('future.no_silent_downcasting', True)`\n",
      "  result = df.replace(letter_to_index_dict)\n"
     ]
    },
    {
     "name": "stdout",
     "output_type": "stream",
     "text": [
      "1/1 [==============================] - 0s 364ms/step\n"
     ]
    },
    {
     "name": "stderr",
     "output_type": "stream",
     "text": [
      "/home/orlov.av/anaconda3/envs/BATMAN/lib/python3.11/site-packages/mhcflurry/amino_acid.py:132: FutureWarning: Downcasting behavior in `replace` is deprecated and will be removed in a future version. To retain the old behavior, explicitly call `result.infer_objects(copy=False)`. To opt-in to the future behavior, set `pd.set_option('future.no_silent_downcasting', True)`\n",
      "  result = df.replace(letter_to_index_dict)\n"
     ]
    },
    {
     "name": "stdout",
     "output_type": "stream",
     "text": [
      "1/1 [==============================] - 0s 78ms/step\n"
     ]
    },
    {
     "name": "stderr",
     "output_type": "stream",
     "text": [
      "/home/orlov.av/anaconda3/envs/BATMAN/lib/python3.11/site-packages/mhcflurry/amino_acid.py:132: FutureWarning: Downcasting behavior in `replace` is deprecated and will be removed in a future version. To retain the old behavior, explicitly call `result.infer_objects(copy=False)`. To opt-in to the future behavior, set `pd.set_option('future.no_silent_downcasting', True)`\n",
      "  result = df.replace(letter_to_index_dict)\n",
      "/home/orlov.av/anaconda3/envs/BATMAN/lib/python3.11/site-packages/mhcflurry/amino_acid.py:132: FutureWarning: Downcasting behavior in `replace` is deprecated and will be removed in a future version. To retain the old behavior, explicitly call `result.infer_objects(copy=False)`. To opt-in to the future behavior, set `pd.set_option('future.no_silent_downcasting', True)`\n",
      "  result = df.replace(letter_to_index_dict)\n"
     ]
    },
    {
     "name": "stdout",
     "output_type": "stream",
     "text": [
      "1/1 [==============================] - 0s 79ms/step\n",
      "1/1 [==============================] - 1s 1s/step\n"
     ]
    },
    {
     "name": "stderr",
     "output_type": "stream",
     "text": [
      "/home/orlov.av/anaconda3/envs/BATMAN/lib/python3.11/site-packages/mhcflurry/amino_acid.py:132: FutureWarning: Downcasting behavior in `replace` is deprecated and will be removed in a future version. To retain the old behavior, explicitly call `result.infer_objects(copy=False)`. To opt-in to the future behavior, set `pd.set_option('future.no_silent_downcasting', True)`\n",
      "  result = df.replace(letter_to_index_dict)\n",
      "/home/orlov.av/anaconda3/envs/BATMAN/lib/python3.11/site-packages/mhcflurry/amino_acid.py:132: FutureWarning: Downcasting behavior in `replace` is deprecated and will be removed in a future version. To retain the old behavior, explicitly call `result.infer_objects(copy=False)`. To opt-in to the future behavior, set `pd.set_option('future.no_silent_downcasting', True)`\n",
      "  result = df.replace(letter_to_index_dict)\n"
     ]
    },
    {
     "name": "stdout",
     "output_type": "stream",
     "text": [
      "1/1 [==============================] - 0s 77ms/step\n",
      "1/1 [==============================] - 1s 1s/step\n"
     ]
    },
    {
     "name": "stderr",
     "output_type": "stream",
     "text": [
      "/home/orlov.av/anaconda3/envs/BATMAN/lib/python3.11/site-packages/mhcflurry/amino_acid.py:132: FutureWarning: Downcasting behavior in `replace` is deprecated and will be removed in a future version. To retain the old behavior, explicitly call `result.infer_objects(copy=False)`. To opt-in to the future behavior, set `pd.set_option('future.no_silent_downcasting', True)`\n",
      "  result = df.replace(letter_to_index_dict)\n"
     ]
    },
    {
     "name": "stdout",
     "output_type": "stream",
     "text": [
      "1/1 [==============================] - 0s 77ms/step\n"
     ]
    },
    {
     "name": "stderr",
     "output_type": "stream",
     "text": [
      "/home/orlov.av/anaconda3/envs/BATMAN/lib/python3.11/site-packages/mhcflurry/amino_acid.py:132: FutureWarning: Downcasting behavior in `replace` is deprecated and will be removed in a future version. To retain the old behavior, explicitly call `result.infer_objects(copy=False)`. To opt-in to the future behavior, set `pd.set_option('future.no_silent_downcasting', True)`\n",
      "  result = df.replace(letter_to_index_dict)\n"
     ]
    },
    {
     "name": "stdout",
     "output_type": "stream",
     "text": [
      "1/1 [==============================] - 0s 364ms/step\n"
     ]
    },
    {
     "name": "stderr",
     "output_type": "stream",
     "text": [
      "/home/orlov.av/anaconda3/envs/BATMAN/lib/python3.11/site-packages/mhcflurry/amino_acid.py:132: FutureWarning: Downcasting behavior in `replace` is deprecated and will be removed in a future version. To retain the old behavior, explicitly call `result.infer_objects(copy=False)`. To opt-in to the future behavior, set `pd.set_option('future.no_silent_downcasting', True)`\n",
      "  result = df.replace(letter_to_index_dict)\n"
     ]
    },
    {
     "name": "stdout",
     "output_type": "stream",
     "text": [
      "1/1 [==============================] - 0s 66ms/step\n"
     ]
    },
    {
     "name": "stderr",
     "output_type": "stream",
     "text": [
      "/home/orlov.av/anaconda3/envs/BATMAN/lib/python3.11/site-packages/mhcflurry/amino_acid.py:132: FutureWarning: Downcasting behavior in `replace` is deprecated and will be removed in a future version. To retain the old behavior, explicitly call `result.infer_objects(copy=False)`. To opt-in to the future behavior, set `pd.set_option('future.no_silent_downcasting', True)`\n",
      "  result = df.replace(letter_to_index_dict)\n"
     ]
    },
    {
     "name": "stdout",
     "output_type": "stream",
     "text": [
      "1/1 [==============================] - 0s 352ms/step\n"
     ]
    },
    {
     "name": "stderr",
     "output_type": "stream",
     "text": [
      "/home/orlov.av/anaconda3/envs/BATMAN/lib/python3.11/site-packages/mhcflurry/amino_acid.py:132: FutureWarning: Downcasting behavior in `replace` is deprecated and will be removed in a future version. To retain the old behavior, explicitly call `result.infer_objects(copy=False)`. To opt-in to the future behavior, set `pd.set_option('future.no_silent_downcasting', True)`\n",
      "  result = df.replace(letter_to_index_dict)\n"
     ]
    },
    {
     "name": "stdout",
     "output_type": "stream",
     "text": [
      "1/1 [==============================] - 0s 61ms/step\n"
     ]
    },
    {
     "name": "stderr",
     "output_type": "stream",
     "text": [
      "/home/orlov.av/anaconda3/envs/BATMAN/lib/python3.11/site-packages/mhcflurry/amino_acid.py:132: FutureWarning: Downcasting behavior in `replace` is deprecated and will be removed in a future version. To retain the old behavior, explicitly call `result.infer_objects(copy=False)`. To opt-in to the future behavior, set `pd.set_option('future.no_silent_downcasting', True)`\n",
      "  result = df.replace(letter_to_index_dict)\n"
     ]
    },
    {
     "name": "stdout",
     "output_type": "stream",
     "text": [
      "1/1 [==============================] - 1s 1s/step\n"
     ]
    },
    {
     "name": "stderr",
     "output_type": "stream",
     "text": [
      "/home/orlov.av/anaconda3/envs/BATMAN/lib/python3.11/site-packages/mhcflurry/amino_acid.py:132: FutureWarning: Downcasting behavior in `replace` is deprecated and will be removed in a future version. To retain the old behavior, explicitly call `result.infer_objects(copy=False)`. To opt-in to the future behavior, set `pd.set_option('future.no_silent_downcasting', True)`\n",
      "  result = df.replace(letter_to_index_dict)\n"
     ]
    },
    {
     "name": "stdout",
     "output_type": "stream",
     "text": [
      "1/1 [==============================] - 0s 77ms/step\n"
     ]
    },
    {
     "name": "stderr",
     "output_type": "stream",
     "text": [
      "/home/orlov.av/anaconda3/envs/BATMAN/lib/python3.11/site-packages/mhcflurry/amino_acid.py:132: FutureWarning: Downcasting behavior in `replace` is deprecated and will be removed in a future version. To retain the old behavior, explicitly call `result.infer_objects(copy=False)`. To opt-in to the future behavior, set `pd.set_option('future.no_silent_downcasting', True)`\n",
      "  result = df.replace(letter_to_index_dict)\n"
     ]
    },
    {
     "name": "stdout",
     "output_type": "stream",
     "text": [
      "1/1 [==============================] - 0s 348ms/step\n"
     ]
    },
    {
     "name": "stderr",
     "output_type": "stream",
     "text": [
      "/home/orlov.av/anaconda3/envs/BATMAN/lib/python3.11/site-packages/mhcflurry/amino_acid.py:132: FutureWarning: Downcasting behavior in `replace` is deprecated and will be removed in a future version. To retain the old behavior, explicitly call `result.infer_objects(copy=False)`. To opt-in to the future behavior, set `pd.set_option('future.no_silent_downcasting', True)`\n",
      "  result = df.replace(letter_to_index_dict)\n"
     ]
    },
    {
     "name": "stdout",
     "output_type": "stream",
     "text": [
      "1/1 [==============================] - 0s 60ms/step\n"
     ]
    },
    {
     "name": "stderr",
     "output_type": "stream",
     "text": [
      "/home/orlov.av/anaconda3/envs/BATMAN/lib/python3.11/site-packages/mhcflurry/amino_acid.py:132: FutureWarning: Downcasting behavior in `replace` is deprecated and will be removed in a future version. To retain the old behavior, explicitly call `result.infer_objects(copy=False)`. To opt-in to the future behavior, set `pd.set_option('future.no_silent_downcasting', True)`\n",
      "  result = df.replace(letter_to_index_dict)\n"
     ]
    },
    {
     "name": "stdout",
     "output_type": "stream",
     "text": [
      "1/1 [==============================] - 0s 334ms/step\n"
     ]
    },
    {
     "name": "stderr",
     "output_type": "stream",
     "text": [
      "/home/orlov.av/anaconda3/envs/BATMAN/lib/python3.11/site-packages/mhcflurry/amino_acid.py:132: FutureWarning: Downcasting behavior in `replace` is deprecated and will be removed in a future version. To retain the old behavior, explicitly call `result.infer_objects(copy=False)`. To opt-in to the future behavior, set `pd.set_option('future.no_silent_downcasting', True)`\n",
      "  result = df.replace(letter_to_index_dict)\n"
     ]
    },
    {
     "name": "stdout",
     "output_type": "stream",
     "text": [
      "1/1 [==============================] - 0s 330ms/step\n"
     ]
    },
    {
     "name": "stderr",
     "output_type": "stream",
     "text": [
      "/home/orlov.av/anaconda3/envs/BATMAN/lib/python3.11/site-packages/mhcflurry/amino_acid.py:132: FutureWarning: Downcasting behavior in `replace` is deprecated and will be removed in a future version. To retain the old behavior, explicitly call `result.infer_objects(copy=False)`. To opt-in to the future behavior, set `pd.set_option('future.no_silent_downcasting', True)`\n",
      "  result = df.replace(letter_to_index_dict)\n"
     ]
    },
    {
     "name": "stdout",
     "output_type": "stream",
     "text": [
      "1/1 [==============================] - 0s 372ms/step\n"
     ]
    },
    {
     "name": "stderr",
     "output_type": "stream",
     "text": [
      "/home/orlov.av/anaconda3/envs/BATMAN/lib/python3.11/site-packages/mhcflurry/amino_acid.py:132: FutureWarning: Downcasting behavior in `replace` is deprecated and will be removed in a future version. To retain the old behavior, explicitly call `result.infer_objects(copy=False)`. To opt-in to the future behavior, set `pd.set_option('future.no_silent_downcasting', True)`\n",
      "  result = df.replace(letter_to_index_dict)\n"
     ]
    },
    {
     "name": "stdout",
     "output_type": "stream",
     "text": [
      "1/1 [==============================] - 0s 361ms/step\n"
     ]
    },
    {
     "name": "stderr",
     "output_type": "stream",
     "text": [
      "/home/orlov.av/anaconda3/envs/BATMAN/lib/python3.11/site-packages/mhcflurry/amino_acid.py:132: FutureWarning: Downcasting behavior in `replace` is deprecated and will be removed in a future version. To retain the old behavior, explicitly call `result.infer_objects(copy=False)`. To opt-in to the future behavior, set `pd.set_option('future.no_silent_downcasting', True)`\n",
      "  result = df.replace(letter_to_index_dict)\n"
     ]
    },
    {
     "name": "stdout",
     "output_type": "stream",
     "text": [
      "1/1 [==============================] - 0s 328ms/step\n"
     ]
    },
    {
     "name": "stderr",
     "output_type": "stream",
     "text": [
      "/home/orlov.av/anaconda3/envs/BATMAN/lib/python3.11/site-packages/mhcflurry/amino_acid.py:132: FutureWarning: Downcasting behavior in `replace` is deprecated and will be removed in a future version. To retain the old behavior, explicitly call `result.infer_objects(copy=False)`. To opt-in to the future behavior, set `pd.set_option('future.no_silent_downcasting', True)`\n",
      "  result = df.replace(letter_to_index_dict)\n"
     ]
    },
    {
     "name": "stdout",
     "output_type": "stream",
     "text": [
      "1/1 [==============================] - 0s 356ms/step\n"
     ]
    }
   ],
   "source": [
    "main_result = Cross_react_predict(protein_A, protein_B, Popul, immun_predictor, cross_react_predictor, N_individuals=3, N_proc=4)\n",
    "\n",
    "baseline1_result = Cross_react_predict(protein_A, protein_B, Popul, baseline_predictor1, cross_react_predictor, N_individuals=3, N_proc=4)\n",
    "\n",
    "baseline2_result = Cross_react_predict(protein_A, protein_B, Popul, baseline_predictor2, cross_react_predictor, N_individuals=3, N_proc=4)\n"
   ]
  },
  {
   "cell_type": "code",
   "execution_count": 5,
   "id": "b30b09e6-9f32-41f3-b4df-63660211d685",
   "metadata": {
    "scrolled": true
   },
   "outputs": [
    {
     "name": "stderr",
     "output_type": "stream",
     "text": [
      "100%|██████████| 2/2 [00:09<00:00,  4.53s/it]\n",
      "100%|██████████| 2/2 [00:09<00:00,  4.66s/it]\n",
      "100%|██████████| 2/2 [00:09<00:00,  4.90s/it]\n",
      "100%|██████████| 2/2 [00:10<00:00,  5.08s/it]\n",
      "100%|██████████| 1/1 [00:03<00:00,  3.99s/it]\n",
      "100%|██████████| 1/1 [00:04<00:00,  4.25s/it]\n",
      "100%|██████████| 1/1 [00:04<00:00,  4.56s/it]\n",
      "100%|██████████| 1/1 [00:04<00:00,  4.23s/it]\n",
      "100%|██████████| 1/1 [00:03<00:00,  3.45s/it]\n",
      "100%|██████████| 1/1 [00:03<00:00,  3.62s/it]\n",
      "100%|██████████| 1/1 [00:04<00:00,  4.24s/it]\n",
      "100%|██████████| 2/2 [00:06<00:00,  3.49s/it]\n",
      "100%|██████████| 1/1 [00:02<00:00,  2.22s/it]\n",
      "100%|██████████| 1/1 [00:01<00:00,  1.88s/it]\n",
      "100%|██████████| 1/1 [00:01<00:00,  1.57s/it]\n"
     ]
    },
    {
     "data": {
      "image/png": "[encoded data removed]",
      "text/plain": [
       "<Figure size 640x480 with 1 Axes>"
      ]
     },
     "metadata": {},
     "output_type": "display_data"
    }
   ],
   "source": [
    "Cross_react_plot(Popul, immun_predictor, cross_react_predictor,protein_A,protein_B,protein_C, N_individuals=4, N_proc=4)"
   ]
  },
  {
   "cell_type": "code",
   "execution_count": 6,
   "id": "9df914a2-ce0d-45a5-b09a-061ab5990e6d",
   "metadata": {},
   "outputs": [
    {
     "name": "stderr",
     "output_type": "stream",
     "text": [
      "2025-07-04 17:10:13.714781: I external/local_xla/xla/tsl/cuda/cudart_stub.cc:32] Could not find cuda drivers on your machine, GPU will not be used.\n",
      "2025-07-04 17:10:13.721645: I external/local_xla/xla/tsl/cuda/cudart_stub.cc:32] Could not find cuda drivers on your machine, GPU will not be used.\n",
      "2025-07-04 17:10:13.734783: E external/local_xla/xla/stream_executor/cuda/cuda_fft.cc:467] Unable to register cuFFT factory: Attempting to register factory for plugin cuFFT when one has already been registered\n",
      "2025-07-04 17:10:13.751689: I external/local_xla/xla/tsl/cuda/cudart_stub.cc:32] Could not find cuda drivers on your machine, GPU will not be used.\n",
      "WARNING: All log messages before absl::InitializeLog() is called are written to STDERR\n",
      "E0000 00:00:1751638213.753351 3381473 cuda_dnn.cc:8579] Unable to register cuDNN factory: Attempting to register factory for plugin cuDNN when one has already been registered\n",
      "2025-07-04 17:10:13.757968: I external/local_xla/xla/tsl/cuda/cudart_stub.cc:32] Could not find cuda drivers on your machine, GPU will not be used.\n",
      "E0000 00:00:1751638213.758570 3381473 cuda_blas.cc:1407] Unable to register cuBLAS factory: Attempting to register factory for plugin cuBLAS when one has already been registered\n",
      "2025-07-04 17:10:13.770881: E external/local_xla/xla/stream_executor/cuda/cuda_fft.cc:467] Unable to register cuFFT factory: Attempting to register factory for plugin cuFFT when one has already been registered\n",
      "W0000 00:00:1751638213.775601 3381473 computation_placer.cc:177] computation placer already registered. Please check linkage and avoid linking the same target more than once.\n",
      "W0000 00:00:1751638213.775635 3381473 computation_placer.cc:177] computation placer already registered. Please check linkage and avoid linking the same target more than once.\n",
      "W0000 00:00:1751638213.775651 3381473 computation_placer.cc:177] computation placer already registered. Please check linkage and avoid linking the same target more than once.\n",
      "W0000 00:00:1751638213.775654 3381473 computation_placer.cc:177] computation placer already registered. Please check linkage and avoid linking the same target more than once.\n",
      "2025-07-04 17:10:13.780859: I tensorflow/core/platform/cpu_feature_guard.cc:210] This TensorFlow binary is optimized to use available CPU instructions in performance-critical operations.\n",
      "To enable the following instructions: AVX2 AVX512F FMA, in other operations, rebuild TensorFlow with the appropriate compiler flags.\n",
      "WARNING: All log messages before absl::InitializeLog() is called are written to STDERR\n",
      "E0000 00:00:1751638213.789350 3381474 cuda_dnn.cc:8579] Unable to register cuDNN factory: Attempting to register factory for plugin cuDNN when one has already been registered\n",
      "E0000 00:00:1751638213.794318 3381474 cuda_blas.cc:1407] Unable to register cuBLAS factory: Attempting to register factory for plugin cuBLAS when one has already been registered\n",
      "2025-07-04 17:10:13.805387: I external/local_xla/xla/tsl/cuda/cudart_stub.cc:32] Could not find cuda drivers on your machine, GPU will not be used.\n",
      "W0000 00:00:1751638213.810378 3381474 computation_placer.cc:177] computation placer already registered. Please check linkage and avoid linking the same target more than once.\n",
      "W0000 00:00:1751638213.810410 3381474 computation_placer.cc:177] computation placer already registered. Please check linkage and avoid linking the same target more than once.\n",
      "W0000 00:00:1751638213.810413 3381474 computation_placer.cc:177] computation placer already registered. Please check linkage and avoid linking the same target more than once.\n",
      "W0000 00:00:1751638213.810415 3381474 computation_placer.cc:177] computation placer already registered. Please check linkage and avoid linking the same target more than once.\n",
      "2025-07-04 17:10:13.811373: I external/local_xla/xla/tsl/cuda/cudart_stub.cc:32] Could not find cuda drivers on your machine, GPU will not be used.\n",
      "2025-07-04 17:10:13.815293: I tensorflow/core/platform/cpu_feature_guard.cc:210] This TensorFlow binary is optimized to use available CPU instructions in performance-critical operations.\n",
      "To enable the following instructions: AVX2 AVX512F FMA, in other operations, rebuild TensorFlow with the appropriate compiler flags.\n",
      "2025-07-04 17:10:13.822834: E external/local_xla/xla/stream_executor/cuda/cuda_fft.cc:467] Unable to register cuFFT factory: Attempting to register factory for plugin cuFFT when one has already been registered\n",
      "WARNING: All log messages before absl::InitializeLog() is called are written to STDERR\n",
      "E0000 00:00:1751638213.840888 3381471 cuda_dnn.cc:8579] Unable to register cuDNN factory: Attempting to register factory for plugin cuDNN when one has already been registered\n",
      "E0000 00:00:1751638213.845770 3381471 cuda_blas.cc:1407] Unable to register cuBLAS factory: Attempting to register factory for plugin cuBLAS when one has already been registered\n",
      "W0000 00:00:1751638213.861513 3381471 computation_placer.cc:177] computation placer already registered. Please check linkage and avoid linking the same target more than once.\n",
      "W0000 00:00:1751638213.861545 3381471 computation_placer.cc:177] computation placer already registered. Please check linkage and avoid linking the same target more than once.\n",
      "W0000 00:00:1751638213.861548 3381471 computation_placer.cc:177] computation placer already registered. Please check linkage and avoid linking the same target more than once.\n",
      "W0000 00:00:1751638213.861550 3381471 computation_placer.cc:177] computation placer already registered. Please check linkage and avoid linking the same target more than once.\n",
      "2025-07-04 17:10:13.866245: I tensorflow/core/platform/cpu_feature_guard.cc:210] This TensorFlow binary is optimized to use available CPU instructions in performance-critical operations.\n",
      "To enable the following instructions: AVX2 AVX512F FMA, in other operations, rebuild TensorFlow with the appropriate compiler flags.\n",
      "2025-07-04 17:10:13.891614: I external/local_xla/xla/tsl/cuda/cudart_stub.cc:32] Could not find cuda drivers on your machine, GPU will not be used.\n",
      "2025-07-04 17:10:13.897797: I external/local_xla/xla/tsl/cuda/cudart_stub.cc:32] Could not find cuda drivers on your machine, GPU will not be used.\n",
      "2025-07-04 17:10:13.909940: E external/local_xla/xla/stream_executor/cuda/cuda_fft.cc:467] Unable to register cuFFT factory: Attempting to register factory for plugin cuFFT when one has already been registered\n",
      "WARNING: All log messages before absl::InitializeLog() is called are written to STDERR\n",
      "E0000 00:00:1751638213.928869 3381472 cuda_dnn.cc:8579] Unable to register cuDNN factory: Attempting to register factory for plugin cuDNN when one has already been registered\n",
      "E0000 00:00:1751638213.933994 3381472 cuda_blas.cc:1407] Unable to register cuBLAS factory: Attempting to register factory for plugin cuBLAS when one has already been registered\n",
      "W0000 00:00:1751638213.950287 3381472 computation_placer.cc:177] computation placer already registered. Please check linkage and avoid linking the same target more than once.\n",
      "W0000 00:00:1751638213.950318 3381472 computation_placer.cc:177] computation placer already registered. Please check linkage and avoid linking the same target more than once.\n",
      "W0000 00:00:1751638213.950321 3381472 computation_placer.cc:177] computation placer already registered. Please check linkage and avoid linking the same target more than once.\n",
      "W0000 00:00:1751638213.950323 3381472 computation_placer.cc:177] computation placer already registered. Please check linkage and avoid linking the same target more than once.\n",
      "2025-07-04 17:10:13.955336: I tensorflow/core/platform/cpu_feature_guard.cc:210] This TensorFlow binary is optimized to use available CPU instructions in performance-critical operations.\n",
      "To enable the following instructions: AVX2 AVX512F FMA, in other operations, rebuild TensorFlow with the appropriate compiler flags.\n",
      "2025-07-04 17:10:16.145101: E external/local_xla/xla/stream_executor/cuda/cuda_platform.cc:51] failed call to cuInit: INTERNAL: CUDA error: Failed call to cuInit: UNKNOWN ERROR (303)\n",
      "2025-07-04 17:10:16.173889: E external/local_xla/xla/stream_executor/cuda/cuda_platform.cc:51] failed call to cuInit: INTERNAL: CUDA error: Failed call to cuInit: UNKNOWN ERROR (303)\n",
      "2025-07-04 17:10:16.253488: E external/local_xla/xla/stream_executor/cuda/cuda_platform.cc:51] failed call to cuInit: INTERNAL: CUDA error: Failed call to cuInit: UNKNOWN ERROR (303)\n",
      "2025-07-04 17:10:16.417234: E external/local_xla/xla/stream_executor/cuda/cuda_platform.cc:51] failed call to cuInit: INTERNAL: CUDA error: Failed call to cuInit: UNKNOWN ERROR (303)\n",
      "/home/orlov.av/anaconda3/envs/BATMAN/lib/python3.11/site-packages/mhcflurry/amino_acid.py:132: FutureWarning: Downcasting behavior in `replace` is deprecated and will be removed in a future version. To retain the old behavior, explicitly call `result.infer_objects(copy=False)`. To opt-in to the future behavior, set `pd.set_option('future.no_silent_downcasting', True)`\n",
      "  result = df.replace(letter_to_index_dict)\n",
      "/home/orlov.av/anaconda3/envs/BATMAN/lib/python3.11/site-packages/mhcflurry/amino_acid.py:132: FutureWarning: Downcasting behavior in `replace` is deprecated and will be removed in a future version. To retain the old behavior, explicitly call `result.infer_objects(copy=False)`. To opt-in to the future behavior, set `pd.set_option('future.no_silent_downcasting', True)`\n",
      "  result = df.replace(letter_to_index_dict)\n",
      "/home/orlov.av/anaconda3/envs/BATMAN/lib/python3.11/site-packages/mhcflurry/amino_acid.py:132: FutureWarning: Downcasting behavior in `replace` is deprecated and will be removed in a future version. To retain the old behavior, explicitly call `result.infer_objects(copy=False)`. To opt-in to the future behavior, set `pd.set_option('future.no_silent_downcasting', True)`\n",
      "  result = df.replace(letter_to_index_dict)\n",
      "/home/orlov.av/anaconda3/envs/BATMAN/lib/python3.11/site-packages/mhcflurry/amino_acid.py:132: FutureWarning: Downcasting behavior in `replace` is deprecated and will be removed in a future version. To retain the old behavior, explicitly call `result.infer_objects(copy=False)`. To opt-in to the future behavior, set `pd.set_option('future.no_silent_downcasting', True)`\n",
      "  result = df.replace(letter_to_index_dict)\n"
     ]
    },
    {
     "name": "stdout",
     "output_type": "stream",
     "text": [
      "1/1 [==============================] - 0s 465ms/step\n",
      "1/1 [==============================] - 1s 516ms/step\n",
      "1/1 [==============================] - 1s 505ms/step\n"
     ]
    },
    {
     "name": "stderr",
     "output_type": "stream",
     "text": [
      "/home/orlov.av/anaconda3/envs/BATMAN/lib/python3.11/site-packages/mhcflurry/amino_acid.py:132: FutureWarning: Downcasting behavior in `replace` is deprecated and will be removed in a future version. To retain the old behavior, explicitly call `result.infer_objects(copy=False)`. To opt-in to the future behavior, set `pd.set_option('future.no_silent_downcasting', True)`\n",
      "  result = df.replace(letter_to_index_dict)\n"
     ]
    },
    {
     "name": "stdout",
     "output_type": "stream",
     "text": [
      "1/1 [==============================] - 1s 594ms/step\n",
      "1/1 [==============================] - 0s 83ms/step\n"
     ]
    },
    {
     "name": "stderr",
     "output_type": "stream",
     "text": [
      "/home/orlov.av/anaconda3/envs/BATMAN/lib/python3.11/site-packages/mhcflurry/amino_acid.py:132: FutureWarning: Downcasting behavior in `replace` is deprecated and will be removed in a future version. To retain the old behavior, explicitly call `result.infer_objects(copy=False)`. To opt-in to the future behavior, set `pd.set_option('future.no_silent_downcasting', True)`\n",
      "  result = df.replace(letter_to_index_dict)\n",
      "/home/orlov.av/anaconda3/envs/BATMAN/lib/python3.11/site-packages/mhcflurry/amino_acid.py:132: FutureWarning: Downcasting behavior in `replace` is deprecated and will be removed in a future version. To retain the old behavior, explicitly call `result.infer_objects(copy=False)`. To opt-in to the future behavior, set `pd.set_option('future.no_silent_downcasting', True)`\n",
      "  result = df.replace(letter_to_index_dict)\n"
     ]
    },
    {
     "name": "stdout",
     "output_type": "stream",
     "text": [
      "1/1 [==============================] - 0s 118ms/step\n",
      "1/1 [==============================] - 0s 136ms/step\n"
     ]
    },
    {
     "name": "stderr",
     "output_type": "stream",
     "text": [
      "/home/orlov.av/anaconda3/envs/BATMAN/lib/python3.11/site-packages/mhcflurry/amino_acid.py:132: FutureWarning: Downcasting behavior in `replace` is deprecated and will be removed in a future version. To retain the old behavior, explicitly call `result.infer_objects(copy=False)`. To opt-in to the future behavior, set `pd.set_option('future.no_silent_downcasting', True)`\n",
      "  result = df.replace(letter_to_index_dict)\n",
      "/home/orlov.av/anaconda3/envs/BATMAN/lib/python3.11/site-packages/mhcflurry/amino_acid.py:132: FutureWarning: Downcasting behavior in `replace` is deprecated and will be removed in a future version. To retain the old behavior, explicitly call `result.infer_objects(copy=False)`. To opt-in to the future behavior, set `pd.set_option('future.no_silent_downcasting', True)`\n",
      "  result = df.replace(letter_to_index_dict)\n"
     ]
    },
    {
     "name": "stdout",
     "output_type": "stream",
     "text": [
      "1/1 [==============================] - 0s 80ms/step\n"
     ]
    },
    {
     "name": "stderr",
     "output_type": "stream",
     "text": [
      "/home/orlov.av/anaconda3/envs/BATMAN/lib/python3.11/site-packages/mhcflurry/amino_acid.py:132: FutureWarning: Downcasting behavior in `replace` is deprecated and will be removed in a future version. To retain the old behavior, explicitly call `result.infer_objects(copy=False)`. To opt-in to the future behavior, set `pd.set_option('future.no_silent_downcasting', True)`\n",
      "  result = df.replace(letter_to_index_dict)\n"
     ]
    },
    {
     "name": "stdout",
     "output_type": "stream",
     "text": [
      "1/1 [==============================] - 0s 130ms/step\n",
      "1/1 [==============================] - 0s 108ms/step\n"
     ]
    },
    {
     "name": "stderr",
     "output_type": "stream",
     "text": [
      "/home/orlov.av/anaconda3/envs/BATMAN/lib/python3.11/site-packages/mhcflurry/amino_acid.py:132: FutureWarning: Downcasting behavior in `replace` is deprecated and will be removed in a future version. To retain the old behavior, explicitly call `result.infer_objects(copy=False)`. To opt-in to the future behavior, set `pd.set_option('future.no_silent_downcasting', True)`\n",
      "  result = df.replace(letter_to_index_dict)\n"
     ]
    },
    {
     "name": "stdout",
     "output_type": "stream",
     "text": [
      "1/1 [==============================] - 0s 144ms/step\n"
     ]
    },
    {
     "name": "stderr",
     "output_type": "stream",
     "text": [
      "/home/orlov.av/anaconda3/envs/BATMAN/lib/python3.11/site-packages/mhcflurry/amino_acid.py:132: FutureWarning: Downcasting behavior in `replace` is deprecated and will be removed in a future version. To retain the old behavior, explicitly call `result.infer_objects(copy=False)`. To opt-in to the future behavior, set `pd.set_option('future.no_silent_downcasting', True)`\n",
      "  result = df.replace(letter_to_index_dict)\n"
     ]
    },
    {
     "name": "stdout",
     "output_type": "stream",
     "text": [
      "1/1 [==============================] - 0s 130ms/step\n"
     ]
    },
    {
     "name": "stderr",
     "output_type": "stream",
     "text": [
      "/home/orlov.av/anaconda3/envs/BATMAN/lib/python3.11/site-packages/mhcflurry/amino_acid.py:132: FutureWarning: Downcasting behavior in `replace` is deprecated and will be removed in a future version. To retain the old behavior, explicitly call `result.infer_objects(copy=False)`. To opt-in to the future behavior, set `pd.set_option('future.no_silent_downcasting', True)`\n",
      "  result = df.replace(letter_to_index_dict)\n"
     ]
    },
    {
     "name": "stdout",
     "output_type": "stream",
     "text": [
      "1/1 [==============================] - 0s 126ms/step\n"
     ]
    },
    {
     "name": "stderr",
     "output_type": "stream",
     "text": [
      "/home/orlov.av/anaconda3/envs/BATMAN/lib/python3.11/site-packages/mhcflurry/amino_acid.py:132: FutureWarning: Downcasting behavior in `replace` is deprecated and will be removed in a future version. To retain the old behavior, explicitly call `result.infer_objects(copy=False)`. To opt-in to the future behavior, set `pd.set_option('future.no_silent_downcasting', True)`\n",
      "  result = df.replace(letter_to_index_dict)\n",
      "/home/orlov.av/anaconda3/envs/BATMAN/lib/python3.11/site-packages/mhcflurry/amino_acid.py:132: FutureWarning: Downcasting behavior in `replace` is deprecated and will be removed in a future version. To retain the old behavior, explicitly call `result.infer_objects(copy=False)`. To opt-in to the future behavior, set `pd.set_option('future.no_silent_downcasting', True)`\n",
      "  result = df.replace(letter_to_index_dict)\n",
      "/home/orlov.av/anaconda3/envs/BATMAN/lib/python3.11/site-packages/mhcflurry/amino_acid.py:132: FutureWarning: Downcasting behavior in `replace` is deprecated and will be removed in a future version. To retain the old behavior, explicitly call `result.infer_objects(copy=False)`. To opt-in to the future behavior, set `pd.set_option('future.no_silent_downcasting', True)`\n",
      "  result = df.replace(letter_to_index_dict)\n"
     ]
    },
    {
     "name": "stdout",
     "output_type": "stream",
     "text": [
      "1/1 [==============================] - 0s 398ms/step\n",
      "1/1 [==============================] - 0s 398ms/step\n"
     ]
    },
    {
     "name": "stderr",
     "output_type": "stream",
     "text": [
      "/home/orlov.av/anaconda3/envs/BATMAN/lib/python3.11/site-packages/mhcflurry/amino_acid.py:132: FutureWarning: Downcasting behavior in `replace` is deprecated and will be removed in a future version. To retain the old behavior, explicitly call `result.infer_objects(copy=False)`. To opt-in to the future behavior, set `pd.set_option('future.no_silent_downcasting', True)`\n",
      "  result = df.replace(letter_to_index_dict)\n"
     ]
    },
    {
     "name": "stdout",
     "output_type": "stream",
     "text": [
      "1/1 [==============================] - 0s 88ms/step\n"
     ]
    },
    {
     "name": "stderr",
     "output_type": "stream",
     "text": [
      "/home/orlov.av/anaconda3/envs/BATMAN/lib/python3.11/site-packages/mhcflurry/amino_acid.py:132: FutureWarning: Downcasting behavior in `replace` is deprecated and will be removed in a future version. To retain the old behavior, explicitly call `result.infer_objects(copy=False)`. To opt-in to the future behavior, set `pd.set_option('future.no_silent_downcasting', True)`\n",
      "  result = df.replace(letter_to_index_dict)\n"
     ]
    },
    {
     "name": "stdout",
     "output_type": "stream",
     "text": [
      "1/1 [==============================] - 0s 80ms/step\n",
      "1/1 [==============================] - 0s 405ms/step\n"
     ]
    },
    {
     "name": "stderr",
     "output_type": "stream",
     "text": [
      "/home/orlov.av/anaconda3/envs/BATMAN/lib/python3.11/site-packages/mhcflurry/amino_acid.py:132: FutureWarning: Downcasting behavior in `replace` is deprecated and will be removed in a future version. To retain the old behavior, explicitly call `result.infer_objects(copy=False)`. To opt-in to the future behavior, set `pd.set_option('future.no_silent_downcasting', True)`\n",
      "  result = df.replace(letter_to_index_dict)\n"
     ]
    },
    {
     "name": "stdout",
     "output_type": "stream",
     "text": [
      "1/1 [==============================] - 0s 80ms/step\n"
     ]
    },
    {
     "name": "stderr",
     "output_type": "stream",
     "text": [
      "/home/orlov.av/anaconda3/envs/BATMAN/lib/python3.11/site-packages/mhcflurry/amino_acid.py:132: FutureWarning: Downcasting behavior in `replace` is deprecated and will be removed in a future version. To retain the old behavior, explicitly call `result.infer_objects(copy=False)`. To opt-in to the future behavior, set `pd.set_option('future.no_silent_downcasting', True)`\n",
      "  result = df.replace(letter_to_index_dict)\n"
     ]
    },
    {
     "name": "stdout",
     "output_type": "stream",
     "text": [
      "1/1 [==============================] - 0s 79ms/step\n"
     ]
    },
    {
     "name": "stderr",
     "output_type": "stream",
     "text": [
      "/home/orlov.av/anaconda3/envs/BATMAN/lib/python3.11/site-packages/mhcflurry/amino_acid.py:132: FutureWarning: Downcasting behavior in `replace` is deprecated and will be removed in a future version. To retain the old behavior, explicitly call `result.infer_objects(copy=False)`. To opt-in to the future behavior, set `pd.set_option('future.no_silent_downcasting', True)`\n",
      "  result = df.replace(letter_to_index_dict)\n"
     ]
    },
    {
     "name": "stdout",
     "output_type": "stream",
     "text": [
      "1/1 [==============================] - 0s 79ms/step\n"
     ]
    },
    {
     "name": "stderr",
     "output_type": "stream",
     "text": [
      "/home/orlov.av/anaconda3/envs/BATMAN/lib/python3.11/site-packages/mhcflurry/amino_acid.py:132: FutureWarning: Downcasting behavior in `replace` is deprecated and will be removed in a future version. To retain the old behavior, explicitly call `result.infer_objects(copy=False)`. To opt-in to the future behavior, set `pd.set_option('future.no_silent_downcasting', True)`\n",
      "  result = df.replace(letter_to_index_dict)\n"
     ]
    },
    {
     "name": "stdout",
     "output_type": "stream",
     "text": [
      "1/1 [==============================] - 0s 407ms/step\n"
     ]
    },
    {
     "name": "stderr",
     "output_type": "stream",
     "text": [
      "/home/orlov.av/anaconda3/envs/BATMAN/lib/python3.11/site-packages/mhcflurry/amino_acid.py:132: FutureWarning: Downcasting behavior in `replace` is deprecated and will be removed in a future version. To retain the old behavior, explicitly call `result.infer_objects(copy=False)`. To opt-in to the future behavior, set `pd.set_option('future.no_silent_downcasting', True)`\n",
      "  result = df.replace(letter_to_index_dict)\n"
     ]
    },
    {
     "name": "stdout",
     "output_type": "stream",
     "text": [
      "1/1 [==============================] - 0s 97ms/step\n"
     ]
    },
    {
     "name": "stderr",
     "output_type": "stream",
     "text": [
      "/home/orlov.av/anaconda3/envs/BATMAN/lib/python3.11/site-packages/mhcflurry/amino_acid.py:132: FutureWarning: Downcasting behavior in `replace` is deprecated and will be removed in a future version. To retain the old behavior, explicitly call `result.infer_objects(copy=False)`. To opt-in to the future behavior, set `pd.set_option('future.no_silent_downcasting', True)`\n",
      "  result = df.replace(letter_to_index_dict)\n"
     ]
    },
    {
     "name": "stdout",
     "output_type": "stream",
     "text": [
      "1/1 [==============================] - 0s 99ms/step\n"
     ]
    },
    {
     "name": "stderr",
     "output_type": "stream",
     "text": [
      "/home/orlov.av/anaconda3/envs/BATMAN/lib/python3.11/site-packages/mhcflurry/amino_acid.py:132: FutureWarning: Downcasting behavior in `replace` is deprecated and will be removed in a future version. To retain the old behavior, explicitly call `result.infer_objects(copy=False)`. To opt-in to the future behavior, set `pd.set_option('future.no_silent_downcasting', True)`\n",
      "  result = df.replace(letter_to_index_dict)\n"
     ]
    },
    {
     "name": "stdout",
     "output_type": "stream",
     "text": [
      "1/1 [==============================] - 0s 154ms/step\n"
     ]
    },
    {
     "name": "stderr",
     "output_type": "stream",
     "text": [
      "/home/orlov.av/anaconda3/envs/BATMAN/lib/python3.11/site-packages/mhcflurry/amino_acid.py:132: FutureWarning: Downcasting behavior in `replace` is deprecated and will be removed in a future version. To retain the old behavior, explicitly call `result.infer_objects(copy=False)`. To opt-in to the future behavior, set `pd.set_option('future.no_silent_downcasting', True)`\n",
      "  result = df.replace(letter_to_index_dict)\n"
     ]
    },
    {
     "name": "stdout",
     "output_type": "stream",
     "text": [
      "1/1 [==============================] - 0s 94ms/step\n"
     ]
    },
    {
     "name": "stderr",
     "output_type": "stream",
     "text": [
      "/home/orlov.av/anaconda3/envs/BATMAN/lib/python3.11/site-packages/mhcflurry/amino_acid.py:132: FutureWarning: Downcasting behavior in `replace` is deprecated and will be removed in a future version. To retain the old behavior, explicitly call `result.infer_objects(copy=False)`. To opt-in to the future behavior, set `pd.set_option('future.no_silent_downcasting', True)`\n",
      "  result = df.replace(letter_to_index_dict)\n"
     ]
    },
    {
     "name": "stdout",
     "output_type": "stream",
     "text": [
      "1/1 [==============================] - 0s 378ms/step\n"
     ]
    },
    {
     "name": "stderr",
     "output_type": "stream",
     "text": [
      "/home/orlov.av/anaconda3/envs/BATMAN/lib/python3.11/site-packages/mhcflurry/amino_acid.py:132: FutureWarning: Downcasting behavior in `replace` is deprecated and will be removed in a future version. To retain the old behavior, explicitly call `result.infer_objects(copy=False)`. To opt-in to the future behavior, set `pd.set_option('future.no_silent_downcasting', True)`\n",
      "  result = df.replace(letter_to_index_dict)\n",
      "/home/orlov.av/anaconda3/envs/BATMAN/lib/python3.11/site-packages/mhcflurry/amino_acid.py:132: FutureWarning: Downcasting behavior in `replace` is deprecated and will be removed in a future version. To retain the old behavior, explicitly call `result.infer_objects(copy=False)`. To opt-in to the future behavior, set `pd.set_option('future.no_silent_downcasting', True)`\n",
      "  result = df.replace(letter_to_index_dict)\n"
     ]
    },
    {
     "name": "stdout",
     "output_type": "stream",
     "text": [
      "1/1 [==============================] - 0s 383ms/step\n"
     ]
    },
    {
     "name": "stderr",
     "output_type": "stream",
     "text": [
      "/home/orlov.av/anaconda3/envs/BATMAN/lib/python3.11/site-packages/mhcflurry/amino_acid.py:132: FutureWarning: Downcasting behavior in `replace` is deprecated and will be removed in a future version. To retain the old behavior, explicitly call `result.infer_objects(copy=False)`. To opt-in to the future behavior, set `pd.set_option('future.no_silent_downcasting', True)`\n",
      "  result = df.replace(letter_to_index_dict)\n",
      "/home/orlov.av/anaconda3/envs/BATMAN/lib/python3.11/site-packages/mhcflurry/amino_acid.py:132: FutureWarning: Downcasting behavior in `replace` is deprecated and will be removed in a future version. To retain the old behavior, explicitly call `result.infer_objects(copy=False)`. To opt-in to the future behavior, set `pd.set_option('future.no_silent_downcasting', True)`\n",
      "  result = df.replace(letter_to_index_dict)\n"
     ]
    },
    {
     "name": "stdout",
     "output_type": "stream",
     "text": [
      "1/1 [==============================] - 0s 73ms/step\n",
      "1/1 [==============================] - 0s 394ms/step\n"
     ]
    },
    {
     "name": "stderr",
     "output_type": "stream",
     "text": [
      "/home/orlov.av/anaconda3/envs/BATMAN/lib/python3.11/site-packages/mhcflurry/amino_acid.py:132: FutureWarning: Downcasting behavior in `replace` is deprecated and will be removed in a future version. To retain the old behavior, explicitly call `result.infer_objects(copy=False)`. To opt-in to the future behavior, set `pd.set_option('future.no_silent_downcasting', True)`\n",
      "  result = df.replace(letter_to_index_dict)\n"
     ]
    },
    {
     "name": "stdout",
     "output_type": "stream",
     "text": [
      "1/1 [==============================] - 0s 68ms/step\n",
      "1/1 [==============================] - 0s 395ms/step\n"
     ]
    },
    {
     "name": "stderr",
     "output_type": "stream",
     "text": [
      "/home/orlov.av/anaconda3/envs/BATMAN/lib/python3.11/site-packages/mhcflurry/amino_acid.py:132: FutureWarning: Downcasting behavior in `replace` is deprecated and will be removed in a future version. To retain the old behavior, explicitly call `result.infer_objects(copy=False)`. To opt-in to the future behavior, set `pd.set_option('future.no_silent_downcasting', True)`\n",
      "  result = df.replace(letter_to_index_dict)\n"
     ]
    },
    {
     "name": "stdout",
     "output_type": "stream",
     "text": [
      "1/1 [==============================] - 0s 387ms/step\n"
     ]
    },
    {
     "name": "stderr",
     "output_type": "stream",
     "text": [
      "/home/orlov.av/anaconda3/envs/BATMAN/lib/python3.11/site-packages/mhcflurry/amino_acid.py:132: FutureWarning: Downcasting behavior in `replace` is deprecated and will be removed in a future version. To retain the old behavior, explicitly call `result.infer_objects(copy=False)`. To opt-in to the future behavior, set `pd.set_option('future.no_silent_downcasting', True)`\n",
      "  result = df.replace(letter_to_index_dict)\n",
      "/home/orlov.av/anaconda3/envs/BATMAN/lib/python3.11/site-packages/mhcflurry/amino_acid.py:132: FutureWarning: Downcasting behavior in `replace` is deprecated and will be removed in a future version. To retain the old behavior, explicitly call `result.infer_objects(copy=False)`. To opt-in to the future behavior, set `pd.set_option('future.no_silent_downcasting', True)`\n",
      "  result = df.replace(letter_to_index_dict)\n"
     ]
    },
    {
     "name": "stdout",
     "output_type": "stream",
     "text": [
      "1/1 [==============================] - 0s 92ms/step\n"
     ]
    },
    {
     "name": "stderr",
     "output_type": "stream",
     "text": [
      "/home/orlov.av/anaconda3/envs/BATMAN/lib/python3.11/site-packages/mhcflurry/amino_acid.py:132: FutureWarning: Downcasting behavior in `replace` is deprecated and will be removed in a future version. To retain the old behavior, explicitly call `result.infer_objects(copy=False)`. To opt-in to the future behavior, set `pd.set_option('future.no_silent_downcasting', True)`\n",
      "  result = df.replace(letter_to_index_dict)\n",
      "/home/orlov.av/anaconda3/envs/BATMAN/lib/python3.11/site-packages/mhcflurry/amino_acid.py:132: FutureWarning: Downcasting behavior in `replace` is deprecated and will be removed in a future version. To retain the old behavior, explicitly call `result.infer_objects(copy=False)`. To opt-in to the future behavior, set `pd.set_option('future.no_silent_downcasting', True)`\n",
      "  result = df.replace(letter_to_index_dict)\n"
     ]
    },
    {
     "name": "stdout",
     "output_type": "stream",
     "text": [
      "1/1 [==============================] - 0s 95ms/step\n",
      "1/1 [==============================] - 0s 426ms/step\n"
     ]
    },
    {
     "name": "stderr",
     "output_type": "stream",
     "text": [
      "/home/orlov.av/anaconda3/envs/BATMAN/lib/python3.11/site-packages/mhcflurry/amino_acid.py:132: FutureWarning: Downcasting behavior in `replace` is deprecated and will be removed in a future version. To retain the old behavior, explicitly call `result.infer_objects(copy=False)`. To opt-in to the future behavior, set `pd.set_option('future.no_silent_downcasting', True)`\n",
      "  result = df.replace(letter_to_index_dict)\n",
      "/home/orlov.av/anaconda3/envs/BATMAN/lib/python3.11/site-packages/mhcflurry/amino_acid.py:132: FutureWarning: Downcasting behavior in `replace` is deprecated and will be removed in a future version. To retain the old behavior, explicitly call `result.infer_objects(copy=False)`. To opt-in to the future behavior, set `pd.set_option('future.no_silent_downcasting', True)`\n",
      "  result = df.replace(letter_to_index_dict)\n"
     ]
    },
    {
     "name": "stdout",
     "output_type": "stream",
     "text": [
      "1/1 [==============================] - 0s 74ms/step\n",
      "1/1 [==============================] - 0s 101ms/step\n",
      "1/1 [==============================] - 0s 425ms/step\n"
     ]
    },
    {
     "name": "stderr",
     "output_type": "stream",
     "text": [
      "/home/orlov.av/anaconda3/envs/BATMAN/lib/python3.11/site-packages/mhcflurry/amino_acid.py:132: FutureWarning: Downcasting behavior in `replace` is deprecated and will be removed in a future version. To retain the old behavior, explicitly call `result.infer_objects(copy=False)`. To opt-in to the future behavior, set `pd.set_option('future.no_silent_downcasting', True)`\n",
      "  result = df.replace(letter_to_index_dict)\n"
     ]
    },
    {
     "name": "stdout",
     "output_type": "stream",
     "text": [
      "1/1 [==============================] - 0s 63ms/step\n"
     ]
    },
    {
     "name": "stderr",
     "output_type": "stream",
     "text": [
      "/home/orlov.av/anaconda3/envs/BATMAN/lib/python3.11/site-packages/mhcflurry/amino_acid.py:132: FutureWarning: Downcasting behavior in `replace` is deprecated and will be removed in a future version. To retain the old behavior, explicitly call `result.infer_objects(copy=False)`. To opt-in to the future behavior, set `pd.set_option('future.no_silent_downcasting', True)`\n",
      "  result = df.replace(letter_to_index_dict)\n"
     ]
    },
    {
     "name": "stdout",
     "output_type": "stream",
     "text": [
      "1/1 [==============================] - 0s 377ms/step\n"
     ]
    },
    {
     "name": "stderr",
     "output_type": "stream",
     "text": [
      "/home/orlov.av/anaconda3/envs/BATMAN/lib/python3.11/site-packages/mhcflurry/amino_acid.py:132: FutureWarning: Downcasting behavior in `replace` is deprecated and will be removed in a future version. To retain the old behavior, explicitly call `result.infer_objects(copy=False)`. To opt-in to the future behavior, set `pd.set_option('future.no_silent_downcasting', True)`\n",
      "  result = df.replace(letter_to_index_dict)\n"
     ]
    },
    {
     "name": "stdout",
     "output_type": "stream",
     "text": [
      "1/1 [==============================] - 0s 83ms/step\n"
     ]
    },
    {
     "name": "stderr",
     "output_type": "stream",
     "text": [
      "/home/orlov.av/anaconda3/envs/BATMAN/lib/python3.11/site-packages/mhcflurry/amino_acid.py:132: FutureWarning: Downcasting behavior in `replace` is deprecated and will be removed in a future version. To retain the old behavior, explicitly call `result.infer_objects(copy=False)`. To opt-in to the future behavior, set `pd.set_option('future.no_silent_downcasting', True)`\n",
      "  result = df.replace(letter_to_index_dict)\n"
     ]
    },
    {
     "name": "stdout",
     "output_type": "stream",
     "text": [
      "1/1 [==============================] - 0s 82ms/step\n"
     ]
    },
    {
     "name": "stderr",
     "output_type": "stream",
     "text": [
      "/home/orlov.av/anaconda3/envs/BATMAN/lib/python3.11/site-packages/mhcflurry/amino_acid.py:132: FutureWarning: Downcasting behavior in `replace` is deprecated and will be removed in a future version. To retain the old behavior, explicitly call `result.infer_objects(copy=False)`. To opt-in to the future behavior, set `pd.set_option('future.no_silent_downcasting', True)`\n",
      "  result = df.replace(letter_to_index_dict)\n"
     ]
    },
    {
     "name": "stdout",
     "output_type": "stream",
     "text": [
      "1/1 [==============================] - 0s 85ms/step\n"
     ]
    },
    {
     "name": "stderr",
     "output_type": "stream",
     "text": [
      "/home/orlov.av/anaconda3/envs/BATMAN/lib/python3.11/site-packages/mhcflurry/amino_acid.py:132: FutureWarning: Downcasting behavior in `replace` is deprecated and will be removed in a future version. To retain the old behavior, explicitly call `result.infer_objects(copy=False)`. To opt-in to the future behavior, set `pd.set_option('future.no_silent_downcasting', True)`\n",
      "  result = df.replace(letter_to_index_dict)\n"
     ]
    },
    {
     "name": "stdout",
     "output_type": "stream",
     "text": [
      "1/1 [==============================] - 0s 363ms/step\n"
     ]
    },
    {
     "name": "stderr",
     "output_type": "stream",
     "text": [
      "/home/orlov.av/anaconda3/envs/BATMAN/lib/python3.11/site-packages/mhcflurry/amino_acid.py:132: FutureWarning: Downcasting behavior in `replace` is deprecated and will be removed in a future version. To retain the old behavior, explicitly call `result.infer_objects(copy=False)`. To opt-in to the future behavior, set `pd.set_option('future.no_silent_downcasting', True)`\n",
      "  result = df.replace(letter_to_index_dict)\n",
      "/home/orlov.av/anaconda3/envs/BATMAN/lib/python3.11/site-packages/mhcflurry/amino_acid.py:132: FutureWarning: Downcasting behavior in `replace` is deprecated and will be removed in a future version. To retain the old behavior, explicitly call `result.infer_objects(copy=False)`. To opt-in to the future behavior, set `pd.set_option('future.no_silent_downcasting', True)`\n",
      "  result = df.replace(letter_to_index_dict)\n"
     ]
    },
    {
     "name": "stdout",
     "output_type": "stream",
     "text": [
      "1/1 [==============================] - 0s 383ms/step\n",
      "1/1 [==============================] - 0s 406ms/step\n"
     ]
    },
    {
     "name": "stderr",
     "output_type": "stream",
     "text": [
      "/home/orlov.av/anaconda3/envs/BATMAN/lib/python3.11/site-packages/mhcflurry/amino_acid.py:132: FutureWarning: Downcasting behavior in `replace` is deprecated and will be removed in a future version. To retain the old behavior, explicitly call `result.infer_objects(copy=False)`. To opt-in to the future behavior, set `pd.set_option('future.no_silent_downcasting', True)`\n",
      "  result = df.replace(letter_to_index_dict)\n"
     ]
    },
    {
     "name": "stdout",
     "output_type": "stream",
     "text": [
      "1/1 [==============================] - 0s 81ms/step\n"
     ]
    },
    {
     "name": "stderr",
     "output_type": "stream",
     "text": [
      "/home/orlov.av/anaconda3/envs/BATMAN/lib/python3.11/site-packages/mhcflurry/amino_acid.py:132: FutureWarning: Downcasting behavior in `replace` is deprecated and will be removed in a future version. To retain the old behavior, explicitly call `result.infer_objects(copy=False)`. To opt-in to the future behavior, set `pd.set_option('future.no_silent_downcasting', True)`\n",
      "  result = df.replace(letter_to_index_dict)\n"
     ]
    },
    {
     "name": "stdout",
     "output_type": "stream",
     "text": [
      "1/1 [==============================] - 0s 79ms/step\n"
     ]
    },
    {
     "name": "stderr",
     "output_type": "stream",
     "text": [
      "/home/orlov.av/anaconda3/envs/BATMAN/lib/python3.11/site-packages/mhcflurry/amino_acid.py:132: FutureWarning: Downcasting behavior in `replace` is deprecated and will be removed in a future version. To retain the old behavior, explicitly call `result.infer_objects(copy=False)`. To opt-in to the future behavior, set `pd.set_option('future.no_silent_downcasting', True)`\n",
      "  result = df.replace(letter_to_index_dict)\n"
     ]
    },
    {
     "name": "stdout",
     "output_type": "stream",
     "text": [
      "1/1 [==============================] - 0s 358ms/step\n"
     ]
    },
    {
     "name": "stderr",
     "output_type": "stream",
     "text": [
      "/home/orlov.av/anaconda3/envs/BATMAN/lib/python3.11/site-packages/mhcflurry/amino_acid.py:132: FutureWarning: Downcasting behavior in `replace` is deprecated and will be removed in a future version. To retain the old behavior, explicitly call `result.infer_objects(copy=False)`. To opt-in to the future behavior, set `pd.set_option('future.no_silent_downcasting', True)`\n",
      "  result = df.replace(letter_to_index_dict)\n"
     ]
    },
    {
     "name": "stdout",
     "output_type": "stream",
     "text": [
      "1/1 [==============================] - 0s 352ms/step\n"
     ]
    },
    {
     "name": "stderr",
     "output_type": "stream",
     "text": [
      "/home/orlov.av/anaconda3/envs/BATMAN/lib/python3.11/site-packages/mhcflurry/amino_acid.py:132: FutureWarning: Downcasting behavior in `replace` is deprecated and will be removed in a future version. To retain the old behavior, explicitly call `result.infer_objects(copy=False)`. To opt-in to the future behavior, set `pd.set_option('future.no_silent_downcasting', True)`\n",
      "  result = df.replace(letter_to_index_dict)\n"
     ]
    },
    {
     "name": "stdout",
     "output_type": "stream",
     "text": [
      "1/1 [==============================] - 0s 395ms/step\n"
     ]
    },
    {
     "name": "stderr",
     "output_type": "stream",
     "text": [
      "/home/orlov.av/anaconda3/envs/BATMAN/lib/python3.11/site-packages/mhcflurry/amino_acid.py:132: FutureWarning: Downcasting behavior in `replace` is deprecated and will be removed in a future version. To retain the old behavior, explicitly call `result.infer_objects(copy=False)`. To opt-in to the future behavior, set `pd.set_option('future.no_silent_downcasting', True)`\n",
      "  result = df.replace(letter_to_index_dict)\n"
     ]
    },
    {
     "name": "stdout",
     "output_type": "stream",
     "text": [
      "1/1 [==============================] - 0s 78ms/step\n"
     ]
    },
    {
     "name": "stderr",
     "output_type": "stream",
     "text": [
      "/home/orlov.av/anaconda3/envs/BATMAN/lib/python3.11/site-packages/mhcflurry/amino_acid.py:132: FutureWarning: Downcasting behavior in `replace` is deprecated and will be removed in a future version. To retain the old behavior, explicitly call `result.infer_objects(copy=False)`. To opt-in to the future behavior, set `pd.set_option('future.no_silent_downcasting', True)`\n",
      "  result = df.replace(letter_to_index_dict)\n"
     ]
    },
    {
     "name": "stdout",
     "output_type": "stream",
     "text": [
      "1/1 [==============================] - 0s 76ms/step\n"
     ]
    },
    {
     "name": "stderr",
     "output_type": "stream",
     "text": [
      "/home/orlov.av/anaconda3/envs/BATMAN/lib/python3.11/site-packages/mhcflurry/amino_acid.py:132: FutureWarning: Downcasting behavior in `replace` is deprecated and will be removed in a future version. To retain the old behavior, explicitly call `result.infer_objects(copy=False)`. To opt-in to the future behavior, set `pd.set_option('future.no_silent_downcasting', True)`\n",
      "  result = df.replace(letter_to_index_dict)\n"
     ]
    },
    {
     "name": "stdout",
     "output_type": "stream",
     "text": [
      "1/1 [==============================] - 0s 375ms/step\n"
     ]
    },
    {
     "name": "stderr",
     "output_type": "stream",
     "text": [
      "/home/orlov.av/anaconda3/envs/BATMAN/lib/python3.11/site-packages/mhcflurry/amino_acid.py:132: FutureWarning: Downcasting behavior in `replace` is deprecated and will be removed in a future version. To retain the old behavior, explicitly call `result.infer_objects(copy=False)`. To opt-in to the future behavior, set `pd.set_option('future.no_silent_downcasting', True)`\n",
      "  result = df.replace(letter_to_index_dict)\n"
     ]
    },
    {
     "name": "stdout",
     "output_type": "stream",
     "text": [
      "1/1 [==============================] - 0s 72ms/step\n"
     ]
    },
    {
     "name": "stderr",
     "output_type": "stream",
     "text": [
      "/home/orlov.av/anaconda3/envs/BATMAN/lib/python3.11/site-packages/mhcflurry/amino_acid.py:132: FutureWarning: Downcasting behavior in `replace` is deprecated and will be removed in a future version. To retain the old behavior, explicitly call `result.infer_objects(copy=False)`. To opt-in to the future behavior, set `pd.set_option('future.no_silent_downcasting', True)`\n",
      "  result = df.replace(letter_to_index_dict)\n"
     ]
    },
    {
     "name": "stdout",
     "output_type": "stream",
     "text": [
      "1/1 [==============================] - 0s 359ms/step\n"
     ]
    },
    {
     "name": "stderr",
     "output_type": "stream",
     "text": [
      "/home/orlov.av/anaconda3/envs/BATMAN/lib/python3.11/site-packages/mhcflurry/amino_acid.py:132: FutureWarning: Downcasting behavior in `replace` is deprecated and will be removed in a future version. To retain the old behavior, explicitly call `result.infer_objects(copy=False)`. To opt-in to the future behavior, set `pd.set_option('future.no_silent_downcasting', True)`\n",
      "  result = df.replace(letter_to_index_dict)\n"
     ]
    },
    {
     "name": "stdout",
     "output_type": "stream",
     "text": [
      "1/1 [==============================] - 0s 77ms/step\n"
     ]
    },
    {
     "name": "stderr",
     "output_type": "stream",
     "text": [
      "/home/orlov.av/anaconda3/envs/BATMAN/lib/python3.11/site-packages/mhcflurry/amino_acid.py:132: FutureWarning: Downcasting behavior in `replace` is deprecated and will be removed in a future version. To retain the old behavior, explicitly call `result.infer_objects(copy=False)`. To opt-in to the future behavior, set `pd.set_option('future.no_silent_downcasting', True)`\n",
      "  result = df.replace(letter_to_index_dict)\n"
     ]
    },
    {
     "name": "stdout",
     "output_type": "stream",
     "text": [
      "1/1 [==============================] - 0s 347ms/step\n"
     ]
    },
    {
     "name": "stderr",
     "output_type": "stream",
     "text": [
      "/home/orlov.av/anaconda3/envs/BATMAN/lib/python3.11/site-packages/mhcflurry/amino_acid.py:132: FutureWarning: Downcasting behavior in `replace` is deprecated and will be removed in a future version. To retain the old behavior, explicitly call `result.infer_objects(copy=False)`. To opt-in to the future behavior, set `pd.set_option('future.no_silent_downcasting', True)`\n",
      "  result = df.replace(letter_to_index_dict)\n"
     ]
    },
    {
     "name": "stdout",
     "output_type": "stream",
     "text": [
      "1/1 [==============================] - 0s 361ms/step\n"
     ]
    },
    {
     "name": "stderr",
     "output_type": "stream",
     "text": [
      "2025-07-04 17:22:11.068751: I external/local_xla/xla/tsl/cuda/cudart_stub.cc:32] Could not find cuda drivers on your machine, GPU will not be used.\n",
      "2025-07-04 17:22:11.075188: I external/local_xla/xla/tsl/cuda/cudart_stub.cc:32] Could not find cuda drivers on your machine, GPU will not be used.\n",
      "2025-07-04 17:22:11.087536: E external/local_xla/xla/stream_executor/cuda/cuda_fft.cc:467] Unable to register cuFFT factory: Attempting to register factory for plugin cuFFT when one has already been registered\n",
      "WARNING: All log messages before absl::InitializeLog() is called are written to STDERR\n",
      "E0000 00:00:1751638931.105583 3384982 cuda_dnn.cc:8579] Unable to register cuDNN factory: Attempting to register factory for plugin cuDNN when one has already been registered\n",
      "E0000 00:00:1751638931.110468 3384982 cuda_blas.cc:1407] Unable to register cuBLAS factory: Attempting to register factory for plugin cuBLAS when one has already been registered\n",
      "W0000 00:00:1751638931.126307 3384982 computation_placer.cc:177] computation placer already registered. Please check linkage and avoid linking the same target more than once.\n",
      "W0000 00:00:1751638931.126335 3384982 computation_placer.cc:177] computation placer already registered. Please check linkage and avoid linking the same target more than once.\n",
      "W0000 00:00:1751638931.126338 3384982 computation_placer.cc:177] computation placer already registered. Please check linkage and avoid linking the same target more than once.\n",
      "W0000 00:00:1751638931.126340 3384982 computation_placer.cc:177] computation placer already registered. Please check linkage and avoid linking the same target more than once.\n",
      "2025-07-04 17:22:11.131156: I tensorflow/core/platform/cpu_feature_guard.cc:210] This TensorFlow binary is optimized to use available CPU instructions in performance-critical operations.\n",
      "To enable the following instructions: AVX2 AVX512F FMA, in other operations, rebuild TensorFlow with the appropriate compiler flags.\n",
      "2025-07-04 17:22:11.248458: I external/local_xla/xla/tsl/cuda/cudart_stub.cc:32] Could not find cuda drivers on your machine, GPU will not be used.\n",
      "2025-07-04 17:22:11.248466: I external/local_xla/xla/tsl/cuda/cudart_stub.cc:32] Could not find cuda drivers on your machine, GPU will not be used.\n",
      "2025-07-04 17:22:11.254831: I external/local_xla/xla/tsl/cuda/cudart_stub.cc:32] Could not find cuda drivers on your machine, GPU will not be used.\n",
      "2025-07-04 17:22:11.254832: I external/local_xla/xla/tsl/cuda/cudart_stub.cc:32] Could not find cuda drivers on your machine, GPU will not be used.\n",
      "2025-07-04 17:22:11.267442: E external/local_xla/xla/stream_executor/cuda/cuda_fft.cc:467] Unable to register cuFFT factory: Attempting to register factory for plugin cuFFT when one has already been registered\n",
      "2025-07-04 17:22:11.267561: E external/local_xla/xla/stream_executor/cuda/cuda_fft.cc:467] Unable to register cuFFT factory: Attempting to register factory for plugin cuFFT when one has already been registered\n",
      "WARNING: All log messages before absl::InitializeLog() is called are written to STDERR\n",
      "E0000 00:00:1751638931.285407 3384984 cuda_dnn.cc:8579] Unable to register cuDNN factory: Attempting to register factory for plugin cuDNN when one has already been registered\n",
      "WARNING: All log messages before absl::InitializeLog() is called are written to STDERR\n",
      "E0000 00:00:1751638931.285418 3384983 cuda_dnn.cc:8579] Unable to register cuDNN factory: Attempting to register factory for plugin cuDNN when one has already been registered\n",
      "E0000 00:00:1751638931.290270 3384984 cuda_blas.cc:1407] Unable to register cuBLAS factory: Attempting to register factory for plugin cuBLAS when one has already been registered\n",
      "E0000 00:00:1751638931.290275 3384983 cuda_blas.cc:1407] Unable to register cuBLAS factory: Attempting to register factory for plugin cuBLAS when one has already been registered\n",
      "W0000 00:00:1751638931.306186 3384983 computation_placer.cc:177] computation placer already registered. Please check linkage and avoid linking the same target more than once.\n",
      "W0000 00:00:1751638931.306187 3384984 computation_placer.cc:177] computation placer already registered. Please check linkage and avoid linking the same target more than once.\n",
      "W0000 00:00:1751638931.306206 3384984 computation_placer.cc:177] computation placer already registered. Please check linkage and avoid linking the same target more than once.\n",
      "W0000 00:00:1751638931.306208 3384984 computation_placer.cc:177] computation placer already registered. Please check linkage and avoid linking the same target more than once.\n",
      "W0000 00:00:1751638931.306211 3384984 computation_placer.cc:177] computation placer already registered. Please check linkage and avoid linking the same target more than once.\n",
      "W0000 00:00:1751638931.306217 3384983 computation_placer.cc:177] computation placer already registered. Please check linkage and avoid linking the same target more than once.\n",
      "W0000 00:00:1751638931.306220 3384983 computation_placer.cc:177] computation placer already registered. Please check linkage and avoid linking the same target more than once.\n",
      "W0000 00:00:1751638931.306222 3384983 computation_placer.cc:177] computation placer already registered. Please check linkage and avoid linking the same target more than once.\n",
      "2025-07-04 17:22:11.310952: I tensorflow/core/platform/cpu_feature_guard.cc:210] This TensorFlow binary is optimized to use available CPU instructions in performance-critical operations.\n",
      "To enable the following instructions: AVX2 AVX512F FMA, in other operations, rebuild TensorFlow with the appropriate compiler flags.\n",
      "2025-07-04 17:22:11.310952: I tensorflow/core/platform/cpu_feature_guard.cc:210] This TensorFlow binary is optimized to use available CPU instructions in performance-critical operations.\n",
      "To enable the following instructions: AVX2 AVX512F FMA, in other operations, rebuild TensorFlow with the appropriate compiler flags.\n",
      "2025-07-04 17:22:11.609706: I external/local_xla/xla/tsl/cuda/cudart_stub.cc:32] Could not find cuda drivers on your machine, GPU will not be used.\n",
      "2025-07-04 17:22:11.615852: I external/local_xla/xla/tsl/cuda/cudart_stub.cc:32] Could not find cuda drivers on your machine, GPU will not be used.\n",
      "2025-07-04 17:22:11.627381: E external/local_xla/xla/stream_executor/cuda/cuda_fft.cc:467] Unable to register cuFFT factory: Attempting to register factory for plugin cuFFT when one has already been registered\n",
      "WARNING: All log messages before absl::InitializeLog() is called are written to STDERR\n",
      "E0000 00:00:1751638931.645540 3384981 cuda_dnn.cc:8579] Unable to register cuDNN factory: Attempting to register factory for plugin cuDNN when one has already been registered\n",
      "E0000 00:00:1751638931.650441 3384981 cuda_blas.cc:1407] Unable to register cuBLAS factory: Attempting to register factory for plugin cuBLAS when one has already been registered\n",
      "W0000 00:00:1751638931.666110 3384981 computation_placer.cc:177] computation placer already registered. Please check linkage and avoid linking the same target more than once.\n",
      "W0000 00:00:1751638931.666149 3384981 computation_placer.cc:177] computation placer already registered. Please check linkage and avoid linking the same target more than once.\n",
      "W0000 00:00:1751638931.666152 3384981 computation_placer.cc:177] computation placer already registered. Please check linkage and avoid linking the same target more than once.\n",
      "W0000 00:00:1751638931.666155 3384981 computation_placer.cc:177] computation placer already registered. Please check linkage and avoid linking the same target more than once.\n",
      "2025-07-04 17:22:11.671292: I tensorflow/core/platform/cpu_feature_guard.cc:210] This TensorFlow binary is optimized to use available CPU instructions in performance-critical operations.\n",
      "To enable the following instructions: AVX2 AVX512F FMA, in other operations, rebuild TensorFlow with the appropriate compiler flags.\n",
      "2025-07-04 17:22:13.628589: E external/local_xla/xla/stream_executor/cuda/cuda_platform.cc:51] failed call to cuInit: INTERNAL: CUDA error: Failed call to cuInit: UNKNOWN ERROR (303)\n",
      "2025-07-04 17:22:13.629257: E external/local_xla/xla/stream_executor/cuda/cuda_platform.cc:51] failed call to cuInit: INTERNAL: CUDA error: Failed call to cuInit: UNKNOWN ERROR (303)\n",
      "2025-07-04 17:22:13.677916: E external/local_xla/xla/stream_executor/cuda/cuda_platform.cc:51] failed call to cuInit: INTERNAL: CUDA error: Failed call to cuInit: UNKNOWN ERROR (303)\n",
      "2025-07-04 17:22:14.132918: E external/local_xla/xla/stream_executor/cuda/cuda_platform.cc:51] failed call to cuInit: INTERNAL: CUDA error: Failed call to cuInit: UNKNOWN ERROR (303)\n",
      "/home/orlov.av/anaconda3/envs/BATMAN/lib/python3.11/site-packages/mhcflurry/amino_acid.py:132: FutureWarning: Downcasting behavior in `replace` is deprecated and will be removed in a future version. To retain the old behavior, explicitly call `result.infer_objects(copy=False)`. To opt-in to the future behavior, set `pd.set_option('future.no_silent_downcasting', True)`\n",
      "  result = df.replace(letter_to_index_dict)\n",
      "/home/orlov.av/anaconda3/envs/BATMAN/lib/python3.11/site-packages/mhcflurry/amino_acid.py:132: FutureWarning: Downcasting behavior in `replace` is deprecated and will be removed in a future version. To retain the old behavior, explicitly call `result.infer_objects(copy=False)`. To opt-in to the future behavior, set `pd.set_option('future.no_silent_downcasting', True)`\n",
      "  result = df.replace(letter_to_index_dict)\n",
      "/home/orlov.av/anaconda3/envs/BATMAN/lib/python3.11/site-packages/mhcflurry/amino_acid.py:132: FutureWarning: Downcasting behavior in `replace` is deprecated and will be removed in a future version. To retain the old behavior, explicitly call `result.infer_objects(copy=False)`. To opt-in to the future behavior, set `pd.set_option('future.no_silent_downcasting', True)`\n",
      "  result = df.replace(letter_to_index_dict)\n",
      "/home/orlov.av/anaconda3/envs/BATMAN/lib/python3.11/site-packages/mhcflurry/amino_acid.py:132: FutureWarning: Downcasting behavior in `replace` is deprecated and will be removed in a future version. To retain the old behavior, explicitly call `result.infer_objects(copy=False)`. To opt-in to the future behavior, set `pd.set_option('future.no_silent_downcasting', True)`\n",
      "  result = df.replace(letter_to_index_dict)\n"
     ]
    },
    {
     "name": "stdout",
     "output_type": "stream",
     "text": [
      "1/1 [==============================] - 1s 504ms/step\n",
      "1/1 [==============================] - 1s 522ms/step\n",
      "1/1 [==============================] - 1s 514ms/step\n"
     ]
    },
    {
     "name": "stderr",
     "output_type": "stream",
     "text": [
      "/home/orlov.av/anaconda3/envs/BATMAN/lib/python3.11/site-packages/mhcflurry/amino_acid.py:132: FutureWarning: Downcasting behavior in `replace` is deprecated and will be removed in a future version. To retain the old behavior, explicitly call `result.infer_objects(copy=False)`. To opt-in to the future behavior, set `pd.set_option('future.no_silent_downcasting', True)`\n",
      "  result = df.replace(letter_to_index_dict)\n",
      "/home/orlov.av/anaconda3/envs/BATMAN/lib/python3.11/site-packages/mhcflurry/amino_acid.py:132: FutureWarning: Downcasting behavior in `replace` is deprecated and will be removed in a future version. To retain the old behavior, explicitly call `result.infer_objects(copy=False)`. To opt-in to the future behavior, set `pd.set_option('future.no_silent_downcasting', True)`\n",
      "  result = df.replace(letter_to_index_dict)\n"
     ]
    },
    {
     "name": "stdout",
     "output_type": "stream",
     "text": [
      "1/1 [==============================] - 0s 81ms/step\n"
     ]
    },
    {
     "name": "stderr",
     "output_type": "stream",
     "text": [
      "/home/orlov.av/anaconda3/envs/BATMAN/lib/python3.11/site-packages/mhcflurry/amino_acid.py:132: FutureWarning: Downcasting behavior in `replace` is deprecated and will be removed in a future version. To retain the old behavior, explicitly call `result.infer_objects(copy=False)`. To opt-in to the future behavior, set `pd.set_option('future.no_silent_downcasting', True)`\n",
      "  result = df.replace(letter_to_index_dict)\n"
     ]
    },
    {
     "name": "stdout",
     "output_type": "stream",
     "text": [
      "1/1 [==============================] - 1s 521ms/step\n",
      "1/1 [==============================] - 0s 153ms/step\n",
      "1/1 [==============================] - 0s 161ms/step\n"
     ]
    },
    {
     "name": "stderr",
     "output_type": "stream",
     "text": [
      "/home/orlov.av/anaconda3/envs/BATMAN/lib/python3.11/site-packages/mhcflurry/amino_acid.py:132: FutureWarning: Downcasting behavior in `replace` is deprecated and will be removed in a future version. To retain the old behavior, explicitly call `result.infer_objects(copy=False)`. To opt-in to the future behavior, set `pd.set_option('future.no_silent_downcasting', True)`\n",
      "  result = df.replace(letter_to_index_dict)\n",
      "/home/orlov.av/anaconda3/envs/BATMAN/lib/python3.11/site-packages/mhcflurry/amino_acid.py:132: FutureWarning: Downcasting behavior in `replace` is deprecated and will be removed in a future version. To retain the old behavior, explicitly call `result.infer_objects(copy=False)`. To opt-in to the future behavior, set `pd.set_option('future.no_silent_downcasting', True)`\n",
      "  result = df.replace(letter_to_index_dict)\n"
     ]
    },
    {
     "name": "stdout",
     "output_type": "stream",
     "text": [
      "1/1 [==============================] - 0s 81ms/step\n",
      "1/1 [==============================] - 0s 70ms/step\n"
     ]
    },
    {
     "name": "stderr",
     "output_type": "stream",
     "text": [
      "/home/orlov.av/anaconda3/envs/BATMAN/lib/python3.11/site-packages/mhcflurry/amino_acid.py:132: FutureWarning: Downcasting behavior in `replace` is deprecated and will be removed in a future version. To retain the old behavior, explicitly call `result.infer_objects(copy=False)`. To opt-in to the future behavior, set `pd.set_option('future.no_silent_downcasting', True)`\n",
      "  result = df.replace(letter_to_index_dict)\n",
      "/home/orlov.av/anaconda3/envs/BATMAN/lib/python3.11/site-packages/mhcflurry/amino_acid.py:132: FutureWarning: Downcasting behavior in `replace` is deprecated and will be removed in a future version. To retain the old behavior, explicitly call `result.infer_objects(copy=False)`. To opt-in to the future behavior, set `pd.set_option('future.no_silent_downcasting', True)`\n",
      "  result = df.replace(letter_to_index_dict)\n"
     ]
    },
    {
     "name": "stdout",
     "output_type": "stream",
     "text": [
      "1/1 [==============================] - 0s 82ms/step\n",
      "1/1 [==============================] - 0s 107ms/step\n"
     ]
    },
    {
     "name": "stderr",
     "output_type": "stream",
     "text": [
      "/home/orlov.av/anaconda3/envs/BATMAN/lib/python3.11/site-packages/mhcflurry/amino_acid.py:132: FutureWarning: Downcasting behavior in `replace` is deprecated and will be removed in a future version. To retain the old behavior, explicitly call `result.infer_objects(copy=False)`. To opt-in to the future behavior, set `pd.set_option('future.no_silent_downcasting', True)`\n",
      "  result = df.replace(letter_to_index_dict)\n"
     ]
    },
    {
     "name": "stdout",
     "output_type": "stream",
     "text": [
      "1/1 [==============================] - 0s 88ms/step\n"
     ]
    },
    {
     "name": "stderr",
     "output_type": "stream",
     "text": [
      "/home/orlov.av/anaconda3/envs/BATMAN/lib/python3.11/site-packages/mhcflurry/amino_acid.py:132: FutureWarning: Downcasting behavior in `replace` is deprecated and will be removed in a future version. To retain the old behavior, explicitly call `result.infer_objects(copy=False)`. To opt-in to the future behavior, set `pd.set_option('future.no_silent_downcasting', True)`\n",
      "  result = df.replace(letter_to_index_dict)\n",
      "/home/orlov.av/anaconda3/envs/BATMAN/lib/python3.11/site-packages/mhcflurry/amino_acid.py:132: FutureWarning: Downcasting behavior in `replace` is deprecated and will be removed in a future version. To retain the old behavior, explicitly call `result.infer_objects(copy=False)`. To opt-in to the future behavior, set `pd.set_option('future.no_silent_downcasting', True)`\n",
      "  result = df.replace(letter_to_index_dict)\n",
      "/home/orlov.av/anaconda3/envs/BATMAN/lib/python3.11/site-packages/mhcflurry/amino_acid.py:132: FutureWarning: Downcasting behavior in `replace` is deprecated and will be removed in a future version. To retain the old behavior, explicitly call `result.infer_objects(copy=False)`. To opt-in to the future behavior, set `pd.set_option('future.no_silent_downcasting', True)`\n",
      "  result = df.replace(letter_to_index_dict)\n",
      "/home/orlov.av/anaconda3/envs/BATMAN/lib/python3.11/site-packages/mhcflurry/amino_acid.py:132: FutureWarning: Downcasting behavior in `replace` is deprecated and will be removed in a future version. To retain the old behavior, explicitly call `result.infer_objects(copy=False)`. To opt-in to the future behavior, set `pd.set_option('future.no_silent_downcasting', True)`\n",
      "  result = df.replace(letter_to_index_dict)\n"
     ]
    },
    {
     "name": "stdout",
     "output_type": "stream",
     "text": [
      "1/1 [==============================] - 0s 412ms/step\n",
      "1/1 [==============================] - 0s 428ms/step\n"
     ]
    },
    {
     "name": "stderr",
     "output_type": "stream",
     "text": [
      "/home/orlov.av/anaconda3/envs/BATMAN/lib/python3.11/site-packages/mhcflurry/amino_acid.py:132: FutureWarning: Downcasting behavior in `replace` is deprecated and will be removed in a future version. To retain the old behavior, explicitly call `result.infer_objects(copy=False)`. To opt-in to the future behavior, set `pd.set_option('future.no_silent_downcasting', True)`\n",
      "  result = df.replace(letter_to_index_dict)\n",
      "/home/orlov.av/anaconda3/envs/BATMAN/lib/python3.11/site-packages/mhcflurry/amino_acid.py:132: FutureWarning: Downcasting behavior in `replace` is deprecated and will be removed in a future version. To retain the old behavior, explicitly call `result.infer_objects(copy=False)`. To opt-in to the future behavior, set `pd.set_option('future.no_silent_downcasting', True)`\n",
      "  result = df.replace(letter_to_index_dict)\n"
     ]
    },
    {
     "name": "stdout",
     "output_type": "stream",
     "text": [
      "1/1 [==============================] - 0s 68ms/step\n",
      "1/1 [==============================] - 0s 94ms/step\n",
      "1/1 [==============================] - 0s 404ms/step\n"
     ]
    },
    {
     "name": "stderr",
     "output_type": "stream",
     "text": [
      "/home/orlov.av/anaconda3/envs/BATMAN/lib/python3.11/site-packages/mhcflurry/amino_acid.py:132: FutureWarning: Downcasting behavior in `replace` is deprecated and will be removed in a future version. To retain the old behavior, explicitly call `result.infer_objects(copy=False)`. To opt-in to the future behavior, set `pd.set_option('future.no_silent_downcasting', True)`\n",
      "  result = df.replace(letter_to_index_dict)\n"
     ]
    },
    {
     "name": "stdout",
     "output_type": "stream",
     "text": [
      "1/1 [==============================] - 0s 67ms/step\n"
     ]
    },
    {
     "name": "stderr",
     "output_type": "stream",
     "text": [
      "/home/orlov.av/anaconda3/envs/BATMAN/lib/python3.11/site-packages/mhcflurry/amino_acid.py:132: FutureWarning: Downcasting behavior in `replace` is deprecated and will be removed in a future version. To retain the old behavior, explicitly call `result.infer_objects(copy=False)`. To opt-in to the future behavior, set `pd.set_option('future.no_silent_downcasting', True)`\n",
      "  result = df.replace(letter_to_index_dict)\n",
      "/home/orlov.av/anaconda3/envs/BATMAN/lib/python3.11/site-packages/mhcflurry/amino_acid.py:132: FutureWarning: Downcasting behavior in `replace` is deprecated and will be removed in a future version. To retain the old behavior, explicitly call `result.infer_objects(copy=False)`. To opt-in to the future behavior, set `pd.set_option('future.no_silent_downcasting', True)`\n",
      "  result = df.replace(letter_to_index_dict)\n"
     ]
    },
    {
     "name": "stdout",
     "output_type": "stream",
     "text": [
      "1/1 [==============================] - 0s 80ms/step\n"
     ]
    },
    {
     "name": "stderr",
     "output_type": "stream",
     "text": [
      "/home/orlov.av/anaconda3/envs/BATMAN/lib/python3.11/site-packages/mhcflurry/amino_acid.py:132: FutureWarning: Downcasting behavior in `replace` is deprecated and will be removed in a future version. To retain the old behavior, explicitly call `result.infer_objects(copy=False)`. To opt-in to the future behavior, set `pd.set_option('future.no_silent_downcasting', True)`\n",
      "  result = df.replace(letter_to_index_dict)\n"
     ]
    },
    {
     "name": "stdout",
     "output_type": "stream",
     "text": [
      "1/1 [==============================] - 0s 117ms/step\n",
      "1/1 [==============================] - 0s 431ms/step\n",
      "1/1 [==============================] - 0s 66ms/step\n"
     ]
    },
    {
     "name": "stderr",
     "output_type": "stream",
     "text": [
      "/home/orlov.av/anaconda3/envs/BATMAN/lib/python3.11/site-packages/mhcflurry/amino_acid.py:132: FutureWarning: Downcasting behavior in `replace` is deprecated and will be removed in a future version. To retain the old behavior, explicitly call `result.infer_objects(copy=False)`. To opt-in to the future behavior, set `pd.set_option('future.no_silent_downcasting', True)`\n",
      "  result = df.replace(letter_to_index_dict)\n",
      "/home/orlov.av/anaconda3/envs/BATMAN/lib/python3.11/site-packages/mhcflurry/amino_acid.py:132: FutureWarning: Downcasting behavior in `replace` is deprecated and will be removed in a future version. To retain the old behavior, explicitly call `result.infer_objects(copy=False)`. To opt-in to the future behavior, set `pd.set_option('future.no_silent_downcasting', True)`\n",
      "  result = df.replace(letter_to_index_dict)\n"
     ]
    },
    {
     "name": "stdout",
     "output_type": "stream",
     "text": [
      "1/1 [==============================] - 0s 81ms/step\n"
     ]
    },
    {
     "name": "stderr",
     "output_type": "stream",
     "text": [
      "/home/orlov.av/anaconda3/envs/BATMAN/lib/python3.11/site-packages/mhcflurry/amino_acid.py:132: FutureWarning: Downcasting behavior in `replace` is deprecated and will be removed in a future version. To retain the old behavior, explicitly call `result.infer_objects(copy=False)`. To opt-in to the future behavior, set `pd.set_option('future.no_silent_downcasting', True)`\n",
      "  result = df.replace(letter_to_index_dict)\n",
      "/home/orlov.av/anaconda3/envs/BATMAN/lib/python3.11/site-packages/mhcflurry/amino_acid.py:132: FutureWarning: Downcasting behavior in `replace` is deprecated and will be removed in a future version. To retain the old behavior, explicitly call `result.infer_objects(copy=False)`. To opt-in to the future behavior, set `pd.set_option('future.no_silent_downcasting', True)`\n",
      "  result = df.replace(letter_to_index_dict)\n"
     ]
    },
    {
     "name": "stdout",
     "output_type": "stream",
     "text": [
      "1/1 [==============================] - 0s 86ms/step\n",
      "1/1 [==============================] - 0s 72ms/step\n",
      "1/1 [==============================] - 0s 119ms/step\n"
     ]
    },
    {
     "name": "stderr",
     "output_type": "stream",
     "text": [
      "/home/orlov.av/anaconda3/envs/BATMAN/lib/python3.11/site-packages/mhcflurry/amino_acid.py:132: FutureWarning: Downcasting behavior in `replace` is deprecated and will be removed in a future version. To retain the old behavior, explicitly call `result.infer_objects(copy=False)`. To opt-in to the future behavior, set `pd.set_option('future.no_silent_downcasting', True)`\n",
      "  result = df.replace(letter_to_index_dict)\n"
     ]
    },
    {
     "name": "stdout",
     "output_type": "stream",
     "text": [
      "1/1 [==============================] - ETA: 0s"
     ]
    },
    {
     "name": "stderr",
     "output_type": "stream",
     "text": [
      "/home/orlov.av/anaconda3/envs/BATMAN/lib/python3.11/site-packages/mhcflurry/amino_acid.py:132: FutureWarning: Downcasting behavior in `replace` is deprecated and will be removed in a future version. To retain the old behavior, explicitly call `result.infer_objects(copy=False)`. To opt-in to the future behavior, set `pd.set_option('future.no_silent_downcasting', True)`\n",
      "  result = df.replace(letter_to_index_dict)\n"
     ]
    },
    {
     "name": "stdout",
     "output_type": "stream",
     "text": [
      "1/1 [==============================] - 0s 83ms/step\n",
      "1/1 [==============================] - 0s 82ms/step\n"
     ]
    },
    {
     "name": "stderr",
     "output_type": "stream",
     "text": [
      "/home/orlov.av/anaconda3/envs/BATMAN/lib/python3.11/site-packages/mhcflurry/amino_acid.py:132: FutureWarning: Downcasting behavior in `replace` is deprecated and will be removed in a future version. To retain the old behavior, explicitly call `result.infer_objects(copy=False)`. To opt-in to the future behavior, set `pd.set_option('future.no_silent_downcasting', True)`\n",
      "  result = df.replace(letter_to_index_dict)\n",
      "/home/orlov.av/anaconda3/envs/BATMAN/lib/python3.11/site-packages/mhcflurry/amino_acid.py:132: FutureWarning: Downcasting behavior in `replace` is deprecated and will be removed in a future version. To retain the old behavior, explicitly call `result.infer_objects(copy=False)`. To opt-in to the future behavior, set `pd.set_option('future.no_silent_downcasting', True)`\n",
      "  result = df.replace(letter_to_index_dict)\n"
     ]
    },
    {
     "name": "stdout",
     "output_type": "stream",
     "text": [
      "1/1 [==============================] - 0s 85ms/step\n",
      "1/1 [==============================] - 0s 80ms/step\n"
     ]
    },
    {
     "name": "stderr",
     "output_type": "stream",
     "text": [
      "/home/orlov.av/anaconda3/envs/BATMAN/lib/python3.11/site-packages/mhcflurry/amino_acid.py:132: FutureWarning: Downcasting behavior in `replace` is deprecated and will be removed in a future version. To retain the old behavior, explicitly call `result.infer_objects(copy=False)`. To opt-in to the future behavior, set `pd.set_option('future.no_silent_downcasting', True)`\n",
      "  result = df.replace(letter_to_index_dict)\n"
     ]
    },
    {
     "name": "stdout",
     "output_type": "stream",
     "text": [
      "1/1 [==============================] - 0s 96ms/step\n"
     ]
    },
    {
     "name": "stderr",
     "output_type": "stream",
     "text": [
      "/home/orlov.av/anaconda3/envs/BATMAN/lib/python3.11/site-packages/mhcflurry/amino_acid.py:132: FutureWarning: Downcasting behavior in `replace` is deprecated and will be removed in a future version. To retain the old behavior, explicitly call `result.infer_objects(copy=False)`. To opt-in to the future behavior, set `pd.set_option('future.no_silent_downcasting', True)`\n",
      "  result = df.replace(letter_to_index_dict)\n"
     ]
    },
    {
     "name": "stdout",
     "output_type": "stream",
     "text": [
      "1/1 [==============================] - 0s 86ms/step\n"
     ]
    },
    {
     "name": "stderr",
     "output_type": "stream",
     "text": [
      "/home/orlov.av/anaconda3/envs/BATMAN/lib/python3.11/site-packages/mhcflurry/amino_acid.py:132: FutureWarning: Downcasting behavior in `replace` is deprecated and will be removed in a future version. To retain the old behavior, explicitly call `result.infer_objects(copy=False)`. To opt-in to the future behavior, set `pd.set_option('future.no_silent_downcasting', True)`\n",
      "  result = df.replace(letter_to_index_dict)\n"
     ]
    },
    {
     "name": "stdout",
     "output_type": "stream",
     "text": [
      "1/1 [==============================] - 0s 132ms/step\n"
     ]
    },
    {
     "name": "stderr",
     "output_type": "stream",
     "text": [
      "/home/orlov.av/anaconda3/envs/BATMAN/lib/python3.11/site-packages/mhcflurry/amino_acid.py:132: FutureWarning: Downcasting behavior in `replace` is deprecated and will be removed in a future version. To retain the old behavior, explicitly call `result.infer_objects(copy=False)`. To opt-in to the future behavior, set `pd.set_option('future.no_silent_downcasting', True)`\n",
      "  result = df.replace(letter_to_index_dict)\n"
     ]
    },
    {
     "name": "stdout",
     "output_type": "stream",
     "text": [
      "1/1 [==============================] - 0s 122ms/step\n"
     ]
    },
    {
     "name": "stderr",
     "output_type": "stream",
     "text": [
      "/home/orlov.av/anaconda3/envs/BATMAN/lib/python3.11/site-packages/mhcflurry/amino_acid.py:132: FutureWarning: Downcasting behavior in `replace` is deprecated and will be removed in a future version. To retain the old behavior, explicitly call `result.infer_objects(copy=False)`. To opt-in to the future behavior, set `pd.set_option('future.no_silent_downcasting', True)`\n",
      "  result = df.replace(letter_to_index_dict)\n",
      "/home/orlov.av/anaconda3/envs/BATMAN/lib/python3.11/site-packages/mhcflurry/amino_acid.py:132: FutureWarning: Downcasting behavior in `replace` is deprecated and will be removed in a future version. To retain the old behavior, explicitly call `result.infer_objects(copy=False)`. To opt-in to the future behavior, set `pd.set_option('future.no_silent_downcasting', True)`\n",
      "  result = df.replace(letter_to_index_dict)\n"
     ]
    },
    {
     "name": "stdout",
     "output_type": "stream",
     "text": [
      "1/1 [==============================] - 0s 435ms/step\n",
      "1/1 [==============================] - 0s 413ms/step\n"
     ]
    },
    {
     "name": "stderr",
     "output_type": "stream",
     "text": [
      "/home/orlov.av/anaconda3/envs/BATMAN/lib/python3.11/site-packages/mhcflurry/amino_acid.py:132: FutureWarning: Downcasting behavior in `replace` is deprecated and will be removed in a future version. To retain the old behavior, explicitly call `result.infer_objects(copy=False)`. To opt-in to the future behavior, set `pd.set_option('future.no_silent_downcasting', True)`\n",
      "  result = df.replace(letter_to_index_dict)\n",
      "/home/orlov.av/anaconda3/envs/BATMAN/lib/python3.11/site-packages/mhcflurry/amino_acid.py:132: FutureWarning: Downcasting behavior in `replace` is deprecated and will be removed in a future version. To retain the old behavior, explicitly call `result.infer_objects(copy=False)`. To opt-in to the future behavior, set `pd.set_option('future.no_silent_downcasting', True)`\n",
      "  result = df.replace(letter_to_index_dict)\n"
     ]
    },
    {
     "name": "stdout",
     "output_type": "stream",
     "text": [
      "1/1 [==============================] - 0s 70ms/step\n",
      "1/1 [==============================] - 0s 80ms/step\n"
     ]
    },
    {
     "name": "stderr",
     "output_type": "stream",
     "text": [
      "/home/orlov.av/anaconda3/envs/BATMAN/lib/python3.11/site-packages/mhcflurry/amino_acid.py:132: FutureWarning: Downcasting behavior in `replace` is deprecated and will be removed in a future version. To retain the old behavior, explicitly call `result.infer_objects(copy=False)`. To opt-in to the future behavior, set `pd.set_option('future.no_silent_downcasting', True)`\n",
      "  result = df.replace(letter_to_index_dict)\n",
      "/home/orlov.av/anaconda3/envs/BATMAN/lib/python3.11/site-packages/mhcflurry/amino_acid.py:132: FutureWarning: Downcasting behavior in `replace` is deprecated and will be removed in a future version. To retain the old behavior, explicitly call `result.infer_objects(copy=False)`. To opt-in to the future behavior, set `pd.set_option('future.no_silent_downcasting', True)`\n",
      "  result = df.replace(letter_to_index_dict)\n"
     ]
    },
    {
     "name": "stdout",
     "output_type": "stream",
     "text": [
      "1/1 [==============================] - 0s 80ms/step\n"
     ]
    },
    {
     "name": "stderr",
     "output_type": "stream",
     "text": [
      "/home/orlov.av/anaconda3/envs/BATMAN/lib/python3.11/site-packages/mhcflurry/amino_acid.py:132: FutureWarning: Downcasting behavior in `replace` is deprecated and will be removed in a future version. To retain the old behavior, explicitly call `result.infer_objects(copy=False)`. To opt-in to the future behavior, set `pd.set_option('future.no_silent_downcasting', True)`\n",
      "  result = df.replace(letter_to_index_dict)\n"
     ]
    },
    {
     "name": "stdout",
     "output_type": "stream",
     "text": [
      "1/1 [==============================] - 0s 392ms/step\n",
      "1/1 [==============================] - 0s 377ms/step\n"
     ]
    },
    {
     "name": "stderr",
     "output_type": "stream",
     "text": [
      "/home/orlov.av/anaconda3/envs/BATMAN/lib/python3.11/site-packages/mhcflurry/amino_acid.py:132: FutureWarning: Downcasting behavior in `replace` is deprecated and will be removed in a future version. To retain the old behavior, explicitly call `result.infer_objects(copy=False)`. To opt-in to the future behavior, set `pd.set_option('future.no_silent_downcasting', True)`\n",
      "  result = df.replace(letter_to_index_dict)\n"
     ]
    },
    {
     "name": "stdout",
     "output_type": "stream",
     "text": [
      "1/1 [==============================] - 0s 70ms/step\n"
     ]
    },
    {
     "name": "stderr",
     "output_type": "stream",
     "text": [
      "/home/orlov.av/anaconda3/envs/BATMAN/lib/python3.11/site-packages/mhcflurry/amino_acid.py:132: FutureWarning: Downcasting behavior in `replace` is deprecated and will be removed in a future version. To retain the old behavior, explicitly call `result.infer_objects(copy=False)`. To opt-in to the future behavior, set `pd.set_option('future.no_silent_downcasting', True)`\n",
      "  result = df.replace(letter_to_index_dict)\n",
      "/home/orlov.av/anaconda3/envs/BATMAN/lib/python3.11/site-packages/mhcflurry/amino_acid.py:132: FutureWarning: Downcasting behavior in `replace` is deprecated and will be removed in a future version. To retain the old behavior, explicitly call `result.infer_objects(copy=False)`. To opt-in to the future behavior, set `pd.set_option('future.no_silent_downcasting', True)`\n",
      "  result = df.replace(letter_to_index_dict)\n"
     ]
    },
    {
     "name": "stdout",
     "output_type": "stream",
     "text": [
      "1/1 [==============================] - 0s 364ms/step\n"
     ]
    },
    {
     "name": "stderr",
     "output_type": "stream",
     "text": [
      "/home/orlov.av/anaconda3/envs/BATMAN/lib/python3.11/site-packages/mhcflurry/amino_acid.py:132: FutureWarning: Downcasting behavior in `replace` is deprecated and will be removed in a future version. To retain the old behavior, explicitly call `result.infer_objects(copy=False)`. To opt-in to the future behavior, set `pd.set_option('future.no_silent_downcasting', True)`\n",
      "  result = df.replace(letter_to_index_dict)\n"
     ]
    },
    {
     "name": "stdout",
     "output_type": "stream",
     "text": [
      "1/1 [==============================] - 0s 65ms/step\n"
     ]
    },
    {
     "name": "stderr",
     "output_type": "stream",
     "text": [
      "/home/orlov.av/anaconda3/envs/BATMAN/lib/python3.11/site-packages/mhcflurry/amino_acid.py:132: FutureWarning: Downcasting behavior in `replace` is deprecated and will be removed in a future version. To retain the old behavior, explicitly call `result.infer_objects(copy=False)`. To opt-in to the future behavior, set `pd.set_option('future.no_silent_downcasting', True)`\n",
      "  result = df.replace(letter_to_index_dict)\n",
      "/home/orlov.av/anaconda3/envs/BATMAN/lib/python3.11/site-packages/mhcflurry/amino_acid.py:132: FutureWarning: Downcasting behavior in `replace` is deprecated and will be removed in a future version. To retain the old behavior, explicitly call `result.infer_objects(copy=False)`. To opt-in to the future behavior, set `pd.set_option('future.no_silent_downcasting', True)`\n",
      "  result = df.replace(letter_to_index_dict)\n"
     ]
    },
    {
     "name": "stdout",
     "output_type": "stream",
     "text": [
      "1/1 [==============================] - 0s 94ms/step\n",
      "1/1 [==============================] - 0s 414ms/step\n"
     ]
    },
    {
     "name": "stderr",
     "output_type": "stream",
     "text": [
      "/home/orlov.av/anaconda3/envs/BATMAN/lib/python3.11/site-packages/mhcflurry/amino_acid.py:132: FutureWarning: Downcasting behavior in `replace` is deprecated and will be removed in a future version. To retain the old behavior, explicitly call `result.infer_objects(copy=False)`. To opt-in to the future behavior, set `pd.set_option('future.no_silent_downcasting', True)`\n",
      "  result = df.replace(letter_to_index_dict)\n"
     ]
    },
    {
     "name": "stdout",
     "output_type": "stream",
     "text": [
      "1/1 [==============================] - 0s 63ms/step\n"
     ]
    },
    {
     "name": "stderr",
     "output_type": "stream",
     "text": [
      "/home/orlov.av/anaconda3/envs/BATMAN/lib/python3.11/site-packages/mhcflurry/amino_acid.py:132: FutureWarning: Downcasting behavior in `replace` is deprecated and will be removed in a future version. To retain the old behavior, explicitly call `result.infer_objects(copy=False)`. To opt-in to the future behavior, set `pd.set_option('future.no_silent_downcasting', True)`\n",
      "  result = df.replace(letter_to_index_dict)\n"
     ]
    },
    {
     "name": "stdout",
     "output_type": "stream",
     "text": [
      "1/1 [==============================] - 0s 82ms/step\n"
     ]
    },
    {
     "name": "stderr",
     "output_type": "stream",
     "text": [
      "/home/orlov.av/anaconda3/envs/BATMAN/lib/python3.11/site-packages/mhcflurry/amino_acid.py:132: FutureWarning: Downcasting behavior in `replace` is deprecated and will be removed in a future version. To retain the old behavior, explicitly call `result.infer_objects(copy=False)`. To opt-in to the future behavior, set `pd.set_option('future.no_silent_downcasting', True)`\n",
      "  result = df.replace(letter_to_index_dict)\n",
      "/home/orlov.av/anaconda3/envs/BATMAN/lib/python3.11/site-packages/mhcflurry/amino_acid.py:132: FutureWarning: Downcasting behavior in `replace` is deprecated and will be removed in a future version. To retain the old behavior, explicitly call `result.infer_objects(copy=False)`. To opt-in to the future behavior, set `pd.set_option('future.no_silent_downcasting', True)`\n",
      "  result = df.replace(letter_to_index_dict)\n"
     ]
    },
    {
     "name": "stdout",
     "output_type": "stream",
     "text": [
      "1/1 [==============================] - 0s 86ms/step\n",
      "1/1 [==============================] - 0s 426ms/step\n"
     ]
    },
    {
     "name": "stderr",
     "output_type": "stream",
     "text": [
      "/home/orlov.av/anaconda3/envs/BATMAN/lib/python3.11/site-packages/mhcflurry/amino_acid.py:132: FutureWarning: Downcasting behavior in `replace` is deprecated and will be removed in a future version. To retain the old behavior, explicitly call `result.infer_objects(copy=False)`. To opt-in to the future behavior, set `pd.set_option('future.no_silent_downcasting', True)`\n",
      "  result = df.replace(letter_to_index_dict)\n"
     ]
    },
    {
     "name": "stdout",
     "output_type": "stream",
     "text": [
      "1/1 [==============================] - 0s 57ms/step\n"
     ]
    },
    {
     "name": "stderr",
     "output_type": "stream",
     "text": [
      "/home/orlov.av/anaconda3/envs/BATMAN/lib/python3.11/site-packages/mhcflurry/amino_acid.py:132: FutureWarning: Downcasting behavior in `replace` is deprecated and will be removed in a future version. To retain the old behavior, explicitly call `result.infer_objects(copy=False)`. To opt-in to the future behavior, set `pd.set_option('future.no_silent_downcasting', True)`\n",
      "  result = df.replace(letter_to_index_dict)\n",
      "/home/orlov.av/anaconda3/envs/BATMAN/lib/python3.11/site-packages/mhcflurry/amino_acid.py:132: FutureWarning: Downcasting behavior in `replace` is deprecated and will be removed in a future version. To retain the old behavior, explicitly call `result.infer_objects(copy=False)`. To opt-in to the future behavior, set `pd.set_option('future.no_silent_downcasting', True)`\n",
      "  result = df.replace(letter_to_index_dict)\n"
     ]
    },
    {
     "name": "stdout",
     "output_type": "stream",
     "text": [
      "1/1 [==============================] - 0s 79ms/step\n",
      "1/1 [==============================] - 0s 58ms/step\n"
     ]
    },
    {
     "name": "stderr",
     "output_type": "stream",
     "text": [
      "/home/orlov.av/anaconda3/envs/BATMAN/lib/python3.11/site-packages/mhcflurry/amino_acid.py:132: FutureWarning: Downcasting behavior in `replace` is deprecated and will be removed in a future version. To retain the old behavior, explicitly call `result.infer_objects(copy=False)`. To opt-in to the future behavior, set `pd.set_option('future.no_silent_downcasting', True)`\n",
      "  result = df.replace(letter_to_index_dict)\n",
      "/home/orlov.av/anaconda3/envs/BATMAN/lib/python3.11/site-packages/mhcflurry/amino_acid.py:132: FutureWarning: Downcasting behavior in `replace` is deprecated and will be removed in a future version. To retain the old behavior, explicitly call `result.infer_objects(copy=False)`. To opt-in to the future behavior, set `pd.set_option('future.no_silent_downcasting', True)`\n",
      "  result = df.replace(letter_to_index_dict)\n"
     ]
    },
    {
     "name": "stdout",
     "output_type": "stream",
     "text": [
      "1/1 [==============================] - 0s 57ms/step\n",
      "1/1 [==============================] - 0s 80ms/step\n",
      "1/1 [==============================] - 0s 398ms/step\n"
     ]
    },
    {
     "name": "stderr",
     "output_type": "stream",
     "text": [
      "/home/orlov.av/anaconda3/envs/BATMAN/lib/python3.11/site-packages/mhcflurry/amino_acid.py:132: FutureWarning: Downcasting behavior in `replace` is deprecated and will be removed in a future version. To retain the old behavior, explicitly call `result.infer_objects(copy=False)`. To opt-in to the future behavior, set `pd.set_option('future.no_silent_downcasting', True)`\n",
      "  result = df.replace(letter_to_index_dict)\n"
     ]
    },
    {
     "name": "stdout",
     "output_type": "stream",
     "text": [
      "1/1 [==============================] - 0s 69ms/step\n"
     ]
    },
    {
     "name": "stderr",
     "output_type": "stream",
     "text": [
      "/home/orlov.av/anaconda3/envs/BATMAN/lib/python3.11/site-packages/mhcflurry/amino_acid.py:132: FutureWarning: Downcasting behavior in `replace` is deprecated and will be removed in a future version. To retain the old behavior, explicitly call `result.infer_objects(copy=False)`. To opt-in to the future behavior, set `pd.set_option('future.no_silent_downcasting', True)`\n",
      "  result = df.replace(letter_to_index_dict)\n"
     ]
    },
    {
     "name": "stdout",
     "output_type": "stream",
     "text": [
      "1/1 [==============================] - 0s 65ms/step\n"
     ]
    },
    {
     "name": "stderr",
     "output_type": "stream",
     "text": [
      "/home/orlov.av/anaconda3/envs/BATMAN/lib/python3.11/site-packages/mhcflurry/amino_acid.py:132: FutureWarning: Downcasting behavior in `replace` is deprecated and will be removed in a future version. To retain the old behavior, explicitly call `result.infer_objects(copy=False)`. To opt-in to the future behavior, set `pd.set_option('future.no_silent_downcasting', True)`\n",
      "  result = df.replace(letter_to_index_dict)\n"
     ]
    },
    {
     "name": "stdout",
     "output_type": "stream",
     "text": [
      "1/1 [==============================] - 0s 64ms/step\n"
     ]
    },
    {
     "name": "stderr",
     "output_type": "stream",
     "text": [
      "/home/orlov.av/anaconda3/envs/BATMAN/lib/python3.11/site-packages/mhcflurry/amino_acid.py:132: FutureWarning: Downcasting behavior in `replace` is deprecated and will be removed in a future version. To retain the old behavior, explicitly call `result.infer_objects(copy=False)`. To opt-in to the future behavior, set `pd.set_option('future.no_silent_downcasting', True)`\n",
      "  result = df.replace(letter_to_index_dict)\n"
     ]
    },
    {
     "name": "stdout",
     "output_type": "stream",
     "text": [
      "1/1 [==============================] - 0s 64ms/step\n"
     ]
    },
    {
     "name": "stderr",
     "output_type": "stream",
     "text": [
      "/home/orlov.av/anaconda3/envs/BATMAN/lib/python3.11/site-packages/mhcflurry/amino_acid.py:132: FutureWarning: Downcasting behavior in `replace` is deprecated and will be removed in a future version. To retain the old behavior, explicitly call `result.infer_objects(copy=False)`. To opt-in to the future behavior, set `pd.set_option('future.no_silent_downcasting', True)`\n",
      "  result = df.replace(letter_to_index_dict)\n"
     ]
    },
    {
     "name": "stdout",
     "output_type": "stream",
     "text": [
      "1/1 [==============================] - 0s 352ms/step\n"
     ]
    },
    {
     "name": "stderr",
     "output_type": "stream",
     "text": [
      "/home/orlov.av/anaconda3/envs/BATMAN/lib/python3.11/site-packages/mhcflurry/amino_acid.py:132: FutureWarning: Downcasting behavior in `replace` is deprecated and will be removed in a future version. To retain the old behavior, explicitly call `result.infer_objects(copy=False)`. To opt-in to the future behavior, set `pd.set_option('future.no_silent_downcasting', True)`\n",
      "  result = df.replace(letter_to_index_dict)\n"
     ]
    },
    {
     "name": "stdout",
     "output_type": "stream",
     "text": [
      "1/1 [==============================] - 0s 362ms/step\n"
     ]
    },
    {
     "name": "stderr",
     "output_type": "stream",
     "text": [
      "/home/orlov.av/anaconda3/envs/BATMAN/lib/python3.11/site-packages/mhcflurry/amino_acid.py:132: FutureWarning: Downcasting behavior in `replace` is deprecated and will be removed in a future version. To retain the old behavior, explicitly call `result.infer_objects(copy=False)`. To opt-in to the future behavior, set `pd.set_option('future.no_silent_downcasting', True)`\n",
      "  result = df.replace(letter_to_index_dict)\n",
      "/home/orlov.av/anaconda3/envs/BATMAN/lib/python3.11/site-packages/mhcflurry/amino_acid.py:132: FutureWarning: Downcasting behavior in `replace` is deprecated and will be removed in a future version. To retain the old behavior, explicitly call `result.infer_objects(copy=False)`. To opt-in to the future behavior, set `pd.set_option('future.no_silent_downcasting', True)`\n",
      "  result = df.replace(letter_to_index_dict)\n"
     ]
    },
    {
     "name": "stdout",
     "output_type": "stream",
     "text": [
      "1/1 [==============================] - 0s 71ms/step\n",
      "1/1 [==============================] - 0s 348ms/step\n"
     ]
    },
    {
     "name": "stderr",
     "output_type": "stream",
     "text": [
      "/home/orlov.av/anaconda3/envs/BATMAN/lib/python3.11/site-packages/mhcflurry/amino_acid.py:132: FutureWarning: Downcasting behavior in `replace` is deprecated and will be removed in a future version. To retain the old behavior, explicitly call `result.infer_objects(copy=False)`. To opt-in to the future behavior, set `pd.set_option('future.no_silent_downcasting', True)`\n",
      "  result = df.replace(letter_to_index_dict)\n"
     ]
    },
    {
     "name": "stdout",
     "output_type": "stream",
     "text": [
      "1/1 [==============================] - 0s 52ms/step\n"
     ]
    },
    {
     "name": "stderr",
     "output_type": "stream",
     "text": [
      "/home/orlov.av/anaconda3/envs/BATMAN/lib/python3.11/site-packages/mhcflurry/amino_acid.py:132: FutureWarning: Downcasting behavior in `replace` is deprecated and will be removed in a future version. To retain the old behavior, explicitly call `result.infer_objects(copy=False)`. To opt-in to the future behavior, set `pd.set_option('future.no_silent_downcasting', True)`\n",
      "  result = df.replace(letter_to_index_dict)\n"
     ]
    },
    {
     "name": "stdout",
     "output_type": "stream",
     "text": [
      "1/1 [==============================] - 0s 54ms/step\n"
     ]
    },
    {
     "name": "stderr",
     "output_type": "stream",
     "text": [
      "/home/orlov.av/anaconda3/envs/BATMAN/lib/python3.11/site-packages/mhcflurry/amino_acid.py:132: FutureWarning: Downcasting behavior in `replace` is deprecated and will be removed in a future version. To retain the old behavior, explicitly call `result.infer_objects(copy=False)`. To opt-in to the future behavior, set `pd.set_option('future.no_silent_downcasting', True)`\n",
      "  result = df.replace(letter_to_index_dict)\n"
     ]
    },
    {
     "name": "stdout",
     "output_type": "stream",
     "text": [
      "1/1 [==============================] - 0s 338ms/step\n"
     ]
    },
    {
     "name": "stderr",
     "output_type": "stream",
     "text": [
      "/home/orlov.av/anaconda3/envs/BATMAN/lib/python3.11/site-packages/mhcflurry/amino_acid.py:132: FutureWarning: Downcasting behavior in `replace` is deprecated and will be removed in a future version. To retain the old behavior, explicitly call `result.infer_objects(copy=False)`. To opt-in to the future behavior, set `pd.set_option('future.no_silent_downcasting', True)`\n",
      "  result = df.replace(letter_to_index_dict)\n"
     ]
    },
    {
     "name": "stdout",
     "output_type": "stream",
     "text": [
      "1/1 [==============================] - 0s 49ms/step\n"
     ]
    },
    {
     "name": "stderr",
     "output_type": "stream",
     "text": [
      "/home/orlov.av/anaconda3/envs/BATMAN/lib/python3.11/site-packages/mhcflurry/amino_acid.py:132: FutureWarning: Downcasting behavior in `replace` is deprecated and will be removed in a future version. To retain the old behavior, explicitly call `result.infer_objects(copy=False)`. To opt-in to the future behavior, set `pd.set_option('future.no_silent_downcasting', True)`\n",
      "  result = df.replace(letter_to_index_dict)\n"
     ]
    },
    {
     "name": "stdout",
     "output_type": "stream",
     "text": [
      "1/1 [==============================] - 0s 46ms/step\n"
     ]
    },
    {
     "name": "stderr",
     "output_type": "stream",
     "text": [
      "/home/orlov.av/anaconda3/envs/BATMAN/lib/python3.11/site-packages/mhcflurry/amino_acid.py:132: FutureWarning: Downcasting behavior in `replace` is deprecated and will be removed in a future version. To retain the old behavior, explicitly call `result.infer_objects(copy=False)`. To opt-in to the future behavior, set `pd.set_option('future.no_silent_downcasting', True)`\n",
      "  result = df.replace(letter_to_index_dict)\n"
     ]
    },
    {
     "name": "stdout",
     "output_type": "stream",
     "text": [
      "1/1 [==============================] - 0s 364ms/step\n"
     ]
    },
    {
     "name": "stderr",
     "output_type": "stream",
     "text": [
      "/home/orlov.av/anaconda3/envs/BATMAN/lib/python3.11/site-packages/mhcflurry/amino_acid.py:132: FutureWarning: Downcasting behavior in `replace` is deprecated and will be removed in a future version. To retain the old behavior, explicitly call `result.infer_objects(copy=False)`. To opt-in to the future behavior, set `pd.set_option('future.no_silent_downcasting', True)`\n",
      "  result = df.replace(letter_to_index_dict)\n",
      "/home/orlov.av/anaconda3/envs/BATMAN/lib/python3.11/site-packages/mhcflurry/amino_acid.py:132: FutureWarning: Downcasting behavior in `replace` is deprecated and will be removed in a future version. To retain the old behavior, explicitly call `result.infer_objects(copy=False)`. To opt-in to the future behavior, set `pd.set_option('future.no_silent_downcasting', True)`\n",
      "  result = df.replace(letter_to_index_dict)\n"
     ]
    },
    {
     "name": "stdout",
     "output_type": "stream",
     "text": [
      "1/1 [==============================] - 0s 66ms/step\n"
     ]
    },
    {
     "name": "stderr",
     "output_type": "stream",
     "text": [
      "/home/orlov.av/anaconda3/envs/BATMAN/lib/python3.11/site-packages/mhcflurry/amino_acid.py:132: FutureWarning: Downcasting behavior in `replace` is deprecated and will be removed in a future version. To retain the old behavior, explicitly call `result.infer_objects(copy=False)`. To opt-in to the future behavior, set `pd.set_option('future.no_silent_downcasting', True)`\n",
      "  result = df.replace(letter_to_index_dict)\n"
     ]
    },
    {
     "name": "stdout",
     "output_type": "stream",
     "text": [
      "1/1 [==============================] - 0s 64ms/step\n"
     ]
    },
    {
     "name": "stderr",
     "output_type": "stream",
     "text": [
      "/home/orlov.av/anaconda3/envs/BATMAN/lib/python3.11/site-packages/mhcflurry/amino_acid.py:132: FutureWarning: Downcasting behavior in `replace` is deprecated and will be removed in a future version. To retain the old behavior, explicitly call `result.infer_objects(copy=False)`. To opt-in to the future behavior, set `pd.set_option('future.no_silent_downcasting', True)`\n",
      "  result = df.replace(letter_to_index_dict)\n"
     ]
    },
    {
     "name": "stdout",
     "output_type": "stream",
     "text": [
      "1/1 [==============================] - 0s 61ms/step\n",
      "1/1 [==============================] - 0s 371ms/step\n"
     ]
    },
    {
     "name": "stderr",
     "output_type": "stream",
     "text": [
      "/home/orlov.av/anaconda3/envs/BATMAN/lib/python3.11/site-packages/mhcflurry/amino_acid.py:132: FutureWarning: Downcasting behavior in `replace` is deprecated and will be removed in a future version. To retain the old behavior, explicitly call `result.infer_objects(copy=False)`. To opt-in to the future behavior, set `pd.set_option('future.no_silent_downcasting', True)`\n",
      "  result = df.replace(letter_to_index_dict)\n"
     ]
    },
    {
     "name": "stdout",
     "output_type": "stream",
     "text": [
      "1/1 [==============================] - 0s 371ms/step\n"
     ]
    },
    {
     "name": "stderr",
     "output_type": "stream",
     "text": [
      "/home/orlov.av/anaconda3/envs/BATMAN/lib/python3.11/site-packages/mhcflurry/amino_acid.py:132: FutureWarning: Downcasting behavior in `replace` is deprecated and will be removed in a future version. To retain the old behavior, explicitly call `result.infer_objects(copy=False)`. To opt-in to the future behavior, set `pd.set_option('future.no_silent_downcasting', True)`\n",
      "  result = df.replace(letter_to_index_dict)\n"
     ]
    },
    {
     "name": "stdout",
     "output_type": "stream",
     "text": [
      "1/1 [==============================] - 0s 62ms/step\n"
     ]
    },
    {
     "name": "stderr",
     "output_type": "stream",
     "text": [
      "/home/orlov.av/anaconda3/envs/BATMAN/lib/python3.11/site-packages/mhcflurry/amino_acid.py:132: FutureWarning: Downcasting behavior in `replace` is deprecated and will be removed in a future version. To retain the old behavior, explicitly call `result.infer_objects(copy=False)`. To opt-in to the future behavior, set `pd.set_option('future.no_silent_downcasting', True)`\n",
      "  result = df.replace(letter_to_index_dict)\n"
     ]
    },
    {
     "name": "stdout",
     "output_type": "stream",
     "text": [
      "1/1 [==============================] - 0s 63ms/step\n"
     ]
    },
    {
     "name": "stderr",
     "output_type": "stream",
     "text": [
      "/home/orlov.av/anaconda3/envs/BATMAN/lib/python3.11/site-packages/mhcflurry/amino_acid.py:132: FutureWarning: Downcasting behavior in `replace` is deprecated and will be removed in a future version. To retain the old behavior, explicitly call `result.infer_objects(copy=False)`. To opt-in to the future behavior, set `pd.set_option('future.no_silent_downcasting', True)`\n",
      "  result = df.replace(letter_to_index_dict)\n"
     ]
    },
    {
     "name": "stdout",
     "output_type": "stream",
     "text": [
      "1/1 [==============================] - 0s 63ms/step\n"
     ]
    },
    {
     "name": "stderr",
     "output_type": "stream",
     "text": [
      "/home/orlov.av/anaconda3/envs/BATMAN/lib/python3.11/site-packages/mhcflurry/amino_acid.py:132: FutureWarning: Downcasting behavior in `replace` is deprecated and will be removed in a future version. To retain the old behavior, explicitly call `result.infer_objects(copy=False)`. To opt-in to the future behavior, set `pd.set_option('future.no_silent_downcasting', True)`\n",
      "  result = df.replace(letter_to_index_dict)\n"
     ]
    },
    {
     "name": "stdout",
     "output_type": "stream",
     "text": [
      "1/1 [==============================] - 0s 376ms/step\n"
     ]
    },
    {
     "name": "stderr",
     "output_type": "stream",
     "text": [
      "/home/orlov.av/anaconda3/envs/BATMAN/lib/python3.11/site-packages/mhcflurry/amino_acid.py:132: FutureWarning: Downcasting behavior in `replace` is deprecated and will be removed in a future version. To retain the old behavior, explicitly call `result.infer_objects(copy=False)`. To opt-in to the future behavior, set `pd.set_option('future.no_silent_downcasting', True)`\n",
      "  result = df.replace(letter_to_index_dict)\n"
     ]
    },
    {
     "name": "stdout",
     "output_type": "stream",
     "text": [
      "1/1 [==============================] - 0s 45ms/step\n"
     ]
    },
    {
     "name": "stderr",
     "output_type": "stream",
     "text": [
      "/home/orlov.av/anaconda3/envs/BATMAN/lib/python3.11/site-packages/mhcflurry/amino_acid.py:132: FutureWarning: Downcasting behavior in `replace` is deprecated and will be removed in a future version. To retain the old behavior, explicitly call `result.infer_objects(copy=False)`. To opt-in to the future behavior, set `pd.set_option('future.no_silent_downcasting', True)`\n",
      "  result = df.replace(letter_to_index_dict)\n",
      "/home/orlov.av/anaconda3/envs/BATMAN/lib/python3.11/site-packages/mhcflurry/amino_acid.py:132: FutureWarning: Downcasting behavior in `replace` is deprecated and will be removed in a future version. To retain the old behavior, explicitly call `result.infer_objects(copy=False)`. To opt-in to the future behavior, set `pd.set_option('future.no_silent_downcasting', True)`\n",
      "  result = df.replace(letter_to_index_dict)\n"
     ]
    },
    {
     "name": "stdout",
     "output_type": "stream",
     "text": [
      "1/1 [==============================] - 0s 328ms/step\n"
     ]
    },
    {
     "name": "stderr",
     "output_type": "stream",
     "text": [
      "/home/orlov.av/anaconda3/envs/BATMAN/lib/python3.11/site-packages/mhcflurry/amino_acid.py:132: FutureWarning: Downcasting behavior in `replace` is deprecated and will be removed in a future version. To retain the old behavior, explicitly call `result.infer_objects(copy=False)`. To opt-in to the future behavior, set `pd.set_option('future.no_silent_downcasting', True)`\n",
      "  result = df.replace(letter_to_index_dict)\n"
     ]
    },
    {
     "name": "stdout",
     "output_type": "stream",
     "text": [
      "1/1 [==============================] - 0s 42ms/step\n",
      "1/1 [==============================] - 0s 356ms/step\n"
     ]
    },
    {
     "name": "stderr",
     "output_type": "stream",
     "text": [
      "/home/orlov.av/anaconda3/envs/BATMAN/lib/python3.11/site-packages/mhcflurry/amino_acid.py:132: FutureWarning: Downcasting behavior in `replace` is deprecated and will be removed in a future version. To retain the old behavior, explicitly call `result.infer_objects(copy=False)`. To opt-in to the future behavior, set `pd.set_option('future.no_silent_downcasting', True)`\n",
      "  result = df.replace(letter_to_index_dict)\n"
     ]
    },
    {
     "name": "stdout",
     "output_type": "stream",
     "text": [
      "1/1 [==============================] - 0s 352ms/step\n"
     ]
    },
    {
     "name": "stderr",
     "output_type": "stream",
     "text": [
      "/home/orlov.av/anaconda3/envs/BATMAN/lib/python3.11/site-packages/mhcflurry/amino_acid.py:132: FutureWarning: Downcasting behavior in `replace` is deprecated and will be removed in a future version. To retain the old behavior, explicitly call `result.infer_objects(copy=False)`. To opt-in to the future behavior, set `pd.set_option('future.no_silent_downcasting', True)`\n",
      "  result = df.replace(letter_to_index_dict)\n"
     ]
    },
    {
     "name": "stdout",
     "output_type": "stream",
     "text": [
      "1/1 [==============================] - 0s 52ms/step\n"
     ]
    },
    {
     "name": "stderr",
     "output_type": "stream",
     "text": [
      "/home/orlov.av/anaconda3/envs/BATMAN/lib/python3.11/site-packages/mhcflurry/amino_acid.py:132: FutureWarning: Downcasting behavior in `replace` is deprecated and will be removed in a future version. To retain the old behavior, explicitly call `result.infer_objects(copy=False)`. To opt-in to the future behavior, set `pd.set_option('future.no_silent_downcasting', True)`\n",
      "  result = df.replace(letter_to_index_dict)\n"
     ]
    },
    {
     "name": "stdout",
     "output_type": "stream",
     "text": [
      "1/1 [==============================] - 0s 51ms/step\n"
     ]
    },
    {
     "name": "stderr",
     "output_type": "stream",
     "text": [
      "/home/orlov.av/anaconda3/envs/BATMAN/lib/python3.11/site-packages/mhcflurry/amino_acid.py:132: FutureWarning: Downcasting behavior in `replace` is deprecated and will be removed in a future version. To retain the old behavior, explicitly call `result.infer_objects(copy=False)`. To opt-in to the future behavior, set `pd.set_option('future.no_silent_downcasting', True)`\n",
      "  result = df.replace(letter_to_index_dict)\n"
     ]
    },
    {
     "name": "stdout",
     "output_type": "stream",
     "text": [
      "1/1 [==============================] - 0s 362ms/step\n"
     ]
    },
    {
     "name": "stderr",
     "output_type": "stream",
     "text": [
      "/home/orlov.av/anaconda3/envs/BATMAN/lib/python3.11/site-packages/mhcflurry/amino_acid.py:132: FutureWarning: Downcasting behavior in `replace` is deprecated and will be removed in a future version. To retain the old behavior, explicitly call `result.infer_objects(copy=False)`. To opt-in to the future behavior, set `pd.set_option('future.no_silent_downcasting', True)`\n",
      "  result = df.replace(letter_to_index_dict)\n"
     ]
    },
    {
     "name": "stdout",
     "output_type": "stream",
     "text": [
      "1/1 [==============================] - 0s 54ms/step\n"
     ]
    },
    {
     "name": "stderr",
     "output_type": "stream",
     "text": [
      "/home/orlov.av/anaconda3/envs/BATMAN/lib/python3.11/site-packages/mhcflurry/amino_acid.py:132: FutureWarning: Downcasting behavior in `replace` is deprecated and will be removed in a future version. To retain the old behavior, explicitly call `result.infer_objects(copy=False)`. To opt-in to the future behavior, set `pd.set_option('future.no_silent_downcasting', True)`\n",
      "  result = df.replace(letter_to_index_dict)\n"
     ]
    },
    {
     "name": "stdout",
     "output_type": "stream",
     "text": [
      "1/1 [==============================] - 0s 52ms/step\n"
     ]
    },
    {
     "name": "stderr",
     "output_type": "stream",
     "text": [
      "/home/orlov.av/anaconda3/envs/BATMAN/lib/python3.11/site-packages/mhcflurry/amino_acid.py:132: FutureWarning: Downcasting behavior in `replace` is deprecated and will be removed in a future version. To retain the old behavior, explicitly call `result.infer_objects(copy=False)`. To opt-in to the future behavior, set `pd.set_option('future.no_silent_downcasting', True)`\n",
      "  result = df.replace(letter_to_index_dict)\n"
     ]
    },
    {
     "name": "stdout",
     "output_type": "stream",
     "text": [
      "1/1 [==============================] - 0s 356ms/step\n"
     ]
    },
    {
     "name": "stderr",
     "output_type": "stream",
     "text": [
      "/home/orlov.av/anaconda3/envs/BATMAN/lib/python3.11/site-packages/mhcflurry/amino_acid.py:132: FutureWarning: Downcasting behavior in `replace` is deprecated and will be removed in a future version. To retain the old behavior, explicitly call `result.infer_objects(copy=False)`. To opt-in to the future behavior, set `pd.set_option('future.no_silent_downcasting', True)`\n",
      "  result = df.replace(letter_to_index_dict)\n"
     ]
    },
    {
     "name": "stdout",
     "output_type": "stream",
     "text": [
      "1/1 [==============================] - 0s 346ms/step\n"
     ]
    },
    {
     "name": "stderr",
     "output_type": "stream",
     "text": [
      "/home/orlov.av/anaconda3/envs/BATMAN/lib/python3.11/site-packages/mhcflurry/amino_acid.py:132: FutureWarning: Downcasting behavior in `replace` is deprecated and will be removed in a future version. To retain the old behavior, explicitly call `result.infer_objects(copy=False)`. To opt-in to the future behavior, set `pd.set_option('future.no_silent_downcasting', True)`\n",
      "  result = df.replace(letter_to_index_dict)\n"
     ]
    },
    {
     "name": "stdout",
     "output_type": "stream",
     "text": [
      "1/1 [==============================] - 0s 341ms/step\n"
     ]
    },
    {
     "name": "stderr",
     "output_type": "stream",
     "text": [
      "/home/orlov.av/anaconda3/envs/BATMAN/lib/python3.11/site-packages/mhcflurry/amino_acid.py:132: FutureWarning: Downcasting behavior in `replace` is deprecated and will be removed in a future version. To retain the old behavior, explicitly call `result.infer_objects(copy=False)`. To opt-in to the future behavior, set `pd.set_option('future.no_silent_downcasting', True)`\n",
      "  result = df.replace(letter_to_index_dict)\n"
     ]
    },
    {
     "name": "stdout",
     "output_type": "stream",
     "text": [
      "1/1 [==============================] - 0s 47ms/step\n"
     ]
    },
    {
     "name": "stderr",
     "output_type": "stream",
     "text": [
      "/home/orlov.av/anaconda3/envs/BATMAN/lib/python3.11/site-packages/mhcflurry/amino_acid.py:132: FutureWarning: Downcasting behavior in `replace` is deprecated and will be removed in a future version. To retain the old behavior, explicitly call `result.infer_objects(copy=False)`. To opt-in to the future behavior, set `pd.set_option('future.no_silent_downcasting', True)`\n",
      "  result = df.replace(letter_to_index_dict)\n"
     ]
    },
    {
     "name": "stdout",
     "output_type": "stream",
     "text": [
      "1/1 [==============================] - 0s 334ms/step\n"
     ]
    },
    {
     "name": "stderr",
     "output_type": "stream",
     "text": [
      "/home/orlov.av/anaconda3/envs/BATMAN/lib/python3.11/site-packages/mhcflurry/amino_acid.py:132: FutureWarning: Downcasting behavior in `replace` is deprecated and will be removed in a future version. To retain the old behavior, explicitly call `result.infer_objects(copy=False)`. To opt-in to the future behavior, set `pd.set_option('future.no_silent_downcasting', True)`\n",
      "  result = df.replace(letter_to_index_dict)\n"
     ]
    },
    {
     "name": "stdout",
     "output_type": "stream",
     "text": [
      "1/1 [==============================] - 0s 43ms/step\n"
     ]
    },
    {
     "name": "stderr",
     "output_type": "stream",
     "text": [
      "/home/orlov.av/anaconda3/envs/BATMAN/lib/python3.11/site-packages/mhcflurry/amino_acid.py:132: FutureWarning: Downcasting behavior in `replace` is deprecated and will be removed in a future version. To retain the old behavior, explicitly call `result.infer_objects(copy=False)`. To opt-in to the future behavior, set `pd.set_option('future.no_silent_downcasting', True)`\n",
      "  result = df.replace(letter_to_index_dict)\n"
     ]
    },
    {
     "name": "stdout",
     "output_type": "stream",
     "text": [
      "1/1 [==============================] - 0s 348ms/step\n"
     ]
    },
    {
     "name": "stderr",
     "output_type": "stream",
     "text": [
      "/home/orlov.av/anaconda3/envs/BATMAN/lib/python3.11/site-packages/mhcflurry/amino_acid.py:132: FutureWarning: Downcasting behavior in `replace` is deprecated and will be removed in a future version. To retain the old behavior, explicitly call `result.infer_objects(copy=False)`. To opt-in to the future behavior, set `pd.set_option('future.no_silent_downcasting', True)`\n",
      "  result = df.replace(letter_to_index_dict)\n"
     ]
    },
    {
     "name": "stdout",
     "output_type": "stream",
     "text": [
      "1/1 [==============================] - 0s 337ms/step\n"
     ]
    },
    {
     "data": {
      "image/png": "[encoded data removed]",
      "text/plain": [
       "<Figure size 640x480 with 1 Axes>"
      ]
     },
     "metadata": {},
     "output_type": "display_data"
    }
   ],
   "source": [
    "Cross_react_plot(Popul, baseline_predictor1, cross_react_predictor,protein_A,protein_B,protein_C, N_individuals=4, N_proc=4)"
   ]
  },
  {
   "cell_type": "code",
   "execution_count": 7,
   "id": "2182be58-3c82-4dd1-a837-b6049f2985c3",
   "metadata": {},
   "outputs": [
    {
     "data": {
      "image/png": "[encoded data removed]",
      "text/plain": [
       "<Figure size 640x480 with 1 Axes>"
      ]
     },
     "metadata": {},
     "output_type": "display_data"
    }
   ],
   "source": [
    "Cross_react_plot(Popul, baseline_predictor2, cross_react_predictor,protein_A,protein_B,protein_C, N_individuals=4, N_proc=4)"
   ]
  }
 ],
 "metadata": {
  "kernelspec": {
   "display_name": "Python 3 (ipykernel)",
   "language": "python",
   "name": "python3"
  },
  "language_info": {
   "codemirror_mode": {
    "name": "ipython",
    "version": 3
   },
   "file_extension": ".py",
   "mimetype": "text/x-python",
   "name": "python",
   "nbconvert_exporter": "python",
   "pygments_lexer": "ipython3",
   "version": "3.11.11"
  }
 },
 "nbformat": 4,
 "nbformat_minor": 5
}
